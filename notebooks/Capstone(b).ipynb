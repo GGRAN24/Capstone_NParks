{
 "cells": [
  {
   "cell_type": "code",
   "execution_count": 1,
   "id": "90a8e764-9948-406f-8e09-5da282963125",
   "metadata": {},
   "outputs": [],
   "source": [
    " \n",
    "import pandas as pd   \n",
    "import numpy as np  \n",
    "import matplotlib.pyplot as plt  \n",
    "import seaborn as sns"
   ]
  },
  {
   "cell_type": "code",
   "execution_count": 2,
   "id": "94e8c350-dcac-4743-9991-b56390d74638",
   "metadata": {},
   "outputs": [
    {
     "ename": "FileNotFoundError",
     "evalue": "[Errno 2] No such file or directory: 'data/nps_fatality_stats.csv'",
     "output_type": "error",
     "traceback": [
      "\u001b[1;31m---------------------------------------------------------------------------\u001b[0m",
      "\u001b[1;31mFileNotFoundError\u001b[0m                         Traceback (most recent call last)",
      "Cell \u001b[1;32mIn[2], line 1\u001b[0m\n\u001b[1;32m----> 1\u001b[0m nps_deaths\u001b[38;5;241m=\u001b[39mpd\u001b[38;5;241m.\u001b[39mread_csv(\u001b[38;5;124m'\u001b[39m\u001b[38;5;124mdata/nps_fatality_stats.csv\u001b[39m\u001b[38;5;124m'\u001b[39m)\n",
      "File \u001b[1;32m~\\anaconda3\\Lib\\site-packages\\pandas\\io\\parsers\\readers.py:1026\u001b[0m, in \u001b[0;36mread_csv\u001b[1;34m(filepath_or_buffer, sep, delimiter, header, names, index_col, usecols, dtype, engine, converters, true_values, false_values, skipinitialspace, skiprows, skipfooter, nrows, na_values, keep_default_na, na_filter, verbose, skip_blank_lines, parse_dates, infer_datetime_format, keep_date_col, date_parser, date_format, dayfirst, cache_dates, iterator, chunksize, compression, thousands, decimal, lineterminator, quotechar, quoting, doublequote, escapechar, comment, encoding, encoding_errors, dialect, on_bad_lines, delim_whitespace, low_memory, memory_map, float_precision, storage_options, dtype_backend)\u001b[0m\n\u001b[0;32m   1013\u001b[0m kwds_defaults \u001b[38;5;241m=\u001b[39m _refine_defaults_read(\n\u001b[0;32m   1014\u001b[0m     dialect,\n\u001b[0;32m   1015\u001b[0m     delimiter,\n\u001b[1;32m   (...)\u001b[0m\n\u001b[0;32m   1022\u001b[0m     dtype_backend\u001b[38;5;241m=\u001b[39mdtype_backend,\n\u001b[0;32m   1023\u001b[0m )\n\u001b[0;32m   1024\u001b[0m kwds\u001b[38;5;241m.\u001b[39mupdate(kwds_defaults)\n\u001b[1;32m-> 1026\u001b[0m \u001b[38;5;28;01mreturn\u001b[39;00m _read(filepath_or_buffer, kwds)\n",
      "File \u001b[1;32m~\\anaconda3\\Lib\\site-packages\\pandas\\io\\parsers\\readers.py:620\u001b[0m, in \u001b[0;36m_read\u001b[1;34m(filepath_or_buffer, kwds)\u001b[0m\n\u001b[0;32m    617\u001b[0m _validate_names(kwds\u001b[38;5;241m.\u001b[39mget(\u001b[38;5;124m\"\u001b[39m\u001b[38;5;124mnames\u001b[39m\u001b[38;5;124m\"\u001b[39m, \u001b[38;5;28;01mNone\u001b[39;00m))\n\u001b[0;32m    619\u001b[0m \u001b[38;5;66;03m# Create the parser.\u001b[39;00m\n\u001b[1;32m--> 620\u001b[0m parser \u001b[38;5;241m=\u001b[39m TextFileReader(filepath_or_buffer, \u001b[38;5;241m*\u001b[39m\u001b[38;5;241m*\u001b[39mkwds)\n\u001b[0;32m    622\u001b[0m \u001b[38;5;28;01mif\u001b[39;00m chunksize \u001b[38;5;129;01mor\u001b[39;00m iterator:\n\u001b[0;32m    623\u001b[0m     \u001b[38;5;28;01mreturn\u001b[39;00m parser\n",
      "File \u001b[1;32m~\\anaconda3\\Lib\\site-packages\\pandas\\io\\parsers\\readers.py:1620\u001b[0m, in \u001b[0;36mTextFileReader.__init__\u001b[1;34m(self, f, engine, **kwds)\u001b[0m\n\u001b[0;32m   1617\u001b[0m     \u001b[38;5;28mself\u001b[39m\u001b[38;5;241m.\u001b[39moptions[\u001b[38;5;124m\"\u001b[39m\u001b[38;5;124mhas_index_names\u001b[39m\u001b[38;5;124m\"\u001b[39m] \u001b[38;5;241m=\u001b[39m kwds[\u001b[38;5;124m\"\u001b[39m\u001b[38;5;124mhas_index_names\u001b[39m\u001b[38;5;124m\"\u001b[39m]\n\u001b[0;32m   1619\u001b[0m \u001b[38;5;28mself\u001b[39m\u001b[38;5;241m.\u001b[39mhandles: IOHandles \u001b[38;5;241m|\u001b[39m \u001b[38;5;28;01mNone\u001b[39;00m \u001b[38;5;241m=\u001b[39m \u001b[38;5;28;01mNone\u001b[39;00m\n\u001b[1;32m-> 1620\u001b[0m \u001b[38;5;28mself\u001b[39m\u001b[38;5;241m.\u001b[39m_engine \u001b[38;5;241m=\u001b[39m \u001b[38;5;28mself\u001b[39m\u001b[38;5;241m.\u001b[39m_make_engine(f, \u001b[38;5;28mself\u001b[39m\u001b[38;5;241m.\u001b[39mengine)\n",
      "File \u001b[1;32m~\\anaconda3\\Lib\\site-packages\\pandas\\io\\parsers\\readers.py:1880\u001b[0m, in \u001b[0;36mTextFileReader._make_engine\u001b[1;34m(self, f, engine)\u001b[0m\n\u001b[0;32m   1878\u001b[0m     \u001b[38;5;28;01mif\u001b[39;00m \u001b[38;5;124m\"\u001b[39m\u001b[38;5;124mb\u001b[39m\u001b[38;5;124m\"\u001b[39m \u001b[38;5;129;01mnot\u001b[39;00m \u001b[38;5;129;01min\u001b[39;00m mode:\n\u001b[0;32m   1879\u001b[0m         mode \u001b[38;5;241m+\u001b[39m\u001b[38;5;241m=\u001b[39m \u001b[38;5;124m\"\u001b[39m\u001b[38;5;124mb\u001b[39m\u001b[38;5;124m\"\u001b[39m\n\u001b[1;32m-> 1880\u001b[0m \u001b[38;5;28mself\u001b[39m\u001b[38;5;241m.\u001b[39mhandles \u001b[38;5;241m=\u001b[39m get_handle(\n\u001b[0;32m   1881\u001b[0m     f,\n\u001b[0;32m   1882\u001b[0m     mode,\n\u001b[0;32m   1883\u001b[0m     encoding\u001b[38;5;241m=\u001b[39m\u001b[38;5;28mself\u001b[39m\u001b[38;5;241m.\u001b[39moptions\u001b[38;5;241m.\u001b[39mget(\u001b[38;5;124m\"\u001b[39m\u001b[38;5;124mencoding\u001b[39m\u001b[38;5;124m\"\u001b[39m, \u001b[38;5;28;01mNone\u001b[39;00m),\n\u001b[0;32m   1884\u001b[0m     compression\u001b[38;5;241m=\u001b[39m\u001b[38;5;28mself\u001b[39m\u001b[38;5;241m.\u001b[39moptions\u001b[38;5;241m.\u001b[39mget(\u001b[38;5;124m\"\u001b[39m\u001b[38;5;124mcompression\u001b[39m\u001b[38;5;124m\"\u001b[39m, \u001b[38;5;28;01mNone\u001b[39;00m),\n\u001b[0;32m   1885\u001b[0m     memory_map\u001b[38;5;241m=\u001b[39m\u001b[38;5;28mself\u001b[39m\u001b[38;5;241m.\u001b[39moptions\u001b[38;5;241m.\u001b[39mget(\u001b[38;5;124m\"\u001b[39m\u001b[38;5;124mmemory_map\u001b[39m\u001b[38;5;124m\"\u001b[39m, \u001b[38;5;28;01mFalse\u001b[39;00m),\n\u001b[0;32m   1886\u001b[0m     is_text\u001b[38;5;241m=\u001b[39mis_text,\n\u001b[0;32m   1887\u001b[0m     errors\u001b[38;5;241m=\u001b[39m\u001b[38;5;28mself\u001b[39m\u001b[38;5;241m.\u001b[39moptions\u001b[38;5;241m.\u001b[39mget(\u001b[38;5;124m\"\u001b[39m\u001b[38;5;124mencoding_errors\u001b[39m\u001b[38;5;124m\"\u001b[39m, \u001b[38;5;124m\"\u001b[39m\u001b[38;5;124mstrict\u001b[39m\u001b[38;5;124m\"\u001b[39m),\n\u001b[0;32m   1888\u001b[0m     storage_options\u001b[38;5;241m=\u001b[39m\u001b[38;5;28mself\u001b[39m\u001b[38;5;241m.\u001b[39moptions\u001b[38;5;241m.\u001b[39mget(\u001b[38;5;124m\"\u001b[39m\u001b[38;5;124mstorage_options\u001b[39m\u001b[38;5;124m\"\u001b[39m, \u001b[38;5;28;01mNone\u001b[39;00m),\n\u001b[0;32m   1889\u001b[0m )\n\u001b[0;32m   1890\u001b[0m \u001b[38;5;28;01massert\u001b[39;00m \u001b[38;5;28mself\u001b[39m\u001b[38;5;241m.\u001b[39mhandles \u001b[38;5;129;01mis\u001b[39;00m \u001b[38;5;129;01mnot\u001b[39;00m \u001b[38;5;28;01mNone\u001b[39;00m\n\u001b[0;32m   1891\u001b[0m f \u001b[38;5;241m=\u001b[39m \u001b[38;5;28mself\u001b[39m\u001b[38;5;241m.\u001b[39mhandles\u001b[38;5;241m.\u001b[39mhandle\n",
      "File \u001b[1;32m~\\anaconda3\\Lib\\site-packages\\pandas\\io\\common.py:873\u001b[0m, in \u001b[0;36mget_handle\u001b[1;34m(path_or_buf, mode, encoding, compression, memory_map, is_text, errors, storage_options)\u001b[0m\n\u001b[0;32m    868\u001b[0m \u001b[38;5;28;01melif\u001b[39;00m \u001b[38;5;28misinstance\u001b[39m(handle, \u001b[38;5;28mstr\u001b[39m):\n\u001b[0;32m    869\u001b[0m     \u001b[38;5;66;03m# Check whether the filename is to be opened in binary mode.\u001b[39;00m\n\u001b[0;32m    870\u001b[0m     \u001b[38;5;66;03m# Binary mode does not support 'encoding' and 'newline'.\u001b[39;00m\n\u001b[0;32m    871\u001b[0m     \u001b[38;5;28;01mif\u001b[39;00m ioargs\u001b[38;5;241m.\u001b[39mencoding \u001b[38;5;129;01mand\u001b[39;00m \u001b[38;5;124m\"\u001b[39m\u001b[38;5;124mb\u001b[39m\u001b[38;5;124m\"\u001b[39m \u001b[38;5;129;01mnot\u001b[39;00m \u001b[38;5;129;01min\u001b[39;00m ioargs\u001b[38;5;241m.\u001b[39mmode:\n\u001b[0;32m    872\u001b[0m         \u001b[38;5;66;03m# Encoding\u001b[39;00m\n\u001b[1;32m--> 873\u001b[0m         handle \u001b[38;5;241m=\u001b[39m \u001b[38;5;28mopen\u001b[39m(\n\u001b[0;32m    874\u001b[0m             handle,\n\u001b[0;32m    875\u001b[0m             ioargs\u001b[38;5;241m.\u001b[39mmode,\n\u001b[0;32m    876\u001b[0m             encoding\u001b[38;5;241m=\u001b[39mioargs\u001b[38;5;241m.\u001b[39mencoding,\n\u001b[0;32m    877\u001b[0m             errors\u001b[38;5;241m=\u001b[39merrors,\n\u001b[0;32m    878\u001b[0m             newline\u001b[38;5;241m=\u001b[39m\u001b[38;5;124m\"\u001b[39m\u001b[38;5;124m\"\u001b[39m,\n\u001b[0;32m    879\u001b[0m         )\n\u001b[0;32m    880\u001b[0m     \u001b[38;5;28;01melse\u001b[39;00m:\n\u001b[0;32m    881\u001b[0m         \u001b[38;5;66;03m# Binary mode\u001b[39;00m\n\u001b[0;32m    882\u001b[0m         handle \u001b[38;5;241m=\u001b[39m \u001b[38;5;28mopen\u001b[39m(handle, ioargs\u001b[38;5;241m.\u001b[39mmode)\n",
      "\u001b[1;31mFileNotFoundError\u001b[0m: [Errno 2] No such file or directory: 'data/nps_fatality_stats.csv'"
     ]
    }
   ],
   "source": [
    "nps_deaths=pd.read_csv('data/nps_fatality_stats.csv')"
   ]
  },
  {
   "cell_type": "code",
   "execution_count": null,
   "id": "bdfaa7de-04c8-4f98-aaf0-aa5b3a993787",
   "metadata": {},
   "outputs": [],
   "source": [
    "nps_deaths.head()"
   ]
  },
  {
   "cell_type": "code",
   "execution_count": null,
   "id": "0f55f98e-8cc8-4c12-83ee-cf6bbe359066",
   "metadata": {},
   "outputs": [],
   "source": [
    "nps_deaths.shape"
   ]
  },
  {
   "cell_type": "code",
   "execution_count": 3,
   "id": "59b1c971-606f-4935-93c1-6b35553507c7",
   "metadata": {},
   "outputs": [
    {
     "ename": "FileNotFoundError",
     "evalue": "[Errno 2] No such file or directory: 'data/Guadalupe_pop.csv'",
     "output_type": "error",
     "traceback": [
      "\u001b[1;31m---------------------------------------------------------------------------\u001b[0m",
      "\u001b[1;31mFileNotFoundError\u001b[0m                         Traceback (most recent call last)",
      "Cell \u001b[1;32mIn[3], line 1\u001b[0m\n\u001b[1;32m----> 1\u001b[0m Guad_nps_df\u001b[38;5;241m=\u001b[39mpd\u001b[38;5;241m.\u001b[39mread_csv(\u001b[38;5;124m'\u001b[39m\u001b[38;5;124mdata/Guadalupe_pop.csv\u001b[39m\u001b[38;5;124m'\u001b[39m,skiprows\u001b[38;5;241m=\u001b[39m\u001b[38;5;241m3\u001b[39m)\n\u001b[0;32m      2\u001b[0m Guad_nps_df[\u001b[38;5;124m'\u001b[39m\u001b[38;5;124mpark\u001b[39m\u001b[38;5;124m'\u001b[39m]\u001b[38;5;241m=\u001b[39m\u001b[38;5;124m'\u001b[39m\u001b[38;5;124mGuadalupe Mountains National Park\u001b[39m\u001b[38;5;124m'\u001b[39m\n\u001b[0;32m      3\u001b[0m Guad_nps_df\u001b[38;5;241m.\u001b[39mhead(\u001b[38;5;241m1\u001b[39m)\n",
      "File \u001b[1;32m~\\anaconda3\\Lib\\site-packages\\pandas\\io\\parsers\\readers.py:1026\u001b[0m, in \u001b[0;36mread_csv\u001b[1;34m(filepath_or_buffer, sep, delimiter, header, names, index_col, usecols, dtype, engine, converters, true_values, false_values, skipinitialspace, skiprows, skipfooter, nrows, na_values, keep_default_na, na_filter, verbose, skip_blank_lines, parse_dates, infer_datetime_format, keep_date_col, date_parser, date_format, dayfirst, cache_dates, iterator, chunksize, compression, thousands, decimal, lineterminator, quotechar, quoting, doublequote, escapechar, comment, encoding, encoding_errors, dialect, on_bad_lines, delim_whitespace, low_memory, memory_map, float_precision, storage_options, dtype_backend)\u001b[0m\n\u001b[0;32m   1013\u001b[0m kwds_defaults \u001b[38;5;241m=\u001b[39m _refine_defaults_read(\n\u001b[0;32m   1014\u001b[0m     dialect,\n\u001b[0;32m   1015\u001b[0m     delimiter,\n\u001b[1;32m   (...)\u001b[0m\n\u001b[0;32m   1022\u001b[0m     dtype_backend\u001b[38;5;241m=\u001b[39mdtype_backend,\n\u001b[0;32m   1023\u001b[0m )\n\u001b[0;32m   1024\u001b[0m kwds\u001b[38;5;241m.\u001b[39mupdate(kwds_defaults)\n\u001b[1;32m-> 1026\u001b[0m \u001b[38;5;28;01mreturn\u001b[39;00m _read(filepath_or_buffer, kwds)\n",
      "File \u001b[1;32m~\\anaconda3\\Lib\\site-packages\\pandas\\io\\parsers\\readers.py:620\u001b[0m, in \u001b[0;36m_read\u001b[1;34m(filepath_or_buffer, kwds)\u001b[0m\n\u001b[0;32m    617\u001b[0m _validate_names(kwds\u001b[38;5;241m.\u001b[39mget(\u001b[38;5;124m\"\u001b[39m\u001b[38;5;124mnames\u001b[39m\u001b[38;5;124m\"\u001b[39m, \u001b[38;5;28;01mNone\u001b[39;00m))\n\u001b[0;32m    619\u001b[0m \u001b[38;5;66;03m# Create the parser.\u001b[39;00m\n\u001b[1;32m--> 620\u001b[0m parser \u001b[38;5;241m=\u001b[39m TextFileReader(filepath_or_buffer, \u001b[38;5;241m*\u001b[39m\u001b[38;5;241m*\u001b[39mkwds)\n\u001b[0;32m    622\u001b[0m \u001b[38;5;28;01mif\u001b[39;00m chunksize \u001b[38;5;129;01mor\u001b[39;00m iterator:\n\u001b[0;32m    623\u001b[0m     \u001b[38;5;28;01mreturn\u001b[39;00m parser\n",
      "File \u001b[1;32m~\\anaconda3\\Lib\\site-packages\\pandas\\io\\parsers\\readers.py:1620\u001b[0m, in \u001b[0;36mTextFileReader.__init__\u001b[1;34m(self, f, engine, **kwds)\u001b[0m\n\u001b[0;32m   1617\u001b[0m     \u001b[38;5;28mself\u001b[39m\u001b[38;5;241m.\u001b[39moptions[\u001b[38;5;124m\"\u001b[39m\u001b[38;5;124mhas_index_names\u001b[39m\u001b[38;5;124m\"\u001b[39m] \u001b[38;5;241m=\u001b[39m kwds[\u001b[38;5;124m\"\u001b[39m\u001b[38;5;124mhas_index_names\u001b[39m\u001b[38;5;124m\"\u001b[39m]\n\u001b[0;32m   1619\u001b[0m \u001b[38;5;28mself\u001b[39m\u001b[38;5;241m.\u001b[39mhandles: IOHandles \u001b[38;5;241m|\u001b[39m \u001b[38;5;28;01mNone\u001b[39;00m \u001b[38;5;241m=\u001b[39m \u001b[38;5;28;01mNone\u001b[39;00m\n\u001b[1;32m-> 1620\u001b[0m \u001b[38;5;28mself\u001b[39m\u001b[38;5;241m.\u001b[39m_engine \u001b[38;5;241m=\u001b[39m \u001b[38;5;28mself\u001b[39m\u001b[38;5;241m.\u001b[39m_make_engine(f, \u001b[38;5;28mself\u001b[39m\u001b[38;5;241m.\u001b[39mengine)\n",
      "File \u001b[1;32m~\\anaconda3\\Lib\\site-packages\\pandas\\io\\parsers\\readers.py:1880\u001b[0m, in \u001b[0;36mTextFileReader._make_engine\u001b[1;34m(self, f, engine)\u001b[0m\n\u001b[0;32m   1878\u001b[0m     \u001b[38;5;28;01mif\u001b[39;00m \u001b[38;5;124m\"\u001b[39m\u001b[38;5;124mb\u001b[39m\u001b[38;5;124m\"\u001b[39m \u001b[38;5;129;01mnot\u001b[39;00m \u001b[38;5;129;01min\u001b[39;00m mode:\n\u001b[0;32m   1879\u001b[0m         mode \u001b[38;5;241m+\u001b[39m\u001b[38;5;241m=\u001b[39m \u001b[38;5;124m\"\u001b[39m\u001b[38;5;124mb\u001b[39m\u001b[38;5;124m\"\u001b[39m\n\u001b[1;32m-> 1880\u001b[0m \u001b[38;5;28mself\u001b[39m\u001b[38;5;241m.\u001b[39mhandles \u001b[38;5;241m=\u001b[39m get_handle(\n\u001b[0;32m   1881\u001b[0m     f,\n\u001b[0;32m   1882\u001b[0m     mode,\n\u001b[0;32m   1883\u001b[0m     encoding\u001b[38;5;241m=\u001b[39m\u001b[38;5;28mself\u001b[39m\u001b[38;5;241m.\u001b[39moptions\u001b[38;5;241m.\u001b[39mget(\u001b[38;5;124m\"\u001b[39m\u001b[38;5;124mencoding\u001b[39m\u001b[38;5;124m\"\u001b[39m, \u001b[38;5;28;01mNone\u001b[39;00m),\n\u001b[0;32m   1884\u001b[0m     compression\u001b[38;5;241m=\u001b[39m\u001b[38;5;28mself\u001b[39m\u001b[38;5;241m.\u001b[39moptions\u001b[38;5;241m.\u001b[39mget(\u001b[38;5;124m\"\u001b[39m\u001b[38;5;124mcompression\u001b[39m\u001b[38;5;124m\"\u001b[39m, \u001b[38;5;28;01mNone\u001b[39;00m),\n\u001b[0;32m   1885\u001b[0m     memory_map\u001b[38;5;241m=\u001b[39m\u001b[38;5;28mself\u001b[39m\u001b[38;5;241m.\u001b[39moptions\u001b[38;5;241m.\u001b[39mget(\u001b[38;5;124m\"\u001b[39m\u001b[38;5;124mmemory_map\u001b[39m\u001b[38;5;124m\"\u001b[39m, \u001b[38;5;28;01mFalse\u001b[39;00m),\n\u001b[0;32m   1886\u001b[0m     is_text\u001b[38;5;241m=\u001b[39mis_text,\n\u001b[0;32m   1887\u001b[0m     errors\u001b[38;5;241m=\u001b[39m\u001b[38;5;28mself\u001b[39m\u001b[38;5;241m.\u001b[39moptions\u001b[38;5;241m.\u001b[39mget(\u001b[38;5;124m\"\u001b[39m\u001b[38;5;124mencoding_errors\u001b[39m\u001b[38;5;124m\"\u001b[39m, \u001b[38;5;124m\"\u001b[39m\u001b[38;5;124mstrict\u001b[39m\u001b[38;5;124m\"\u001b[39m),\n\u001b[0;32m   1888\u001b[0m     storage_options\u001b[38;5;241m=\u001b[39m\u001b[38;5;28mself\u001b[39m\u001b[38;5;241m.\u001b[39moptions\u001b[38;5;241m.\u001b[39mget(\u001b[38;5;124m\"\u001b[39m\u001b[38;5;124mstorage_options\u001b[39m\u001b[38;5;124m\"\u001b[39m, \u001b[38;5;28;01mNone\u001b[39;00m),\n\u001b[0;32m   1889\u001b[0m )\n\u001b[0;32m   1890\u001b[0m \u001b[38;5;28;01massert\u001b[39;00m \u001b[38;5;28mself\u001b[39m\u001b[38;5;241m.\u001b[39mhandles \u001b[38;5;129;01mis\u001b[39;00m \u001b[38;5;129;01mnot\u001b[39;00m \u001b[38;5;28;01mNone\u001b[39;00m\n\u001b[0;32m   1891\u001b[0m f \u001b[38;5;241m=\u001b[39m \u001b[38;5;28mself\u001b[39m\u001b[38;5;241m.\u001b[39mhandles\u001b[38;5;241m.\u001b[39mhandle\n",
      "File \u001b[1;32m~\\anaconda3\\Lib\\site-packages\\pandas\\io\\common.py:873\u001b[0m, in \u001b[0;36mget_handle\u001b[1;34m(path_or_buf, mode, encoding, compression, memory_map, is_text, errors, storage_options)\u001b[0m\n\u001b[0;32m    868\u001b[0m \u001b[38;5;28;01melif\u001b[39;00m \u001b[38;5;28misinstance\u001b[39m(handle, \u001b[38;5;28mstr\u001b[39m):\n\u001b[0;32m    869\u001b[0m     \u001b[38;5;66;03m# Check whether the filename is to be opened in binary mode.\u001b[39;00m\n\u001b[0;32m    870\u001b[0m     \u001b[38;5;66;03m# Binary mode does not support 'encoding' and 'newline'.\u001b[39;00m\n\u001b[0;32m    871\u001b[0m     \u001b[38;5;28;01mif\u001b[39;00m ioargs\u001b[38;5;241m.\u001b[39mencoding \u001b[38;5;129;01mand\u001b[39;00m \u001b[38;5;124m\"\u001b[39m\u001b[38;5;124mb\u001b[39m\u001b[38;5;124m\"\u001b[39m \u001b[38;5;129;01mnot\u001b[39;00m \u001b[38;5;129;01min\u001b[39;00m ioargs\u001b[38;5;241m.\u001b[39mmode:\n\u001b[0;32m    872\u001b[0m         \u001b[38;5;66;03m# Encoding\u001b[39;00m\n\u001b[1;32m--> 873\u001b[0m         handle \u001b[38;5;241m=\u001b[39m \u001b[38;5;28mopen\u001b[39m(\n\u001b[0;32m    874\u001b[0m             handle,\n\u001b[0;32m    875\u001b[0m             ioargs\u001b[38;5;241m.\u001b[39mmode,\n\u001b[0;32m    876\u001b[0m             encoding\u001b[38;5;241m=\u001b[39mioargs\u001b[38;5;241m.\u001b[39mencoding,\n\u001b[0;32m    877\u001b[0m             errors\u001b[38;5;241m=\u001b[39merrors,\n\u001b[0;32m    878\u001b[0m             newline\u001b[38;5;241m=\u001b[39m\u001b[38;5;124m\"\u001b[39m\u001b[38;5;124m\"\u001b[39m,\n\u001b[0;32m    879\u001b[0m         )\n\u001b[0;32m    880\u001b[0m     \u001b[38;5;28;01melse\u001b[39;00m:\n\u001b[0;32m    881\u001b[0m         \u001b[38;5;66;03m# Binary mode\u001b[39;00m\n\u001b[0;32m    882\u001b[0m         handle \u001b[38;5;241m=\u001b[39m \u001b[38;5;28mopen\u001b[39m(handle, ioargs\u001b[38;5;241m.\u001b[39mmode)\n",
      "\u001b[1;31mFileNotFoundError\u001b[0m: [Errno 2] No such file or directory: 'data/Guadalupe_pop.csv'"
     ]
    }
   ],
   "source": [
    "Guad_nps_df=pd.read_csv('data/Guadalupe_pop.csv',skiprows=3)\n",
    "Guad_nps_df['park']='Guadalupe Mountains National Park'\n",
    "Guad_nps_df.head(1)"
   ]
  },
  {
   "cell_type": "code",
   "execution_count": null,
   "id": "c355201a-8459-4271-8da9-d98fe4d3a5e2",
   "metadata": {},
   "outputs": [],
   "source": [
    "Grand_Teton_pop_df=pd.read_csv('data/Grand_Teton_pop.csv',skiprows=3)\n",
    "Grand_Teton_pop_df['park']='Grand Teton National Park'\n",
    "Grand_Teton_pop_df.head(1)"
   ]
  },
  {
   "cell_type": "code",
   "execution_count": null,
   "id": "e25bbbeb-f5ba-4dda-8d49-93c1597263c9",
   "metadata": {},
   "outputs": [],
   "source": [
    "Grand_Canyon_pop_df=pd.read_csv('data/Grand_Canyon_pop.csv',skiprows=3)\n",
    "Grand_Canyon_pop_df['park']='Grand Canyon National Park'\n",
    "Grand_Canyon_pop_df.head(1)"
   ]
  },
  {
   "cell_type": "code",
   "execution_count": null,
   "id": "3f19ed01-1c14-42e7-8e52-cb66063b3b0b",
   "metadata": {},
   "outputs": [],
   "source": [
    "Glacier_pop_df=pd.read_csv('data/Glacier_pop.csv',skiprows=3)\n",
    "Glacier_pop_df['park']='Glacier National Park'\n",
    "Glacier_pop_df.head(1)"
   ]
  },
  {
   "cell_type": "code",
   "execution_count": null,
   "id": "caf1e365-1e99-460b-8ae8-fec892337435",
   "metadata": {},
   "outputs": [],
   "source": [
    "Carlsbad_Caverns_pop_df=pd.read_csv('data/Carlsbad_Caverns.csv',skiprows=3)\n",
    "Carlsbad_Caverns_pop_df['park']='Carlsbad Caverns National Park'\n",
    "Carlsbad_Caverns_pop_df.head(1)"
   ]
  },
  {
   "cell_type": "code",
   "execution_count": null,
   "id": "23c780ab-2e5a-457a-8b79-7202c1ac8668",
   "metadata": {},
   "outputs": [],
   "source": [
    "Canyonlands_pop_df=pd.read_csv('data/Canyonlands_pop.csv',skiprows=3)\n",
    "Canyonlands_pop_df['park']='Canyonlands National Park'\n",
    "Canyonlands_pop_df.head(1)"
   ]
  },
  {
   "cell_type": "code",
   "execution_count": null,
   "id": "51969844-532c-4ca1-9f6b-e0741e06cfbd",
   "metadata": {},
   "outputs": [],
   "source": [
    "Bryce_Canyon_pop_df=pd.read_csv('data/Bryce_Canyon_pop.csv',skiprows=3)\n",
    "Bryce_Canyon_pop_df['park']='Bryce Canyon National Park'\n",
    "Bryce_Canyon_pop_df.head(1)"
   ]
  },
  {
   "cell_type": "code",
   "execution_count": null,
   "id": "f51e53e2-d2f3-42ac-830d-e2ed69e3f294",
   "metadata": {},
   "outputs": [],
   "source": [
    "Black_Canyon_pop_df=pd.read_csv('data/Black_Canyon_pop.csv',skiprows=3)\n",
    "Black_Canyon_pop_df['park']='Black Canyon Of The Gunnison National Park'\n",
    "Black_Canyon_pop_df.head(1)"
   ]
  },
  {
   "cell_type": "code",
   "execution_count": null,
   "id": "cb2e9cfb-e478-40b7-94be-a59a546179c2",
   "metadata": {},
   "outputs": [],
   "source": [
    "Big_Bend_pop_df=pd.read_csv('data/Big_Bend_pop.csv',skiprows=3)\n",
    "Big_Bend_pop_df['park']='Big Bend National Park'\n",
    "Big_Bend_pop_df.head(1)"
   ]
  },
  {
   "cell_type": "code",
   "execution_count": null,
   "id": "2878e5e8-05e1-4147-a903-490e96024e04",
   "metadata": {},
   "outputs": [],
   "source": [
    "Arches_pop_df=pd.read_csv('data/Arches_pop.csv',skiprows=3)\n",
    "Arches_pop_df['park']='Arches National Park'\n",
    "Arches_pop_df.head(1)"
   ]
  },
  {
   "cell_type": "code",
   "execution_count": null,
   "id": "19f1047f-6f6e-4ea6-9655-ebb299726872",
   "metadata": {},
   "outputs": [],
   "source": [
    "Great_Sand_Dunes_pop_df=pd.read_csv('data/Great_Sand_Dunes_pop.csv',skiprows=3)\n",
    "Great_Sand_Dunes_pop_df['park']='Great Sand Dunes National Park & Preserve'\n",
    "Great_Sand_Dunes_pop_df.head(1)"
   ]
  },
  {
   "cell_type": "code",
   "execution_count": null,
   "id": "ce3648cd-5a85-4be8-b62f-18bb87024b64",
   "metadata": {},
   "outputs": [],
   "source": [
    "Zion_pop_df=pd.read_csv('data/Zion_pop.csv',skiprows=3)\n",
    "Zion_pop_df['park']='Zion National Park'\n",
    "Zion_pop_df.head(1)"
   ]
  },
  {
   "cell_type": "code",
   "execution_count": null,
   "id": "1cf2e0f0-41c9-4b31-bd7a-fd883eb31801",
   "metadata": {},
   "outputs": [],
   "source": [
    "Yellowstone_pop_df=pd.read_csv('data/Yellowstone_pop.csv',skiprows=3)\n",
    "Yellowstone_pop_df['park']='Yellowstone National Park'\n",
    "Yellowstone_pop_df.head(1)"
   ]
  },
  {
   "cell_type": "code",
   "execution_count": null,
   "id": "dbecaee9-c39c-4810-bdac-95e5620c9a03",
   "metadata": {},
   "outputs": [],
   "source": [
    "White_Sands_pop_df=pd.read_csv('data/White_Sands_pop.csv',skiprows=3)\n",
    "White_Sands_pop_df['park']='White Sands National Park'\n",
    "White_Sands_pop_df.head(1)"
   ]
  },
  {
   "cell_type": "code",
   "execution_count": null,
   "id": "60064ec9-6afc-4c3b-9c08-0b6a09e70209",
   "metadata": {},
   "outputs": [],
   "source": [
    "Saguaro_pop_df=pd.read_csv('data/Saguaro_pop.csv',skiprows=3)\n",
    "Saguaro_pop_df['park']='Saguaro National Park'\n",
    "Saguaro_pop_df.head(1)"
   ]
  },
  {
   "cell_type": "code",
   "execution_count": null,
   "id": "fccc921d-4303-4bea-8c11-0054db40b2ce",
   "metadata": {},
   "outputs": [],
   "source": [
    "Rocky_Mountain_pop_df=pd.read_csv('data/Rocky_Mountain_pop.csv',skiprows=3)\n",
    "Rocky_Mountain_pop_df['park']='Rocky Mountain National Park'\n",
    "Rocky_Mountain_pop_df.head(1)"
   ]
  },
  {
   "cell_type": "code",
   "execution_count": null,
   "id": "fa5335ee-6f7a-45fa-a0d8-9400a7003813",
   "metadata": {},
   "outputs": [],
   "source": [
    "Petrified_Forest_pop_df=pd.read_csv('data/Petrified_Forest_pop.csv',skiprows=3)\n",
    "Petrified_Forest_pop_df['park']='Petrified Forest National Park'\n",
    "Petrified_Forest_pop_df.head(1)"
   ]
  },
  {
   "cell_type": "code",
   "execution_count": null,
   "id": "67078017-a889-410f-9379-b6c352fa6009",
   "metadata": {},
   "outputs": [],
   "source": [
    "Mesa_Verde_pop_df=pd.read_csv('data/Mesa_Verde_pop.csv',skiprows=3)\n",
    "Mesa_Verde_pop_df['park']='Mesa Verde National Park'\n",
    "Mesa_Verde_pop_df.head(1)"
   ]
  },
  {
   "cell_type": "markdown",
   "id": "2ddb12ac-39cf-4b25-a07f-cd736a28e939",
   "metadata": {},
   "source": [
    "Combining population data"
   ]
  },
  {
   "cell_type": "code",
   "execution_count": null,
   "id": "60bf3b69-86bb-4b9b-9807-766b9669ddc2",
   "metadata": {},
   "outputs": [],
   "source": [
    "concat_data = pd.concat([Mesa_Verde_pop_df,Petrified_Forest_pop_df,Rocky_Mountain_pop_df,Saguaro_pop_df,White_Sands_pop_df,Yellowstone_pop_df,Zion_pop_df,Great_Sand_Dunes_pop_df,Arches_pop_df,Big_Bend_pop_df])\n",
    "concat_data"
   ]
  },
  {
   "cell_type": "code",
   "execution_count": null,
   "id": "4914cbc2-68c0-43ba-9fce-e200d61c0eb7",
   "metadata": {},
   "outputs": [],
   "source": [
    "concat_2=pd.concat([concat_data,Black_Canyon_pop_df,Bryce_Canyon_pop_df,Canyonlands_pop_df,Carlsbad_Caverns_pop_df,Glacier_pop_df,Grand_Canyon_pop_df,Grand_Teton_pop_df,Guad_nps_df])\n",
    "concat_2.head()"
   ]
  },
  {
   "cell_type": "code",
   "execution_count": null,
   "id": "831c1c76-61e7-4947-919b-a2111333a5c9",
   "metadata": {},
   "outputs": [],
   "source": [
    "Intermountain_parkpop_df=concat_2.drop(columns=['TotalRecreationVisitors'])\n",
    "Intermountain_parkpop_df"
   ]
  },
  {
   "cell_type": "code",
   "execution_count": null,
   "id": "5ff00767-57d0-4905-8f7c-9bd8433b6e45",
   "metadata": {},
   "outputs": [],
   "source": [
    "Intermountain_parkpop_df=Intermountain_parkpop_df.rename(columns={'RecreationVisitors':'Visitors'})"
   ]
  },
  {
   "cell_type": "code",
   "execution_count": null,
   "id": "7f35b531-4761-41ae-b059-caeb5c62e66d",
   "metadata": {},
   "outputs": [],
   "source": [
    "Intermountain_parkpop_df['Year']=Intermountain_parkpop_df['Year'].astype(str)"
   ]
  },
  {
   "cell_type": "code",
   "execution_count": null,
   "id": "f9264c83-7357-48b5-89b3-02ae7e9e857e",
   "metadata": {},
   "outputs": [],
   "source": [
    "Intermountain_parkpop_df.info()"
   ]
  },
  {
   "cell_type": "code",
   "execution_count": null,
   "id": "0aae5916-6ff9-470d-9b79-32c7edb13ec4",
   "metadata": {},
   "outputs": [],
   "source": [
    "Intermountain_parkpop_df"
   ]
  },
  {
   "cell_type": "code",
   "execution_count": null,
   "id": "fffbf918-3a2b-484b-9ff2-de687db5f188",
   "metadata": {
    "scrolled": true
   },
   "outputs": [],
   "source": [
    "Intermountain_parkpop = Intermountain_parkpop_df[(Intermountain_parkpop_df['Year'] >= '2007') & \n",
    "                     (Intermountain_parkpop_df['Year'] < '2024')]\n",
    "Intermountain_parkpop.head(20)"
   ]
  },
  {
   "cell_type": "code",
   "execution_count": null,
   "id": "aee8db1d-2c98-4975-9445-fe6a6c70acf7",
   "metadata": {},
   "outputs": [],
   "source": [
    "Intermountain_parkpop.columns"
   ]
  },
  {
   "cell_type": "markdown",
   "id": "35d5a1be-797c-4e52-9624-fe4c4c068dcb",
   "metadata": {},
   "source": [
    "WHAT IS THE TOTAL VISITORS PER YEAR THROUGH ALL INTERMOUNTAINOUS NATIONAL PARKS\n"
   ]
  },
  {
   "cell_type": "code",
   "execution_count": null,
   "id": "1aa0c769-e861-4f36-b8c0-a008304b7e24",
   "metadata": {},
   "outputs": [],
   "source": [
    "Intermountain_parkpop.groupby(['Year','park'])\n",
    "Intermountain_parkpop.head()"
   ]
  },
  {
   "cell_type": "code",
   "execution_count": null,
   "id": "870e18ad-e38f-4810-b577-5d99032b842d",
   "metadata": {},
   "outputs": [],
   "source": [
    "Intermountain_parkpop['Year']=Intermountain_parkpop['Year'].astype(int)"
   ]
  },
  {
   "cell_type": "code",
   "execution_count": null,
   "id": "06cbfe27-50f8-4273-8f18-2784d37f9f0c",
   "metadata": {},
   "outputs": [],
   "source": [
    "Intermountain_parkpop['Visitors']=Intermountain_parkpop['Visitors'].str.replace(',' , '')\n",
    "Intermountain_parkpop"
   ]
  },
  {
   "cell_type": "code",
   "execution_count": null,
   "id": "01e87dda-f246-437e-8d14-105ac16fe64f",
   "metadata": {},
   "outputs": [],
   "source": [
    "Intermountain_parkpop['Visitors']=Intermountain_parkpop['Visitors'].astype(int)"
   ]
  },
  {
   "cell_type": "markdown",
   "id": "812ace3e-75b9-4009-afe9-e44b8721d038",
   "metadata": {},
   "source": [
    "WHAT IS THE TOTAL NUMBER OF VISITORS OF THE INTERMOUNTAINOUS REGION"
   ]
  },
  {
   "cell_type": "code",
   "execution_count": null,
   "id": "36ee9f46-2e20-4261-b444-acbbf36b8579",
   "metadata": {},
   "outputs": [],
   "source": [
    "Intermountain_parkpop['Visitors'].sum()"
   ]
  },
  {
   "cell_type": "markdown",
   "id": "f237af12-49ee-4c19-a5ed-3bd5213d57ed",
   "metadata": {},
   "source": [
    "TOTAL VISITORS OF ALL PARKS PER YEAR"
   ]
  },
  {
   "cell_type": "code",
   "execution_count": null,
   "id": "9d5aa490-8252-4dc0-9a60-16073f27da67",
   "metadata": {},
   "outputs": [],
   "source": [
    "Intermountain_parkpop['Visitors']=(Intermountain_parkpop['Visitors']/1000).round()\n",
    "Intermountain_parkpop"
   ]
  },
  {
   "cell_type": "code",
   "execution_count": null,
   "id": "97cf8be4-b5b4-49d5-b946-93e99c69c54d",
   "metadata": {},
   "outputs": [],
   "source": [
    "Intermountain_parkpop=Intermountain_parkpop.rename(columns={'Visitors':'Visitors/1000'})"
   ]
  },
  {
   "cell_type": "code",
   "execution_count": null,
   "id": "f585ffc3-137a-45f9-968f-848016a3f037",
   "metadata": {},
   "outputs": [],
   "source": [
    "Intermountain_parkpop.groupby('Year')['Visitors/1000'].sum().reset_index()"
   ]
  },
  {
   "cell_type": "code",
   "execution_count": null,
   "id": "297c2ec4-c7cd-43f1-87d7-50e5010aa2f9",
   "metadata": {},
   "outputs": [],
   "source": [
    "Intermountain_parkpop.sort_values(by='Visitors/1000', ascending=True)"
   ]
  },
  {
   "cell_type": "code",
   "execution_count": null,
   "id": "b36f1bad-ae67-494d-954e-b9245571ec94",
   "metadata": {},
   "outputs": [],
   "source": [
    "plt.figure(figsize=(10,8))\n",
    "sns.relplot(x='Year', y='Visitors/1000', data=Intermountain_parkpop.groupby('Year')['Visitors/1000'].sum().reset_index(), color='darkgreen',kind='line',errorbar=None)\n",
    "plt.ylim(0)\n",
    "plt.title('Total IMR National Park Visitors Per Year', fontsize=15)\n",
    "plt.xlabel('Year', fontsize=14)\n",
    "plt.ylabel('Visitors/1000', fontsize=14)\n",
    "plt.savefig('total_line_plot2.png',bbox_inches = 'tight', transparent=True)"
   ]
  },
  {
   "cell_type": "code",
   "execution_count": null,
   "id": "3d0af17b-dda4-4d2e-b058-518eed2507b4",
   "metadata": {},
   "outputs": [],
   "source": [
    "Intermountain_parkpop.groupby('Year')['Visitors/1000'].sum().reset_index()"
   ]
  },
  {
   "cell_type": "code",
   "execution_count": null,
   "id": "84b6b028-865e-416c-be72-d62e7aec8504",
   "metadata": {},
   "outputs": [],
   "source": [
    "visitors_2013=Intermountain_parkpop.loc[Intermountain_parkpop['Year']==2013]['Visitors/1000'].values[0]\n",
    "visitors_2017=Intermountain_parkpop.loc[Intermountain_parkpop['Year']==2017]['Visitors/1000'].values[0]\n",
    "visitors_sum=Intermountain_parkpop['Visitors/1000'].sum()\n",
    "change_in_visitors=visitors_2017-visitors_2013\n",
    "change_in_visitors"
   ]
  },
  {
   "cell_type": "code",
   "execution_count": null,
   "id": "6dc578d7-0579-4dae-8895-63d43a9ff8c9",
   "metadata": {
    "scrolled": true
   },
   "outputs": [],
   "source": [
    "percent_change_in_visitors=(change_in_visitors/visitors_sum)*100\n",
    "percent_change_in_visitors"
   ]
  },
  {
   "cell_type": "code",
   "execution_count": null,
   "id": "b003c29b-9ec5-47ac-9f3d-91e7ce7a0a57",
   "metadata": {
    "scrolled": true
   },
   "outputs": [],
   "source": [
    "Parkpop_forgraph=Intermountain_parkpop.groupby('park')['Visitors/1000'].mean().reset_index()\n",
    "Parkpop_forgraph"
   ]
  },
  {
   "cell_type": "markdown",
   "id": "5ce29556-b6ef-4213-8191-4ced50c193b5",
   "metadata": {},
   "source": [
    "TOTAL VISITORS PER PARK"
   ]
  },
  {
   "cell_type": "code",
   "execution_count": null,
   "id": "596716a9-d415-4a3a-bac0-fdad7e760bcf",
   "metadata": {},
   "outputs": [],
   "source": [
    "plt.figure(figsize = (10,6))\n",
    "\n",
    "sns.barplot(data =Parkpop_forgraph .sort_values('Visitors/1000',ascending=False),\n",
    "               x = 'park',\n",
    "               y = 'Visitors/1000', color='darkgreen',         \n",
    "                errorbar=None)\n",
    "plt.title('Total Visitors Per Park Years 2007 - 2023', fontsize=16)\n",
    "plt.ylabel('Visitors/1000', fontsize=14)\n",
    "plt.xlabel(' ')\n",
    "plt.xticks(rotation=90)\n",
    "plt.savefig('totals_bar_plot.png',bbox_inches = 'tight', transparent=True);\n",
    "\n"
   ]
  },
  {
   "cell_type": "markdown",
   "id": "669f81e9-5f03-4ced-9168-a742006c1380",
   "metadata": {},
   "source": [
    "PLOT VISITOR TOTAL FOR THE TOP 5 AND BOTTOM 5 PARKS "
   ]
  },
  {
   "cell_type": "code",
   "execution_count": null,
   "id": "b6d583e5-371f-4d71-8fd1-f461437ed2a7",
   "metadata": {},
   "outputs": [],
   "source": [
    "Top_five_parkpop=Intermountain_parkpop.groupby('park')['Visitors/1000'].sum().sort_values(ascending = False).head()\n",
    "Top_five_parkpop=Top_five_parkpop.reset_index()"
   ]
  },
  {
   "cell_type": "code",
   "execution_count": null,
   "id": "debf1f36-620a-4486-8b25-0642f5f7ad74",
   "metadata": {},
   "outputs": [],
   "source": [
    "Top_five_parkpop.head()"
   ]
  },
  {
   "cell_type": "code",
   "execution_count": null,
   "id": "fc539051-a26b-450b-8d63-696a9b576b6b",
   "metadata": {},
   "outputs": [],
   "source": [
    "Top_five_parkpop['Rank']='Top 5'\n",
    "Top_five_parkpop"
   ]
  },
  {
   "cell_type": "code",
   "execution_count": null,
   "id": "4e6f8f5c-301a-467d-88a2-9b5790af2e71",
   "metadata": {},
   "outputs": [],
   "source": [
    "Bottom_five_parkpop=Intermountain_parkpop.groupby('park')['Visitors/1000'].sum().sort_values(ascending = False).tail()\n",
    "Bottom_five_parkpop=Bottom_five_parkpop.to_frame().reset_index()\n",
    "Bottom_five_parkpop.head()"
   ]
  },
  {
   "cell_type": "code",
   "execution_count": null,
   "id": "5b980916-d34c-4c53-9e29-537114aaa40a",
   "metadata": {},
   "outputs": [],
   "source": [
    "Bottom_five_parkpop['Rank']='Bottom 5'"
   ]
  },
  {
   "cell_type": "code",
   "execution_count": null,
   "id": "2184b2ad-7718-49e3-9fe4-28a1557cb62b",
   "metadata": {},
   "outputs": [],
   "source": [
    "Bottom_five_parkpop"
   ]
  },
  {
   "cell_type": "code",
   "execution_count": null,
   "id": "f6181141-ec9c-4e99-964c-e5b6146be080",
   "metadata": {},
   "outputs": [],
   "source": [
    "top_and_bottom_5=pd.concat([Top_five_parkpop,Bottom_five_parkpop])\n",
    "top_and_bottom_5"
   ]
  },
  {
   "cell_type": "code",
   "execution_count": null,
   "id": "39915635-3519-4a4a-ab84-4e26a95c55c5",
   "metadata": {},
   "outputs": [],
   "source": []
  },
  {
   "cell_type": "code",
   "execution_count": null,
   "id": "0e0d5181-dd01-4294-b097-dd98de12d8ee",
   "metadata": {},
   "outputs": [],
   "source": []
  },
  {
   "cell_type": "code",
   "execution_count": null,
   "id": "54d792e0-fe5d-4cff-bcf4-818c36e08725",
   "metadata": {},
   "outputs": [],
   "source": []
  },
  {
   "cell_type": "code",
   "execution_count": null,
   "id": "b8c8b472-b558-4446-bbd8-6acc3933c82e",
   "metadata": {},
   "outputs": [],
   "source": [
    "plt.figure(figsize = (10,6))\n",
    "top_and_bottom_5.sort_values('Visitors/1000',ascending=False).plot.bar('park', 'Visitors/1000')\n",
    "ci=None\n",
    "plt.xticks(rotation=90)\n",
    "plt.title('Top and Bottom 5 Park Visitor Totals')\n",
    "plt.ylabel('Visitors/1000')\n",
    "plt.savefig('totals_bar_plot.png',bbox_inches = 'tight', transparent=True)\n",
    "plt.show();"
   ]
  },
  {
   "cell_type": "markdown",
   "id": "5d8c3f16-7969-42fe-96e1-8ff4e37c30c8",
   "metadata": {},
   "source": [
    "plt.figure(figsize = (10,6))\n",
    "\n",
    "\n",
    "mask1 = 'Visitors/1000' >50000\n",
    "mask2 = 'Visitors/1000' <20000\n",
    "\n",
    "top_and_bottom_5.sort_values('Visitors/1000',ascending=False).plt.bar(park[mask1], 'Visitors/1000'[mask1], color = 'green')\n",
    "top_and_bottom_5.sort_values('Visitors/1000',ascending=False).plt.bar(park[mask2], 'Visitors/1000'[mask2], color = 'brown')\n",
    "ci=None\n",
    "plt.xticks(rotation=90)\n",
    "plt.show()"
   ]
  },
  {
   "cell_type": "code",
   "execution_count": null,
   "id": "1b0510c2-1476-4acf-b5f3-aafb3aa4cbdf",
   "metadata": {},
   "outputs": [],
   "source": [
    "nps_deaths.head(1)"
   ]
  },
  {
   "cell_type": "code",
   "execution_count": null,
   "id": "f44dc628-70f2-4510-970d-861e69819c26",
   "metadata": {},
   "outputs": [],
   "source": [
    "List=['Petrified Forest National Park','Big Bend National Park','Carlsbad Caverns National Park','Glacier Bay National Park & Preserve', 'Arches National Park','Guadalupe Mountains National Park','Mesa Verde National Park','Bryce Canyon National Park','White Sands National Park','Great Sand Dunes National Park & Preserve','Glacier National Park','Saguaro National Park','Canyonlands National Park','Rocky Mountain National Park','Yellowstone National Park','Zion National Park','Grand Teton National Park','Grand Canyon National Park','Black Canyon Of The Gunnison National Park',]"
   ]
  },
  {
   "cell_type": "markdown",
   "id": "4b64d7cf-cc92-4b1e-8082-d765087ead2f",
   "metadata": {},
   "source": [
    "CLEAN UP FOR CONSISTENCY IN PARK NAME"
   ]
  },
  {
   "cell_type": "code",
   "execution_count": null,
   "id": "31aa1b30-3c2e-4c20-b3c2-3003629e3c02",
   "metadata": {
    "scrolled": true
   },
   "outputs": [],
   "source": [
    "new_nps_deaths=nps_deaths.loc[nps_deaths['Park Name'].isin(List)]\n",
    "new_nps_deaths"
   ]
  },
  {
   "cell_type": "code",
   "execution_count": null,
   "id": "54254111-53b3-4893-927e-7948637965ee",
   "metadata": {},
   "outputs": [],
   "source": [
    "new_nps_deaths['Age Range']=new_nps_deaths['Age Range'].str.replace('35 - 44','35-44')"
   ]
  },
  {
   "cell_type": "code",
   "execution_count": null,
   "id": "4ffa78e0-f839-42dd-9666-ed3b0194cf62",
   "metadata": {},
   "outputs": [],
   "source": [
    "new_nps_deaths['Outcome']=new_nps_deaths['Outcome'].str.title()"
   ]
  },
  {
   "cell_type": "code",
   "execution_count": null,
   "id": "409b19d7-5be2-40cd-8d51-6910e21f04ef",
   "metadata": {},
   "outputs": [],
   "source": [
    "new_nps_deaths"
   ]
  },
  {
   "cell_type": "code",
   "execution_count": null,
   "id": "5bc387b3-bca9-4c93-acee-aa9eadf37809",
   "metadata": {},
   "outputs": [],
   "source": [
    "new_nps_deaths['Outcome'].value_counts()"
   ]
  },
  {
   "cell_type": "code",
   "execution_count": null,
   "id": "1a677ca6-68a0-4ee2-a0e7-d539a9463318",
   "metadata": {},
   "outputs": [],
   "source": [
    "Deaths_per_age=new_nps_deaths.groupby('Sex')['Age Range'].value_counts().to_frame().reset_index()\n",
    "Deaths_per_age"
   ]
  },
  {
   "cell_type": "code",
   "execution_count": null,
   "id": "6c1a8a2e-4fc1-4fcc-ab9c-9a1d6e778b0b",
   "metadata": {},
   "outputs": [],
   "source": [
    "Deaths_per_age['Sex']=Deaths_per_age['Sex'].str.replace('Not Reported','Unknown-Sex')"
   ]
  },
  {
   "cell_type": "code",
   "execution_count": null,
   "id": "273e9b47-be5a-4ecd-86c2-8caf071d738f",
   "metadata": {},
   "outputs": [],
   "source": [
    "Deaths_per_age['Age Range']=Deaths_per_age['Age Range'].str.replace('Not Reported','Unknown-Age')"
   ]
  },
  {
   "cell_type": "code",
   "execution_count": null,
   "id": "8e7b643d-19b9-451f-a76e-ea8ab3c7cb1d",
   "metadata": {},
   "outputs": [],
   "source": [
    "Deaths_per_age.loc[Deaths_per_age['Age Range']=='Unknown']"
   ]
  },
  {
   "cell_type": "code",
   "execution_count": null,
   "id": "a93b4618-5d40-4026-af75-368e4bf2c3d5",
   "metadata": {},
   "outputs": [],
   "source": [
    "Deaths_per_age"
   ]
  },
  {
   "cell_type": "code",
   "execution_count": null,
   "id": "0f974b51-a6bc-41b5-b6c6-3f5b8d578d3b",
   "metadata": {},
   "outputs": [],
   "source": [
    "pivot_Deaths_per_age=Deaths_per_age.pivot_table(index='Age Range',columns='Sex',values='count',aggfunc='sum')\n",
    "pivot_Deaths_per_age.plot(kind='bar',stacked=False,figsize=(10,6), color=['darkgreen','darkblue','black'])\n",
    "plt.title('Fatalities in the National Parks comparing Age and Gender')\n",
    "plt.xlabel( 'Age Range' )\n",
    "plt.ylabel('Number of Fatalities')\n",
    "plt.savefig('totals_bar_plot.png',bbox_inches = 'tight', transparent=True)\n",
    "plt.show()"
   ]
  },
  {
   "cell_type": "code",
   "execution_count": null,
   "id": "9e30792f-7d7c-4bfc-9108-6ded3a01ea14",
   "metadata": {},
   "outputs": [],
   "source": [
    "Deaths_per_age.info()"
   ]
  },
  {
   "cell_type": "code",
   "execution_count": null,
   "id": "1786dcfe-3e87-4142-a064-07767071c833",
   "metadata": {},
   "outputs": [],
   "source": [
    "Deaths_per_gender=new_nps_deaths['Sex'].value_counts().to_frame().reset_index()\n",
    "Deaths_per_gender\n"
   ]
  },
  {
   "cell_type": "markdown",
   "id": "7325af51-8a82-4d3b-a96d-c095c9ade524",
   "metadata": {},
   "source": [
    "combined_df=pd.concat([Deaths_per_age,Deaths_per_gender],axis=1)\n",
    "combined_df"
   ]
  },
  {
   "cell_type": "code",
   "execution_count": null,
   "id": "bcb5176c-469f-4878-9a52-5dbfda836ea7",
   "metadata": {},
   "outputs": [],
   "source": [
    "new_nps_deaths['Incident Date'] = pd.to_datetime(new_nps_deaths['Incident Date'])"
   ]
  },
  {
   "cell_type": "code",
   "execution_count": null,
   "id": "ed99fc12-6ad6-4f01-9733-44591870d4b8",
   "metadata": {},
   "outputs": [],
   "source": [
    "new_nps_deaths['month']=new_nps_deaths['Incident Date'].dt.month"
   ]
  },
  {
   "cell_type": "code",
   "execution_count": null,
   "id": "0c66e884-e1cc-47bf-bcb3-19be23832a61",
   "metadata": {},
   "outputs": [],
   "source": [
    "new_nps_deaths.head(1)"
   ]
  },
  {
   "cell_type": "code",
   "execution_count": null,
   "id": "811b4f27-3cc8-432e-b7dc-ef45c8893c70",
   "metadata": {},
   "outputs": [],
   "source": [
    "new_nps_deaths=new_nps_deaths.drop(columns=['Cause of Death Group \\n(Used in the NPS Mortality Dashboard) '])"
   ]
  },
  {
   "cell_type": "code",
   "execution_count": null,
   "id": "36537233-a3f6-407f-8faa-924ff6ae59eb",
   "metadata": {},
   "outputs": [],
   "source": [
    "Causes_of_Death=new_nps_deaths['Cause of Death'].value_counts().to_frame().reset_index()\n",
    "Causes_of_Death.head(2)"
   ]
  },
  {
   "cell_type": "code",
   "execution_count": null,
   "id": "22abf5a5-ea6d-4b62-9241-8f527af9b187",
   "metadata": {},
   "outputs": [],
   "source": [
    "\n",
    "new_nps_deaths.groupby(['Cause of Death','Park Name','Incident Date'])['Activity'].count().to_frame().reset_index()"
   ]
  },
  {
   "cell_type": "markdown",
   "id": "4e941bc5-b8d1-4dd8-b998-b6806eace06d",
   "metadata": {},
   "source": [
    "GRAPH THE TOTAL OF UNIQUE CAUSE OF DEATH PER YEAR (ID TOTAL DROWNINGS IN 2010)"
   ]
  },
  {
   "cell_type": "code",
   "execution_count": null,
   "id": "c04bdf38-174b-48c6-a00c-bff286d1a3c9",
   "metadata": {},
   "outputs": [],
   "source": [
    "new_nps_deaths.head(1)"
   ]
  },
  {
   "cell_type": "code",
   "execution_count": null,
   "id": "573de46e-cfd1-48f0-9e03-ffad8e926029",
   "metadata": {},
   "outputs": [],
   "source": [
    "new_nps_deaths.info()"
   ]
  },
  {
   "cell_type": "code",
   "execution_count": null,
   "id": "ffdfe986-c8bf-4b9b-bce0-ef83f409c8c0",
   "metadata": {},
   "outputs": [],
   "source": [
    "Intermountain_parkpop.head(1)"
   ]
  },
  {
   "cell_type": "code",
   "execution_count": null,
   "id": "86687f6f-9fbc-42f7-b8b7-efb17e19780f",
   "metadata": {},
   "outputs": [],
   "source": [
    "new_nps_deaths['month']=new_nps_deaths['Incident Date'].dt.month"
   ]
  },
  {
   "cell_type": "code",
   "execution_count": null,
   "id": "35e838f5-d756-41fe-9e34-fd89f3ad1e23",
   "metadata": {},
   "outputs": [],
   "source": [
    "new_nps_deaths.head(1)"
   ]
  },
  {
   "cell_type": "code",
   "execution_count": null,
   "id": "0f4a0e30-9c66-4c39-92c4-543589f57e68",
   "metadata": {},
   "outputs": [],
   "source": [
    "new_nps_deaths['year']=new_nps_deaths['Incident Date'].dt.year\n",
    "new_nps_deaths.head(1)"
   ]
  },
  {
   "cell_type": "code",
   "execution_count": null,
   "id": "4557bee3-515f-4cf8-b827-b159f30af638",
   "metadata": {},
   "outputs": [],
   "source": [
    "Intermountain_parkpop=Intermountain_parkpop.rename(columns={'park':'Park Name'})\n",
    "Intermountain_parkpop.head()"
   ]
  },
  {
   "cell_type": "code",
   "execution_count": null,
   "id": "7d4ae1df-df3c-4e3b-800e-f5a5d11b52a8",
   "metadata": {},
   "outputs": [],
   "source": [
    "new_nps_deaths=new_nps_deaths.drop(columns=['Incident Date']).rename(columns={'year':'Year'})"
   ]
  },
  {
   "cell_type": "markdown",
   "id": "cece0555-03d7-4d0e-8ef8-08955b9264b1",
   "metadata": {},
   "source": [
    "Combine population and death data"
   ]
  },
  {
   "cell_type": "code",
   "execution_count": null,
   "id": "20b204f1-fb71-4d6b-90c9-66fcfcf66485",
   "metadata": {},
   "outputs": [],
   "source": [
    "deaths_population=pd.merge(new_nps_deaths, Intermountain_parkpop, \n",
    "                               left_on = ['Year', 'Park Name'], right_on = ['Year', 'Park Name'],\n",
    "                               how = 'inner')\n",
    "deaths_population.head()"
   ]
  },
  {
   "cell_type": "code",
   "execution_count": null,
   "id": "2c282641-087c-4b77-b3f3-926edc4af6d0",
   "metadata": {},
   "outputs": [],
   "source": [
    "deaths_population.shape"
   ]
  },
  {
   "cell_type": "markdown",
   "id": "da95b20d-289b-43c6-83a5-b87d1194742e",
   "metadata": {},
   "source": [
    "Visitors: min and max per 1000"
   ]
  },
  {
   "cell_type": "code",
   "execution_count": null,
   "id": "6f2d6543-3889-4806-8b3f-7ec0e664c4bd",
   "metadata": {},
   "outputs": [],
   "source": [
    "deaths_population['Visitors/1000'].min()"
   ]
  },
  {
   "cell_type": "code",
   "execution_count": null,
   "id": "b5fb2b57-acae-420c-93f3-cc0de09073ad",
   "metadata": {},
   "outputs": [],
   "source": [
    "deaths_population['Visitors/1000'].max()"
   ]
  },
  {
   "cell_type": "code",
   "execution_count": null,
   "id": "4c00dea1-46fb-46f9-a71a-6c9b3b06e338",
   "metadata": {
    "scrolled": true
   },
   "outputs": [],
   "source": [
    "deaths_population.head(20)"
   ]
  },
  {
   "cell_type": "code",
   "execution_count": null,
   "id": "a272e38f-5afd-430e-ab6e-10122bd9d2e4",
   "metadata": {},
   "outputs": [],
   "source": [
    "Park_Visitors_totals=deaths_population.drop(columns=['Cause of Death','Intent','Outcome','Sex','Age Range','Activity','month','Year'])\n",
    "Park_Visitors_totals=Park_Visitors_totals.drop_duplicates(subset='Park Name')"
   ]
  },
  {
   "cell_type": "code",
   "execution_count": null,
   "id": "0285bc5d-5880-45b7-8b56-5f71f7b23cb3",
   "metadata": {},
   "outputs": [],
   "source": [
    "Park_Visitors_totals.plot(kind='bar',\n",
    "                      x='Park Name',\n",
    "                      y='Visitors/1000')\n",
    "plt.title('Total Visitors by Park')\n",
    "plt.xlabel('Park Name')\n",
    "plt.ylabel('Visitors/1000')\n",
    "plt.savefig('visitors by park',bbox_inches = 'tight', transparent=True)\n",
    "plt.show()"
   ]
  },
  {
   "cell_type": "code",
   "execution_count": null,
   "id": "41dca185-5abf-48b9-bee0-e8c14bd5cca7",
   "metadata": {
    "scrolled": true
   },
   "outputs": [],
   "source": [
    "Deaths_per_park=deaths_population.groupby(['Park Name','Cause of Death','Year'])['Outcome'].count().to_frame().reset_index().rename(columns={'Outcome':'Fatality_Count'})\n",
    "Deaths_per_park"
   ]
  },
  {
   "cell_type": "markdown",
   "id": "ead341e1-87ec-4f89-86fe-0262d042697f",
   "metadata": {},
   "source": [
    "FIND TOTAL DEATHS PER CAPITAL OF MILLION AND THEN CAUSE OF DEATH TOTAL PER CAPITA PER PARK\n"
   ]
  },
  {
   "cell_type": "code",
   "execution_count": null,
   "id": "4417f85a-8f61-49a9-8cab-b11c0234cfce",
   "metadata": {},
   "outputs": [],
   "source": [
    "Total_deaths=deaths_population.groupby(['Park Name','Year'])['Outcome'].count().reset_index().rename(columns={'Outcome':'Total Deaths'})\n",
    "Total_deaths"
   ]
  },
  {
   "cell_type": "code",
   "execution_count": null,
   "id": "bdd36716-073d-4361-b123-77c6cfec1fc7",
   "metadata": {},
   "outputs": [],
   "source": [
    "Total_deaths.groupby('Park Name')['Total Deaths'].sum().reset_index()"
   ]
  },
  {
   "cell_type": "markdown",
   "id": "52367a9e-fb6d-4908-8605-2ea7ea58d93d",
   "metadata": {},
   "source": [
    "DO NOT LOOK AT ABOVE TABLE CLOSELY BC IT IS NOT WEIGHTED PER CAPITA"
   ]
  },
  {
   "cell_type": "markdown",
   "id": "060e3054-cc47-4d2c-9247-aff7aa130b1f",
   "metadata": {},
   "source": [
    "TOTAL DEATHS IN INTRAMOUNTAINOUS RANGE PARKS 2007-2023"
   ]
  },
  {
   "cell_type": "code",
   "execution_count": null,
   "id": "e75695fd-6099-4c89-95d9-760ec9318057",
   "metadata": {},
   "outputs": [],
   "source": [
    "Total_deaths['Total Deaths'].sum()"
   ]
  },
  {
   "cell_type": "markdown",
   "id": "5e6773c3-8225-4493-b03a-68f54114e503",
   "metadata": {},
   "source": [
    "BELOW SHOWS PARK FATALITIES PER CAUSE OF DEATH PER YEAR"
   ]
  },
  {
   "cell_type": "code",
   "execution_count": null,
   "id": "c9dc27c9-ba00-4111-9511-3388e1a5f622",
   "metadata": {
    "scrolled": true
   },
   "outputs": [],
   "source": [
    "Visitors_Fatality_merge=pd.merge(deaths_population, Deaths_per_park, left_on=['Park Name', 'Year', 'Cause of Death'],right_on=['Park Name','Year','Cause of Death'], how='inner')\n",
    "Visitors_Fatality_merge"
   ]
  },
  {
   "cell_type": "code",
   "execution_count": null,
   "id": "4946846f-5a94-44a1-80e9-fe81e1798e81",
   "metadata": {},
   "outputs": [],
   "source": [
    "Visitors_Fatality_merge['Visitors']=Visitors_Fatality_merge['Visitors/1000']*1000"
   ]
  },
  {
   "cell_type": "code",
   "execution_count": null,
   "id": "203c5350-0214-4fda-a356-864002b3aafb",
   "metadata": {},
   "outputs": [],
   "source": [
    "Visitors_Fatality_merge.head()"
   ]
  },
  {
   "cell_type": "code",
   "execution_count": null,
   "id": "46c13371-e76b-465d-998f-bba3a194290e",
   "metadata": {},
   "outputs": [],
   "source": [
    "Visitors_Fatality_merge.info()"
   ]
  },
  {
   "cell_type": "markdown",
   "id": "ee65b103-769e-4536-9eac-20ca934369fa",
   "metadata": {},
   "source": [
    "##change to per capita in millions"
   ]
  },
  {
   "cell_type": "code",
   "execution_count": null,
   "id": "bb90b3e6-4d40-4a69-8f34-2aa60667ea1d",
   "metadata": {
    "scrolled": true
   },
   "outputs": [],
   "source": [
    "Visitors_Fatality_merge['Fatalities_per_million']=Visitors_Fatality_merge['Fatality_Count']/Visitors_Fatality_merge['Visitors'] *1000000 \n",
    "Visitors_Fatality_merge.head(30)"
   ]
  },
  {
   "cell_type": "code",
   "execution_count": null,
   "id": "995f0a32-bd45-4f37-a7db-750046471797",
   "metadata": {
    "scrolled": true
   },
   "outputs": [],
   "source": [
    "Visitors_Fatality_merge.groupby('Park Name')\n",
    "Visitors_Fatality_merge.head()"
   ]
  },
  {
   "cell_type": "markdown",
   "id": "1638ac31-9f86-4c8a-857f-134911db3b43",
   "metadata": {},
   "source": [
    "###########################################################################################################################\n",
    "Cause_of_death_totals['Cause of Death']=Cause_of_death_totals['Cause of Death'].str.replace('Aircraft Incident ','Aircraft Incident')\n",
    "###########################################################################################################################"
   ]
  },
  {
   "cell_type": "code",
   "execution_count": null,
   "id": "a7941451-f18d-4265-99ac-9ccb4027e171",
   "metadata": {},
   "outputs": [],
   "source": [
    "Visitors_Fatality_merge['Cause of Death']=Visitors_Fatality_merge['Cause of Death'].str.title()"
   ]
  },
  {
   "cell_type": "code",
   "execution_count": null,
   "id": "05fa6279-52a5-4b36-b984-207b3cb37a1e",
   "metadata": {},
   "outputs": [],
   "source": [
    "new_group = Visitors_Fatality_merge.groupby('Park Name')['Fatalities_per_million'].sum().round(2).to_frame().reset_index()\n",
    "new_group.head(18)"
   ]
  },
  {
   "cell_type": "code",
   "execution_count": null,
   "id": "ddaf1fc5-063f-44c1-8e8f-896b9361b6fb",
   "metadata": {},
   "outputs": [],
   "source": [
    "new_group2 = new_group.groupby(['Park Name'])['Fatalities_per_million'].sum().reset_index()\n",
    "new_group2\n"
   ]
  },
  {
   "cell_type": "code",
   "execution_count": null,
   "id": "9929f18a-5b02-44e6-ae95-a9bddbabe885",
   "metadata": {},
   "outputs": [],
   "source": [
    "Top_5_for_fatalities=new_group2.sort_values('Fatalities_per_million', ascending=False).head()"
   ]
  },
  {
   "cell_type": "code",
   "execution_count": null,
   "id": "08b3d5d8-3e6f-4453-9e04-e905fe55d8f8",
   "metadata": {},
   "outputs": [],
   "source": [
    "Bottom_5_for_fatalities=new_group2.sort_values('Fatalities_per_million', ascending=False).tail()"
   ]
  },
  {
   "cell_type": "code",
   "execution_count": null,
   "id": "0a9f5e1e-f672-46e7-94ca-8881a459ddfc",
   "metadata": {},
   "outputs": [],
   "source": [
    "plt.figure(figsize = (10,6))\n",
    "\n",
    "sns.barplot(data =new_group2.sort_values('Fatalities_per_million',ascending=False),\n",
    "               x = 'Park Name',\n",
    "               y = 'Fatalities_per_million', color='darkgreen',errorbar=None)       \n",
    "                \n",
    "plt.title('Fatalities per National Park', fontsize=16)\n",
    "plt.ylabel('Fatalities/million', fontsize=14)\n",
    "plt.xlabel(' ')\n",
    "plt.xticks(rotation=90)\n",
    "plt.savefig('fatalities per million2',bbox_inches = 'tight', transparent=True);"
   ]
  },
  {
   "cell_type": "markdown",
   "id": "d0948c82-6001-48ff-af89-095060a4a254",
   "metadata": {},
   "source": [
    "THE ABOVE GRAPH MAKES ME WANT TO LOOK AT BIG BEND NP CAUSES OF DEATHS AND SEE IF IT MAY BE CONSIDERED ONE OF THE MOST DANGEROUS \n",
    "BC PER CAPITA IT HAS A HIGHER FATALITY RATE EVEN THOUGH LOWER VISITOR NUMBERS"
   ]
  },
  {
   "cell_type": "code",
   "execution_count": null,
   "id": "368a81c1-bf06-41dd-8074-61f16b5670d8",
   "metadata": {},
   "outputs": [],
   "source": [
    "Top_and_bottom_for_fatalities=pd.concat([Top_5_for_fatalities, Bottom_5_for_fatalities])"
   ]
  },
  {
   "cell_type": "code",
   "execution_count": null,
   "id": "d6435158-f0a1-4bae-9177-63d27afd6b5c",
   "metadata": {},
   "outputs": [],
   "source": [
    "import matplotlib.patches as mpatches\n"
   ]
  },
  {
   "cell_type": "code",
   "execution_count": null,
   "id": "d1549760-2f68-4823-8cc2-23f324a0c650",
   "metadata": {},
   "outputs": [],
   "source": [
    "top_parks = [\n",
    "    'Grand Canyon National Park', 'Big Bend National Park', \n",
    "    'Canyonlands National Park', 'Black Canyon Of The Gunnison National Park', \n",
    "    'Guadalupe Mountains National Park']\n",
    "\n",
    "bottom_parks = [\n",
    "    'Great Sand Dunes National Park & Preserve', 'Carlsbad Caverns National Park',\n",
    "    'Mesa Verde National Park', 'Bryce Canyon National Park', \n",
    "    'Petrified Forest National Park']\n",
    "\n",
    "Top_and_bottom_for_fatalities['Color'] = Top_and_bottom_for_fatalities['Park Name'].apply(\n",
    "    lambda x: 'darkblue' if x in top_parks else 'darkgreen' if x in bottom_parks else 'grey')\n",
    "\n",
    "\n",
    "fig, ax = plt.subplots(figsize=(10,6))\n",
    "Top_and_bottom_for_fatalities.sort_values('Fatalities_per_million', ascending=False).plot.bar(\n",
    "    x='Park Name', y='Fatalities_per_million', color=Top_and_bottom_for_fatalities['Color'], \n",
    "    legend=False,ax=ax)\n",
    "ax.set_xlabel=('')\n",
    "plt.xticks(rotation=90)\n",
    "plt.ylabel('Fatalities per Million', fontsize=14)\n",
    "plt.title('Top and Bottom 5 Parks for Fatalities', fontsize=16)\n",
    "\n",
    "top_bar = mpatches.Patch(color='darkblue', label = 'Top 5 Parks')\n",
    "bottom_bar = mpatches.Patch(color='darkgreen', label='Bottom 5 Parks')\n",
    "ax.legend(handles=[top_bar, bottom_bar])\n",
    "plt.savefig('Top and Bottom 5 park fatalities2',bbox_inches = 'tight', transparent=True)\n",
    "plt.show()\n",
    "    "
   ]
  },
  {
   "cell_type": "code",
   "execution_count": null,
   "id": "f0eb4088-53c5-43d8-843b-14786337b214",
   "metadata": {},
   "outputs": [],
   "source": [
    "Top_and_bottom_for_fatalities.head(10)"
   ]
  },
  {
   "cell_type": "code",
   "execution_count": null,
   "id": "30d6fb8d-d9f0-41d6-8cd5-2637599330cf",
   "metadata": {},
   "outputs": [],
   "source": [
    "Causes_total_Stats=Visitors_Fatality_merge.groupby('Cause of Death')['Fatalities_per_million'].describe().reset_index()\n",
    "Causes_total_Stats.head(30)"
   ]
  },
  {
   "cell_type": "code",
   "execution_count": null,
   "id": "38040d2d-d8db-4b99-90b9-4b22ace06993",
   "metadata": {},
   "outputs": [],
   "source": [
    "df_transposed = Causes_total_Stats.transpose()"
   ]
  },
  {
   "cell_type": "code",
   "execution_count": null,
   "id": "36929c18-d989-4025-a652-d3c80bd89d50",
   "metadata": {},
   "outputs": [],
   "source": [
    "df_transposed.head()"
   ]
  },
  {
   "cell_type": "markdown",
   "id": "78375824-1bbf-443b-b043-73ff56d3b1bd",
   "metadata": {},
   "source": [
    "Causes_by_Park_Stats=Visitors_Fatality_merge.groupby(['Cause of Death','Park Name'])['Fatalities_per_million'].describe().reset_index()\n",
    "Causes_by_Park_Stats.sort_by(count"
   ]
  },
  {
   "cell_type": "code",
   "execution_count": null,
   "id": "76d86be0-8f54-4330-85ab-111e845781dc",
   "metadata": {},
   "outputs": [],
   "source": [
    "deaths_population['Cause of Death']=deaths_population['Cause of Death'].str.title()"
   ]
  },
  {
   "cell_type": "code",
   "execution_count": null,
   "id": "b6b330db-3783-4c33-bcf0-891dabef1181",
   "metadata": {
    "scrolled": true
   },
   "outputs": [],
   "source": [
    "Cause_of_death_totals=deaths_population.groupby(['Cause of Death','Park Name', 'Year'])['Outcome'].count().to_frame().reset_index().rename(columns={'Outcome':'Fatality_Count'})\n",
    "Cause_of_death_totals.head(50)"
   ]
  },
  {
   "cell_type": "markdown",
   "id": "cc9fb531-d014-4b57-a522-18956165f2e4",
   "metadata": {},
   "source": [
    "**use a different chart, stacked line/stacked area graphs"
   ]
  },
  {
   "cell_type": "code",
   "execution_count": null,
   "id": "fbf9fda4-14dc-4a1f-b904-636fe5d568dc",
   "metadata": {},
   "outputs": [],
   "source": [
    "(Cause_of_death_totals['Cause of Death'].unique())"
   ]
  },
  {
   "cell_type": "markdown",
   "id": "7b7d6076-e8fc-4fd9-80a7-1287da513b95",
   "metadata": {},
   "source": [
    "##### sns.scatterplot(data = Cause_of_death_totals,\n",
    "               x = 'Year',\n",
    "               y = 'Fatality_Count',\n",
    "               hue = 'Cause of Death',\n",
    "               palette = ['blue', 'coral', 'green']),\n",
    "plt.legend(bbox_to_anchor = (1,1), loc='upper left')"
   ]
  },
  {
   "cell_type": "code",
   "execution_count": null,
   "id": "6786cb5c-6482-419d-94be-f8a1ba3339c9",
   "metadata": {},
   "outputs": [],
   "source": [
    "(Cause_of_death_totals['Cause of Death'].value_counts())"
   ]
  },
  {
   "cell_type": "code",
   "execution_count": null,
   "id": "0f398833-86c2-41af-a88e-a10e46ad8247",
   "metadata": {},
   "outputs": [],
   "source": [
    "Cause_of_death_totals['Cause of Death']=Cause_of_death_totals['Cause of Death'].str.replace('Medical - Not During Physical Activity','Medical')\n",
    "Cause_of_death_totals['Cause of Death']"
   ]
  },
  {
   "cell_type": "code",
   "execution_count": null,
   "id": "e52f0945-5d72-418e-acb4-ab5e1461173f",
   "metadata": {},
   "outputs": [],
   "source": [
    "Cause_of_death_totals['Cause of Death']=Cause_of_death_totals['Cause of Death'].str.replace('Medical - During Physical Activity', 'Medical')"
   ]
  },
  {
   "cell_type": "code",
   "execution_count": null,
   "id": "6aeb127b-0f72-4b7c-8251-5d5459f2cf46",
   "metadata": {},
   "outputs": [],
   "source": [
    "Cause_of_death_totals['Cause of Death']=Cause_of_death_totals['Cause of Death'].str.replace('Medical - Unknown','Medical')\n",
    "Cause_of_death_totals['Cause of Death']"
   ]
  },
  {
   "cell_type": "code",
   "execution_count": null,
   "id": "429ddb09-eb55-4a05-ab5a-67ffe3fd88e1",
   "metadata": {},
   "outputs": [],
   "source": [
    "(Cause_of_death_totals['Cause of Death'].value_counts())"
   ]
  },
  {
   "cell_type": "code",
   "execution_count": null,
   "id": "4859a222-ae38-4e4f-a255-39272763eeb4",
   "metadata": {},
   "outputs": [],
   "source": [
    "Cause_of_death_totals['Cause of Death']=Cause_of_death_totals['Cause of Death'].str.replace('Aircraft Incident ','Aircraft Incident')\n"
   ]
  },
  {
   "cell_type": "code",
   "execution_count": null,
   "id": "4aba95fc-6436-46da-a321-037736e798af",
   "metadata": {},
   "outputs": [],
   "source": [
    "Cause_of_death_totals['Cause of Death']=Cause_of_death_totals['Cause of Death'].str.replace('Poisoning - Carbon Monoxide','Poisoning')"
   ]
  },
  {
   "cell_type": "code",
   "execution_count": null,
   "id": "a2c71582-e86e-4399-80a6-ed17ecd8bcc0",
   "metadata": {},
   "outputs": [],
   "source": [
    "Cause_of_death_totals['Cause of Death']=Cause_of_death_totals['Cause of Death'].str.replace('Poisoning - Alcohol','Poisoning')"
   ]
  },
  {
   "cell_type": "code",
   "execution_count": null,
   "id": "b3bab41c-e060-4e5b-81a0-36c235d7df25",
   "metadata": {},
   "outputs": [],
   "source": [
    "Cause_of_death_totals['Cause of Death']=Cause_of_death_totals['Cause of Death'].str.replace('Poisoning - Drugs','Poisoning')"
   ]
  },
  {
   "cell_type": "code",
   "execution_count": null,
   "id": "f442c3f4-004d-4c38-8094-3310eb9317a7",
   "metadata": {},
   "outputs": [],
   "source": [
    "Cause_of_death_totals['Cause of Death']=Cause_of_death_totals['Cause of Death'].str.replace('Skiing Incident','Winter Sports')\n"
   ]
  },
  {
   "cell_type": "code",
   "execution_count": null,
   "id": "2317e62e-afdf-4195-8dff-41e473536744",
   "metadata": {},
   "outputs": [],
   "source": [
    "Cause_of_death_totals['Cause of Death']=Cause_of_death_totals['Cause of Death'].str.replace('Snowboard Incident','Winter Sports')"
   ]
  },
  {
   "cell_type": "code",
   "execution_count": null,
   "id": "ecd63b4b-6f39-463e-bdb1-bec47836564f",
   "metadata": {},
   "outputs": [],
   "source": [
    "Cause_of_death_totals['Cause of Death']=Cause_of_death_totals['Cause of Death'].str.replace('Asphyxiation','Medical')"
   ]
  },
  {
   "cell_type": "code",
   "execution_count": null,
   "id": "d911516e-6f06-4240-82a0-67dac0233524",
   "metadata": {},
   "outputs": [],
   "source": [
    "Cause_of_death_totals['Cause of Death'].value_counts().reset_index()"
   ]
  },
  {
   "cell_type": "code",
   "execution_count": null,
   "id": "9802109f-e781-492c-9359-ee3aa81b4c8a",
   "metadata": {},
   "outputs": [],
   "source": [
    "Cause_of_death_totals['Cause of Death'].value_counts().plot(kind='barh', color='darkblue')\n",
    "plt.title('Number of Deaths per Cause', fontsize=16)\n",
    "plt.ylabel('Cause of Death', fontsize=14)\n",
    "plt.xlabel('Number of Deaths', fontsize=14)\n",
    "plt.savefig('Number of deaths per cause2',bbox_inches = 'tight', transparent=True);\n"
   ]
  },
  {
   "cell_type": "markdown",
   "id": "dca6f7c4-18cd-4f98-b001-b1f651867b98",
   "metadata": {},
   "source": [
    "###should this be per million?!?###"
   ]
  },
  {
   "cell_type": "code",
   "execution_count": null,
   "id": "7951ee2c-9eb4-4077-a7d9-3a1aca062f9f",
   "metadata": {},
   "outputs": [],
   "source": [
    "Deaths_grouped=Cause_of_death_totals.groupby('Cause of Death')['Fatality_Count'].sum().reset_index()"
   ]
  },
  {
   "cell_type": "code",
   "execution_count": null,
   "id": "9bcaebae-9976-4911-bd64-a061f8a10047",
   "metadata": {},
   "outputs": [],
   "source": [
    "Deaths_grouped['group']=np.where(Deaths_grouped.Fatality_Count>20,Deaths_grouped['Cause of Death'],'Other')"
   ]
  },
  {
   "cell_type": "code",
   "execution_count": null,
   "id": "94d5f6e1-1c8c-464e-9314-607a3300eaf4",
   "metadata": {},
   "outputs": [],
   "source": [
    "Cause_of_death_totals=pd.merge(Cause_of_death_totals,Deaths_grouped[['Cause of Death','group']],on='Cause of Death')"
   ]
  },
  {
   "cell_type": "code",
   "execution_count": null,
   "id": "cb0e8c97-d268-4620-b5f7-061d1c6d2e29",
   "metadata": {},
   "outputs": [],
   "source": [
    "Cause_of_death_totals.groupby(['Cause of Death','Park Name']).head()"
   ]
  },
  {
   "cell_type": "code",
   "execution_count": null,
   "id": "622946a9-ad9a-482b-b5b7-6911d8072cdf",
   "metadata": {},
   "outputs": [],
   "source": [
    "BBC_total=Cause_of_death_totals.loc[Cause_of_death_totals['Park Name']=='Big Bend National Park']\n",
    "BBC_total.loc[BBC_total['Year']==2020]"
   ]
  },
  {
   "cell_type": "code",
   "execution_count": null,
   "id": "f911c449-6743-4b18-975d-5100611f729d",
   "metadata": {},
   "outputs": [],
   "source": [
    "GC_total=Cause_of_death_totals.loc[Cause_of_death_totals['Park Name']=='Grand Canyon National Park']\n",
    "GC_total.loc[GC_total['Year']==2020]"
   ]
  },
  {
   "cell_type": "code",
   "execution_count": null,
   "id": "75ec2bd2-2ffb-4185-8dae-d739c372a4cc",
   "metadata": {},
   "outputs": [],
   "source": [
    "Death_totals_per_year=(Cause_of_death_totals['Year'].value_counts().reset_index())\n",
    "Death_totals_per_year"
   ]
  },
  {
   "cell_type": "markdown",
   "id": "37c720c7-3b01-4861-8b75-fa2b5ea5290d",
   "metadata": {},
   "source": [
    "FATALITIES IN THE NP PER YEAR"
   ]
  },
  {
   "cell_type": "code",
   "execution_count": null,
   "id": "af61a36a-6989-4c50-843d-811159aa1702",
   "metadata": {},
   "outputs": [],
   "source": []
  },
  {
   "cell_type": "code",
   "execution_count": null,
   "id": "d40524f2-0f18-4aa9-a3da-5692baf9b85a",
   "metadata": {},
   "outputs": [],
   "source": [
    "sns.relplot(x='Year', y='count', data=Cause_of_death_totals['Year'].value_counts().reset_index(), kind='line')\n",
    "plt.savefig('fatalities per year',bbox_inches = 'tight', transparent=True);"
   ]
  },
  {
   "cell_type": "code",
   "execution_count": null,
   "id": "3dbc0e8c-4469-4777-ad64-3238af25cf46",
   "metadata": {},
   "outputs": [],
   "source": [
    "Cause_of_death_totals.head(1)"
   ]
  },
  {
   "cell_type": "code",
   "execution_count": null,
   "id": "d8afe9f0-685b-459e-96b6-2a690ab6486a",
   "metadata": {},
   "outputs": [],
   "source": [
    "pivot_Cause_of_death_totals=Cause_of_death_totals.pivot_table(index='Year', columns='group',values='Fatality_Count',aggfunc='sum',fill_value=0)\n",
    "pivot_Cause_of_death_totals.plot(kind='bar',stacked=True, figsize=(12,8))\n",
    "plt.title('Cause of Deaths per Year', fontsize=16)\n",
    "plt.xlabel(' ')\n",
    "plt.ylabel('Fatalities', fontsize=14)\n",
    "plt.legend(title='Cause of Death')\n",
    "plt.savefig('cause of death per year',bbox_inches = 'tight', transparent=True)\n",
    "plt.show()\n",
    "                                                            "
   ]
  },
  {
   "cell_type": "markdown",
   "id": "06274ecb-b64c-4b09-8797-9312c12ea643",
   "metadata": {},
   "source": [
    "pivot_Cause_of_death_totals=Cause_of_death_totals.pivot_table(index='Year', columns='group',values='Fatality_Count',aggfunc='sum'           "
   ]
  },
  {
   "cell_type": "markdown",
   "id": "328fe5a1-b38c-496d-a689-2c389ab7437c",
   "metadata": {},
   "source": [
    "NOTES:\n",
    "Tuesday am: start getting more statistics and graphs\n",
    "            organize questions according to how I want my presentation to flow\n",
    "        pm: get useable lat and long, vertical, and wifi data for top and bottom comparison\n",
    "            begin to develope point system"
   ]
  },
  {
   "cell_type": "markdown",
   "id": "1d821be7-c02e-477d-9725-79ff52786c04",
   "metadata": {},
   "source": [
    "*****NEED TO GRAPH ABOVE FATALITY AND CAUSE ONLY, THEN FATALITY AND PARK ONLY, THEN FATALITY BY YEAR****\n"
   ]
  },
  {
   "cell_type": "code",
   "execution_count": null,
   "id": "f1f58cda-8b46-4c44-af61-426d7643975b",
   "metadata": {},
   "outputs": [],
   "source": [
    "Cause_of_death_totals.head(1)"
   ]
  },
  {
   "cell_type": "markdown",
   "id": "950a759d-b27f-4996-b5d6-0cdecc680a12",
   "metadata": {},
   "source": [
    "total_deaths_per_year=Cause_of_death_totals.groupby('Year')['Fatality_Count'].sum()\n",
    "Falls_of_deaths_per_year=Cause_of_death_totals.loc[Cause_of_death_totals['group']=='Falls'].groupby('Year')['Fatality_Count'].sum()\n",
    "death_counts=pd.DataFrame({'total deaths':'total_deaths_per_year','falls_deaths':Falls_of_deaths_per_year}).fillna(0)\n",
    "death_counts['percentage_falls']=(death_counts[alls_deaths']/death_counts['total deaths'])*100\n"
   ]
  },
  {
   "cell_type": "code",
   "execution_count": null,
   "id": "c33807f5-086d-4c88-a327-4e98928eee6f",
   "metadata": {},
   "outputs": [],
   "source": [
    "SAR_df=pd.read_csv('data/SAR.csv')\n",
    "SAR_df.head()"
   ]
  },
  {
   "cell_type": "code",
   "execution_count": null,
   "id": "92ea5cca-44ac-49b6-a8ac-72e7744844ca",
   "metadata": {},
   "outputs": [],
   "source": [
    "SAR_df=SAR_df.rename(columns={'Park':'Park Name','Closed-Incident Only':'Closed/Incident Only'})"
   ]
  },
  {
   "cell_type": "code",
   "execution_count": null,
   "id": "bb4cb1ed-ad65-4bb9-8f94-254ea07d21f6",
   "metadata": {
    "scrolled": true
   },
   "outputs": [],
   "source": [
    "List=['Petrified Forest National Park','Big Bend National Park','Carlsbad Caverns National Park','Arches National Park','Guadalupe Mountains National Park','Mesa Verde National Park','Bryce Canyon National Park','White Sands National Park','Great Sand Dunes National Park & Preserve','Glacier National Park','Saguaro National Park','Canyonlands National Park','Rocky Mountain National Park','Yellowstone National Park','Zion National Park','Grand Teton National Park','Grand Canyon National Park','Black Canyon Of The Gunnison National Park',]\n",
    "SAR=SAR_df.loc[SAR_df['Park Name'].isin(List)]\n",
    "SAR.head(15)\n"
   ]
  },
  {
   "cell_type": "markdown",
   "id": "8b7d936b-27f8-4842-a806-ab05074a51c5",
   "metadata": {},
   "source": [
    "SAR STATIISTICAL DATA FOR INCIDENCES IN 15 OF THE 18 IMR NATIONAL PARKS 2007-2023"
   ]
  },
  {
   "cell_type": "code",
   "execution_count": null,
   "id": "4e16f423-1679-4f9e-83d1-f43cb7b8db58",
   "metadata": {},
   "outputs": [],
   "source": [
    "SAR['Incidents'].describe()"
   ]
  },
  {
   "cell_type": "markdown",
   "id": "ef012e53-4df6-43f5-842a-47de710e6b1e",
   "metadata": {},
   "source": [
    "NEED TO CATEGORIZE PARK INTO LOW, MEDIUM, AND HIGH INCIDENT LEVELS\n",
    "CAN I DO THIS BASED ON QUADRANTS"
   ]
  },
  {
   "cell_type": "code",
   "execution_count": null,
   "id": "4cc3e78c-86fd-4698-9bff-31817c27c0b1",
   "metadata": {},
   "outputs": [],
   "source": [
    "sns.boxplot(SAR)\n",
    "plt.xticks(rotation=60);"
   ]
  },
  {
   "cell_type": "code",
   "execution_count": null,
   "id": "4748cf36-5b11-4c5e-ac0d-e81c50441d1f",
   "metadata": {
    "scrolled": true
   },
   "outputs": [],
   "source": [
    "SAR.head()"
   ]
  },
  {
   "cell_type": "code",
   "execution_count": null,
   "id": "0c21f078-8bf4-4a3e-b497-c2d08e1859a7",
   "metadata": {},
   "outputs": [],
   "source": [
    "\n",
    "\n",
    "SAR.plot(kind='bar', x='Park Name', stacked = False, width=1.2 )\n",
    "plt.title('Search and Rescue Incidences:2007-2023')\n",
    "plt.xlabel('Park Name')\n",
    "plt.ylabel('Average number of Incidences')\n",
    "\n",
    "plt.legend(bbox_to_anchor=(1, 1.05), loc='upper left', borderaxespad=2)\n",
    "plt.savefig('SAR incidences per park',bbox_inches = 'tight', transparent=True);\n",
    "plt.show()"
   ]
  },
  {
   "cell_type": "markdown",
   "id": "155123c3-405b-474a-b439-1f2e01a2a22c",
   "metadata": {},
   "source": [
    "pivot_Cause_of_death_totals=Cause_of_death_totals.pivot_table(index='Year', columns='group',values='Fatality_Count',aggfunc='sum',fill_value=0)\n",
    "pivot_Cause_of_death_totals.plot(kind='bar',stacked=True, figsize=(12,8))\n",
    "plt.title('Cause of Death by Year')\n",
    "plt.xlabel('Year')\n",
    "plt.ylabel('Fatality Count')\n",
    "plt.legend(title='Cause of Death')\n",
    "plt.show()"
   ]
  },
  {
   "cell_type": "markdown",
   "id": "5a91ed52-e65f-4107-bd47-3c062c7c9fbf",
   "metadata": {},
   "source": [
    "The below markdown cells have species data which will be analyzed at a later date"
   ]
  },
  {
   "cell_type": "markdown",
   "id": "be13bc13-44c8-4512-8875-471613324501",
   "metadata": {},
   "source": [
    "\n",
    "arches_species=pd.read_csv('data/ArchesNP.Species.csv')\n",
    "arches_species.head(1)"
   ]
  },
  {
   "cell_type": "markdown",
   "id": "16740a36-402a-4323-95de-5039bab82ba7",
   "metadata": {},
   "source": [
    "arches_species=arches_species.drop(columns=['Park Code','Category Sort','Category','Order','Family','Taxon Code','TSN','Taxon Record Status','Scientific Name','Synonyms'])"
   ]
  },
  {
   "cell_type": "markdown",
   "id": "0fce1d1c-ed21-491b-8ac5-95d351ffacac",
   "metadata": {},
   "source": [
    "big_bend_species=pd.read_csv('data/BigBendNP.Species.csv')"
   ]
  },
  {
   "cell_type": "markdown",
   "id": "caf35673-b87d-478e-97d7-155da27caf4b",
   "metadata": {},
   "source": [
    "big_bend_species=big_bend_species.drop(columns=['Park Code','Category Sort','Category','Order','Family','Taxon Code','TSN','Taxon Record Status','Scientific Name','Synonyms'])\n",
    "big_bend_species.head(1)"
   ]
  },
  {
   "cell_type": "markdown",
   "id": "9688ca7d-28e0-45c7-bfae-68739520d344",
   "metadata": {},
   "source": [
    "bryce_canyon_species=pd.read_csv('data/BryceCanyonNP.Species.csv')"
   ]
  },
  {
   "cell_type": "markdown",
   "id": "159e5e3f-fce8-44fc-98e3-a2ced7e3370f",
   "metadata": {},
   "source": [
    "bryce_canyon_species=bryce_canyon_species.drop(columns=['Park Code','Category Sort','Category','Order','Family','Taxon Code','TSN','Taxon Record Status','Scientific Name','Synonyms'])\n",
    "bryce_canyon_species.head(1)"
   ]
  },
  {
   "cell_type": "markdown",
   "id": "f6b8ca59-106d-4ade-9741-9aa9f0911fb1",
   "metadata": {},
   "source": [
    "canyonlands_species=pd.read_csv('data/CanyonlandsNP.Species.csv')"
   ]
  },
  {
   "cell_type": "markdown",
   "id": "6c4561ff-e531-4332-ae3e-3f1d44402ebc",
   "metadata": {},
   "source": [
    "canyonlands_species=canyonlands_species.drop(columns=['Park Code','Category Sort','Category','Order','Family','Taxon Code','TSN','Taxon Record Status','Scientific Name','Synonyms'])\n",
    "canyonlands_species.head(1)"
   ]
  },
  {
   "cell_type": "markdown",
   "id": "61072969-9298-47d1-bd55-9cb2675e8f96",
   "metadata": {},
   "source": [
    "carlsbad_caverns_species=pd.read_csv('data/CarlsbadCavernsNP.Species.csv')"
   ]
  },
  {
   "cell_type": "markdown",
   "id": "78e1d6fb-bc6f-4748-90ca-e086cfff1c1e",
   "metadata": {},
   "source": [
    "carlsbad_caverns_species=carlsbad_caverns_species.drop(columns=['Park Code','Category Sort','Category','Order','Family','Taxon Code','TSN','Taxon Record Status','Scientific Name','Synonyms'])\n",
    "carlsbad_caverns_species.head(1)"
   ]
  },
  {
   "cell_type": "markdown",
   "id": "ccadc2d5-228d-46bd-bdda-de82af36b62d",
   "metadata": {},
   "source": [
    "grand_teton_species=pd.read_csv('data/GrandTetonNP.Species.csv')"
   ]
  },
  {
   "cell_type": "markdown",
   "id": "44caa06f-f41e-4a6a-bfd1-8c96b69f769e",
   "metadata": {},
   "source": [
    "grand_teton_species=grand_teton_species.drop(columns=['Park Code','Category Sort','Category','Order','Family','Taxon Code','TSN','Taxon Record Status','Scientific Name','Synonyms'])\n",
    "grand_teton_species.head(1)"
   ]
  },
  {
   "cell_type": "markdown",
   "id": "f7cbff41-4427-4d30-ad72-33368fb72577",
   "metadata": {},
   "source": [
    "guadalupe_species=pd.read_csv('data/GuadalupeNP.Species.csv')"
   ]
  },
  {
   "cell_type": "markdown",
   "id": "6df000c9-0279-49f5-97f8-6b3fcc5eace7",
   "metadata": {},
   "source": [
    "guadalupe_species=guadalupe_species.drop(columns=['Park Code','Category Sort','Category','Order','Family','Taxon Code','TSN','Taxon Record Status','Scientific Name','Synonyms'])\n",
    "guadalupe_species.head(1)"
   ]
  },
  {
   "cell_type": "markdown",
   "id": "3df17d1d-5846-4e87-bb87-f3b4ba8214e5",
   "metadata": {},
   "source": [
    "glacier_species=pd.read_csv('data/GlacierNP.Species.csv')"
   ]
  },
  {
   "cell_type": "markdown",
   "id": "99261edf-bbb3-4d20-8112-33b6e0040df7",
   "metadata": {},
   "source": [
    "glacier_species=glacier_species.drop(columns=['Park Code','Category Sort','Category','Order','Family','Taxon Code','TSN','Taxon Record Status','Scientific Name','Synonyms'])\n",
    "glacier_species.head(1)"
   ]
  },
  {
   "cell_type": "markdown",
   "id": "fcf906c0-073e-45ff-a1a2-28a2aceb7557",
   "metadata": {},
   "source": [
    "zion_species=pd.read_csv('data/ZionNP.Species.csv')"
   ]
  },
  {
   "cell_type": "markdown",
   "id": "d3090424-281a-48f8-b3da-653a8b0f9f69",
   "metadata": {},
   "source": [
    "zion_species=zion_species.drop(columns=['Park Code','Category Sort','Category','Order','Family','Taxon Code','TSN','Taxon Record Status','Scientific Name','Synonyms'])\n",
    "zion_species.head(1)"
   ]
  },
  {
   "cell_type": "markdown",
   "id": "8e1228bd-b87c-4e9e-9d8c-1ab1d3de769e",
   "metadata": {},
   "source": [
    "great_sand_dunes_species=pd.read_csv('data/GreatSandDunesNP.Species.csv')"
   ]
  },
  {
   "cell_type": "markdown",
   "id": "1020a80f-c93d-4d2b-ab73-8936e969a776",
   "metadata": {},
   "source": [
    "great_sand_dunes_species=great_sand_dunes_species.drop(columns=['Park Code','Category Sort','Category','Order','Family','Taxon Code','TSN','Taxon Record Status','Scientific Name','Synonyms'])\n",
    "great_sand_dunes_species.head(1)"
   ]
  },
  {
   "cell_type": "markdown",
   "id": "e2e2d2bc-d1e5-47b5-9ed5-2134e8ce3625",
   "metadata": {},
   "source": [
    "yellowstone_species=pd.read_csv('data/YellowstoneNP.Species.csv')"
   ]
  },
  {
   "cell_type": "markdown",
   "id": "48dccee5-06c5-41cb-8c9f-58fb964540ff",
   "metadata": {},
   "source": [
    "yellowstone_species=yellowstone_species.drop(columns=['Park Code','Category Sort','Category','Order','Family','Taxon Code','TSN','Taxon Record Status','Scientific Name','Synonyms'])\n",
    "yellowstone_species.head(1)"
   ]
  },
  {
   "cell_type": "markdown",
   "id": "ad0db3b6-e423-4f60-a387-2a0091a7fddd",
   "metadata": {},
   "source": [
    "white_sands_species=pd.read_csv('data/WhiteSandsNP.Species.csv')"
   ]
  },
  {
   "cell_type": "markdown",
   "id": "41b64606-3100-47db-aefe-94cb7f552364",
   "metadata": {},
   "source": [
    "white_sands_species=white_sands_species.drop(columns=['Park Code','Category Sort','Category','Order','Family','Taxon Code','TSN','Taxon Record Status','Scientific Name','Synonyms'])\n",
    "white_sands_species.head(1)"
   ]
  },
  {
   "cell_type": "markdown",
   "id": "44137f8d-bc52-430c-a523-bc5c20614a52",
   "metadata": {},
   "source": [
    "mesa_verde_species=pd.read_csv('data/MesaVerdeNP.Species.csv', encoding='latin1')"
   ]
  },
  {
   "cell_type": "markdown",
   "id": "7c2ad15f-c975-4990-b541-19ece21207f5",
   "metadata": {},
   "source": [
    "mesa_verde_species=mesa_verde_species.drop(columns=['Park Code','Category Sort','Category','Order','Family','Taxon Code','TSN','Taxon Record Status','Scientific Name','Synonyms'])\n",
    "mesa_verde_species.head(1)"
   ]
  },
  {
   "cell_type": "markdown",
   "id": "daf361b7-1bae-4ba0-9bf7-fa930592893b",
   "metadata": {},
   "source": [
    "rocky_mountain_species=pd.read_csv('data/RockyMountainNP.Species.csv', encoding='latin1')"
   ]
  },
  {
   "cell_type": "markdown",
   "id": "61f610a8-90fd-4ca4-8139-ffc00acdff39",
   "metadata": {},
   "source": [
    "rocky_mountain_species=rocky_mountain_species.drop(columns=['Park Code','Category Sort','Category','Order','Family','Taxon Code','TSN','Taxon Record Status','Scientific Name','Synonyms'])\n",
    "rocky_mountain_species.head(1)"
   ]
  },
  {
   "cell_type": "markdown",
   "id": "f6f9b835-e804-406a-9e16-8caecf7de59e",
   "metadata": {},
   "source": [
    "petrified_forest_species=pd.read_csv('data/PetrifiedForest.NP.Species.csv', encoding='latin1')"
   ]
  },
  {
   "cell_type": "markdown",
   "id": "adc26a2c-82da-4c49-bf7a-d2c38298bfe0",
   "metadata": {},
   "source": [
    "petrified_forest_species=petrified_forest_species.drop(columns=['Park Code','Category Sort','Category','Order','Family','Taxon Code','TSN','Taxon Record Status','Scientific Name','Synonyms'])\n",
    "petrified_forest_species.head(1)"
   ]
  },
  {
   "cell_type": "markdown",
   "id": "bc81fcad-9f03-4bf9-9b5f-740f3cd8387e",
   "metadata": {},
   "source": [
    "saguaro_species=pd.read_csv('data/SaguaroNP.Species.csv')"
   ]
  },
  {
   "cell_type": "markdown",
   "id": "24dee8a2-698f-48a6-a88c-e23d92ea03c6",
   "metadata": {},
   "source": [
    "saguaro_species=saguaro_species.drop(columns=['Park Code','Category Sort','Category','Order','Family','Taxon Code','TSN','Taxon Record Status','Scientific Name','Synonyms'])\n",
    "saguaro_species.head(1)"
   ]
  },
  {
   "cell_type": "markdown",
   "id": "fba59b8c-e664-4e7d-976a-e15075b03b9d",
   "metadata": {},
   "source": [
    "grand_canyon_species=pd.read_csv('data/GrandCanyonNP.Species.csv', encoding='latin1')"
   ]
  },
  {
   "cell_type": "markdown",
   "id": "b44785ea-5377-40f9-bc13-97dc5fd1d2af",
   "metadata": {},
   "source": [
    "grand_canyon_species=grand_canyon_species.drop(columns=['Park Code','Category Sort','Category','Order','Family','Taxon Code','TSN','Taxon Record Status','Scientific Name','Synonyms'])\n",
    "grand_canyon_species.head(1)"
   ]
  },
  {
   "cell_type": "markdown",
   "id": "52de0a9e-8aee-4c31-b627-a1c64a86612c",
   "metadata": {},
   "source": [
    "grand_canyon_species.info()"
   ]
  },
  {
   "cell_type": "markdown",
   "id": "d3520f2f-0f5b-4b5e-bb63-152ce678ee09",
   "metadata": {},
   "source": [
    "black_canyon_species=pd.read_csv('data/BlackCanyonNP.Species.csv',encoding='latin1')"
   ]
  },
  {
   "cell_type": "markdown",
   "id": "8468a6cb-b7ca-411e-9dff-8ce7ab6c68c0",
   "metadata": {},
   "source": [
    "black_canyon_species=black_canyon_species.drop(columns=['Park Code','Category Sort','Category','Order','Family','Taxon Code','TSN','Taxon Record Status','Scientific Name','Synonyms'])\n",
    "black_canyon_species.head(1)"
   ]
  },
  {
   "cell_type": "markdown",
   "id": "ff44a4df-b5f2-4832-b66d-e97b2b32dca9",
   "metadata": {},
   "source": [
    "black_canyon_species.info()"
   ]
  },
  {
   "cell_type": "markdown",
   "id": "3b3bb8a3-a626-46d7-8425-8ce5ce793295",
   "metadata": {},
   "source": [
    "species=pd.concat([black_canyon_species,grand_canyon_species,saguaro_species,petrified_forest_species,rocky_mountain_species,mesa_verde_species])\n",
    "species.head(1)"
   ]
  },
  {
   "cell_type": "markdown",
   "id": "6a905df2-ae3b-4fc3-8396-87a3eef34dcf",
   "metadata": {},
   "source": [
    "species_data=pd.concat([species,white_sands_species,great_sand_dunes_species,yellowstone_species,guadalupe_species,glacier_species,zion_species,\n",
    "                        grand_teton_species,carlsbad_caverns_species, canyonlands_species,bryce_canyon_species,big_bend_species,arches_species])"
   ]
  },
  {
   "cell_type": "markdown",
   "id": "fcda260b-0178-4f30-9d42-f61a5cb16f5e",
   "metadata": {},
   "source": [
    "species_data"
   ]
  },
  {
   "cell_type": "markdown",
   "id": "a72aab72-087b-4f6e-a840-af272dccff87",
   "metadata": {},
   "source": [
    "species_data.groupby('Park Name')['Common Names'].value_counts()"
   ]
  },
  {
   "cell_type": "markdown",
   "id": "a1588f4d-24a6-4630-995d-bc8fc6ad573a",
   "metadata": {},
   "source": [
    "species_data.groupby('Common Names')['Occurrence'].value_counts()"
   ]
  },
  {
   "cell_type": "markdown",
   "id": "4aa69f96-e363-4859-bca2-928431fec4a5",
   "metadata": {},
   "source": [
    "species_data['Occurrence'].unique()"
   ]
  },
  {
   "cell_type": "markdown",
   "id": "2826b72a-e3d4-4f00-8373-b7b603287f02",
   "metadata": {},
   "source": [
    "species_data['Common Names'].unique()"
   ]
  },
  {
   "cell_type": "markdown",
   "id": "ec4d3f8a-5fc4-4ff6-bc54-a27f299c27cc",
   "metadata": {},
   "source": [
    "COMPARING TOP AND BOTTOM PARKS IN DETAIL"
   ]
  },
  {
   "cell_type": "code",
   "execution_count": null,
   "id": "3d059e5a-e86f-4e6e-b4c1-4beada7e45ae",
   "metadata": {},
   "outputs": [],
   "source": [
    "Top_and_bottom_for_fatalities=Top_and_bottom_for_fatalities.sort_values('Fatalities_per_million',ascending=False)\n",
    "Top_and_bottom_for_fatalities.head(1)"
   ]
  },
  {
   "cell_type": "code",
   "execution_count": null,
   "id": "8526d180-5c15-4e1d-8b7e-cb4ec816d3c5",
   "metadata": {},
   "outputs": [],
   "source": [
    "Visitors_Fatality_merge.head(1)"
   ]
  },
  {
   "cell_type": "code",
   "execution_count": null,
   "id": "8d625862-dedf-4fda-9814-287c1e93dfac",
   "metadata": {},
   "outputs": [],
   "source": []
  },
  {
   "cell_type": "code",
   "execution_count": null,
   "id": "16445d58-2aba-41f7-95dd-8b578dc7edbd",
   "metadata": {},
   "outputs": [],
   "source": [
    "SAR.head(1)"
   ]
  },
  {
   "cell_type": "code",
   "execution_count": null,
   "id": "4fd72777-676a-4994-a75a-e5005ea37e5e",
   "metadata": {},
   "outputs": [],
   "source": [
    "Cause_of_death_totals.head(1)"
   ]
  },
  {
   "cell_type": "code",
   "execution_count": null,
   "id": "ea33e38a-2cd2-45d1-977a-78bc14795a42",
   "metadata": {},
   "outputs": [],
   "source": [
    "pivot_Deaths_per_age.reset_index().head(10)"
   ]
  },
  {
   "cell_type": "code",
   "execution_count": null,
   "id": "4e2bb079-9ad6-4f2e-9828-be6d82df222f",
   "metadata": {},
   "outputs": [],
   "source": [
    "merge1_df=pd.merge(Cause_of_death_totals, SAR, left_on='Park Name', right_on='Park Name', how='left')\n",
    "merge1_df.head(1)"
   ]
  },
  {
   "cell_type": "code",
   "execution_count": null,
   "id": "f1109bec-aa07-43ec-817e-eb95a87d6ea2",
   "metadata": {},
   "outputs": [],
   "source": [
    "Visitors_Fatality_merge.head(1)"
   ]
  },
  {
   "cell_type": "code",
   "execution_count": null,
   "id": "2581e710-ad72-4091-b5a1-4dd1601b79df",
   "metadata": {},
   "outputs": [],
   "source": [
    "Visitors_Fatality_merge['Cause of Death']=Visitors_Fatality_merge['Cause of Death'].str.replace('Aircraft Incident ','Aircraft Incident')"
   ]
  },
  {
   "cell_type": "code",
   "execution_count": null,
   "id": "da27cae7-5607-484b-8e7e-00a96e51ff8b",
   "metadata": {},
   "outputs": [],
   "source": [
    "Visitors_Fatality_merge['Cause of Death']=Visitors_Fatality_merge['Cause of Death'].str.replace('Poisoning - Carbon Monoxide','Poisoning')"
   ]
  },
  {
   "cell_type": "code",
   "execution_count": null,
   "id": "9860fe90-3407-464d-a34e-7fff2e399df2",
   "metadata": {},
   "outputs": [],
   "source": [
    "Visitors_Fatality_merge['Cause of Death']=Visitors_Fatality_merge['Cause of Death'].str.replace('Poisoning - Alcohol','Poisoning')"
   ]
  },
  {
   "cell_type": "code",
   "execution_count": null,
   "id": "4d85ad6b-b6be-439a-8d07-b472c0641cee",
   "metadata": {},
   "outputs": [],
   "source": [
    "Visitors_Fatality_merge['Cause of Death']=Visitors_Fatality_merge['Cause of Death'].str.replace('Poisoning - Drugs','Poisoning')"
   ]
  },
  {
   "cell_type": "code",
   "execution_count": null,
   "id": "7645902d-2396-4c74-831c-ab723ad89c76",
   "metadata": {},
   "outputs": [],
   "source": [
    "Visitors_Fatality_merge['Cause of Death']=Visitors_Fatality_merge['Cause of Death'].str.replace('Skiing Incident','Winter Sports')"
   ]
  },
  {
   "cell_type": "code",
   "execution_count": null,
   "id": "450b5468-9a0f-4889-b6fd-7416a035c76e",
   "metadata": {},
   "outputs": [],
   "source": [
    "Visitors_Fatality_merge['Cause of Death']=Visitors_Fatality_merge['Cause of Death'].str.replace('Snowboard Incident','Winter Sports')"
   ]
  },
  {
   "cell_type": "code",
   "execution_count": null,
   "id": "3bc473a2-7888-496b-9198-6e96771ece78",
   "metadata": {},
   "outputs": [],
   "source": [
    "Visitors_Fatality_merge['Cause of Death']=Visitors_Fatality_merge['Cause of Death'].str.replace('Asphyxiation','Medical')"
   ]
  },
  {
   "cell_type": "code",
   "execution_count": null,
   "id": "d8bc94ea-2805-439e-abbe-6210668f894b",
   "metadata": {},
   "outputs": [],
   "source": [
    "Visitors_Fatality_merge['Cause of Death']=Visitors_Fatality_merge['Cause of Death'].str.replace('Medical - Not During Physical Activity','Medical')"
   ]
  },
  {
   "cell_type": "code",
   "execution_count": null,
   "id": "6586110f-fd66-42d8-b0a1-9e4d53335e03",
   "metadata": {},
   "outputs": [],
   "source": [
    "Visitors_Fatality_merge['Cause of Death']=Visitors_Fatality_merge['Cause of Death'].str.replace('Medical - During Physical Activity','Medical')"
   ]
  },
  {
   "cell_type": "code",
   "execution_count": null,
   "id": "1107cca1-e6ab-4e9b-90d6-84421789c046",
   "metadata": {},
   "outputs": [],
   "source": [
    "Visitors_Fatality_merge['Cause of Death']=Visitors_Fatality_merge['Cause of Death'].str.replace('Medical - Unknown','Medical')"
   ]
  },
  {
   "cell_type": "code",
   "execution_count": null,
   "id": "cf045679-b0fd-465e-91be-5bc282b95053",
   "metadata": {},
   "outputs": [],
   "source": [
    "merge2_df=pd.merge(Visitors_Fatality_merge, merge1_df, left_on=['Park Name','Cause of Death','Year','Fatality_Count'],\n",
    "                   right_on=['Park Name','Cause of Death','Year','Fatality_Count'], how='left')"
   ]
  },
  {
   "cell_type": "code",
   "execution_count": null,
   "id": "cb9cbc81-6321-45f2-92f5-08b1d151a205",
   "metadata": {},
   "outputs": [],
   "source": [
    "merge2_df.head()"
   ]
  },
  {
   "cell_type": "code",
   "execution_count": null,
   "id": "8f499c29-6e56-4796-ae56-683b2f3e9fcd",
   "metadata": {},
   "outputs": [],
   "source": [
    "merge2_df['Cause of Death']=merge2_df['Cause of Death'].str.replace('Medical - Unknown','Medical')"
   ]
  },
  {
   "cell_type": "code",
   "execution_count": null,
   "id": "979f08cd-8c14-4041-aa70-8da46cb412b0",
   "metadata": {},
   "outputs": [],
   "source": [
    "merge2_df['Cause of Death'].unique()"
   ]
  },
  {
   "cell_type": "code",
   "execution_count": null,
   "id": "f9d79e96-a306-4b19-8c7d-cc4f664b8d95",
   "metadata": {},
   "outputs": [],
   "source": [
    "merge2_df=merge2_df.drop(columns=['Outcome', 'Activity','Intent']).rename(columns={'Fatality_Count':'Fatality Count','Fatalities_per_million':\n",
    "                                                                        'Fatalities per Million'})"
   ]
  },
  {
   "cell_type": "code",
   "execution_count": null,
   "id": "418e4376-e45b-47fe-9bb6-a32ef2d5d378",
   "metadata": {},
   "outputs": [],
   "source": [
    "List=['Grand Canyon National Park','Big Bend National Park','Carlsbad Caverns National Park','Black Canyon Of The Gunnison National Park','Canyonlands National Park',\n",
    "'Guadalupe Mountains National Park','Mesa Verde National Park','Great Sand Dunes National Park & Preserve','Petrified Forest National Park','Bryce Canyon National Park']\n",
    "merge2_df=merge2_df.loc[merge2_df['Park Name'].isin(List)]"
   ]
  },
  {
   "cell_type": "code",
   "execution_count": null,
   "id": "724ca823-ffe9-467f-b4ac-1f494492e528",
   "metadata": {},
   "outputs": [],
   "source": [
    "merge2_df=merge2_df.drop(columns=['Open Cases','Closed/Incident Only','Closed: Found','Closed: Not found'])"
   ]
  },
  {
   "cell_type": "code",
   "execution_count": null,
   "id": "a5f5f281-6b36-4383-8ea9-824ecc79d1ec",
   "metadata": {},
   "outputs": [],
   "source": [
    "url='https://en.wikipedia.org/wiki/List_of_national_parks_of_the_United_States_by_elevation'"
   ]
  },
  {
   "cell_type": "code",
   "execution_count": null,
   "id": "554b8c05-5637-42da-802d-12897a544278",
   "metadata": {},
   "outputs": [],
   "source": [
    "import requests\n",
    "from bs4 import BeautifulSoup as BS"
   ]
  },
  {
   "cell_type": "code",
   "execution_count": null,
   "id": "45983da3-3ca2-4fa8-9a95-10aa0492edef",
   "metadata": {},
   "outputs": [],
   "source": [
    "response=requests.get(url)"
   ]
  },
  {
   "cell_type": "code",
   "execution_count": null,
   "id": "e3790502-286b-4f5c-bc76-2de86117b1ef",
   "metadata": {},
   "outputs": [],
   "source": [
    "soup=BS(response.text)"
   ]
  },
  {
   "cell_type": "code",
   "execution_count": null,
   "id": "18363a28-3f2b-4458-8370-87e359a7c7de",
   "metadata": {},
   "outputs": [],
   "source": [
    "elevation_df=pd.read_html(str(soup.find('table')))[0]"
   ]
  },
  {
   "cell_type": "code",
   "execution_count": null,
   "id": "8a666cc6-cace-4491-ac4d-f9f56efa62f1",
   "metadata": {},
   "outputs": [],
   "source": [
    "elevation_df=elevation_df.drop(columns=['Rank','Location','Mountain range','Location of lowest point']).rename(columns={'Park':'Park Name'})"
   ]
  },
  {
   "cell_type": "code",
   "execution_count": null,
   "id": "0df0e128-9287-4e1b-af34-79d306926ae0",
   "metadata": {},
   "outputs": [],
   "source": [
    "elevation_df['Park Name'].unique()"
   ]
  },
  {
   "cell_type": "code",
   "execution_count": null,
   "id": "39fb697c-a884-4497-8b57-c9558e09d8e7",
   "metadata": {},
   "outputs": [],
   "source": [
    "elevation_df['Park Name']=elevation_df['Park Name'].str.replace('Guadalupe Mountains','Guadalupe Mountains National Park')"
   ]
  },
  {
   "cell_type": "code",
   "execution_count": null,
   "id": "06250709-b0cb-442b-a3ca-eeb58a2d5ae4",
   "metadata": {},
   "outputs": [],
   "source": [
    "elevation_df['Park Name']=elevation_df['Park Name'].str.replace('Mesa Verde','Mesa Verde National Park')"
   ]
  },
  {
   "cell_type": "code",
   "execution_count": null,
   "id": "8e6f65ec-31a1-4f27-825a-3fdc116f3f5b",
   "metadata": {},
   "outputs": [],
   "source": [
    "elevation_df['Park Name']=elevation_df['Park Name'].str.replace('Big Bend','Big Bend National Park')"
   ]
  },
  {
   "cell_type": "code",
   "execution_count": null,
   "id": "245f74d8-d907-4b60-9a02-dbfa65879ea3",
   "metadata": {},
   "outputs": [],
   "source": [
    "elevation_df['Park Name']=elevation_df['Park Name'].str.replace('Canyonlands','Canyonlands National Park')"
   ]
  },
  {
   "cell_type": "code",
   "execution_count": null,
   "id": "5407ec6a-8558-4f25-9e1f-2971a5b95cd3",
   "metadata": {},
   "outputs": [],
   "source": [
    "elevation_df['Park Name']=elevation_df['Park Name'].str.replace('Carlsbad Caverns','Carlsbad Caverns National Park')"
   ]
  },
  {
   "cell_type": "code",
   "execution_count": null,
   "id": "8d54b881-69b8-42fd-affc-1f3369d0c03b",
   "metadata": {},
   "outputs": [],
   "source": [
    "elevation_df['Park Name']=elevation_df['Park Name'].str.replace('Petrified Forest','Petrified Forest National Park')"
   ]
  },
  {
   "cell_type": "code",
   "execution_count": null,
   "id": "f1dd15ca-a18e-400e-9bd0-4f6dc5e65bdd",
   "metadata": {},
   "outputs": [],
   "source": [
    "elevation_df['Park Name']=elevation_df['Park Name'].str.replace('Black Canyon of the Gunnison','Black Canyon Of The Gunnison National Park')"
   ]
  },
  {
   "cell_type": "code",
   "execution_count": null,
   "id": "1c08e070-0a3b-4fe7-a90d-c6f98763145b",
   "metadata": {},
   "outputs": [],
   "source": [
    "elevation_df['Park Name']=elevation_df['Park Name'].str.replace('Grand Canyon','Grand Canyon National Park')"
   ]
  },
  {
   "cell_type": "code",
   "execution_count": null,
   "id": "9824b1f1-123a-4e2e-8af8-23d71d9cbbc9",
   "metadata": {},
   "outputs": [],
   "source": [
    "elevation_df['Park Name']=elevation_df['Park Name'].str.replace('Great Sand Dunes','Great Sand Dunes National Park & Preserve')"
   ]
  },
  {
   "cell_type": "code",
   "execution_count": null,
   "id": "eeadf66c-2ec1-4a37-b094-4ec4cfafc584",
   "metadata": {},
   "outputs": [],
   "source": [
    "elevation_df['Park Name']=elevation_df['Park Name'].str.replace('Bryce Canyon','Bryce Canyon National Park')"
   ]
  },
  {
   "cell_type": "code",
   "execution_count": null,
   "id": "67aba09b-a6fb-4901-a396-4b92e38efa6b",
   "metadata": {},
   "outputs": [],
   "source": [
    "MyList=['Grand Canyon National Park','Big Bend National Park','Carlsbad Caverns National Park','Black Canyon Of The Gunnison National Park','Canyonlands National Park',\n",
    "'Guadalupe Mountains National Park','Mesa Verde National Park','Great Sand Dunes National Park & Preserve','Petrified Forest National Park','Bryce Canyon National Park']\n",
    "elevation_df=elevation_df.loc[elevation_df['Park Name'].isin(MyList)]"
   ]
  },
  {
   "cell_type": "code",
   "execution_count": null,
   "id": "5537f8af-0194-4fec-9c71-20a382b59b2a",
   "metadata": {},
   "outputs": [],
   "source": [
    "elevation_df.sort_values(by= 'Elevation', ascending=False).head(10)"
   ]
  },
  {
   "cell_type": "code",
   "execution_count": null,
   "id": "bbf509eb-0cdf-432f-a161-61cb8f900e63",
   "metadata": {},
   "outputs": [],
   "source": [
    "elevation2_df=elevation_df.drop(columns=['Peak name','Vertical relief'])"
   ]
  },
  {
   "cell_type": "code",
   "execution_count": null,
   "id": "db0ff0ae-e1f9-4d36-9a0a-855e2680d4e6",
   "metadata": {},
   "outputs": [],
   "source": [
    "merge2_df.head(1)"
   ]
  },
  {
   "cell_type": "code",
   "execution_count": null,
   "id": "683de69a-258f-4cac-be1e-a0f7457721e7",
   "metadata": {},
   "outputs": [],
   "source": [
    "full_df=pd.merge(merge2_df,elevation2_df, left_on='Park Name', right_on='Park Name', how='left')\n"
   ]
  },
  {
   "cell_type": "code",
   "execution_count": null,
   "id": "a5fc9714-1fda-43af-b7ef-532d59a711bd",
   "metadata": {},
   "outputs": [],
   "source": [
    "Cause_of_death_totals.head(5)"
   ]
  },
  {
   "cell_type": "code",
   "execution_count": null,
   "id": "953cea2c-f680-49d8-85b1-f91a0a9f136d",
   "metadata": {},
   "outputs": [],
   "source": [
    "Cause_of_death_totals['Cause of Death'].value_counts().sum()"
   ]
  },
  {
   "cell_type": "code",
   "execution_count": null,
   "id": "0803e9c8-32a7-4fb6-9559-576957d8ed27",
   "metadata": {},
   "outputs": [],
   "source": [
    "full_df.head(1)"
   ]
  },
  {
   "cell_type": "code",
   "execution_count": null,
   "id": "ff62294e-ce8f-4cfb-9eee-b10dc4fa962a",
   "metadata": {},
   "outputs": [],
   "source": [
    "full_df['Elevation']=full_df['Elevation'].str[:-15]"
   ]
  },
  {
   "cell_type": "code",
   "execution_count": null,
   "id": "69b10625-e5c5-463a-8891-550561a82870",
   "metadata": {},
   "outputs": [],
   "source": [
    "full_df['Minimum Elevation']=full_df['Minimum elevation'].str[:-12]"
   ]
  },
  {
   "cell_type": "code",
   "execution_count": null,
   "id": "689629c6-6e65-4c48-a93b-6ed26dcefab5",
   "metadata": {},
   "outputs": [],
   "source": [
    "full_df=full_df.rename(columns={'Elevation':'Elevation ft.','Minimum elevation':'Minimum Elevation ft.'})"
   ]
  },
  {
   "cell_type": "code",
   "execution_count": null,
   "id": "cac92c2e-d0a0-4cd9-8835-f9ec1892772f",
   "metadata": {},
   "outputs": [],
   "source": [
    "Parkdeaths_per_age=full_df.groupby('Park Name')['Age Range'].value_counts().reset_index()"
   ]
  },
  {
   "cell_type": "code",
   "execution_count": null,
   "id": "b665144a-47a0-4543-b59a-d3c2190d22d2",
   "metadata": {},
   "outputs": [],
   "source": [
    "Big_Bend_df=full_df.loc[full_df['Park Name']=='Big Bend National Park']"
   ]
  },
  {
   "cell_type": "code",
   "execution_count": null,
   "id": "7b9f5bcb-9158-4969-a895-29ac631a833a",
   "metadata": {},
   "outputs": [],
   "source": [
    "Big_Bend_df['Cause of Death'].value_counts().reset_index()"
   ]
  },
  {
   "cell_type": "code",
   "execution_count": null,
   "id": "f10ea14f-1ef8-44ab-86a8-6708ee602290",
   "metadata": {},
   "outputs": [],
   "source": [
    "import matplotlib.colors as mcolors"
   ]
  },
  {
   "cell_type": "code",
   "execution_count": null,
   "id": "aa3d939c-6589-43c3-b963-44f11ca04e1c",
   "metadata": {},
   "outputs": [],
   "source": [
    "\n",
    "Big_Bend_df['Cause of Death'].value_counts().plot(kind='barh', color='darkgreen')\n",
    "plt.title('Big Bend NP',fontsize=16)\n",
    "plt.ylabel('Cause of Death', fontsize=14)\n",
    "plt.xlabel('Number of Deaths', fontsize=14)\n",
    "plt.savefig('Big Bend deaths per cause2',bbox_inches = 'tight', transparent=True)"
   ]
  },
  {
   "cell_type": "code",
   "execution_count": null,
   "id": "40ae4094-4a3c-4840-a12f-644738b8660a",
   "metadata": {},
   "outputs": [],
   "source": [
    "Grand_Canyon_National_Park_df=full_df.loc[full_df['Park Name']=='Grand Canyon National Park']"
   ]
  },
  {
   "cell_type": "code",
   "execution_count": null,
   "id": "0a88b1e6-121b-4cb5-949f-b67978d995b8",
   "metadata": {},
   "outputs": [],
   "source": [
    "Grand_Canyon_National_Park_df['Cause of Death'].value_counts()"
   ]
  },
  {
   "cell_type": "code",
   "execution_count": null,
   "id": "f0ef53a5-6167-437e-b2ff-bdfd0b3be7a0",
   "metadata": {},
   "outputs": [],
   "source": [
    "Grand_Canyon_National_Park_df['Cause of Death'].value_counts().plot(kind='barh', color='darkblue')\n",
    "plt.title('Grand Canyon National Park', fontsize=16)\n",
    "plt.ylabel('Cause of Death', fontsize=14)\n",
    "plt.xlabel('Number of Deaths', fontsize=14)\n",
    "plt.savefig('deaths per cause',bbox_inches = 'tight', transparent=True)"
   ]
  },
  {
   "cell_type": "code",
   "execution_count": null,
   "id": "931b8691-ae08-4fef-8dc7-e31e6ce54d4b",
   "metadata": {},
   "outputs": [],
   "source": [
    "grouped=full_df.groupby(['Park Name','Cause of Death'])[['Fatality Count']].sum()\n",
    "grouped=grouped.reset_index()\n",
    "top_cause_per_park=grouped.sort_values(by=['Park Name','Fatality Count'],ascending=[True,False]).drop_duplicates(subset=['Park Name'])\n",
    "top_cause_per_park.head()"
   ]
  },
  {
   "cell_type": "markdown",
   "id": "da2b5f1f-cc21-408e-832e-3d0bae0e8807",
   "metadata": {},
   "source": [
    "grouped.head()"
   ]
  },
  {
   "cell_type": "code",
   "execution_count": null,
   "id": "3fe6ab23-da10-4f0f-8297-e2d59e8d9287",
   "metadata": {},
   "outputs": [],
   "source": [
    "full_df['Fatalities per Million'] = (full_df['Fatality Count'] / full_df['Visitors']) * 1e6\n",
    "grouped = full_df.groupby(['Park Name', 'Cause of Death'])[['Fatalities per Million']].sum() \n",
    "grouped = grouped.reset_index()\n",
    "grouped.head()"
   ]
  },
  {
   "cell_type": "code",
   "execution_count": null,
   "id": "4fb0a6e1-4d23-4fb6-8f79-3785541588cd",
   "metadata": {},
   "outputs": [],
   "source": [
    "top_cause_per_park = grouped.sort_values(by=['Park Name', 'Fatalities per Million'], ascending=[True, False])\n",
    "top_cause_per_park = top_cause_per_park.drop_duplicates(subset=['Park Name'])\n",
    "top_cause_per_park.head(10)"
   ]
  },
  {
   "cell_type": "code",
   "execution_count": null,
   "id": "bf1f1a85-6ccc-4aeb-abe0-a76b46f74030",
   "metadata": {},
   "outputs": [],
   "source": [
    "full_df.head()"
   ]
  },
  {
   "cell_type": "code",
   "execution_count": null,
   "id": "3c534d6e-3431-46a1-9c55-866891a177a8",
   "metadata": {},
   "outputs": [],
   "source": [
    "top_cause_per_park2=pd.merge(top_cause_per_park, full_df, left_on=['Park Name', 'Fatalities per Million', 'Cause of Death'],  right_on=['Park Name', 'Fatalities per Million', 'Cause of Death'])\n",
    "top_cause_per_park2.drop(columns=['Minimum Elevation ft.','Minimum Elevation','Fatality Count','Visitors','group','Incidents'])\n",
    "top_cause_per_park2.head(10)"
   ]
  },
  {
   "cell_type": "code",
   "execution_count": null,
   "id": "74dc07e1-9ae5-405e-a4c0-fd9c976f17e5",
   "metadata": {},
   "outputs": [],
   "source": [
    "top_5_parks=full_df.groupby('Park Name')[['Fatalities per Million']].sum().sort_values(by='Fatalities per Million', ascending=False).head(5).index\n",
    "filtered_df=full_df[full_df['Park Name'].isin(top_5_parks)]\n",
    "cause_of_death_totals=filtered_df.groupby('Cause of Death')[['Fatality Count']].sum()\n",
    "top_5_causes=cause_of_death_totals.sort_values(by='Fatality Count',ascending=False).head(5)\n",
    "top_5_causes.head(5)\n"
   ]
  },
  {
   "cell_type": "code",
   "execution_count": null,
   "id": "77624891-62b0-4632-9448-77eb3348fb68",
   "metadata": {},
   "outputs": [],
   "source": [
    "full_df.info()"
   ]
  },
  {
   "cell_type": "code",
   "execution_count": null,
   "id": "a261dd0b-2008-4b0b-a00d-dd809bc6599f",
   "metadata": {},
   "outputs": [],
   "source": [
    "sns.relplot(x='Year', y='count', data=full_df['Year'].value_counts().reset_index(), kind='line', linewidth=2.5, color='darkgreen')\n",
    "plt.ylim(0)\n",
    "plt.savefig('fatalities per year',bbox_inches = 'tight', transparent=True);"
   ]
  },
  {
   "cell_type": "code",
   "execution_count": null,
   "id": "5a8dfdf0-1c7b-4dc4-aadb-ded0103eb815",
   "metadata": {},
   "outputs": [],
   "source": [
    "sns.relplot(x='Year', y='count', data=Cause_of_death_totals['Year'].value_counts().reset_index(), kind='line',linewidth=2.5, color='darkgreen')\n",
    "plt.ylim(0)\n",
    "plt.title('Fatalities in IMR NP 2007 - 2023', fontsize=15)\n",
    "plt.xlabel('Year', fontsize=14)\n",
    "plt.ylabel('Fatalities', fontsize=14)\n",
    "plt.savefig('fatalities per year2',bbox_inches = 'tight', transparent=True);"
   ]
  },
  {
   "cell_type": "code",
   "execution_count": null,
   "id": "b3e86fc0-2c74-4ab9-ade6-bd0d0a65d24a",
   "metadata": {},
   "outputs": [],
   "source": [
    "Cause_of_death_totals.head(1)"
   ]
  },
  {
   "cell_type": "code",
   "execution_count": null,
   "id": "02ff2c17-2ce1-45cd-9f4b-54b76774e8ea",
   "metadata": {},
   "outputs": [],
   "source": [
    "Deaths_2013=Cause_of_death_totals.loc[Cause_of_death_totals['Year']==2013]['Fatality_Count'].values[0]\n",
    "Deaths_2017=Cause_of_death_totals.loc[Cause_of_death_totals['Year']==2017]['Fatality_Count'].values[0]\n",
    "Deaths_sum=Cause_of_death_totals['Fatality_Count'].sum()\n",
    "change_in_deaths=Deaths_2017-Deaths_2013\n",
    "change_in_deaths"
   ]
  },
  {
   "cell_type": "code",
   "execution_count": null,
   "id": "a740eab4-7f43-4e35-9eca-72b059237901",
   "metadata": {},
   "outputs": [],
   "source": [
    "SAR.head(5)"
   ]
  },
  {
   "cell_type": "code",
   "execution_count": null,
   "id": "f260a26d-ee80-473f-97f6-9c93b2de39f0",
   "metadata": {},
   "outputs": [],
   "source": [
    "SAR.plot.scatter(x='Park Name', y='Incidents', c='Open Cases', cmap='viridis')\n",
    "plt.xticks(rotation=90);\n"
   ]
  },
  {
   "cell_type": "code",
   "execution_count": null,
   "id": "4db86aa6-089c-49be-bcb6-8b34f145a208",
   "metadata": {},
   "outputs": [],
   "source": [
    "plt.bar(SAR['Park Name'], SAR['Incidents'], color='darkblue')\n",
    "plt.xlabel('Park Name', fontsize=14)\n",
    "plt.ylabel('Incidents', fontsize=14)\n",
    "plt.title('SAR Incidents per park', fontsize=16)\n",
    "plt.xticks(rotation=90)\n",
    "plt.savefig('incidences per park',bbox_inches = 'tight', transparent=True)\n",
    "plt.show()"
   ]
  },
  {
   "cell_type": "markdown",
   "id": "7424677e-482e-41e0-92b3-019499527328",
   "metadata": {},
   "source": [
    "Incidents_data.head().reset_index(drop=True)"
   ]
  },
  {
   "cell_type": "code",
   "execution_count": null,
   "id": "0767f964-7790-4c95-bb3a-5b78c7f60f4a",
   "metadata": {},
   "outputs": [],
   "source": [
    "group=full_df.groupby(['Park Name', 'group'])['Fatalities per Million'].sum().reset_index()\n",
    "cause_count=group.groupby('Park Name')['group'].nunique()\n",
    "cause_of_deaths_ppark=group.groupby('Park Name')['group'].apply(list)\n",
    "cause_of_deaths_ppark.head()\n"
   ]
  },
  {
   "cell_type": "code",
   "execution_count": null,
   "id": "62476d4b-0023-44b8-be32-30fbc51606ef",
   "metadata": {},
   "outputs": [],
   "source": [
    "group=full_df.groupby(['Park Name', 'group','Year'])['Fatalities per Million'].sum().reset_index()\n",
    "Big_Bend=group.loc[group['Park Name']=='Big Bend National Park'].sort_values(by='Fatalities per Million', ascending=False)\n",
    "Big_Bend.head(1)"
   ]
  },
  {
   "cell_type": "code",
   "execution_count": null,
   "id": "a59401d3-f940-4cf5-b015-9d2fee85b059",
   "metadata": {},
   "outputs": [],
   "source": [
    "Grand_Canyon=group.loc[group['Park Name']=='Grand Canyon National Park'].sort_values(by= 'Fatalities per Million', ascending=False)"
   ]
  },
  {
   "cell_type": "code",
   "execution_count": null,
   "id": "8f402001-6d85-492e-86f1-f4ac10be4699",
   "metadata": {},
   "outputs": [],
   "source": [
    "Carlsbad_Caverns=group.loc[group['Park Name']=='Carlsbad Caverns National Park'].sort_values(by= 'Fatalities per Million', ascending=False)"
   ]
  },
  {
   "cell_type": "code",
   "execution_count": null,
   "id": "ea441456-4520-4c91-b138-3547933eaf47",
   "metadata": {},
   "outputs": [],
   "source": [
    "Petrified_Forest=group.loc[group['Park Name']=='Petrified Forest National Park'].sort_values(by= 'Fatalities per Million', ascending=False)"
   ]
  },
  {
   "cell_type": "code",
   "execution_count": null,
   "id": "5caea62a-8501-4d11-8974-85103f921f5f",
   "metadata": {},
   "outputs": [],
   "source": [
    "##Averages for fatalities per year; Avg fatalities per park per year,"
   ]
  },
  {
   "cell_type": "markdown",
   "id": "34f5120d-2814-4514-8bc0-33413b77536d",
   "metadata": {},
   "source": [
    "graph changes in  number of deaths per park over the years\n",
    "graph changes in causes of death over the years\n",
    "these are in slide 4, can I go back and reference them  but get further data for which are still at the top and then what 2023 looks like?"
   ]
  },
  {
   "cell_type": "code",
   "execution_count": null,
   "id": "0f812359-aa19-44e1-b68e-8f99cb660c2d",
   "metadata": {},
   "outputs": [],
   "source": [
    "Big_Bend.head()"
   ]
  },
  {
   "cell_type": "code",
   "execution_count": null,
   "id": "1d8d6280-2ef5-49a3-9d8b-b33e9969caac",
   "metadata": {},
   "outputs": [],
   "source": [
    "Big_Bend.loc[Big_Bend['Year']=='2023']"
   ]
  },
  {
   "cell_type": "code",
   "execution_count": null,
   "id": "f950e3f1-1af9-40bb-95ff-3dbe4f607fec",
   "metadata": {},
   "outputs": [],
   "source": [
    "Grand_Canyon.loc[Grand_Canyon['Year']=='2023']"
   ]
  },
  {
   "cell_type": "code",
   "execution_count": null,
   "id": "209668f1-03cb-400d-89f5-47ac09904127",
   "metadata": {},
   "outputs": [],
   "source": [
    "full_df.head(1)"
   ]
  },
  {
   "cell_type": "code",
   "execution_count": null,
   "id": "b3c5309a-e1a0-4684-a8cd-9dcf4593a793",
   "metadata": {},
   "outputs": [],
   "source": []
  }
 ],
 "metadata": {
  "kernelspec": {
   "display_name": "Python 3 (ipykernel)",
   "language": "python",
   "name": "python3"
  },
  "language_info": {
   "codemirror_mode": {
    "name": "ipython",
    "version": 3
   },
   "file_extension": ".py",
   "mimetype": "text/x-python",
   "name": "python",
   "nbconvert_exporter": "python",
   "pygments_lexer": "ipython3",
   "version": "3.12.7"
  }
 },
 "nbformat": 4,
 "nbformat_minor": 5
}
