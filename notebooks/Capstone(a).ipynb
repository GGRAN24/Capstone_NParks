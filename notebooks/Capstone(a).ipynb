{
 "cells": [
  {
   "cell_type": "code",
   "execution_count": 1,
   "id": "90a8e764-9948-406f-8e09-5da282963125",
   "metadata": {},
   "outputs": [],
   "source": [
    " \n",
    "import pandas as pd   \n",
    "import numpy as np  \n",
    "import matplotlib.pyplot as plt  \n",
    "import seaborn as sns"
   ]
  },
  {
   "cell_type": "code",
   "execution_count": 2,
   "id": "94e8c350-dcac-4743-9991-b56390d74638",
   "metadata": {},
   "outputs": [],
   "source": [
    "nps_deaths=pd.read_csv('../data/nps_fatality_stats.csv')"
   ]
  },
  {
   "cell_type": "code",
   "execution_count": 3,
   "id": "bdfaa7de-04c8-4f98-aaf0-aa5b3a993787",
   "metadata": {},
   "outputs": [
    {
     "data": {
      "text/html": [
       "<div>\n",
       "<style scoped>\n",
       "    .dataframe tbody tr th:only-of-type {\n",
       "        vertical-align: middle;\n",
       "    }\n",
       "\n",
       "    .dataframe tbody tr th {\n",
       "        vertical-align: top;\n",
       "    }\n",
       "\n",
       "    .dataframe thead th {\n",
       "        text-align: right;\n",
       "    }\n",
       "</style>\n",
       "<table border=\"1\" class=\"dataframe\">\n",
       "  <thead>\n",
       "    <tr style=\"text-align: right;\">\n",
       "      <th></th>\n",
       "      <th>Incident Date</th>\n",
       "      <th>Park Name</th>\n",
       "      <th>Cause of Death</th>\n",
       "      <th>Cause of Death Group \\n(Used in the NPS Mortality Dashboard)</th>\n",
       "      <th>Intent</th>\n",
       "      <th>Outcome</th>\n",
       "      <th>Sex</th>\n",
       "      <th>Age Range</th>\n",
       "      <th>Activity</th>\n",
       "    </tr>\n",
       "  </thead>\n",
       "  <tbody>\n",
       "    <tr>\n",
       "      <th>0</th>\n",
       "      <td>1/1/2007</td>\n",
       "      <td>Glen Canyon National Recreation Area</td>\n",
       "      <td>Undetermined</td>\n",
       "      <td>Undetermined</td>\n",
       "      <td>Undetermined</td>\n",
       "      <td>Fatal injury</td>\n",
       "      <td>Male</td>\n",
       "      <td>65+</td>\n",
       "      <td>Not Reported</td>\n",
       "    </tr>\n",
       "    <tr>\n",
       "      <th>1</th>\n",
       "      <td>1/22/2007</td>\n",
       "      <td>Golden Gate National Recreation Area</td>\n",
       "      <td>Drowning</td>\n",
       "      <td>Drowning</td>\n",
       "      <td>Unintentional</td>\n",
       "      <td>Fatal injury</td>\n",
       "      <td>Male</td>\n",
       "      <td>Not Reported</td>\n",
       "      <td>Vessel Related</td>\n",
       "    </tr>\n",
       "    <tr>\n",
       "      <th>2</th>\n",
       "      <td>1/22/2007</td>\n",
       "      <td>Golden Gate National Recreation Area</td>\n",
       "      <td>Undetermined</td>\n",
       "      <td>Undetermined</td>\n",
       "      <td>Undetermined</td>\n",
       "      <td>Fatal injury</td>\n",
       "      <td>Male</td>\n",
       "      <td>Not Reported</td>\n",
       "      <td>Vessel Related</td>\n",
       "    </tr>\n",
       "    <tr>\n",
       "      <th>3</th>\n",
       "      <td>1/29/2007</td>\n",
       "      <td>Natchez Trace Parkway</td>\n",
       "      <td>Motor Vehicle Crash</td>\n",
       "      <td>Motor Vehicle Crash</td>\n",
       "      <td>Unintentional</td>\n",
       "      <td>Fatal injury</td>\n",
       "      <td>Female</td>\n",
       "      <td>15-24</td>\n",
       "      <td>Driving</td>\n",
       "    </tr>\n",
       "    <tr>\n",
       "      <th>4</th>\n",
       "      <td>1/29/2007</td>\n",
       "      <td>Natchez Trace Parkway</td>\n",
       "      <td>Motor Vehicle Crash</td>\n",
       "      <td>Motor Vehicle Crash</td>\n",
       "      <td>Unintentional</td>\n",
       "      <td>Fatal injury</td>\n",
       "      <td>Female</td>\n",
       "      <td>45-54</td>\n",
       "      <td>Driving</td>\n",
       "    </tr>\n",
       "  </tbody>\n",
       "</table>\n",
       "</div>"
      ],
      "text/plain": [
       "  Incident Date                             Park Name       Cause of Death  \\\n",
       "0      1/1/2007  Glen Canyon National Recreation Area         Undetermined   \n",
       "1     1/22/2007  Golden Gate National Recreation Area             Drowning   \n",
       "2     1/22/2007  Golden Gate National Recreation Area         Undetermined   \n",
       "3     1/29/2007                 Natchez Trace Parkway  Motor Vehicle Crash   \n",
       "4     1/29/2007                 Natchez Trace Parkway  Motor Vehicle Crash   \n",
       "\n",
       "  Cause of Death Group \\n(Used in the NPS Mortality Dashboard)   \\\n",
       "0                                       Undetermined              \n",
       "1                                           Drowning              \n",
       "2                                       Undetermined              \n",
       "3                                Motor Vehicle Crash              \n",
       "4                                Motor Vehicle Crash              \n",
       "\n",
       "          Intent       Outcome     Sex     Age Range        Activity  \n",
       "0   Undetermined  Fatal injury    Male           65+    Not Reported  \n",
       "1  Unintentional  Fatal injury    Male  Not Reported  Vessel Related  \n",
       "2   Undetermined  Fatal injury    Male  Not Reported  Vessel Related  \n",
       "3  Unintentional  Fatal injury  Female         15-24        Driving   \n",
       "4  Unintentional  Fatal injury  Female         45-54        Driving   "
      ]
     },
     "execution_count": 3,
     "metadata": {},
     "output_type": "execute_result"
    }
   ],
   "source": [
    "nps_deaths.head()"
   ]
  },
  {
   "cell_type": "code",
   "execution_count": 4,
   "id": "0f55f98e-8cc8-4c12-83ee-cf6bbe359066",
   "metadata": {},
   "outputs": [
    {
     "data": {
      "text/plain": [
       "(4635, 9)"
      ]
     },
     "execution_count": 4,
     "metadata": {},
     "output_type": "execute_result"
    }
   ],
   "source": [
    "nps_deaths.shape"
   ]
  },
  {
   "cell_type": "code",
   "execution_count": 5,
   "id": "59b1c971-606f-4935-93c1-6b35553507c7",
   "metadata": {},
   "outputs": [
    {
     "data": {
      "text/html": [
       "<div>\n",
       "<style scoped>\n",
       "    .dataframe tbody tr th:only-of-type {\n",
       "        vertical-align: middle;\n",
       "    }\n",
       "\n",
       "    .dataframe tbody tr th {\n",
       "        vertical-align: top;\n",
       "    }\n",
       "\n",
       "    .dataframe thead th {\n",
       "        text-align: right;\n",
       "    }\n",
       "</style>\n",
       "<table border=\"1\" class=\"dataframe\">\n",
       "  <thead>\n",
       "    <tr style=\"text-align: right;\">\n",
       "      <th></th>\n",
       "      <th>Year</th>\n",
       "      <th>RecreationVisitors</th>\n",
       "      <th>TotalRecreationVisitors</th>\n",
       "      <th>park</th>\n",
       "    </tr>\n",
       "  </thead>\n",
       "  <tbody>\n",
       "    <tr>\n",
       "      <th>0</th>\n",
       "      <td>1971</td>\n",
       "      <td>27,100</td>\n",
       "      <td>8,639,984</td>\n",
       "      <td>Guadalupe Mountains National Park</td>\n",
       "    </tr>\n",
       "  </tbody>\n",
       "</table>\n",
       "</div>"
      ],
      "text/plain": [
       "   Year RecreationVisitors TotalRecreationVisitors  \\\n",
       "0  1971             27,100               8,639,984   \n",
       "\n",
       "                                park  \n",
       "0  Guadalupe Mountains National Park  "
      ]
     },
     "execution_count": 5,
     "metadata": {},
     "output_type": "execute_result"
    }
   ],
   "source": [
    "Guad_nps_df=pd.read_csv('../data/Guadalupe_pop.csv',skiprows=3)\n",
    "Guad_nps_df['park']='Guadalupe Mountains National Park'\n",
    "Guad_nps_df.head(1)"
   ]
  },
  {
   "cell_type": "code",
   "execution_count": 7,
   "id": "c355201a-8459-4271-8da9-d98fe4d3a5e2",
   "metadata": {},
   "outputs": [
    {
     "data": {
      "text/html": [
       "<div>\n",
       "<style scoped>\n",
       "    .dataframe tbody tr th:only-of-type {\n",
       "        vertical-align: middle;\n",
       "    }\n",
       "\n",
       "    .dataframe tbody tr th {\n",
       "        vertical-align: top;\n",
       "    }\n",
       "\n",
       "    .dataframe thead th {\n",
       "        text-align: right;\n",
       "    }\n",
       "</style>\n",
       "<table border=\"1\" class=\"dataframe\">\n",
       "  <thead>\n",
       "    <tr style=\"text-align: right;\">\n",
       "      <th></th>\n",
       "      <th>Year</th>\n",
       "      <th>RecreationVisitors</th>\n",
       "      <th>TotalRecreationVisitors</th>\n",
       "      <th>park</th>\n",
       "    </tr>\n",
       "  </thead>\n",
       "  <tbody>\n",
       "    <tr>\n",
       "      <th>0</th>\n",
       "      <td>1929</td>\n",
       "      <td>51,500</td>\n",
       "      <td>171,510,364</td>\n",
       "      <td>Grand Teton National Park</td>\n",
       "    </tr>\n",
       "  </tbody>\n",
       "</table>\n",
       "</div>"
      ],
      "text/plain": [
       "   Year RecreationVisitors TotalRecreationVisitors                       park\n",
       "0  1929             51,500             171,510,364  Grand Teton National Park"
      ]
     },
     "execution_count": 7,
     "metadata": {},
     "output_type": "execute_result"
    }
   ],
   "source": [
    "Grand_Teton_pop_df=pd.read_csv('../data/Grand_Teton_pop.csv',skiprows=3)\n",
    "Grand_Teton_pop_df['park']='Grand Teton National Park'\n",
    "Grand_Teton_pop_df.head(1)"
   ]
  },
  {
   "cell_type": "code",
   "execution_count": 8,
   "id": "e25bbbeb-f5ba-4dda-8d49-93c1597263c9",
   "metadata": {},
   "outputs": [
    {
     "data": {
      "text/html": [
       "<div>\n",
       "<style scoped>\n",
       "    .dataframe tbody tr th:only-of-type {\n",
       "        vertical-align: middle;\n",
       "    }\n",
       "\n",
       "    .dataframe tbody tr th {\n",
       "        vertical-align: top;\n",
       "    }\n",
       "\n",
       "    .dataframe thead th {\n",
       "        text-align: right;\n",
       "    }\n",
       "</style>\n",
       "<table border=\"1\" class=\"dataframe\">\n",
       "  <thead>\n",
       "    <tr style=\"text-align: right;\">\n",
       "      <th></th>\n",
       "      <th>Year</th>\n",
       "      <th>RecreationVisitors</th>\n",
       "      <th>TotalRecreationVisitors</th>\n",
       "      <th>park</th>\n",
       "    </tr>\n",
       "  </thead>\n",
       "  <tbody>\n",
       "    <tr>\n",
       "      <th>0</th>\n",
       "      <td>1919</td>\n",
       "      <td>37,745</td>\n",
       "      <td>240,991,619</td>\n",
       "      <td>Grand Canyon National Park</td>\n",
       "    </tr>\n",
       "  </tbody>\n",
       "</table>\n",
       "</div>"
      ],
      "text/plain": [
       "   Year RecreationVisitors TotalRecreationVisitors                        park\n",
       "0  1919             37,745             240,991,619  Grand Canyon National Park"
      ]
     },
     "execution_count": 8,
     "metadata": {},
     "output_type": "execute_result"
    }
   ],
   "source": [
    "Grand_Canyon_pop_df=pd.read_csv('../data/Grand_Canyon_pop.csv',skiprows=3)\n",
    "Grand_Canyon_pop_df['park']='Grand Canyon National Park'\n",
    "Grand_Canyon_pop_df.head(1)"
   ]
  },
  {
   "cell_type": "code",
   "execution_count": 9,
   "id": "3f19ed01-1c14-42e7-8e52-cb66063b3b0b",
   "metadata": {},
   "outputs": [
    {
     "data": {
      "text/html": [
       "<div>\n",
       "<style scoped>\n",
       "    .dataframe tbody tr th:only-of-type {\n",
       "        vertical-align: middle;\n",
       "    }\n",
       "\n",
       "    .dataframe tbody tr th {\n",
       "        vertical-align: top;\n",
       "    }\n",
       "\n",
       "    .dataframe thead th {\n",
       "        text-align: right;\n",
       "    }\n",
       "</style>\n",
       "<table border=\"1\" class=\"dataframe\">\n",
       "  <thead>\n",
       "    <tr style=\"text-align: right;\">\n",
       "      <th></th>\n",
       "      <th>Year</th>\n",
       "      <th>RecreationVisitors</th>\n",
       "      <th>TotalRecreationVisitors</th>\n",
       "      <th>park</th>\n",
       "    </tr>\n",
       "  </thead>\n",
       "  <tbody>\n",
       "    <tr>\n",
       "      <th>0</th>\n",
       "      <td>1911</td>\n",
       "      <td>4,000</td>\n",
       "      <td>124,972,813</td>\n",
       "      <td>Glacier National Park</td>\n",
       "    </tr>\n",
       "  </tbody>\n",
       "</table>\n",
       "</div>"
      ],
      "text/plain": [
       "   Year RecreationVisitors TotalRecreationVisitors                   park\n",
       "0  1911              4,000             124,972,813  Glacier National Park"
      ]
     },
     "execution_count": 9,
     "metadata": {},
     "output_type": "execute_result"
    }
   ],
   "source": [
    "Glacier_pop_df=pd.read_csv('../data/Glacier_pop.csv',skiprows=3)\n",
    "Glacier_pop_df['park']='Glacier National Park'\n",
    "Glacier_pop_df.head(1)"
   ]
  },
  {
   "cell_type": "code",
   "execution_count": 10,
   "id": "caf1e365-1e99-460b-8ae8-fec892337435",
   "metadata": {},
   "outputs": [
    {
     "data": {
      "text/html": [
       "<div>\n",
       "<style scoped>\n",
       "    .dataframe tbody tr th:only-of-type {\n",
       "        vertical-align: middle;\n",
       "    }\n",
       "\n",
       "    .dataframe tbody tr th {\n",
       "        vertical-align: top;\n",
       "    }\n",
       "\n",
       "    .dataframe thead th {\n",
       "        text-align: right;\n",
       "    }\n",
       "</style>\n",
       "<table border=\"1\" class=\"dataframe\">\n",
       "  <thead>\n",
       "    <tr style=\"text-align: right;\">\n",
       "      <th></th>\n",
       "      <th>Year</th>\n",
       "      <th>RecreationVisitors</th>\n",
       "      <th>TotalRecreationVisitors</th>\n",
       "      <th>park</th>\n",
       "    </tr>\n",
       "  </thead>\n",
       "  <tbody>\n",
       "    <tr>\n",
       "      <th>0</th>\n",
       "      <td>1924</td>\n",
       "      <td>1,280</td>\n",
       "      <td>46,478,465</td>\n",
       "      <td>Carlsbad Caverns National Park</td>\n",
       "    </tr>\n",
       "  </tbody>\n",
       "</table>\n",
       "</div>"
      ],
      "text/plain": [
       "   Year RecreationVisitors TotalRecreationVisitors  \\\n",
       "0  1924              1,280              46,478,465   \n",
       "\n",
       "                             park  \n",
       "0  Carlsbad Caverns National Park  "
      ]
     },
     "execution_count": 10,
     "metadata": {},
     "output_type": "execute_result"
    }
   ],
   "source": [
    "Carlsbad_Caverns_pop_df=pd.read_csv('../data/Carlsbad_Caverns.csv',skiprows=3)\n",
    "Carlsbad_Caverns_pop_df['park']='Carlsbad Caverns National Park'\n",
    "Carlsbad_Caverns_pop_df.head(1)"
   ]
  },
  {
   "cell_type": "code",
   "execution_count": 11,
   "id": "23c780ab-2e5a-457a-8b79-7202c1ac8668",
   "metadata": {},
   "outputs": [
    {
     "data": {
      "text/html": [
       "<div>\n",
       "<style scoped>\n",
       "    .dataframe tbody tr th:only-of-type {\n",
       "        vertical-align: middle;\n",
       "    }\n",
       "\n",
       "    .dataframe tbody tr th {\n",
       "        vertical-align: top;\n",
       "    }\n",
       "\n",
       "    .dataframe thead th {\n",
       "        text-align: right;\n",
       "    }\n",
       "</style>\n",
       "<table border=\"1\" class=\"dataframe\">\n",
       "  <thead>\n",
       "    <tr style=\"text-align: right;\">\n",
       "      <th></th>\n",
       "      <th>Year</th>\n",
       "      <th>RecreationVisitors</th>\n",
       "      <th>TotalRecreationVisitors</th>\n",
       "      <th>park</th>\n",
       "    </tr>\n",
       "  </thead>\n",
       "  <tbody>\n",
       "    <tr>\n",
       "      <th>0</th>\n",
       "      <td>1965</td>\n",
       "      <td>19,400</td>\n",
       "      <td>19,190,788</td>\n",
       "      <td>Canyonlands National Park</td>\n",
       "    </tr>\n",
       "  </tbody>\n",
       "</table>\n",
       "</div>"
      ],
      "text/plain": [
       "   Year RecreationVisitors TotalRecreationVisitors                       park\n",
       "0  1965             19,400              19,190,788  Canyonlands National Park"
      ]
     },
     "execution_count": 11,
     "metadata": {},
     "output_type": "execute_result"
    }
   ],
   "source": [
    "Canyonlands_pop_df=pd.read_csv('../data/Canyonlands_pop.csv',skiprows=3)\n",
    "Canyonlands_pop_df['park']='Canyonlands National Park'\n",
    "Canyonlands_pop_df.head(1)"
   ]
  },
  {
   "cell_type": "code",
   "execution_count": 12,
   "id": "51969844-532c-4ca1-9f6b-e0741e06cfbd",
   "metadata": {},
   "outputs": [
    {
     "data": {
      "text/html": [
       "<div>\n",
       "<style scoped>\n",
       "    .dataframe tbody tr th:only-of-type {\n",
       "        vertical-align: middle;\n",
       "    }\n",
       "\n",
       "    .dataframe tbody tr th {\n",
       "        vertical-align: top;\n",
       "    }\n",
       "\n",
       "    .dataframe thead th {\n",
       "        text-align: right;\n",
       "    }\n",
       "</style>\n",
       "<table border=\"1\" class=\"dataframe\">\n",
       "  <thead>\n",
       "    <tr style=\"text-align: right;\">\n",
       "      <th></th>\n",
       "      <th>Year</th>\n",
       "      <th>RecreationVisitors</th>\n",
       "      <th>TotalRecreationVisitors</th>\n",
       "      <th>park</th>\n",
       "    </tr>\n",
       "  </thead>\n",
       "  <tbody>\n",
       "    <tr>\n",
       "      <th>0</th>\n",
       "      <td>1929</td>\n",
       "      <td>21,997</td>\n",
       "      <td>65,941,639</td>\n",
       "      <td>Bryce Canyon National Park</td>\n",
       "    </tr>\n",
       "  </tbody>\n",
       "</table>\n",
       "</div>"
      ],
      "text/plain": [
       "   Year RecreationVisitors TotalRecreationVisitors                        park\n",
       "0  1929             21,997              65,941,639  Bryce Canyon National Park"
      ]
     },
     "execution_count": 12,
     "metadata": {},
     "output_type": "execute_result"
    }
   ],
   "source": [
    "Bryce_Canyon_pop_df=pd.read_csv('../data/Bryce_Canyon_pop.csv',skiprows=3)\n",
    "Bryce_Canyon_pop_df['park']='Bryce Canyon National Park'\n",
    "Bryce_Canyon_pop_df.head(1)"
   ]
  },
  {
   "cell_type": "code",
   "execution_count": 13,
   "id": "f51e53e2-d2f3-42ac-830d-e2ed69e3f294",
   "metadata": {},
   "outputs": [
    {
     "data": {
      "text/html": [
       "<div>\n",
       "<style scoped>\n",
       "    .dataframe tbody tr th:only-of-type {\n",
       "        vertical-align: middle;\n",
       "    }\n",
       "\n",
       "    .dataframe tbody tr th {\n",
       "        vertical-align: top;\n",
       "    }\n",
       "\n",
       "    .dataframe thead th {\n",
       "        text-align: right;\n",
       "    }\n",
       "</style>\n",
       "<table border=\"1\" class=\"dataframe\">\n",
       "  <thead>\n",
       "    <tr style=\"text-align: right;\">\n",
       "      <th></th>\n",
       "      <th>Year</th>\n",
       "      <th>RecreationVisitors</th>\n",
       "      <th>TotalRecreationVisitors</th>\n",
       "      <th>park</th>\n",
       "    </tr>\n",
       "  </thead>\n",
       "  <tbody>\n",
       "    <tr>\n",
       "      <th>0</th>\n",
       "      <td>1934</td>\n",
       "      <td>2,592</td>\n",
       "      <td>16,040,142</td>\n",
       "      <td>Black Canyon Of The Gunnison National Park</td>\n",
       "    </tr>\n",
       "  </tbody>\n",
       "</table>\n",
       "</div>"
      ],
      "text/plain": [
       "   Year RecreationVisitors TotalRecreationVisitors  \\\n",
       "0  1934              2,592              16,040,142   \n",
       "\n",
       "                                         park  \n",
       "0  Black Canyon Of The Gunnison National Park  "
      ]
     },
     "execution_count": 13,
     "metadata": {},
     "output_type": "execute_result"
    }
   ],
   "source": [
    "Black_Canyon_pop_df=pd.read_csv('../data/Black_Canyon_pop.csv',skiprows=3)\n",
    "Black_Canyon_pop_df['park']='Black Canyon Of The Gunnison National Park'\n",
    "Black_Canyon_pop_df.head(1)"
   ]
  },
  {
   "cell_type": "code",
   "execution_count": 14,
   "id": "cb2e9cfb-e478-40b7-94be-a59a546179c2",
   "metadata": {},
   "outputs": [
    {
     "data": {
      "text/html": [
       "<div>\n",
       "<style scoped>\n",
       "    .dataframe tbody tr th:only-of-type {\n",
       "        vertical-align: middle;\n",
       "    }\n",
       "\n",
       "    .dataframe tbody tr th {\n",
       "        vertical-align: top;\n",
       "    }\n",
       "\n",
       "    .dataframe thead th {\n",
       "        text-align: right;\n",
       "    }\n",
       "</style>\n",
       "<table border=\"1\" class=\"dataframe\">\n",
       "  <thead>\n",
       "    <tr style=\"text-align: right;\">\n",
       "      <th></th>\n",
       "      <th>Year</th>\n",
       "      <th>RecreationVisitors</th>\n",
       "      <th>TotalRecreationVisitors</th>\n",
       "      <th>park</th>\n",
       "    </tr>\n",
       "  </thead>\n",
       "  <tbody>\n",
       "    <tr>\n",
       "      <th>0</th>\n",
       "      <td>1944</td>\n",
       "      <td>1,409</td>\n",
       "      <td>19,162,799</td>\n",
       "      <td>Big Bend National Park</td>\n",
       "    </tr>\n",
       "  </tbody>\n",
       "</table>\n",
       "</div>"
      ],
      "text/plain": [
       "   Year RecreationVisitors TotalRecreationVisitors                    park\n",
       "0  1944              1,409              19,162,799  Big Bend National Park"
      ]
     },
     "execution_count": 14,
     "metadata": {},
     "output_type": "execute_result"
    }
   ],
   "source": [
    "Big_Bend_pop_df=pd.read_csv('../data/Big_Bend_pop.csv',skiprows=3)\n",
    "Big_Bend_pop_df['park']='Big Bend National Park'\n",
    "Big_Bend_pop_df.head(1)"
   ]
  },
  {
   "cell_type": "code",
   "execution_count": 15,
   "id": "2878e5e8-05e1-4147-a903-490e96024e04",
   "metadata": {},
   "outputs": [
    {
     "data": {
      "text/html": [
       "<div>\n",
       "<style scoped>\n",
       "    .dataframe tbody tr th:only-of-type {\n",
       "        vertical-align: middle;\n",
       "    }\n",
       "\n",
       "    .dataframe tbody tr th {\n",
       "        vertical-align: top;\n",
       "    }\n",
       "\n",
       "    .dataframe thead th {\n",
       "        text-align: right;\n",
       "    }\n",
       "</style>\n",
       "<table border=\"1\" class=\"dataframe\">\n",
       "  <thead>\n",
       "    <tr style=\"text-align: right;\">\n",
       "      <th></th>\n",
       "      <th>Year</th>\n",
       "      <th>RecreationVisitors</th>\n",
       "      <th>TotalRecreationVisitors</th>\n",
       "      <th>park</th>\n",
       "    </tr>\n",
       "  </thead>\n",
       "  <tbody>\n",
       "    <tr>\n",
       "      <th>0</th>\n",
       "      <td>1929</td>\n",
       "      <td>500</td>\n",
       "      <td>43,427,888</td>\n",
       "      <td>Arches National Park</td>\n",
       "    </tr>\n",
       "  </tbody>\n",
       "</table>\n",
       "</div>"
      ],
      "text/plain": [
       "   Year RecreationVisitors TotalRecreationVisitors                  park\n",
       "0  1929                500              43,427,888  Arches National Park"
      ]
     },
     "execution_count": 15,
     "metadata": {},
     "output_type": "execute_result"
    }
   ],
   "source": [
    "Arches_pop_df=pd.read_csv('../data/Arches_pop.csv',skiprows=3)\n",
    "Arches_pop_df['park']='Arches National Park'\n",
    "Arches_pop_df.head(1)"
   ]
  },
  {
   "cell_type": "code",
   "execution_count": 16,
   "id": "19f1047f-6f6e-4ea6-9655-ebb299726872",
   "metadata": {},
   "outputs": [
    {
     "data": {
      "text/html": [
       "<div>\n",
       "<style scoped>\n",
       "    .dataframe tbody tr th:only-of-type {\n",
       "        vertical-align: middle;\n",
       "    }\n",
       "\n",
       "    .dataframe tbody tr th {\n",
       "        vertical-align: top;\n",
       "    }\n",
       "\n",
       "    .dataframe thead th {\n",
       "        text-align: right;\n",
       "    }\n",
       "</style>\n",
       "<table border=\"1\" class=\"dataframe\">\n",
       "  <thead>\n",
       "    <tr style=\"text-align: right;\">\n",
       "      <th></th>\n",
       "      <th>Year</th>\n",
       "      <th>RecreationVisitors</th>\n",
       "      <th>TotalRecreationVisitors</th>\n",
       "      <th>park</th>\n",
       "    </tr>\n",
       "  </thead>\n",
       "  <tbody>\n",
       "    <tr>\n",
       "      <th>0</th>\n",
       "      <td>1932</td>\n",
       "      <td>500</td>\n",
       "      <td>17,054,087</td>\n",
       "      <td>Great Sand Dunes National Park &amp; Preserve</td>\n",
       "    </tr>\n",
       "  </tbody>\n",
       "</table>\n",
       "</div>"
      ],
      "text/plain": [
       "   Year RecreationVisitors TotalRecreationVisitors  \\\n",
       "0  1932                500              17,054,087   \n",
       "\n",
       "                                        park  \n",
       "0  Great Sand Dunes National Park & Preserve  "
      ]
     },
     "execution_count": 16,
     "metadata": {},
     "output_type": "execute_result"
    }
   ],
   "source": [
    "Great_Sand_Dunes_pop_df=pd.read_csv('../data/Great_Sand_Dunes_pop.csv',skiprows=3)\n",
    "Great_Sand_Dunes_pop_df['park']='Great Sand Dunes National Park & Preserve'\n",
    "Great_Sand_Dunes_pop_df.head(1)"
   ]
  },
  {
   "cell_type": "code",
   "execution_count": 17,
   "id": "ce3648cd-5a85-4be8-b62f-18bb87024b64",
   "metadata": {},
   "outputs": [
    {
     "data": {
      "text/html": [
       "<div>\n",
       "<style scoped>\n",
       "    .dataframe tbody tr th:only-of-type {\n",
       "        vertical-align: middle;\n",
       "    }\n",
       "\n",
       "    .dataframe tbody tr th {\n",
       "        vertical-align: top;\n",
       "    }\n",
       "\n",
       "    .dataframe thead th {\n",
       "        text-align: right;\n",
       "    }\n",
       "</style>\n",
       "<table border=\"1\" class=\"dataframe\">\n",
       "  <thead>\n",
       "    <tr style=\"text-align: right;\">\n",
       "      <th></th>\n",
       "      <th>Year</th>\n",
       "      <th>RecreationVisitors</th>\n",
       "      <th>TotalRecreationVisitors</th>\n",
       "      <th>park</th>\n",
       "    </tr>\n",
       "  </thead>\n",
       "  <tbody>\n",
       "    <tr>\n",
       "      <th>0</th>\n",
       "      <td>1919</td>\n",
       "      <td>1,814</td>\n",
       "      <td>142,570,935</td>\n",
       "      <td>Zion National Park</td>\n",
       "    </tr>\n",
       "  </tbody>\n",
       "</table>\n",
       "</div>"
      ],
      "text/plain": [
       "   Year RecreationVisitors TotalRecreationVisitors                park\n",
       "0  1919              1,814             142,570,935  Zion National Park"
      ]
     },
     "execution_count": 17,
     "metadata": {},
     "output_type": "execute_result"
    }
   ],
   "source": [
    "Zion_pop_df=pd.read_csv('../data/Zion_pop.csv',skiprows=3)\n",
    "Zion_pop_df['park']='Zion National Park'\n",
    "Zion_pop_df.head(1)"
   ]
  },
  {
   "cell_type": "code",
   "execution_count": 18,
   "id": "1cf2e0f0-41c9-4b31-bd7a-fd883eb31801",
   "metadata": {},
   "outputs": [
    {
     "data": {
      "text/html": [
       "<div>\n",
       "<style scoped>\n",
       "    .dataframe tbody tr th:only-of-type {\n",
       "        vertical-align: middle;\n",
       "    }\n",
       "\n",
       "    .dataframe tbody tr th {\n",
       "        vertical-align: top;\n",
       "    }\n",
       "\n",
       "    .dataframe thead th {\n",
       "        text-align: right;\n",
       "    }\n",
       "</style>\n",
       "<table border=\"1\" class=\"dataframe\">\n",
       "  <thead>\n",
       "    <tr style=\"text-align: right;\">\n",
       "      <th></th>\n",
       "      <th>Year</th>\n",
       "      <th>RecreationVisitors</th>\n",
       "      <th>TotalRecreationVisitors</th>\n",
       "      <th>park</th>\n",
       "    </tr>\n",
       "  </thead>\n",
       "  <tbody>\n",
       "    <tr>\n",
       "      <th>0</th>\n",
       "      <td>1904</td>\n",
       "      <td>13,727</td>\n",
       "      <td>203,750,110</td>\n",
       "      <td>Yellowstone National Park</td>\n",
       "    </tr>\n",
       "  </tbody>\n",
       "</table>\n",
       "</div>"
      ],
      "text/plain": [
       "   Year RecreationVisitors TotalRecreationVisitors                       park\n",
       "0  1904             13,727             203,750,110  Yellowstone National Park"
      ]
     },
     "execution_count": 18,
     "metadata": {},
     "output_type": "execute_result"
    }
   ],
   "source": [
    "Yellowstone_pop_df=pd.read_csv('../data/Yellowstone_pop.csv',skiprows=3)\n",
    "Yellowstone_pop_df['park']='Yellowstone National Park'\n",
    "Yellowstone_pop_df.head(1)"
   ]
  },
  {
   "cell_type": "code",
   "execution_count": 19,
   "id": "dbecaee9-c39c-4810-bdac-95e5620c9a03",
   "metadata": {},
   "outputs": [
    {
     "data": {
      "text/html": [
       "<div>\n",
       "<style scoped>\n",
       "    .dataframe tbody tr th:only-of-type {\n",
       "        vertical-align: middle;\n",
       "    }\n",
       "\n",
       "    .dataframe tbody tr th {\n",
       "        vertical-align: top;\n",
       "    }\n",
       "\n",
       "    .dataframe thead th {\n",
       "        text-align: right;\n",
       "    }\n",
       "</style>\n",
       "<table border=\"1\" class=\"dataframe\">\n",
       "  <thead>\n",
       "    <tr style=\"text-align: right;\">\n",
       "      <th></th>\n",
       "      <th>Year</th>\n",
       "      <th>RecreationVisitors</th>\n",
       "      <th>TotalRecreationVisitors</th>\n",
       "      <th>park</th>\n",
       "    </tr>\n",
       "  </thead>\n",
       "  <tbody>\n",
       "    <tr>\n",
       "      <th>0</th>\n",
       "      <td>1933</td>\n",
       "      <td>12,000</td>\n",
       "      <td>38,276,355</td>\n",
       "      <td>White Sands National Park</td>\n",
       "    </tr>\n",
       "  </tbody>\n",
       "</table>\n",
       "</div>"
      ],
      "text/plain": [
       "   Year RecreationVisitors TotalRecreationVisitors                       park\n",
       "0  1933             12,000              38,276,355  White Sands National Park"
      ]
     },
     "execution_count": 19,
     "metadata": {},
     "output_type": "execute_result"
    }
   ],
   "source": [
    "White_Sands_pop_df=pd.read_csv('../data/White_Sands_pop.csv',skiprows=3)\n",
    "White_Sands_pop_df['park']='White Sands National Park'\n",
    "White_Sands_pop_df.head(1)"
   ]
  },
  {
   "cell_type": "code",
   "execution_count": 20,
   "id": "60064ec9-6afc-4c3b-9c08-0b6a09e70209",
   "metadata": {},
   "outputs": [
    {
     "data": {
      "text/html": [
       "<div>\n",
       "<style scoped>\n",
       "    .dataframe tbody tr th:only-of-type {\n",
       "        vertical-align: middle;\n",
       "    }\n",
       "\n",
       "    .dataframe tbody tr th {\n",
       "        vertical-align: top;\n",
       "    }\n",
       "\n",
       "    .dataframe thead th {\n",
       "        text-align: right;\n",
       "    }\n",
       "</style>\n",
       "<table border=\"1\" class=\"dataframe\">\n",
       "  <thead>\n",
       "    <tr style=\"text-align: right;\">\n",
       "      <th></th>\n",
       "      <th>Year</th>\n",
       "      <th>RecreationVisitors</th>\n",
       "      <th>TotalRecreationVisitors</th>\n",
       "      <th>park</th>\n",
       "    </tr>\n",
       "  </thead>\n",
       "  <tbody>\n",
       "    <tr>\n",
       "      <th>0</th>\n",
       "      <td>1920</td>\n",
       "      <td>5,000</td>\n",
       "      <td>39,873,266</td>\n",
       "      <td>Saguaro National Park</td>\n",
       "    </tr>\n",
       "  </tbody>\n",
       "</table>\n",
       "</div>"
      ],
      "text/plain": [
       "   Year RecreationVisitors TotalRecreationVisitors                   park\n",
       "0  1920              5,000              39,873,266  Saguaro National Park"
      ]
     },
     "execution_count": 20,
     "metadata": {},
     "output_type": "execute_result"
    }
   ],
   "source": [
    "Saguaro_pop_df=pd.read_csv('../data/Saguaro_pop.csv',skiprows=3)\n",
    "Saguaro_pop_df['park']='Saguaro National Park'\n",
    "Saguaro_pop_df.head(1)"
   ]
  },
  {
   "cell_type": "code",
   "execution_count": 21,
   "id": "fccc921d-4303-4bea-8c11-0054db40b2ce",
   "metadata": {},
   "outputs": [
    {
     "data": {
      "text/html": [
       "<div>\n",
       "<style scoped>\n",
       "    .dataframe tbody tr th:only-of-type {\n",
       "        vertical-align: middle;\n",
       "    }\n",
       "\n",
       "    .dataframe tbody tr th {\n",
       "        vertical-align: top;\n",
       "    }\n",
       "\n",
       "    .dataframe thead th {\n",
       "        text-align: right;\n",
       "    }\n",
       "</style>\n",
       "<table border=\"1\" class=\"dataframe\">\n",
       "  <thead>\n",
       "    <tr style=\"text-align: right;\">\n",
       "      <th></th>\n",
       "      <th>Year</th>\n",
       "      <th>RecreationVisitors</th>\n",
       "      <th>TotalRecreationVisitors</th>\n",
       "      <th>park</th>\n",
       "    </tr>\n",
       "  </thead>\n",
       "  <tbody>\n",
       "    <tr>\n",
       "      <th>0</th>\n",
       "      <td>1915</td>\n",
       "      <td>31,000</td>\n",
       "      <td>209,930,678</td>\n",
       "      <td>Rocky Mountain National Park</td>\n",
       "    </tr>\n",
       "  </tbody>\n",
       "</table>\n",
       "</div>"
      ],
      "text/plain": [
       "   Year RecreationVisitors TotalRecreationVisitors  \\\n",
       "0  1915             31,000             209,930,678   \n",
       "\n",
       "                           park  \n",
       "0  Rocky Mountain National Park  "
      ]
     },
     "execution_count": 21,
     "metadata": {},
     "output_type": "execute_result"
    }
   ],
   "source": [
    "Rocky_Mountain_pop_df=pd.read_csv('../data/Rocky_Mountain_pop.csv',skiprows=3)\n",
    "Rocky_Mountain_pop_df['park']='Rocky Mountain National Park'\n",
    "Rocky_Mountain_pop_df.head(1)"
   ]
  },
  {
   "cell_type": "code",
   "execution_count": 22,
   "id": "fa5335ee-6f7a-45fa-a0d8-9400a7003813",
   "metadata": {},
   "outputs": [
    {
     "data": {
      "text/html": [
       "<div>\n",
       "<style scoped>\n",
       "    .dataframe tbody tr th:only-of-type {\n",
       "        vertical-align: middle;\n",
       "    }\n",
       "\n",
       "    .dataframe tbody tr th {\n",
       "        vertical-align: top;\n",
       "    }\n",
       "\n",
       "    .dataframe thead th {\n",
       "        text-align: right;\n",
       "    }\n",
       "</style>\n",
       "<table border=\"1\" class=\"dataframe\">\n",
       "  <thead>\n",
       "    <tr style=\"text-align: right;\">\n",
       "      <th></th>\n",
       "      <th>Year</th>\n",
       "      <th>RecreationVisitors</th>\n",
       "      <th>TotalRecreationVisitors</th>\n",
       "      <th>park</th>\n",
       "    </tr>\n",
       "  </thead>\n",
       "  <tbody>\n",
       "    <tr>\n",
       "      <th>0</th>\n",
       "      <td>1919</td>\n",
       "      <td>3,000</td>\n",
       "      <td>58,055,578</td>\n",
       "      <td>Petrified Forest National Park</td>\n",
       "    </tr>\n",
       "  </tbody>\n",
       "</table>\n",
       "</div>"
      ],
      "text/plain": [
       "   Year RecreationVisitors TotalRecreationVisitors  \\\n",
       "0  1919              3,000              58,055,578   \n",
       "\n",
       "                             park  \n",
       "0  Petrified Forest National Park  "
      ]
     },
     "execution_count": 22,
     "metadata": {},
     "output_type": "execute_result"
    }
   ],
   "source": [
    "Petrified_Forest_pop_df=pd.read_csv('../data/Petrified_Forest_pop.csv',skiprows=3)\n",
    "Petrified_Forest_pop_df['park']='Petrified Forest National Park'\n",
    "Petrified_Forest_pop_df.head(1)"
   ]
  },
  {
   "cell_type": "code",
   "execution_count": 23,
   "id": "67078017-a889-410f-9379-b6c352fa6009",
   "metadata": {},
   "outputs": [
    {
     "data": {
      "text/html": [
       "<div>\n",
       "<style scoped>\n",
       "    .dataframe tbody tr th:only-of-type {\n",
       "        vertical-align: middle;\n",
       "    }\n",
       "\n",
       "    .dataframe tbody tr th {\n",
       "        vertical-align: top;\n",
       "    }\n",
       "\n",
       "    .dataframe thead th {\n",
       "        text-align: right;\n",
       "    }\n",
       "</style>\n",
       "<table border=\"1\" class=\"dataframe\">\n",
       "  <thead>\n",
       "    <tr style=\"text-align: right;\">\n",
       "      <th></th>\n",
       "      <th>Year</th>\n",
       "      <th>RecreationVisitors</th>\n",
       "      <th>TotalRecreationVisitors</th>\n",
       "      <th>park</th>\n",
       "    </tr>\n",
       "  </thead>\n",
       "  <tbody>\n",
       "    <tr>\n",
       "      <th>0</th>\n",
       "      <td>1908</td>\n",
       "      <td>80</td>\n",
       "      <td>36,438,206</td>\n",
       "      <td>Mesa Verde National Park</td>\n",
       "    </tr>\n",
       "  </tbody>\n",
       "</table>\n",
       "</div>"
      ],
      "text/plain": [
       "   Year RecreationVisitors TotalRecreationVisitors                      park\n",
       "0  1908                 80              36,438,206  Mesa Verde National Park"
      ]
     },
     "execution_count": 23,
     "metadata": {},
     "output_type": "execute_result"
    }
   ],
   "source": [
    "Mesa_Verde_pop_df=pd.read_csv('../data/Mesa_Verde_pop.csv',skiprows=3)\n",
    "Mesa_Verde_pop_df['park']='Mesa Verde National Park'\n",
    "Mesa_Verde_pop_df.head(1)"
   ]
  },
  {
   "cell_type": "markdown",
   "id": "2ddb12ac-39cf-4b25-a07f-cd736a28e939",
   "metadata": {},
   "source": [
    "Combining population data"
   ]
  },
  {
   "cell_type": "code",
   "execution_count": 24,
   "id": "60bf3b69-86bb-4b9b-9807-766b9669ddc2",
   "metadata": {},
   "outputs": [
    {
     "data": {
      "text/html": [
       "<div>\n",
       "<style scoped>\n",
       "    .dataframe tbody tr th:only-of-type {\n",
       "        vertical-align: middle;\n",
       "    }\n",
       "\n",
       "    .dataframe tbody tr th {\n",
       "        vertical-align: top;\n",
       "    }\n",
       "\n",
       "    .dataframe thead th {\n",
       "        text-align: right;\n",
       "    }\n",
       "</style>\n",
       "<table border=\"1\" class=\"dataframe\">\n",
       "  <thead>\n",
       "    <tr style=\"text-align: right;\">\n",
       "      <th></th>\n",
       "      <th>Year</th>\n",
       "      <th>RecreationVisitors</th>\n",
       "      <th>TotalRecreationVisitors</th>\n",
       "      <th>park</th>\n",
       "    </tr>\n",
       "  </thead>\n",
       "  <tbody>\n",
       "    <tr>\n",
       "      <th>0</th>\n",
       "      <td>1908</td>\n",
       "      <td>80</td>\n",
       "      <td>36,438,206</td>\n",
       "      <td>Mesa Verde National Park</td>\n",
       "    </tr>\n",
       "    <tr>\n",
       "      <th>1</th>\n",
       "      <td>1909</td>\n",
       "      <td>165</td>\n",
       "      <td>36,438,206</td>\n",
       "      <td>Mesa Verde National Park</td>\n",
       "    </tr>\n",
       "    <tr>\n",
       "      <th>2</th>\n",
       "      <td>1910</td>\n",
       "      <td>250</td>\n",
       "      <td>36,438,206</td>\n",
       "      <td>Mesa Verde National Park</td>\n",
       "    </tr>\n",
       "    <tr>\n",
       "      <th>3</th>\n",
       "      <td>1911</td>\n",
       "      <td>206</td>\n",
       "      <td>36,438,206</td>\n",
       "      <td>Mesa Verde National Park</td>\n",
       "    </tr>\n",
       "    <tr>\n",
       "      <th>4</th>\n",
       "      <td>1912</td>\n",
       "      <td>230</td>\n",
       "      <td>36,438,206</td>\n",
       "      <td>Mesa Verde National Park</td>\n",
       "    </tr>\n",
       "    <tr>\n",
       "      <th>...</th>\n",
       "      <td>...</td>\n",
       "      <td>...</td>\n",
       "      <td>...</td>\n",
       "      <td>...</td>\n",
       "    </tr>\n",
       "    <tr>\n",
       "      <th>75</th>\n",
       "      <td>2019</td>\n",
       "      <td>463,832</td>\n",
       "      <td>19,162,799</td>\n",
       "      <td>Big Bend National Park</td>\n",
       "    </tr>\n",
       "    <tr>\n",
       "      <th>76</th>\n",
       "      <td>2020</td>\n",
       "      <td>393,907</td>\n",
       "      <td>19,162,799</td>\n",
       "      <td>Big Bend National Park</td>\n",
       "    </tr>\n",
       "    <tr>\n",
       "      <th>77</th>\n",
       "      <td>2021</td>\n",
       "      <td>581,220</td>\n",
       "      <td>19,162,799</td>\n",
       "      <td>Big Bend National Park</td>\n",
       "    </tr>\n",
       "    <tr>\n",
       "      <th>78</th>\n",
       "      <td>2022</td>\n",
       "      <td>514,107</td>\n",
       "      <td>19,162,799</td>\n",
       "      <td>Big Bend National Park</td>\n",
       "    </tr>\n",
       "    <tr>\n",
       "      <th>79</th>\n",
       "      <td>2023</td>\n",
       "      <td>509,129</td>\n",
       "      <td>19,162,799</td>\n",
       "      <td>Big Bend National Park</td>\n",
       "    </tr>\n",
       "  </tbody>\n",
       "</table>\n",
       "<p>1013 rows × 4 columns</p>\n",
       "</div>"
      ],
      "text/plain": [
       "    Year RecreationVisitors TotalRecreationVisitors                      park\n",
       "0   1908                 80              36,438,206  Mesa Verde National Park\n",
       "1   1909                165              36,438,206  Mesa Verde National Park\n",
       "2   1910                250              36,438,206  Mesa Verde National Park\n",
       "3   1911                206              36,438,206  Mesa Verde National Park\n",
       "4   1912                230              36,438,206  Mesa Verde National Park\n",
       "..   ...                ...                     ...                       ...\n",
       "75  2019            463,832              19,162,799    Big Bend National Park\n",
       "76  2020            393,907              19,162,799    Big Bend National Park\n",
       "77  2021            581,220              19,162,799    Big Bend National Park\n",
       "78  2022            514,107              19,162,799    Big Bend National Park\n",
       "79  2023            509,129              19,162,799    Big Bend National Park\n",
       "\n",
       "[1013 rows x 4 columns]"
      ]
     },
     "execution_count": 24,
     "metadata": {},
     "output_type": "execute_result"
    }
   ],
   "source": [
    "concat_data = pd.concat([Mesa_Verde_pop_df,Petrified_Forest_pop_df,Rocky_Mountain_pop_df,Saguaro_pop_df,White_Sands_pop_df,Yellowstone_pop_df,Zion_pop_df,Great_Sand_Dunes_pop_df,Arches_pop_df,Big_Bend_pop_df])\n",
    "concat_data"
   ]
  },
  {
   "cell_type": "code",
   "execution_count": 25,
   "id": "4914cbc2-68c0-43ba-9fce-e200d61c0eb7",
   "metadata": {},
   "outputs": [
    {
     "data": {
      "text/html": [
       "<div>\n",
       "<style scoped>\n",
       "    .dataframe tbody tr th:only-of-type {\n",
       "        vertical-align: middle;\n",
       "    }\n",
       "\n",
       "    .dataframe tbody tr th {\n",
       "        vertical-align: top;\n",
       "    }\n",
       "\n",
       "    .dataframe thead th {\n",
       "        text-align: right;\n",
       "    }\n",
       "</style>\n",
       "<table border=\"1\" class=\"dataframe\">\n",
       "  <thead>\n",
       "    <tr style=\"text-align: right;\">\n",
       "      <th></th>\n",
       "      <th>Year</th>\n",
       "      <th>RecreationVisitors</th>\n",
       "      <th>TotalRecreationVisitors</th>\n",
       "      <th>park</th>\n",
       "    </tr>\n",
       "  </thead>\n",
       "  <tbody>\n",
       "    <tr>\n",
       "      <th>0</th>\n",
       "      <td>1908</td>\n",
       "      <td>80</td>\n",
       "      <td>36,438,206</td>\n",
       "      <td>Mesa Verde National Park</td>\n",
       "    </tr>\n",
       "    <tr>\n",
       "      <th>1</th>\n",
       "      <td>1909</td>\n",
       "      <td>165</td>\n",
       "      <td>36,438,206</td>\n",
       "      <td>Mesa Verde National Park</td>\n",
       "    </tr>\n",
       "    <tr>\n",
       "      <th>2</th>\n",
       "      <td>1910</td>\n",
       "      <td>250</td>\n",
       "      <td>36,438,206</td>\n",
       "      <td>Mesa Verde National Park</td>\n",
       "    </tr>\n",
       "    <tr>\n",
       "      <th>3</th>\n",
       "      <td>1911</td>\n",
       "      <td>206</td>\n",
       "      <td>36,438,206</td>\n",
       "      <td>Mesa Verde National Park</td>\n",
       "    </tr>\n",
       "    <tr>\n",
       "      <th>4</th>\n",
       "      <td>1912</td>\n",
       "      <td>230</td>\n",
       "      <td>36,438,206</td>\n",
       "      <td>Mesa Verde National Park</td>\n",
       "    </tr>\n",
       "  </tbody>\n",
       "</table>\n",
       "</div>"
      ],
      "text/plain": [
       "   Year RecreationVisitors TotalRecreationVisitors                      park\n",
       "0  1908                 80              36,438,206  Mesa Verde National Park\n",
       "1  1909                165              36,438,206  Mesa Verde National Park\n",
       "2  1910                250              36,438,206  Mesa Verde National Park\n",
       "3  1911                206              36,438,206  Mesa Verde National Park\n",
       "4  1912                230              36,438,206  Mesa Verde National Park"
      ]
     },
     "execution_count": 25,
     "metadata": {},
     "output_type": "execute_result"
    }
   ],
   "source": [
    "concat_2=pd.concat([concat_data,Black_Canyon_pop_df,Bryce_Canyon_pop_df,Canyonlands_pop_df,Carlsbad_Caverns_pop_df,Glacier_pop_df,Grand_Canyon_pop_df,Grand_Teton_pop_df,Guad_nps_df])\n",
    "concat_2.head()"
   ]
  },
  {
   "cell_type": "code",
   "execution_count": 26,
   "id": "831c1c76-61e7-4947-919b-a2111333a5c9",
   "metadata": {},
   "outputs": [
    {
     "data": {
      "text/html": [
       "<div>\n",
       "<style scoped>\n",
       "    .dataframe tbody tr th:only-of-type {\n",
       "        vertical-align: middle;\n",
       "    }\n",
       "\n",
       "    .dataframe tbody tr th {\n",
       "        vertical-align: top;\n",
       "    }\n",
       "\n",
       "    .dataframe thead th {\n",
       "        text-align: right;\n",
       "    }\n",
       "</style>\n",
       "<table border=\"1\" class=\"dataframe\">\n",
       "  <thead>\n",
       "    <tr style=\"text-align: right;\">\n",
       "      <th></th>\n",
       "      <th>Year</th>\n",
       "      <th>RecreationVisitors</th>\n",
       "      <th>park</th>\n",
       "    </tr>\n",
       "  </thead>\n",
       "  <tbody>\n",
       "    <tr>\n",
       "      <th>0</th>\n",
       "      <td>1908</td>\n",
       "      <td>80</td>\n",
       "      <td>Mesa Verde National Park</td>\n",
       "    </tr>\n",
       "    <tr>\n",
       "      <th>1</th>\n",
       "      <td>1909</td>\n",
       "      <td>165</td>\n",
       "      <td>Mesa Verde National Park</td>\n",
       "    </tr>\n",
       "    <tr>\n",
       "      <th>2</th>\n",
       "      <td>1910</td>\n",
       "      <td>250</td>\n",
       "      <td>Mesa Verde National Park</td>\n",
       "    </tr>\n",
       "    <tr>\n",
       "      <th>3</th>\n",
       "      <td>1911</td>\n",
       "      <td>206</td>\n",
       "      <td>Mesa Verde National Park</td>\n",
       "    </tr>\n",
       "    <tr>\n",
       "      <th>4</th>\n",
       "      <td>1912</td>\n",
       "      <td>230</td>\n",
       "      <td>Mesa Verde National Park</td>\n",
       "    </tr>\n",
       "    <tr>\n",
       "      <th>...</th>\n",
       "      <td>...</td>\n",
       "      <td>...</td>\n",
       "      <td>...</td>\n",
       "    </tr>\n",
       "    <tr>\n",
       "      <th>48</th>\n",
       "      <td>2019</td>\n",
       "      <td>188,833</td>\n",
       "      <td>Guadalupe Mountains National Park</td>\n",
       "    </tr>\n",
       "    <tr>\n",
       "      <th>49</th>\n",
       "      <td>2020</td>\n",
       "      <td>151,256</td>\n",
       "      <td>Guadalupe Mountains National Park</td>\n",
       "    </tr>\n",
       "    <tr>\n",
       "      <th>50</th>\n",
       "      <td>2021</td>\n",
       "      <td>243,291</td>\n",
       "      <td>Guadalupe Mountains National Park</td>\n",
       "    </tr>\n",
       "    <tr>\n",
       "      <th>51</th>\n",
       "      <td>2022</td>\n",
       "      <td>219,987</td>\n",
       "      <td>Guadalupe Mountains National Park</td>\n",
       "    </tr>\n",
       "    <tr>\n",
       "      <th>52</th>\n",
       "      <td>2023</td>\n",
       "      <td>227,340</td>\n",
       "      <td>Guadalupe Mountains National Park</td>\n",
       "    </tr>\n",
       "  </tbody>\n",
       "</table>\n",
       "<p>1723 rows × 3 columns</p>\n",
       "</div>"
      ],
      "text/plain": [
       "    Year RecreationVisitors                               park\n",
       "0   1908                 80           Mesa Verde National Park\n",
       "1   1909                165           Mesa Verde National Park\n",
       "2   1910                250           Mesa Verde National Park\n",
       "3   1911                206           Mesa Verde National Park\n",
       "4   1912                230           Mesa Verde National Park\n",
       "..   ...                ...                                ...\n",
       "48  2019            188,833  Guadalupe Mountains National Park\n",
       "49  2020            151,256  Guadalupe Mountains National Park\n",
       "50  2021            243,291  Guadalupe Mountains National Park\n",
       "51  2022            219,987  Guadalupe Mountains National Park\n",
       "52  2023            227,340  Guadalupe Mountains National Park\n",
       "\n",
       "[1723 rows x 3 columns]"
      ]
     },
     "execution_count": 26,
     "metadata": {},
     "output_type": "execute_result"
    }
   ],
   "source": [
    "Intermountain_parkpop_df=concat_2.drop(columns=['TotalRecreationVisitors'])\n",
    "Intermountain_parkpop_df"
   ]
  },
  {
   "cell_type": "code",
   "execution_count": 27,
   "id": "5ff00767-57d0-4905-8f7c-9bd8433b6e45",
   "metadata": {},
   "outputs": [],
   "source": [
    "Intermountain_parkpop_df=Intermountain_parkpop_df.rename(columns={'RecreationVisitors':'Visitors'})"
   ]
  },
  {
   "cell_type": "code",
   "execution_count": 28,
   "id": "7f35b531-4761-41ae-b059-caeb5c62e66d",
   "metadata": {},
   "outputs": [],
   "source": [
    "Intermountain_parkpop_df['Year']=Intermountain_parkpop_df['Year'].astype(str)"
   ]
  },
  {
   "cell_type": "code",
   "execution_count": 29,
   "id": "f9264c83-7357-48b5-89b3-02ae7e9e857e",
   "metadata": {},
   "outputs": [
    {
     "name": "stdout",
     "output_type": "stream",
     "text": [
      "<class 'pandas.core.frame.DataFrame'>\n",
      "Index: 1723 entries, 0 to 52\n",
      "Data columns (total 3 columns):\n",
      " #   Column    Non-Null Count  Dtype \n",
      "---  ------    --------------  ----- \n",
      " 0   Year      1723 non-null   object\n",
      " 1   Visitors  1723 non-null   object\n",
      " 2   park      1723 non-null   object\n",
      "dtypes: object(3)\n",
      "memory usage: 53.8+ KB\n"
     ]
    }
   ],
   "source": [
    "Intermountain_parkpop_df.info()"
   ]
  },
  {
   "cell_type": "code",
   "execution_count": 30,
   "id": "0aae5916-6ff9-470d-9b79-32c7edb13ec4",
   "metadata": {},
   "outputs": [
    {
     "data": {
      "text/html": [
       "<div>\n",
       "<style scoped>\n",
       "    .dataframe tbody tr th:only-of-type {\n",
       "        vertical-align: middle;\n",
       "    }\n",
       "\n",
       "    .dataframe tbody tr th {\n",
       "        vertical-align: top;\n",
       "    }\n",
       "\n",
       "    .dataframe thead th {\n",
       "        text-align: right;\n",
       "    }\n",
       "</style>\n",
       "<table border=\"1\" class=\"dataframe\">\n",
       "  <thead>\n",
       "    <tr style=\"text-align: right;\">\n",
       "      <th></th>\n",
       "      <th>Year</th>\n",
       "      <th>Visitors</th>\n",
       "      <th>park</th>\n",
       "    </tr>\n",
       "  </thead>\n",
       "  <tbody>\n",
       "    <tr>\n",
       "      <th>0</th>\n",
       "      <td>1908</td>\n",
       "      <td>80</td>\n",
       "      <td>Mesa Verde National Park</td>\n",
       "    </tr>\n",
       "    <tr>\n",
       "      <th>1</th>\n",
       "      <td>1909</td>\n",
       "      <td>165</td>\n",
       "      <td>Mesa Verde National Park</td>\n",
       "    </tr>\n",
       "    <tr>\n",
       "      <th>2</th>\n",
       "      <td>1910</td>\n",
       "      <td>250</td>\n",
       "      <td>Mesa Verde National Park</td>\n",
       "    </tr>\n",
       "    <tr>\n",
       "      <th>3</th>\n",
       "      <td>1911</td>\n",
       "      <td>206</td>\n",
       "      <td>Mesa Verde National Park</td>\n",
       "    </tr>\n",
       "    <tr>\n",
       "      <th>4</th>\n",
       "      <td>1912</td>\n",
       "      <td>230</td>\n",
       "      <td>Mesa Verde National Park</td>\n",
       "    </tr>\n",
       "    <tr>\n",
       "      <th>...</th>\n",
       "      <td>...</td>\n",
       "      <td>...</td>\n",
       "      <td>...</td>\n",
       "    </tr>\n",
       "    <tr>\n",
       "      <th>48</th>\n",
       "      <td>2019</td>\n",
       "      <td>188,833</td>\n",
       "      <td>Guadalupe Mountains National Park</td>\n",
       "    </tr>\n",
       "    <tr>\n",
       "      <th>49</th>\n",
       "      <td>2020</td>\n",
       "      <td>151,256</td>\n",
       "      <td>Guadalupe Mountains National Park</td>\n",
       "    </tr>\n",
       "    <tr>\n",
       "      <th>50</th>\n",
       "      <td>2021</td>\n",
       "      <td>243,291</td>\n",
       "      <td>Guadalupe Mountains National Park</td>\n",
       "    </tr>\n",
       "    <tr>\n",
       "      <th>51</th>\n",
       "      <td>2022</td>\n",
       "      <td>219,987</td>\n",
       "      <td>Guadalupe Mountains National Park</td>\n",
       "    </tr>\n",
       "    <tr>\n",
       "      <th>52</th>\n",
       "      <td>2023</td>\n",
       "      <td>227,340</td>\n",
       "      <td>Guadalupe Mountains National Park</td>\n",
       "    </tr>\n",
       "  </tbody>\n",
       "</table>\n",
       "<p>1723 rows × 3 columns</p>\n",
       "</div>"
      ],
      "text/plain": [
       "    Year Visitors                               park\n",
       "0   1908       80           Mesa Verde National Park\n",
       "1   1909      165           Mesa Verde National Park\n",
       "2   1910      250           Mesa Verde National Park\n",
       "3   1911      206           Mesa Verde National Park\n",
       "4   1912      230           Mesa Verde National Park\n",
       "..   ...      ...                                ...\n",
       "48  2019  188,833  Guadalupe Mountains National Park\n",
       "49  2020  151,256  Guadalupe Mountains National Park\n",
       "50  2021  243,291  Guadalupe Mountains National Park\n",
       "51  2022  219,987  Guadalupe Mountains National Park\n",
       "52  2023  227,340  Guadalupe Mountains National Park\n",
       "\n",
       "[1723 rows x 3 columns]"
      ]
     },
     "execution_count": 30,
     "metadata": {},
     "output_type": "execute_result"
    }
   ],
   "source": [
    "Intermountain_parkpop_df"
   ]
  },
  {
   "cell_type": "code",
   "execution_count": 31,
   "id": "fffbf918-3a2b-484b-9ff2-de687db5f188",
   "metadata": {
    "scrolled": true
   },
   "outputs": [
    {
     "data": {
      "text/html": [
       "<div>\n",
       "<style scoped>\n",
       "    .dataframe tbody tr th:only-of-type {\n",
       "        vertical-align: middle;\n",
       "    }\n",
       "\n",
       "    .dataframe tbody tr th {\n",
       "        vertical-align: top;\n",
       "    }\n",
       "\n",
       "    .dataframe thead th {\n",
       "        text-align: right;\n",
       "    }\n",
       "</style>\n",
       "<table border=\"1\" class=\"dataframe\">\n",
       "  <thead>\n",
       "    <tr style=\"text-align: right;\">\n",
       "      <th></th>\n",
       "      <th>Year</th>\n",
       "      <th>Visitors</th>\n",
       "      <th>park</th>\n",
       "    </tr>\n",
       "  </thead>\n",
       "  <tbody>\n",
       "    <tr>\n",
       "      <th>99</th>\n",
       "      <td>2007</td>\n",
       "      <td>541,102</td>\n",
       "      <td>Mesa Verde National Park</td>\n",
       "    </tr>\n",
       "    <tr>\n",
       "      <th>100</th>\n",
       "      <td>2008</td>\n",
       "      <td>551,446</td>\n",
       "      <td>Mesa Verde National Park</td>\n",
       "    </tr>\n",
       "    <tr>\n",
       "      <th>101</th>\n",
       "      <td>2009</td>\n",
       "      <td>550,377</td>\n",
       "      <td>Mesa Verde National Park</td>\n",
       "    </tr>\n",
       "    <tr>\n",
       "      <th>102</th>\n",
       "      <td>2010</td>\n",
       "      <td>559,712</td>\n",
       "      <td>Mesa Verde National Park</td>\n",
       "    </tr>\n",
       "    <tr>\n",
       "      <th>103</th>\n",
       "      <td>2011</td>\n",
       "      <td>572,329</td>\n",
       "      <td>Mesa Verde National Park</td>\n",
       "    </tr>\n",
       "    <tr>\n",
       "      <th>104</th>\n",
       "      <td>2012</td>\n",
       "      <td>488,860</td>\n",
       "      <td>Mesa Verde National Park</td>\n",
       "    </tr>\n",
       "    <tr>\n",
       "      <th>105</th>\n",
       "      <td>2013</td>\n",
       "      <td>460,237</td>\n",
       "      <td>Mesa Verde National Park</td>\n",
       "    </tr>\n",
       "    <tr>\n",
       "      <th>106</th>\n",
       "      <td>2014</td>\n",
       "      <td>501,563</td>\n",
       "      <td>Mesa Verde National Park</td>\n",
       "    </tr>\n",
       "    <tr>\n",
       "      <th>107</th>\n",
       "      <td>2015</td>\n",
       "      <td>547,325</td>\n",
       "      <td>Mesa Verde National Park</td>\n",
       "    </tr>\n",
       "    <tr>\n",
       "      <th>108</th>\n",
       "      <td>2016</td>\n",
       "      <td>583,527</td>\n",
       "      <td>Mesa Verde National Park</td>\n",
       "    </tr>\n",
       "    <tr>\n",
       "      <th>109</th>\n",
       "      <td>2017</td>\n",
       "      <td>613,788</td>\n",
       "      <td>Mesa Verde National Park</td>\n",
       "    </tr>\n",
       "    <tr>\n",
       "      <th>110</th>\n",
       "      <td>2018</td>\n",
       "      <td>563,420</td>\n",
       "      <td>Mesa Verde National Park</td>\n",
       "    </tr>\n",
       "    <tr>\n",
       "      <th>111</th>\n",
       "      <td>2019</td>\n",
       "      <td>556,203</td>\n",
       "      <td>Mesa Verde National Park</td>\n",
       "    </tr>\n",
       "    <tr>\n",
       "      <th>112</th>\n",
       "      <td>2020</td>\n",
       "      <td>287,477</td>\n",
       "      <td>Mesa Verde National Park</td>\n",
       "    </tr>\n",
       "    <tr>\n",
       "      <th>113</th>\n",
       "      <td>2021</td>\n",
       "      <td>548,477</td>\n",
       "      <td>Mesa Verde National Park</td>\n",
       "    </tr>\n",
       "    <tr>\n",
       "      <th>114</th>\n",
       "      <td>2022</td>\n",
       "      <td>499,790</td>\n",
       "      <td>Mesa Verde National Park</td>\n",
       "    </tr>\n",
       "    <tr>\n",
       "      <th>115</th>\n",
       "      <td>2023</td>\n",
       "      <td>505,194</td>\n",
       "      <td>Mesa Verde National Park</td>\n",
       "    </tr>\n",
       "    <tr>\n",
       "      <th>88</th>\n",
       "      <td>2007</td>\n",
       "      <td>563,590</td>\n",
       "      <td>Petrified Forest National Park</td>\n",
       "    </tr>\n",
       "    <tr>\n",
       "      <th>89</th>\n",
       "      <td>2008</td>\n",
       "      <td>543,714</td>\n",
       "      <td>Petrified Forest National Park</td>\n",
       "    </tr>\n",
       "    <tr>\n",
       "      <th>90</th>\n",
       "      <td>2009</td>\n",
       "      <td>631,613</td>\n",
       "      <td>Petrified Forest National Park</td>\n",
       "    </tr>\n",
       "  </tbody>\n",
       "</table>\n",
       "</div>"
      ],
      "text/plain": [
       "     Year Visitors                            park\n",
       "99   2007  541,102        Mesa Verde National Park\n",
       "100  2008  551,446        Mesa Verde National Park\n",
       "101  2009  550,377        Mesa Verde National Park\n",
       "102  2010  559,712        Mesa Verde National Park\n",
       "103  2011  572,329        Mesa Verde National Park\n",
       "104  2012  488,860        Mesa Verde National Park\n",
       "105  2013  460,237        Mesa Verde National Park\n",
       "106  2014  501,563        Mesa Verde National Park\n",
       "107  2015  547,325        Mesa Verde National Park\n",
       "108  2016  583,527        Mesa Verde National Park\n",
       "109  2017  613,788        Mesa Verde National Park\n",
       "110  2018  563,420        Mesa Verde National Park\n",
       "111  2019  556,203        Mesa Verde National Park\n",
       "112  2020  287,477        Mesa Verde National Park\n",
       "113  2021  548,477        Mesa Verde National Park\n",
       "114  2022  499,790        Mesa Verde National Park\n",
       "115  2023  505,194        Mesa Verde National Park\n",
       "88   2007  563,590  Petrified Forest National Park\n",
       "89   2008  543,714  Petrified Forest National Park\n",
       "90   2009  631,613  Petrified Forest National Park"
      ]
     },
     "execution_count": 31,
     "metadata": {},
     "output_type": "execute_result"
    }
   ],
   "source": [
    "Intermountain_parkpop = Intermountain_parkpop_df[(Intermountain_parkpop_df['Year'] >= '2007') & \n",
    "                     (Intermountain_parkpop_df['Year'] < '2024')]\n",
    "Intermountain_parkpop.head(20)"
   ]
  },
  {
   "cell_type": "code",
   "execution_count": 32,
   "id": "aee8db1d-2c98-4975-9445-fe6a6c70acf7",
   "metadata": {},
   "outputs": [
    {
     "data": {
      "text/plain": [
       "Index(['Year', 'Visitors', 'park'], dtype='object')"
      ]
     },
     "execution_count": 32,
     "metadata": {},
     "output_type": "execute_result"
    }
   ],
   "source": [
    "Intermountain_parkpop.columns"
   ]
  },
  {
   "cell_type": "markdown",
   "id": "35d5a1be-797c-4e52-9624-fe4c4c068dcb",
   "metadata": {},
   "source": [
    "WHAT IS THE TOTAL VISITORS PER YEAR THROUGH ALL INTERMOUNTAINOUS NATIONAL PARKS\n"
   ]
  },
  {
   "cell_type": "code",
   "execution_count": 33,
   "id": "1aa0c769-e861-4f36-b8c0-a008304b7e24",
   "metadata": {},
   "outputs": [
    {
     "data": {
      "text/html": [
       "<div>\n",
       "<style scoped>\n",
       "    .dataframe tbody tr th:only-of-type {\n",
       "        vertical-align: middle;\n",
       "    }\n",
       "\n",
       "    .dataframe tbody tr th {\n",
       "        vertical-align: top;\n",
       "    }\n",
       "\n",
       "    .dataframe thead th {\n",
       "        text-align: right;\n",
       "    }\n",
       "</style>\n",
       "<table border=\"1\" class=\"dataframe\">\n",
       "  <thead>\n",
       "    <tr style=\"text-align: right;\">\n",
       "      <th></th>\n",
       "      <th>Year</th>\n",
       "      <th>Visitors</th>\n",
       "      <th>park</th>\n",
       "    </tr>\n",
       "  </thead>\n",
       "  <tbody>\n",
       "    <tr>\n",
       "      <th>99</th>\n",
       "      <td>2007</td>\n",
       "      <td>541,102</td>\n",
       "      <td>Mesa Verde National Park</td>\n",
       "    </tr>\n",
       "    <tr>\n",
       "      <th>100</th>\n",
       "      <td>2008</td>\n",
       "      <td>551,446</td>\n",
       "      <td>Mesa Verde National Park</td>\n",
       "    </tr>\n",
       "    <tr>\n",
       "      <th>101</th>\n",
       "      <td>2009</td>\n",
       "      <td>550,377</td>\n",
       "      <td>Mesa Verde National Park</td>\n",
       "    </tr>\n",
       "    <tr>\n",
       "      <th>102</th>\n",
       "      <td>2010</td>\n",
       "      <td>559,712</td>\n",
       "      <td>Mesa Verde National Park</td>\n",
       "    </tr>\n",
       "    <tr>\n",
       "      <th>103</th>\n",
       "      <td>2011</td>\n",
       "      <td>572,329</td>\n",
       "      <td>Mesa Verde National Park</td>\n",
       "    </tr>\n",
       "  </tbody>\n",
       "</table>\n",
       "</div>"
      ],
      "text/plain": [
       "     Year Visitors                      park\n",
       "99   2007  541,102  Mesa Verde National Park\n",
       "100  2008  551,446  Mesa Verde National Park\n",
       "101  2009  550,377  Mesa Verde National Park\n",
       "102  2010  559,712  Mesa Verde National Park\n",
       "103  2011  572,329  Mesa Verde National Park"
      ]
     },
     "execution_count": 33,
     "metadata": {},
     "output_type": "execute_result"
    }
   ],
   "source": [
    "Intermountain_parkpop.groupby(['Year','park'])\n",
    "Intermountain_parkpop.head()"
   ]
  },
  {
   "cell_type": "code",
   "execution_count": 34,
   "id": "870e18ad-e38f-4810-b577-5d99032b842d",
   "metadata": {},
   "outputs": [
    {
     "name": "stderr",
     "output_type": "stream",
     "text": [
      "C:\\Users\\Owner\\AppData\\Local\\Temp\\ipykernel_23240\\606800316.py:1: SettingWithCopyWarning: \n",
      "A value is trying to be set on a copy of a slice from a DataFrame.\n",
      "Try using .loc[row_indexer,col_indexer] = value instead\n",
      "\n",
      "See the caveats in the documentation: https://pandas.pydata.org/pandas-docs/stable/user_guide/indexing.html#returning-a-view-versus-a-copy\n",
      "  Intermountain_parkpop['Year']=Intermountain_parkpop['Year'].astype(int)\n"
     ]
    }
   ],
   "source": [
    "Intermountain_parkpop['Year']=Intermountain_parkpop['Year'].astype(int)"
   ]
  },
  {
   "cell_type": "code",
   "execution_count": 35,
   "id": "06cbfe27-50f8-4273-8f18-2784d37f9f0c",
   "metadata": {},
   "outputs": [
    {
     "name": "stderr",
     "output_type": "stream",
     "text": [
      "C:\\Users\\Owner\\AppData\\Local\\Temp\\ipykernel_23240\\744248895.py:1: SettingWithCopyWarning: \n",
      "A value is trying to be set on a copy of a slice from a DataFrame.\n",
      "Try using .loc[row_indexer,col_indexer] = value instead\n",
      "\n",
      "See the caveats in the documentation: https://pandas.pydata.org/pandas-docs/stable/user_guide/indexing.html#returning-a-view-versus-a-copy\n",
      "  Intermountain_parkpop['Visitors']=Intermountain_parkpop['Visitors'].str.replace(',' , '')\n"
     ]
    },
    {
     "data": {
      "text/html": [
       "<div>\n",
       "<style scoped>\n",
       "    .dataframe tbody tr th:only-of-type {\n",
       "        vertical-align: middle;\n",
       "    }\n",
       "\n",
       "    .dataframe tbody tr th {\n",
       "        vertical-align: top;\n",
       "    }\n",
       "\n",
       "    .dataframe thead th {\n",
       "        text-align: right;\n",
       "    }\n",
       "</style>\n",
       "<table border=\"1\" class=\"dataframe\">\n",
       "  <thead>\n",
       "    <tr style=\"text-align: right;\">\n",
       "      <th></th>\n",
       "      <th>Year</th>\n",
       "      <th>Visitors</th>\n",
       "      <th>park</th>\n",
       "    </tr>\n",
       "  </thead>\n",
       "  <tbody>\n",
       "    <tr>\n",
       "      <th>99</th>\n",
       "      <td>2007</td>\n",
       "      <td>541102</td>\n",
       "      <td>Mesa Verde National Park</td>\n",
       "    </tr>\n",
       "    <tr>\n",
       "      <th>100</th>\n",
       "      <td>2008</td>\n",
       "      <td>551446</td>\n",
       "      <td>Mesa Verde National Park</td>\n",
       "    </tr>\n",
       "    <tr>\n",
       "      <th>101</th>\n",
       "      <td>2009</td>\n",
       "      <td>550377</td>\n",
       "      <td>Mesa Verde National Park</td>\n",
       "    </tr>\n",
       "    <tr>\n",
       "      <th>102</th>\n",
       "      <td>2010</td>\n",
       "      <td>559712</td>\n",
       "      <td>Mesa Verde National Park</td>\n",
       "    </tr>\n",
       "    <tr>\n",
       "      <th>103</th>\n",
       "      <td>2011</td>\n",
       "      <td>572329</td>\n",
       "      <td>Mesa Verde National Park</td>\n",
       "    </tr>\n",
       "    <tr>\n",
       "      <th>...</th>\n",
       "      <td>...</td>\n",
       "      <td>...</td>\n",
       "      <td>...</td>\n",
       "    </tr>\n",
       "    <tr>\n",
       "      <th>48</th>\n",
       "      <td>2019</td>\n",
       "      <td>188833</td>\n",
       "      <td>Guadalupe Mountains National Park</td>\n",
       "    </tr>\n",
       "    <tr>\n",
       "      <th>49</th>\n",
       "      <td>2020</td>\n",
       "      <td>151256</td>\n",
       "      <td>Guadalupe Mountains National Park</td>\n",
       "    </tr>\n",
       "    <tr>\n",
       "      <th>50</th>\n",
       "      <td>2021</td>\n",
       "      <td>243291</td>\n",
       "      <td>Guadalupe Mountains National Park</td>\n",
       "    </tr>\n",
       "    <tr>\n",
       "      <th>51</th>\n",
       "      <td>2022</td>\n",
       "      <td>219987</td>\n",
       "      <td>Guadalupe Mountains National Park</td>\n",
       "    </tr>\n",
       "    <tr>\n",
       "      <th>52</th>\n",
       "      <td>2023</td>\n",
       "      <td>227340</td>\n",
       "      <td>Guadalupe Mountains National Park</td>\n",
       "    </tr>\n",
       "  </tbody>\n",
       "</table>\n",
       "<p>306 rows × 3 columns</p>\n",
       "</div>"
      ],
      "text/plain": [
       "     Year Visitors                               park\n",
       "99   2007   541102           Mesa Verde National Park\n",
       "100  2008   551446           Mesa Verde National Park\n",
       "101  2009   550377           Mesa Verde National Park\n",
       "102  2010   559712           Mesa Verde National Park\n",
       "103  2011   572329           Mesa Verde National Park\n",
       "..    ...      ...                                ...\n",
       "48   2019   188833  Guadalupe Mountains National Park\n",
       "49   2020   151256  Guadalupe Mountains National Park\n",
       "50   2021   243291  Guadalupe Mountains National Park\n",
       "51   2022   219987  Guadalupe Mountains National Park\n",
       "52   2023   227340  Guadalupe Mountains National Park\n",
       "\n",
       "[306 rows x 3 columns]"
      ]
     },
     "execution_count": 35,
     "metadata": {},
     "output_type": "execute_result"
    }
   ],
   "source": [
    "Intermountain_parkpop['Visitors']=Intermountain_parkpop['Visitors'].str.replace(',' , '')\n",
    "Intermountain_parkpop"
   ]
  },
  {
   "cell_type": "code",
   "execution_count": 36,
   "id": "01e87dda-f246-437e-8d14-105ac16fe64f",
   "metadata": {},
   "outputs": [
    {
     "name": "stderr",
     "output_type": "stream",
     "text": [
      "C:\\Users\\Owner\\AppData\\Local\\Temp\\ipykernel_23240\\749589372.py:1: SettingWithCopyWarning: \n",
      "A value is trying to be set on a copy of a slice from a DataFrame.\n",
      "Try using .loc[row_indexer,col_indexer] = value instead\n",
      "\n",
      "See the caveats in the documentation: https://pandas.pydata.org/pandas-docs/stable/user_guide/indexing.html#returning-a-view-versus-a-copy\n",
      "  Intermountain_parkpop['Visitors']=Intermountain_parkpop['Visitors'].astype(int)\n"
     ]
    }
   ],
   "source": [
    "Intermountain_parkpop['Visitors']=Intermountain_parkpop['Visitors'].astype(int)"
   ]
  },
  {
   "cell_type": "markdown",
   "id": "812ace3e-75b9-4009-afe9-e44b8721d038",
   "metadata": {},
   "source": [
    "WHAT IS THE TOTAL NUMBER OF VISITORS OF THE INTERMOUNTAINOUS REGION"
   ]
  },
  {
   "cell_type": "code",
   "execution_count": 37,
   "id": "36ee9f46-2e20-4261-b444-acbbf36b8579",
   "metadata": {},
   "outputs": [
    {
     "data": {
      "text/plain": [
       "496427574"
      ]
     },
     "execution_count": 37,
     "metadata": {},
     "output_type": "execute_result"
    }
   ],
   "source": [
    "Intermountain_parkpop['Visitors'].sum()"
   ]
  },
  {
   "cell_type": "markdown",
   "id": "f237af12-49ee-4c19-a5ed-3bd5213d57ed",
   "metadata": {},
   "source": [
    "TOTAL VISITORS OF ALL PARKS PER YEAR"
   ]
  },
  {
   "cell_type": "code",
   "execution_count": 38,
   "id": "9d5aa490-8252-4dc0-9a60-16073f27da67",
   "metadata": {},
   "outputs": [
    {
     "name": "stderr",
     "output_type": "stream",
     "text": [
      "C:\\Users\\Owner\\AppData\\Local\\Temp\\ipykernel_23240\\971345702.py:1: SettingWithCopyWarning: \n",
      "A value is trying to be set on a copy of a slice from a DataFrame.\n",
      "Try using .loc[row_indexer,col_indexer] = value instead\n",
      "\n",
      "See the caveats in the documentation: https://pandas.pydata.org/pandas-docs/stable/user_guide/indexing.html#returning-a-view-versus-a-copy\n",
      "  Intermountain_parkpop['Visitors']=(Intermountain_parkpop['Visitors']/1000).round()\n"
     ]
    },
    {
     "data": {
      "text/html": [
       "<div>\n",
       "<style scoped>\n",
       "    .dataframe tbody tr th:only-of-type {\n",
       "        vertical-align: middle;\n",
       "    }\n",
       "\n",
       "    .dataframe tbody tr th {\n",
       "        vertical-align: top;\n",
       "    }\n",
       "\n",
       "    .dataframe thead th {\n",
       "        text-align: right;\n",
       "    }\n",
       "</style>\n",
       "<table border=\"1\" class=\"dataframe\">\n",
       "  <thead>\n",
       "    <tr style=\"text-align: right;\">\n",
       "      <th></th>\n",
       "      <th>Year</th>\n",
       "      <th>Visitors</th>\n",
       "      <th>park</th>\n",
       "    </tr>\n",
       "  </thead>\n",
       "  <tbody>\n",
       "    <tr>\n",
       "      <th>99</th>\n",
       "      <td>2007</td>\n",
       "      <td>541.0</td>\n",
       "      <td>Mesa Verde National Park</td>\n",
       "    </tr>\n",
       "    <tr>\n",
       "      <th>100</th>\n",
       "      <td>2008</td>\n",
       "      <td>551.0</td>\n",
       "      <td>Mesa Verde National Park</td>\n",
       "    </tr>\n",
       "    <tr>\n",
       "      <th>101</th>\n",
       "      <td>2009</td>\n",
       "      <td>550.0</td>\n",
       "      <td>Mesa Verde National Park</td>\n",
       "    </tr>\n",
       "    <tr>\n",
       "      <th>102</th>\n",
       "      <td>2010</td>\n",
       "      <td>560.0</td>\n",
       "      <td>Mesa Verde National Park</td>\n",
       "    </tr>\n",
       "    <tr>\n",
       "      <th>103</th>\n",
       "      <td>2011</td>\n",
       "      <td>572.0</td>\n",
       "      <td>Mesa Verde National Park</td>\n",
       "    </tr>\n",
       "    <tr>\n",
       "      <th>...</th>\n",
       "      <td>...</td>\n",
       "      <td>...</td>\n",
       "      <td>...</td>\n",
       "    </tr>\n",
       "    <tr>\n",
       "      <th>48</th>\n",
       "      <td>2019</td>\n",
       "      <td>189.0</td>\n",
       "      <td>Guadalupe Mountains National Park</td>\n",
       "    </tr>\n",
       "    <tr>\n",
       "      <th>49</th>\n",
       "      <td>2020</td>\n",
       "      <td>151.0</td>\n",
       "      <td>Guadalupe Mountains National Park</td>\n",
       "    </tr>\n",
       "    <tr>\n",
       "      <th>50</th>\n",
       "      <td>2021</td>\n",
       "      <td>243.0</td>\n",
       "      <td>Guadalupe Mountains National Park</td>\n",
       "    </tr>\n",
       "    <tr>\n",
       "      <th>51</th>\n",
       "      <td>2022</td>\n",
       "      <td>220.0</td>\n",
       "      <td>Guadalupe Mountains National Park</td>\n",
       "    </tr>\n",
       "    <tr>\n",
       "      <th>52</th>\n",
       "      <td>2023</td>\n",
       "      <td>227.0</td>\n",
       "      <td>Guadalupe Mountains National Park</td>\n",
       "    </tr>\n",
       "  </tbody>\n",
       "</table>\n",
       "<p>306 rows × 3 columns</p>\n",
       "</div>"
      ],
      "text/plain": [
       "     Year  Visitors                               park\n",
       "99   2007     541.0           Mesa Verde National Park\n",
       "100  2008     551.0           Mesa Verde National Park\n",
       "101  2009     550.0           Mesa Verde National Park\n",
       "102  2010     560.0           Mesa Verde National Park\n",
       "103  2011     572.0           Mesa Verde National Park\n",
       "..    ...       ...                                ...\n",
       "48   2019     189.0  Guadalupe Mountains National Park\n",
       "49   2020     151.0  Guadalupe Mountains National Park\n",
       "50   2021     243.0  Guadalupe Mountains National Park\n",
       "51   2022     220.0  Guadalupe Mountains National Park\n",
       "52   2023     227.0  Guadalupe Mountains National Park\n",
       "\n",
       "[306 rows x 3 columns]"
      ]
     },
     "execution_count": 38,
     "metadata": {},
     "output_type": "execute_result"
    }
   ],
   "source": [
    "Intermountain_parkpop['Visitors']=(Intermountain_parkpop['Visitors']/1000).round()\n",
    "Intermountain_parkpop"
   ]
  },
  {
   "cell_type": "code",
   "execution_count": 39,
   "id": "97cf8be4-b5b4-49d5-b946-93e99c69c54d",
   "metadata": {},
   "outputs": [
    {
     "data": {
      "text/html": [
       "<div>\n",
       "<style scoped>\n",
       "    .dataframe tbody tr th:only-of-type {\n",
       "        vertical-align: middle;\n",
       "    }\n",
       "\n",
       "    .dataframe tbody tr th {\n",
       "        vertical-align: top;\n",
       "    }\n",
       "\n",
       "    .dataframe thead th {\n",
       "        text-align: right;\n",
       "    }\n",
       "</style>\n",
       "<table border=\"1\" class=\"dataframe\">\n",
       "  <thead>\n",
       "    <tr style=\"text-align: right;\">\n",
       "      <th></th>\n",
       "      <th>Year</th>\n",
       "      <th>Visitors(1000s)</th>\n",
       "      <th>park</th>\n",
       "    </tr>\n",
       "  </thead>\n",
       "  <tbody>\n",
       "    <tr>\n",
       "      <th>99</th>\n",
       "      <td>2007</td>\n",
       "      <td>541.0</td>\n",
       "      <td>Mesa Verde National Park</td>\n",
       "    </tr>\n",
       "  </tbody>\n",
       "</table>\n",
       "</div>"
      ],
      "text/plain": [
       "    Year  Visitors(1000s)                      park\n",
       "99  2007            541.0  Mesa Verde National Park"
      ]
     },
     "execution_count": 39,
     "metadata": {},
     "output_type": "execute_result"
    }
   ],
   "source": [
    "Intermountain_parkpop=Intermountain_parkpop.rename(columns={'Visitors':'Visitors(1000s)'})\n",
    "Intermountain_parkpop.head(1)"
   ]
  },
  {
   "cell_type": "code",
   "execution_count": 40,
   "id": "f585ffc3-137a-45f9-968f-848016a3f037",
   "metadata": {},
   "outputs": [
    {
     "data": {
      "text/html": [
       "<div>\n",
       "<style scoped>\n",
       "    .dataframe tbody tr th:only-of-type {\n",
       "        vertical-align: middle;\n",
       "    }\n",
       "\n",
       "    .dataframe tbody tr th {\n",
       "        vertical-align: top;\n",
       "    }\n",
       "\n",
       "    .dataframe thead th {\n",
       "        text-align: right;\n",
       "    }\n",
       "</style>\n",
       "<table border=\"1\" class=\"dataframe\">\n",
       "  <thead>\n",
       "    <tr style=\"text-align: right;\">\n",
       "      <th></th>\n",
       "      <th>Year</th>\n",
       "      <th>Visitors(1000s)</th>\n",
       "    </tr>\n",
       "  </thead>\n",
       "  <tbody>\n",
       "    <tr>\n",
       "      <th>0</th>\n",
       "      <td>2007</td>\n",
       "      <td>23725.0</td>\n",
       "    </tr>\n",
       "    <tr>\n",
       "      <th>1</th>\n",
       "      <td>2008</td>\n",
       "      <td>23236.0</td>\n",
       "    </tr>\n",
       "    <tr>\n",
       "      <th>2</th>\n",
       "      <td>2009</td>\n",
       "      <td>24234.0</td>\n",
       "    </tr>\n",
       "    <tr>\n",
       "      <th>3</th>\n",
       "      <td>2010</td>\n",
       "      <td>25120.0</td>\n",
       "    </tr>\n",
       "    <tr>\n",
       "      <th>4</th>\n",
       "      <td>2011</td>\n",
       "      <td>24500.0</td>\n",
       "    </tr>\n",
       "    <tr>\n",
       "      <th>5</th>\n",
       "      <td>2012</td>\n",
       "      <td>25364.0</td>\n",
       "    </tr>\n",
       "    <tr>\n",
       "      <th>6</th>\n",
       "      <td>2013</td>\n",
       "      <td>24832.0</td>\n",
       "    </tr>\n",
       "    <tr>\n",
       "      <th>7</th>\n",
       "      <td>2014</td>\n",
       "      <td>27138.0</td>\n",
       "    </tr>\n",
       "    <tr>\n",
       "      <th>8</th>\n",
       "      <td>2015</td>\n",
       "      <td>30818.0</td>\n",
       "    </tr>\n",
       "    <tr>\n",
       "      <th>9</th>\n",
       "      <td>2016</td>\n",
       "      <td>34250.0</td>\n",
       "    </tr>\n",
       "    <tr>\n",
       "      <th>10</th>\n",
       "      <td>2017</td>\n",
       "      <td>35587.0</td>\n",
       "    </tr>\n",
       "    <tr>\n",
       "      <th>11</th>\n",
       "      <td>2018</td>\n",
       "      <td>35541.0</td>\n",
       "    </tr>\n",
       "    <tr>\n",
       "      <th>12</th>\n",
       "      <td>2019</td>\n",
       "      <td>35481.0</td>\n",
       "    </tr>\n",
       "    <tr>\n",
       "      <th>13</th>\n",
       "      <td>2020</td>\n",
       "      <td>25166.0</td>\n",
       "    </tr>\n",
       "    <tr>\n",
       "      <th>14</th>\n",
       "      <td>2021</td>\n",
       "      <td>35744.0</td>\n",
       "    </tr>\n",
       "    <tr>\n",
       "      <th>15</th>\n",
       "      <td>2022</td>\n",
       "      <td>31856.0</td>\n",
       "    </tr>\n",
       "    <tr>\n",
       "      <th>16</th>\n",
       "      <td>2023</td>\n",
       "      <td>33832.0</td>\n",
       "    </tr>\n",
       "  </tbody>\n",
       "</table>\n",
       "</div>"
      ],
      "text/plain": [
       "    Year  Visitors(1000s)\n",
       "0   2007          23725.0\n",
       "1   2008          23236.0\n",
       "2   2009          24234.0\n",
       "3   2010          25120.0\n",
       "4   2011          24500.0\n",
       "5   2012          25364.0\n",
       "6   2013          24832.0\n",
       "7   2014          27138.0\n",
       "8   2015          30818.0\n",
       "9   2016          34250.0\n",
       "10  2017          35587.0\n",
       "11  2018          35541.0\n",
       "12  2019          35481.0\n",
       "13  2020          25166.0\n",
       "14  2021          35744.0\n",
       "15  2022          31856.0\n",
       "16  2023          33832.0"
      ]
     },
     "execution_count": 40,
     "metadata": {},
     "output_type": "execute_result"
    }
   ],
   "source": [
    "Intermountain_parkpop.groupby('Year')['Visitors(1000s)'].sum().reset_index()"
   ]
  },
  {
   "cell_type": "code",
   "execution_count": 41,
   "id": "297c2ec4-c7cd-43f1-87d7-50e5010aa2f9",
   "metadata": {},
   "outputs": [
    {
     "data": {
      "text/html": [
       "<div>\n",
       "<style scoped>\n",
       "    .dataframe tbody tr th:only-of-type {\n",
       "        vertical-align: middle;\n",
       "    }\n",
       "\n",
       "    .dataframe tbody tr th {\n",
       "        vertical-align: top;\n",
       "    }\n",
       "\n",
       "    .dataframe thead th {\n",
       "        text-align: right;\n",
       "    }\n",
       "</style>\n",
       "<table border=\"1\" class=\"dataframe\">\n",
       "  <thead>\n",
       "    <tr style=\"text-align: right;\">\n",
       "      <th></th>\n",
       "      <th>Year</th>\n",
       "      <th>Visitors(1000s)</th>\n",
       "      <th>park</th>\n",
       "    </tr>\n",
       "  </thead>\n",
       "  <tbody>\n",
       "    <tr>\n",
       "      <th>42</th>\n",
       "      <td>2013</td>\n",
       "      <td>146.0</td>\n",
       "      <td>Guadalupe Mountains National Park</td>\n",
       "    </tr>\n",
       "    <tr>\n",
       "      <th>49</th>\n",
       "      <td>2020</td>\n",
       "      <td>151.0</td>\n",
       "      <td>Guadalupe Mountains National Park</td>\n",
       "    </tr>\n",
       "    <tr>\n",
       "      <th>40</th>\n",
       "      <td>2011</td>\n",
       "      <td>153.0</td>\n",
       "      <td>Guadalupe Mountains National Park</td>\n",
       "    </tr>\n",
       "    <tr>\n",
       "      <th>41</th>\n",
       "      <td>2012</td>\n",
       "      <td>159.0</td>\n",
       "      <td>Guadalupe Mountains National Park</td>\n",
       "    </tr>\n",
       "    <tr>\n",
       "      <th>74</th>\n",
       "      <td>2008</td>\n",
       "      <td>160.0</td>\n",
       "      <td>Black Canyon Of The Gunnison National Park</td>\n",
       "    </tr>\n",
       "    <tr>\n",
       "      <th>...</th>\n",
       "      <td>...</td>\n",
       "      <td>...</td>\n",
       "      <td>...</td>\n",
       "    </tr>\n",
       "    <tr>\n",
       "      <th>96</th>\n",
       "      <td>2015</td>\n",
       "      <td>5521.0</td>\n",
       "      <td>Grand Canyon National Park</td>\n",
       "    </tr>\n",
       "    <tr>\n",
       "      <th>97</th>\n",
       "      <td>2016</td>\n",
       "      <td>5970.0</td>\n",
       "      <td>Grand Canyon National Park</td>\n",
       "    </tr>\n",
       "    <tr>\n",
       "      <th>100</th>\n",
       "      <td>2019</td>\n",
       "      <td>5974.0</td>\n",
       "      <td>Grand Canyon National Park</td>\n",
       "    </tr>\n",
       "    <tr>\n",
       "      <th>98</th>\n",
       "      <td>2017</td>\n",
       "      <td>6254.0</td>\n",
       "      <td>Grand Canyon National Park</td>\n",
       "    </tr>\n",
       "    <tr>\n",
       "      <th>99</th>\n",
       "      <td>2018</td>\n",
       "      <td>6380.0</td>\n",
       "      <td>Grand Canyon National Park</td>\n",
       "    </tr>\n",
       "  </tbody>\n",
       "</table>\n",
       "<p>306 rows × 3 columns</p>\n",
       "</div>"
      ],
      "text/plain": [
       "     Year  Visitors(1000s)                                        park\n",
       "42   2013            146.0           Guadalupe Mountains National Park\n",
       "49   2020            151.0           Guadalupe Mountains National Park\n",
       "40   2011            153.0           Guadalupe Mountains National Park\n",
       "41   2012            159.0           Guadalupe Mountains National Park\n",
       "74   2008            160.0  Black Canyon Of The Gunnison National Park\n",
       "..    ...              ...                                         ...\n",
       "96   2015           5521.0                  Grand Canyon National Park\n",
       "97   2016           5970.0                  Grand Canyon National Park\n",
       "100  2019           5974.0                  Grand Canyon National Park\n",
       "98   2017           6254.0                  Grand Canyon National Park\n",
       "99   2018           6380.0                  Grand Canyon National Park\n",
       "\n",
       "[306 rows x 3 columns]"
      ]
     },
     "execution_count": 41,
     "metadata": {},
     "output_type": "execute_result"
    }
   ],
   "source": [
    "Intermountain_parkpop.sort_values(by='Visitors(1000s)',ascending=True)"
   ]
  },
  {
   "cell_type": "code",
   "execution_count": 42,
   "id": "a03d394b-0e4f-4ac1-85df-658d4df081aa",
   "metadata": {},
   "outputs": [
    {
     "data": {
      "text/plain": [
       "<Figure size 1000x800 with 0 Axes>"
      ]
     },
     "metadata": {},
     "output_type": "display_data"
    },
    {
     "data": {
      "image/png": "[encoded data removed]",
      "text/plain": [
       "<Figure size 500x500 with 1 Axes>"
      ]
     },
     "metadata": {},
     "output_type": "display_data"
    }
   ],
   "source": [
    "plt.figure(figsize=(10,8))\n",
    "sns.relplot(x='Year', y='Visitors(1000s)', data=Intermountain_parkpop.groupby('Year')['Visitors(1000s)'].sum().reset_index(), marker='o', linestyle='-', color='darkgreen', label='Value',kind='line')\n",
    "plt.ylim(0)\n",
    "plt.title('  Total IMR National Park Visitors Per Year', fontsize=15)\n",
    "plt.xlabel(' ')\n",
    "plt.ylabel('Visitors(1000s)', fontsize=14)\n",
    "plt.savefig('total_line_plot2.png',bbox_inches = 'tight', transparent=True);"
   ]
  },
  {
   "cell_type": "code",
   "execution_count": 43,
   "id": "b36f1bad-ae67-494d-954e-b9245571ec94",
   "metadata": {},
   "outputs": [
    {
     "data": {
      "text/plain": [
       "<Figure size 1000x800 with 0 Axes>"
      ]
     },
     "metadata": {},
     "output_type": "display_data"
    },
    {
     "data": {
      "image/png": "[encoded data removed]",
      "text/plain": [
       "<Figure size 500x500 with 1 Axes>"
      ]
     },
     "metadata": {},
     "output_type": "display_data"
    }
   ],
   "source": [
    "plt.figure(figsize=(10,8))\n",
    "sns.relplot(x='Year', y='Visitors(1000s)', data=Intermountain_parkpop.groupby('Year')['Visitors(1000s)'].sum().reset_index(), color='darkgreen',kind='line',errorbar=None)\n",
    "plt.ylim(0)\n",
    "plt.title('Total IMR National Park Visitors Per Year', fontsize=15)\n",
    "plt.xlabel('Year', fontsize=14)\n",
    "plt.ylabel('Visitors(1000s)', fontsize=14)\n",
    "plt.savefig('total_line_plot2.png',bbox_inches = 'tight', transparent=True);"
   ]
  },
  {
   "cell_type": "code",
   "execution_count": 44,
   "id": "3d0af17b-dda4-4d2e-b058-518eed2507b4",
   "metadata": {},
   "outputs": [
    {
     "data": {
      "text/html": [
       "<div>\n",
       "<style scoped>\n",
       "    .dataframe tbody tr th:only-of-type {\n",
       "        vertical-align: middle;\n",
       "    }\n",
       "\n",
       "    .dataframe tbody tr th {\n",
       "        vertical-align: top;\n",
       "    }\n",
       "\n",
       "    .dataframe thead th {\n",
       "        text-align: right;\n",
       "    }\n",
       "</style>\n",
       "<table border=\"1\" class=\"dataframe\">\n",
       "  <thead>\n",
       "    <tr style=\"text-align: right;\">\n",
       "      <th></th>\n",
       "      <th>Year</th>\n",
       "      <th>Visitors(1000s)</th>\n",
       "    </tr>\n",
       "  </thead>\n",
       "  <tbody>\n",
       "    <tr>\n",
       "      <th>0</th>\n",
       "      <td>2007</td>\n",
       "      <td>23725.0</td>\n",
       "    </tr>\n",
       "    <tr>\n",
       "      <th>1</th>\n",
       "      <td>2008</td>\n",
       "      <td>23236.0</td>\n",
       "    </tr>\n",
       "    <tr>\n",
       "      <th>2</th>\n",
       "      <td>2009</td>\n",
       "      <td>24234.0</td>\n",
       "    </tr>\n",
       "    <tr>\n",
       "      <th>3</th>\n",
       "      <td>2010</td>\n",
       "      <td>25120.0</td>\n",
       "    </tr>\n",
       "    <tr>\n",
       "      <th>4</th>\n",
       "      <td>2011</td>\n",
       "      <td>24500.0</td>\n",
       "    </tr>\n",
       "    <tr>\n",
       "      <th>5</th>\n",
       "      <td>2012</td>\n",
       "      <td>25364.0</td>\n",
       "    </tr>\n",
       "    <tr>\n",
       "      <th>6</th>\n",
       "      <td>2013</td>\n",
       "      <td>24832.0</td>\n",
       "    </tr>\n",
       "    <tr>\n",
       "      <th>7</th>\n",
       "      <td>2014</td>\n",
       "      <td>27138.0</td>\n",
       "    </tr>\n",
       "    <tr>\n",
       "      <th>8</th>\n",
       "      <td>2015</td>\n",
       "      <td>30818.0</td>\n",
       "    </tr>\n",
       "    <tr>\n",
       "      <th>9</th>\n",
       "      <td>2016</td>\n",
       "      <td>34250.0</td>\n",
       "    </tr>\n",
       "    <tr>\n",
       "      <th>10</th>\n",
       "      <td>2017</td>\n",
       "      <td>35587.0</td>\n",
       "    </tr>\n",
       "    <tr>\n",
       "      <th>11</th>\n",
       "      <td>2018</td>\n",
       "      <td>35541.0</td>\n",
       "    </tr>\n",
       "    <tr>\n",
       "      <th>12</th>\n",
       "      <td>2019</td>\n",
       "      <td>35481.0</td>\n",
       "    </tr>\n",
       "    <tr>\n",
       "      <th>13</th>\n",
       "      <td>2020</td>\n",
       "      <td>25166.0</td>\n",
       "    </tr>\n",
       "    <tr>\n",
       "      <th>14</th>\n",
       "      <td>2021</td>\n",
       "      <td>35744.0</td>\n",
       "    </tr>\n",
       "    <tr>\n",
       "      <th>15</th>\n",
       "      <td>2022</td>\n",
       "      <td>31856.0</td>\n",
       "    </tr>\n",
       "    <tr>\n",
       "      <th>16</th>\n",
       "      <td>2023</td>\n",
       "      <td>33832.0</td>\n",
       "    </tr>\n",
       "  </tbody>\n",
       "</table>\n",
       "</div>"
      ],
      "text/plain": [
       "    Year  Visitors(1000s)\n",
       "0   2007          23725.0\n",
       "1   2008          23236.0\n",
       "2   2009          24234.0\n",
       "3   2010          25120.0\n",
       "4   2011          24500.0\n",
       "5   2012          25364.0\n",
       "6   2013          24832.0\n",
       "7   2014          27138.0\n",
       "8   2015          30818.0\n",
       "9   2016          34250.0\n",
       "10  2017          35587.0\n",
       "11  2018          35541.0\n",
       "12  2019          35481.0\n",
       "13  2020          25166.0\n",
       "14  2021          35744.0\n",
       "15  2022          31856.0\n",
       "16  2023          33832.0"
      ]
     },
     "execution_count": 44,
     "metadata": {},
     "output_type": "execute_result"
    }
   ],
   "source": [
    "Intermountain_parkpop.groupby('Year')['Visitors(1000s)'].sum().reset_index()"
   ]
  },
  {
   "cell_type": "code",
   "execution_count": 45,
   "id": "84b6b028-865e-416c-be72-d62e7aec8504",
   "metadata": {},
   "outputs": [
    {
     "data": {
      "text/plain": [
       "154.0"
      ]
     },
     "execution_count": 45,
     "metadata": {},
     "output_type": "execute_result"
    }
   ],
   "source": [
    "visitors_2013=Intermountain_parkpop.loc[Intermountain_parkpop['Year']==2013]['Visitors(1000s)'].values[0]\n",
    "visitors_2017=Intermountain_parkpop.loc[Intermountain_parkpop['Year']==2017]['Visitors(1000s)'].values[0]\n",
    "visitors_sum=Intermountain_parkpop['Visitors(1000s)'].sum()\n",
    "change_in_visitors=visitors_2017-visitors_2013\n",
    "change_in_visitors"
   ]
  },
  {
   "cell_type": "code",
   "execution_count": 46,
   "id": "6dc578d7-0579-4dae-8895-63d43a9ff8c9",
   "metadata": {
    "scrolled": true
   },
   "outputs": [
    {
     "data": {
      "text/plain": [
       "0.031021868402816948"
      ]
     },
     "execution_count": 46,
     "metadata": {},
     "output_type": "execute_result"
    }
   ],
   "source": [
    "percent_change_in_visitors=(change_in_visitors/visitors_sum)*100\n",
    "percent_change_in_visitors"
   ]
  },
  {
   "cell_type": "code",
   "execution_count": 47,
   "id": "3cffe486-abc8-4d23-b3ea-db45cebb169f",
   "metadata": {},
   "outputs": [
    {
     "data": {
      "text/html": [
       "<div>\n",
       "<style scoped>\n",
       "    .dataframe tbody tr th:only-of-type {\n",
       "        vertical-align: middle;\n",
       "    }\n",
       "\n",
       "    .dataframe tbody tr th {\n",
       "        vertical-align: top;\n",
       "    }\n",
       "\n",
       "    .dataframe thead th {\n",
       "        text-align: right;\n",
       "    }\n",
       "</style>\n",
       "<table border=\"1\" class=\"dataframe\">\n",
       "  <thead>\n",
       "    <tr style=\"text-align: right;\">\n",
       "      <th></th>\n",
       "      <th>Year</th>\n",
       "      <th>Visitors(1000s)</th>\n",
       "      <th>park</th>\n",
       "    </tr>\n",
       "  </thead>\n",
       "  <tbody>\n",
       "    <tr>\n",
       "      <th>99</th>\n",
       "      <td>2007</td>\n",
       "      <td>541.0</td>\n",
       "      <td>Mesa Verde National Park</td>\n",
       "    </tr>\n",
       "    <tr>\n",
       "      <th>100</th>\n",
       "      <td>2008</td>\n",
       "      <td>551.0</td>\n",
       "      <td>Mesa Verde National Park</td>\n",
       "    </tr>\n",
       "    <tr>\n",
       "      <th>101</th>\n",
       "      <td>2009</td>\n",
       "      <td>550.0</td>\n",
       "      <td>Mesa Verde National Park</td>\n",
       "    </tr>\n",
       "    <tr>\n",
       "      <th>102</th>\n",
       "      <td>2010</td>\n",
       "      <td>560.0</td>\n",
       "      <td>Mesa Verde National Park</td>\n",
       "    </tr>\n",
       "    <tr>\n",
       "      <th>103</th>\n",
       "      <td>2011</td>\n",
       "      <td>572.0</td>\n",
       "      <td>Mesa Verde National Park</td>\n",
       "    </tr>\n",
       "    <tr>\n",
       "      <th>...</th>\n",
       "      <td>...</td>\n",
       "      <td>...</td>\n",
       "      <td>...</td>\n",
       "    </tr>\n",
       "    <tr>\n",
       "      <th>48</th>\n",
       "      <td>2019</td>\n",
       "      <td>189.0</td>\n",
       "      <td>Guadalupe Mountains National Park</td>\n",
       "    </tr>\n",
       "    <tr>\n",
       "      <th>49</th>\n",
       "      <td>2020</td>\n",
       "      <td>151.0</td>\n",
       "      <td>Guadalupe Mountains National Park</td>\n",
       "    </tr>\n",
       "    <tr>\n",
       "      <th>50</th>\n",
       "      <td>2021</td>\n",
       "      <td>243.0</td>\n",
       "      <td>Guadalupe Mountains National Park</td>\n",
       "    </tr>\n",
       "    <tr>\n",
       "      <th>51</th>\n",
       "      <td>2022</td>\n",
       "      <td>220.0</td>\n",
       "      <td>Guadalupe Mountains National Park</td>\n",
       "    </tr>\n",
       "    <tr>\n",
       "      <th>52</th>\n",
       "      <td>2023</td>\n",
       "      <td>227.0</td>\n",
       "      <td>Guadalupe Mountains National Park</td>\n",
       "    </tr>\n",
       "  </tbody>\n",
       "</table>\n",
       "<p>306 rows × 3 columns</p>\n",
       "</div>"
      ],
      "text/plain": [
       "     Year  Visitors(1000s)                               park\n",
       "99   2007            541.0           Mesa Verde National Park\n",
       "100  2008            551.0           Mesa Verde National Park\n",
       "101  2009            550.0           Mesa Verde National Park\n",
       "102  2010            560.0           Mesa Verde National Park\n",
       "103  2011            572.0           Mesa Verde National Park\n",
       "..    ...              ...                                ...\n",
       "48   2019            189.0  Guadalupe Mountains National Park\n",
       "49   2020            151.0  Guadalupe Mountains National Park\n",
       "50   2021            243.0  Guadalupe Mountains National Park\n",
       "51   2022            220.0  Guadalupe Mountains National Park\n",
       "52   2023            227.0  Guadalupe Mountains National Park\n",
       "\n",
       "[306 rows x 3 columns]"
      ]
     },
     "execution_count": 47,
     "metadata": {},
     "output_type": "execute_result"
    }
   ],
   "source": [
    "Intermountain_parkpop"
   ]
  },
  {
   "cell_type": "code",
   "execution_count": 48,
   "id": "b003c29b-9ec5-47ac-9f3d-91e7ce7a0a57",
   "metadata": {
    "scrolled": true
   },
   "outputs": [
    {
     "data": {
      "text/html": [
       "<div>\n",
       "<style scoped>\n",
       "    .dataframe tbody tr th:only-of-type {\n",
       "        vertical-align: middle;\n",
       "    }\n",
       "\n",
       "    .dataframe tbody tr th {\n",
       "        vertical-align: top;\n",
       "    }\n",
       "\n",
       "    .dataframe thead th {\n",
       "        text-align: right;\n",
       "    }\n",
       "</style>\n",
       "<table border=\"1\" class=\"dataframe\">\n",
       "  <thead>\n",
       "    <tr style=\"text-align: right;\">\n",
       "      <th></th>\n",
       "      <th>park</th>\n",
       "      <th>Visitors(1000s)</th>\n",
       "    </tr>\n",
       "  </thead>\n",
       "  <tbody>\n",
       "    <tr>\n",
       "      <th>0</th>\n",
       "      <td>Arches National Park</td>\n",
       "      <td>1300.882353</td>\n",
       "    </tr>\n",
       "    <tr>\n",
       "      <th>1</th>\n",
       "      <td>Big Bend National Park</td>\n",
       "      <td>403.588235</td>\n",
       "    </tr>\n",
       "    <tr>\n",
       "      <th>2</th>\n",
       "      <td>Black Canyon Of The Gunnison National Park</td>\n",
       "      <td>249.882353</td>\n",
       "    </tr>\n",
       "    <tr>\n",
       "      <th>3</th>\n",
       "      <td>Bryce Canyon National Park</td>\n",
       "      <td>1784.058824</td>\n",
       "    </tr>\n",
       "    <tr>\n",
       "      <th>4</th>\n",
       "      <td>Canyonlands National Park</td>\n",
       "      <td>604.058824</td>\n",
       "    </tr>\n",
       "    <tr>\n",
       "      <th>5</th>\n",
       "      <td>Carlsbad Caverns National Park</td>\n",
       "      <td>403.647059</td>\n",
       "    </tr>\n",
       "    <tr>\n",
       "      <th>6</th>\n",
       "      <td>Glacier National Park</td>\n",
       "      <td>2466.117647</td>\n",
       "    </tr>\n",
       "    <tr>\n",
       "      <th>7</th>\n",
       "      <td>Grand Canyon National Park</td>\n",
       "      <td>4859.470588</td>\n",
       "    </tr>\n",
       "    <tr>\n",
       "      <th>8</th>\n",
       "      <td>Grand Teton National Park</td>\n",
       "      <td>3007.529412</td>\n",
       "    </tr>\n",
       "    <tr>\n",
       "      <th>9</th>\n",
       "      <td>Great Sand Dunes National Park &amp; Preserve</td>\n",
       "      <td>376.352941</td>\n",
       "    </tr>\n",
       "    <tr>\n",
       "      <th>10</th>\n",
       "      <td>Guadalupe Mountains National Park</td>\n",
       "      <td>183.764706</td>\n",
       "    </tr>\n",
       "    <tr>\n",
       "      <th>11</th>\n",
       "      <td>Mesa Verde National Park</td>\n",
       "      <td>525.235294</td>\n",
       "    </tr>\n",
       "    <tr>\n",
       "      <th>12</th>\n",
       "      <td>Petrified Forest National Park</td>\n",
       "      <td>618.705882</td>\n",
       "    </tr>\n",
       "    <tr>\n",
       "      <th>13</th>\n",
       "      <td>Rocky Mountain National Park</td>\n",
       "      <td>3693.529412</td>\n",
       "    </tr>\n",
       "    <tr>\n",
       "      <th>14</th>\n",
       "      <td>Saguaro National Park</td>\n",
       "      <td>800.705882</td>\n",
       "    </tr>\n",
       "    <tr>\n",
       "      <th>15</th>\n",
       "      <td>White Sands National Park</td>\n",
       "      <td>541.058824</td>\n",
       "    </tr>\n",
       "    <tr>\n",
       "      <th>16</th>\n",
       "      <td>Yellowstone National Park</td>\n",
       "      <td>3750.588235</td>\n",
       "    </tr>\n",
       "    <tr>\n",
       "      <th>17</th>\n",
       "      <td>Zion National Park</td>\n",
       "      <td>3632.235294</td>\n",
       "    </tr>\n",
       "  </tbody>\n",
       "</table>\n",
       "</div>"
      ],
      "text/plain": [
       "                                          park  Visitors(1000s)\n",
       "0                         Arches National Park      1300.882353\n",
       "1                       Big Bend National Park       403.588235\n",
       "2   Black Canyon Of The Gunnison National Park       249.882353\n",
       "3                   Bryce Canyon National Park      1784.058824\n",
       "4                    Canyonlands National Park       604.058824\n",
       "5               Carlsbad Caverns National Park       403.647059\n",
       "6                        Glacier National Park      2466.117647\n",
       "7                   Grand Canyon National Park      4859.470588\n",
       "8                    Grand Teton National Park      3007.529412\n",
       "9    Great Sand Dunes National Park & Preserve       376.352941\n",
       "10           Guadalupe Mountains National Park       183.764706\n",
       "11                    Mesa Verde National Park       525.235294\n",
       "12              Petrified Forest National Park       618.705882\n",
       "13                Rocky Mountain National Park      3693.529412\n",
       "14                       Saguaro National Park       800.705882\n",
       "15                   White Sands National Park       541.058824\n",
       "16                   Yellowstone National Park      3750.588235\n",
       "17                          Zion National Park      3632.235294"
      ]
     },
     "execution_count": 48,
     "metadata": {},
     "output_type": "execute_result"
    }
   ],
   "source": [
    "Parkpop_forgraph=Intermountain_parkpop.groupby('park')['Visitors(1000s)'].mean().reset_index()\n",
    "Parkpop_forgraph"
   ]
  },
  {
   "cell_type": "markdown",
   "id": "5ce29556-b6ef-4213-8191-4ced50c193b5",
   "metadata": {},
   "source": [
    "TOTAL VISITORS PER PARK"
   ]
  },
  {
   "cell_type": "code",
   "execution_count": 81,
   "id": "97a5cac4-a9d4-4d09-a8ba-99f32a35cfeb",
   "metadata": {},
   "outputs": [
    {
     "data": {
      "image/png": "[encoded data removed]",
      "text/plain": [
       "<Figure size 1000x600 with 1 Axes>"
      ]
     },
     "metadata": {},
     "output_type": "display_data"
    }
   ],
   "source": [
    "plt.figure(figsize = (10,6))\n",
    "\n",
    "ax=sns.barplot(data =Parkpop_forgraph .sort_values('Visitors(1000s)',ascending=False),\n",
    "               x = 'park',\n",
    "               y = 'Visitors(1000s)', color='darkgreen',         \n",
    "                errorbar=None)\n",
    "bar_to_change= 'Big Bend National Park'\n",
    "for bar in ax.patches:\n",
    "    if bar.get_x()+ bar.get_width()/2==Parkpop_forgraph.index[Parkpop_forgraph['park']== bar_to_change][0]:\n",
    "        bar.set_color('orange')\n",
    "\n",
    "plt.title('Average Total Visitors Per Park Years 2007 - 2023', fontsize=16, fontweight='bold')\n",
    "plt.ylabel('Visitors(1000s)', fontsize=14)\n",
    "plt.xlabel(' ')\n",
    "plt.xticks(rotation=90)\n",
    "plt.savefig('totals_bar_plot.png',bbox_inches = 'tight', transparent=True);"
   ]
  },
  {
   "cell_type": "markdown",
   "id": "669f81e9-5f03-4ced-9168-a742006c1380",
   "metadata": {},
   "source": [
    "PLOT VISITOR TOTAL FOR THE TOP 5 AND BOTTOM 5 PARKS "
   ]
  },
  {
   "cell_type": "code",
   "execution_count": 60,
   "id": "b6d583e5-371f-4d71-8fd1-f461437ed2a7",
   "metadata": {},
   "outputs": [],
   "source": [
    "Top_five_parkpop=Intermountain_parkpop.groupby('park')['Visitors(1000s)'].mean().sort_values(ascending = False).head()\n",
    "Top_five_parkpop=Top_five_parkpop.reset_index()"
   ]
  },
  {
   "cell_type": "code",
   "execution_count": 61,
   "id": "debf1f36-620a-4486-8b25-0642f5f7ad74",
   "metadata": {},
   "outputs": [
    {
     "data": {
      "text/html": [
       "<div>\n",
       "<style scoped>\n",
       "    .dataframe tbody tr th:only-of-type {\n",
       "        vertical-align: middle;\n",
       "    }\n",
       "\n",
       "    .dataframe tbody tr th {\n",
       "        vertical-align: top;\n",
       "    }\n",
       "\n",
       "    .dataframe thead th {\n",
       "        text-align: right;\n",
       "    }\n",
       "</style>\n",
       "<table border=\"1\" class=\"dataframe\">\n",
       "  <thead>\n",
       "    <tr style=\"text-align: right;\">\n",
       "      <th></th>\n",
       "      <th>park</th>\n",
       "      <th>Visitors(1000s)</th>\n",
       "    </tr>\n",
       "  </thead>\n",
       "  <tbody>\n",
       "    <tr>\n",
       "      <th>0</th>\n",
       "      <td>Grand Canyon National Park</td>\n",
       "      <td>4859.470588</td>\n",
       "    </tr>\n",
       "    <tr>\n",
       "      <th>1</th>\n",
       "      <td>Yellowstone National Park</td>\n",
       "      <td>3750.588235</td>\n",
       "    </tr>\n",
       "    <tr>\n",
       "      <th>2</th>\n",
       "      <td>Rocky Mountain National Park</td>\n",
       "      <td>3693.529412</td>\n",
       "    </tr>\n",
       "    <tr>\n",
       "      <th>3</th>\n",
       "      <td>Zion National Park</td>\n",
       "      <td>3632.235294</td>\n",
       "    </tr>\n",
       "    <tr>\n",
       "      <th>4</th>\n",
       "      <td>Grand Teton National Park</td>\n",
       "      <td>3007.529412</td>\n",
       "    </tr>\n",
       "  </tbody>\n",
       "</table>\n",
       "</div>"
      ],
      "text/plain": [
       "                           park  Visitors(1000s)\n",
       "0    Grand Canyon National Park      4859.470588\n",
       "1     Yellowstone National Park      3750.588235\n",
       "2  Rocky Mountain National Park      3693.529412\n",
       "3            Zion National Park      3632.235294\n",
       "4     Grand Teton National Park      3007.529412"
      ]
     },
     "execution_count": 61,
     "metadata": {},
     "output_type": "execute_result"
    }
   ],
   "source": [
    "Top_five_parkpop.head()"
   ]
  },
  {
   "cell_type": "code",
   "execution_count": 63,
   "id": "fc539051-a26b-450b-8d63-696a9b576b6b",
   "metadata": {},
   "outputs": [
    {
     "data": {
      "text/html": [
       "<div>\n",
       "<style scoped>\n",
       "    .dataframe tbody tr th:only-of-type {\n",
       "        vertical-align: middle;\n",
       "    }\n",
       "\n",
       "    .dataframe tbody tr th {\n",
       "        vertical-align: top;\n",
       "    }\n",
       "\n",
       "    .dataframe thead th {\n",
       "        text-align: right;\n",
       "    }\n",
       "</style>\n",
       "<table border=\"1\" class=\"dataframe\">\n",
       "  <thead>\n",
       "    <tr style=\"text-align: right;\">\n",
       "      <th></th>\n",
       "      <th>park</th>\n",
       "      <th>Visitors(1000s)</th>\n",
       "      <th>Rank</th>\n",
       "    </tr>\n",
       "  </thead>\n",
       "  <tbody>\n",
       "    <tr>\n",
       "      <th>0</th>\n",
       "      <td>Grand Canyon National Park</td>\n",
       "      <td>4859.470588</td>\n",
       "      <td>Top 5</td>\n",
       "    </tr>\n",
       "    <tr>\n",
       "      <th>1</th>\n",
       "      <td>Yellowstone National Park</td>\n",
       "      <td>3750.588235</td>\n",
       "      <td>Top 5</td>\n",
       "    </tr>\n",
       "    <tr>\n",
       "      <th>2</th>\n",
       "      <td>Rocky Mountain National Park</td>\n",
       "      <td>3693.529412</td>\n",
       "      <td>Top 5</td>\n",
       "    </tr>\n",
       "    <tr>\n",
       "      <th>3</th>\n",
       "      <td>Zion National Park</td>\n",
       "      <td>3632.235294</td>\n",
       "      <td>Top 5</td>\n",
       "    </tr>\n",
       "    <tr>\n",
       "      <th>4</th>\n",
       "      <td>Grand Teton National Park</td>\n",
       "      <td>3007.529412</td>\n",
       "      <td>Top 5</td>\n",
       "    </tr>\n",
       "  </tbody>\n",
       "</table>\n",
       "</div>"
      ],
      "text/plain": [
       "                           park  Visitors(1000s)   Rank\n",
       "0    Grand Canyon National Park      4859.470588  Top 5\n",
       "1     Yellowstone National Park      3750.588235  Top 5\n",
       "2  Rocky Mountain National Park      3693.529412  Top 5\n",
       "3            Zion National Park      3632.235294  Top 5\n",
       "4     Grand Teton National Park      3007.529412  Top 5"
      ]
     },
     "execution_count": 63,
     "metadata": {},
     "output_type": "execute_result"
    }
   ],
   "source": [
    "Top_five_parkpop['Rank']='Top 5'\n",
    "Top_five_parkpop"
   ]
  },
  {
   "cell_type": "code",
   "execution_count": 64,
   "id": "4e6f8f5c-301a-467d-88a2-9b5790af2e71",
   "metadata": {},
   "outputs": [
    {
     "data": {
      "text/html": [
       "<div>\n",
       "<style scoped>\n",
       "    .dataframe tbody tr th:only-of-type {\n",
       "        vertical-align: middle;\n",
       "    }\n",
       "\n",
       "    .dataframe tbody tr th {\n",
       "        vertical-align: top;\n",
       "    }\n",
       "\n",
       "    .dataframe thead th {\n",
       "        text-align: right;\n",
       "    }\n",
       "</style>\n",
       "<table border=\"1\" class=\"dataframe\">\n",
       "  <thead>\n",
       "    <tr style=\"text-align: right;\">\n",
       "      <th></th>\n",
       "      <th>park</th>\n",
       "      <th>Visitors(1000s)</th>\n",
       "    </tr>\n",
       "  </thead>\n",
       "  <tbody>\n",
       "    <tr>\n",
       "      <th>0</th>\n",
       "      <td>Carlsbad Caverns National Park</td>\n",
       "      <td>403.647059</td>\n",
       "    </tr>\n",
       "    <tr>\n",
       "      <th>1</th>\n",
       "      <td>Big Bend National Park</td>\n",
       "      <td>403.588235</td>\n",
       "    </tr>\n",
       "    <tr>\n",
       "      <th>2</th>\n",
       "      <td>Great Sand Dunes National Park &amp; Preserve</td>\n",
       "      <td>376.352941</td>\n",
       "    </tr>\n",
       "    <tr>\n",
       "      <th>3</th>\n",
       "      <td>Black Canyon Of The Gunnison National Park</td>\n",
       "      <td>249.882353</td>\n",
       "    </tr>\n",
       "    <tr>\n",
       "      <th>4</th>\n",
       "      <td>Guadalupe Mountains National Park</td>\n",
       "      <td>183.764706</td>\n",
       "    </tr>\n",
       "  </tbody>\n",
       "</table>\n",
       "</div>"
      ],
      "text/plain": [
       "                                         park  Visitors(1000s)\n",
       "0              Carlsbad Caverns National Park       403.647059\n",
       "1                      Big Bend National Park       403.588235\n",
       "2   Great Sand Dunes National Park & Preserve       376.352941\n",
       "3  Black Canyon Of The Gunnison National Park       249.882353\n",
       "4           Guadalupe Mountains National Park       183.764706"
      ]
     },
     "execution_count": 64,
     "metadata": {},
     "output_type": "execute_result"
    }
   ],
   "source": [
    "Bottom_five_parkpop=Intermountain_parkpop.groupby('park')['Visitors(1000s)'].mean().sort_values(ascending = False).tail()\n",
    "Bottom_five_parkpop=Bottom_five_parkpop.to_frame().reset_index()\n",
    "Bottom_five_parkpop.head()"
   ]
  },
  {
   "cell_type": "code",
   "execution_count": 65,
   "id": "5b980916-d34c-4c53-9e29-537114aaa40a",
   "metadata": {},
   "outputs": [
    {
     "data": {
      "text/html": [
       "<div>\n",
       "<style scoped>\n",
       "    .dataframe tbody tr th:only-of-type {\n",
       "        vertical-align: middle;\n",
       "    }\n",
       "\n",
       "    .dataframe tbody tr th {\n",
       "        vertical-align: top;\n",
       "    }\n",
       "\n",
       "    .dataframe thead th {\n",
       "        text-align: right;\n",
       "    }\n",
       "</style>\n",
       "<table border=\"1\" class=\"dataframe\">\n",
       "  <thead>\n",
       "    <tr style=\"text-align: right;\">\n",
       "      <th></th>\n",
       "      <th>park</th>\n",
       "      <th>Visitors(1000s)</th>\n",
       "      <th>Rank</th>\n",
       "    </tr>\n",
       "  </thead>\n",
       "  <tbody>\n",
       "    <tr>\n",
       "      <th>0</th>\n",
       "      <td>Carlsbad Caverns National Park</td>\n",
       "      <td>403.647059</td>\n",
       "      <td>Bottom 5</td>\n",
       "    </tr>\n",
       "    <tr>\n",
       "      <th>1</th>\n",
       "      <td>Big Bend National Park</td>\n",
       "      <td>403.588235</td>\n",
       "      <td>Bottom 5</td>\n",
       "    </tr>\n",
       "    <tr>\n",
       "      <th>2</th>\n",
       "      <td>Great Sand Dunes National Park &amp; Preserve</td>\n",
       "      <td>376.352941</td>\n",
       "      <td>Bottom 5</td>\n",
       "    </tr>\n",
       "    <tr>\n",
       "      <th>3</th>\n",
       "      <td>Black Canyon Of The Gunnison National Park</td>\n",
       "      <td>249.882353</td>\n",
       "      <td>Bottom 5</td>\n",
       "    </tr>\n",
       "    <tr>\n",
       "      <th>4</th>\n",
       "      <td>Guadalupe Mountains National Park</td>\n",
       "      <td>183.764706</td>\n",
       "      <td>Bottom 5</td>\n",
       "    </tr>\n",
       "  </tbody>\n",
       "</table>\n",
       "</div>"
      ],
      "text/plain": [
       "                                         park  Visitors(1000s)      Rank\n",
       "0              Carlsbad Caverns National Park       403.647059  Bottom 5\n",
       "1                      Big Bend National Park       403.588235  Bottom 5\n",
       "2   Great Sand Dunes National Park & Preserve       376.352941  Bottom 5\n",
       "3  Black Canyon Of The Gunnison National Park       249.882353  Bottom 5\n",
       "4           Guadalupe Mountains National Park       183.764706  Bottom 5"
      ]
     },
     "execution_count": 65,
     "metadata": {},
     "output_type": "execute_result"
    }
   ],
   "source": [
    "Bottom_five_parkpop['Rank']='Bottom 5'\n",
    "Bottom_five_parkpop"
   ]
  },
  {
   "cell_type": "code",
   "execution_count": 66,
   "id": "f6181141-ec9c-4e99-964c-e5b6146be080",
   "metadata": {},
   "outputs": [
    {
     "data": {
      "text/html": [
       "<div>\n",
       "<style scoped>\n",
       "    .dataframe tbody tr th:only-of-type {\n",
       "        vertical-align: middle;\n",
       "    }\n",
       "\n",
       "    .dataframe tbody tr th {\n",
       "        vertical-align: top;\n",
       "    }\n",
       "\n",
       "    .dataframe thead th {\n",
       "        text-align: right;\n",
       "    }\n",
       "</style>\n",
       "<table border=\"1\" class=\"dataframe\">\n",
       "  <thead>\n",
       "    <tr style=\"text-align: right;\">\n",
       "      <th></th>\n",
       "      <th>park</th>\n",
       "      <th>Visitors(1000s)</th>\n",
       "      <th>Rank</th>\n",
       "    </tr>\n",
       "  </thead>\n",
       "  <tbody>\n",
       "    <tr>\n",
       "      <th>0</th>\n",
       "      <td>Grand Canyon National Park</td>\n",
       "      <td>4859.470588</td>\n",
       "      <td>Top 5</td>\n",
       "    </tr>\n",
       "    <tr>\n",
       "      <th>1</th>\n",
       "      <td>Yellowstone National Park</td>\n",
       "      <td>3750.588235</td>\n",
       "      <td>Top 5</td>\n",
       "    </tr>\n",
       "    <tr>\n",
       "      <th>2</th>\n",
       "      <td>Rocky Mountain National Park</td>\n",
       "      <td>3693.529412</td>\n",
       "      <td>Top 5</td>\n",
       "    </tr>\n",
       "    <tr>\n",
       "      <th>3</th>\n",
       "      <td>Zion National Park</td>\n",
       "      <td>3632.235294</td>\n",
       "      <td>Top 5</td>\n",
       "    </tr>\n",
       "    <tr>\n",
       "      <th>4</th>\n",
       "      <td>Grand Teton National Park</td>\n",
       "      <td>3007.529412</td>\n",
       "      <td>Top 5</td>\n",
       "    </tr>\n",
       "    <tr>\n",
       "      <th>0</th>\n",
       "      <td>Carlsbad Caverns National Park</td>\n",
       "      <td>403.647059</td>\n",
       "      <td>Bottom 5</td>\n",
       "    </tr>\n",
       "    <tr>\n",
       "      <th>1</th>\n",
       "      <td>Big Bend National Park</td>\n",
       "      <td>403.588235</td>\n",
       "      <td>Bottom 5</td>\n",
       "    </tr>\n",
       "    <tr>\n",
       "      <th>2</th>\n",
       "      <td>Great Sand Dunes National Park &amp; Preserve</td>\n",
       "      <td>376.352941</td>\n",
       "      <td>Bottom 5</td>\n",
       "    </tr>\n",
       "    <tr>\n",
       "      <th>3</th>\n",
       "      <td>Black Canyon Of The Gunnison National Park</td>\n",
       "      <td>249.882353</td>\n",
       "      <td>Bottom 5</td>\n",
       "    </tr>\n",
       "    <tr>\n",
       "      <th>4</th>\n",
       "      <td>Guadalupe Mountains National Park</td>\n",
       "      <td>183.764706</td>\n",
       "      <td>Bottom 5</td>\n",
       "    </tr>\n",
       "  </tbody>\n",
       "</table>\n",
       "</div>"
      ],
      "text/plain": [
       "                                         park  Visitors(1000s)      Rank\n",
       "0                  Grand Canyon National Park      4859.470588     Top 5\n",
       "1                   Yellowstone National Park      3750.588235     Top 5\n",
       "2                Rocky Mountain National Park      3693.529412     Top 5\n",
       "3                          Zion National Park      3632.235294     Top 5\n",
       "4                   Grand Teton National Park      3007.529412     Top 5\n",
       "0              Carlsbad Caverns National Park       403.647059  Bottom 5\n",
       "1                      Big Bend National Park       403.588235  Bottom 5\n",
       "2   Great Sand Dunes National Park & Preserve       376.352941  Bottom 5\n",
       "3  Black Canyon Of The Gunnison National Park       249.882353  Bottom 5\n",
       "4           Guadalupe Mountains National Park       183.764706  Bottom 5"
      ]
     },
     "execution_count": 66,
     "metadata": {},
     "output_type": "execute_result"
    }
   ],
   "source": [
    "top_and_bottom_5=pd.concat([Top_five_parkpop,Bottom_five_parkpop])\n",
    "top_and_bottom_5"
   ]
  },
  {
   "cell_type": "code",
   "execution_count": 71,
   "id": "b8c8b472-b558-4446-bbd8-6acc3933c82e",
   "metadata": {},
   "outputs": [
    {
     "data": {
      "text/plain": [
       "<Figure size 1000x600 with 0 Axes>"
      ]
     },
     "metadata": {},
     "output_type": "display_data"
    },
    {
     "data": {
      "image/png": "[encoded data removed]",
      "text/plain": [
       "<Figure size 640x480 with 1 Axes>"
      ]
     },
     "metadata": {},
     "output_type": "display_data"
    }
   ],
   "source": [
    "plt.figure(figsize = (10,6))\n",
    "top_and_bottom_5.sort_values('Visitors(1000s)',ascending=False).plot.bar('park', 'Visitors(1000s)')\n",
    "\n",
    "\n",
    "ci=None\n",
    "color='darkgreen'\n",
    "plt.xticks(rotation=90)\n",
    "plt.title('Top and Bottom 5 Park Visitor Totals')\n",
    "plt.ylabel('Visitors(1000s)')\n",
    "plt.savefig('totals_bar_plot.png',bbox_inches = 'tight', transparent=True)\n",
    "plt.show();"
   ]
  },
  {
   "cell_type": "code",
   "execution_count": 83,
   "id": "32ead717-d91c-4ffd-b287-97ec0d79f5cd",
   "metadata": {},
   "outputs": [
    {
     "ename": "AttributeError",
     "evalue": "'DataFrame' object has no attribute 'plt'",
     "output_type": "error",
     "traceback": [
      "\u001b[1;31m---------------------------------------------------------------------------\u001b[0m",
      "\u001b[1;31mAttributeError\u001b[0m                            Traceback (most recent call last)",
      "\u001b[1;32m~\\AppData\\Local\\Temp\\ipykernel_23240\\567862534.py\u001b[0m in \u001b[0;36m?\u001b[1;34m()\u001b[0m\n\u001b[0;32m      3\u001b[0m \u001b[1;33m\u001b[0m\u001b[0m\n\u001b[0;32m      4\u001b[0m \u001b[0mmask1\u001b[0m \u001b[1;33m=\u001b[0m \u001b[1;34m'Visitors(1000s)'\u001b[0m \u001b[1;33m>\u001b[0m\u001b[1;34m'20000'\u001b[0m\u001b[1;33m\u001b[0m\u001b[1;33m\u001b[0m\u001b[0m\n\u001b[0;32m      5\u001b[0m \u001b[0mmask2\u001b[0m \u001b[1;33m=\u001b[0m \u001b[1;34m'Visitors(1000s)'\u001b[0m \u001b[1;33m<\u001b[0m\u001b[1;34m'20000'\u001b[0m\u001b[1;33m\u001b[0m\u001b[1;33m\u001b[0m\u001b[0m\n\u001b[0;32m      6\u001b[0m \u001b[1;33m\u001b[0m\u001b[0m\n\u001b[1;32m----> 7\u001b[1;33m \u001b[0mtop_and_bottom_5\u001b[0m\u001b[1;33m.\u001b[0m\u001b[0msort_values\u001b[0m\u001b[1;33m(\u001b[0m\u001b[1;34m'Visitors(1000s)'\u001b[0m\u001b[1;33m,\u001b[0m\u001b[0mascending\u001b[0m\u001b[1;33m=\u001b[0m\u001b[1;32mFalse\u001b[0m\u001b[1;33m)\u001b[0m\u001b[1;33m.\u001b[0m\u001b[0mplt\u001b[0m\u001b[1;33m.\u001b[0m\u001b[0mbar\u001b[0m\u001b[1;33m(\u001b[0m\u001b[0mpark\u001b[0m\u001b[1;33m[\u001b[0m\u001b[0mmask1\u001b[0m\u001b[1;33m]\u001b[0m\u001b[1;33m,\u001b[0m \u001b[1;34m'Visitors(1000s)'\u001b[0m\u001b[1;33m[\u001b[0m\u001b[0mmask1\u001b[0m\u001b[1;33m]\u001b[0m\u001b[1;33m,\u001b[0m \u001b[0mcolor\u001b[0m \u001b[1;33m=\u001b[0m \u001b[1;33m(\u001b[0m\u001b[1;34m'green'\u001b[0m\u001b[1;33m)\u001b[0m\u001b[1;33m)\u001b[0m\u001b[1;33m\u001b[0m\u001b[1;33m\u001b[0m\u001b[0m\n\u001b[0m\u001b[0;32m      8\u001b[0m \u001b[0mtop_and_bottom_5\u001b[0m\u001b[1;33m.\u001b[0m\u001b[0msort_values\u001b[0m\u001b[1;33m(\u001b[0m\u001b[1;34m'Visitors(1000s)'\u001b[0m\u001b[1;33m,\u001b[0m\u001b[0mascending\u001b[0m\u001b[1;33m=\u001b[0m\u001b[1;32mFalse\u001b[0m\u001b[1;33m)\u001b[0m\u001b[1;33m.\u001b[0m\u001b[0mplt\u001b[0m\u001b[1;33m.\u001b[0m\u001b[0mbar\u001b[0m\u001b[1;33m(\u001b[0m\u001b[0mpark\u001b[0m\u001b[1;33m[\u001b[0m\u001b[0mmask2\u001b[0m\u001b[1;33m]\u001b[0m\u001b[1;33m,\u001b[0m \u001b[1;34m'Visitors(1000s)'\u001b[0m\u001b[1;33m[\u001b[0m\u001b[0mmask2\u001b[0m\u001b[1;33m]\u001b[0m\u001b[1;33m,\u001b[0m \u001b[0mcolor\u001b[0m \u001b[1;33m=\u001b[0m \u001b[1;33m(\u001b[0m\u001b[1;34m'blue'\u001b[0m\u001b[1;33m)\u001b[0m\u001b[1;33m)\u001b[0m\u001b[1;33m\u001b[0m\u001b[1;33m\u001b[0m\u001b[0m\n\u001b[0;32m      9\u001b[0m \u001b[0mci\u001b[0m\u001b[1;33m=\u001b[0m\u001b[1;32mNone\u001b[0m\u001b[1;33m\u001b[0m\u001b[1;33m\u001b[0m\u001b[0m\n\u001b[0;32m     10\u001b[0m \u001b[0mplt\u001b[0m\u001b[1;33m.\u001b[0m\u001b[0mxticks\u001b[0m\u001b[1;33m(\u001b[0m\u001b[0mrotation\u001b[0m\u001b[1;33m=\u001b[0m\u001b[1;36m90\u001b[0m\u001b[1;33m)\u001b[0m\u001b[1;33m\u001b[0m\u001b[1;33m\u001b[0m\u001b[0m\n",
      "\u001b[1;32m~\\anaconda3\\Lib\\site-packages\\pandas\\core\\generic.py\u001b[0m in \u001b[0;36m?\u001b[1;34m(self, name)\u001b[0m\n\u001b[0;32m   6295\u001b[0m             \u001b[1;32mand\u001b[0m \u001b[0mname\u001b[0m \u001b[1;32mnot\u001b[0m \u001b[1;32min\u001b[0m \u001b[0mself\u001b[0m\u001b[1;33m.\u001b[0m\u001b[0m_accessors\u001b[0m\u001b[1;33m\u001b[0m\u001b[1;33m\u001b[0m\u001b[0m\n\u001b[0;32m   6296\u001b[0m             \u001b[1;32mand\u001b[0m \u001b[0mself\u001b[0m\u001b[1;33m.\u001b[0m\u001b[0m_info_axis\u001b[0m\u001b[1;33m.\u001b[0m\u001b[0m_can_hold_identifiers_and_holds_name\u001b[0m\u001b[1;33m(\u001b[0m\u001b[0mname\u001b[0m\u001b[1;33m)\u001b[0m\u001b[1;33m\u001b[0m\u001b[1;33m\u001b[0m\u001b[0m\n\u001b[0;32m   6297\u001b[0m         \u001b[1;33m)\u001b[0m\u001b[1;33m:\u001b[0m\u001b[1;33m\u001b[0m\u001b[1;33m\u001b[0m\u001b[0m\n\u001b[0;32m   6298\u001b[0m             \u001b[1;32mreturn\u001b[0m \u001b[0mself\u001b[0m\u001b[1;33m[\u001b[0m\u001b[0mname\u001b[0m\u001b[1;33m]\u001b[0m\u001b[1;33m\u001b[0m\u001b[1;33m\u001b[0m\u001b[0m\n\u001b[1;32m-> 6299\u001b[1;33m         \u001b[1;32mreturn\u001b[0m \u001b[0mobject\u001b[0m\u001b[1;33m.\u001b[0m\u001b[0m__getattribute__\u001b[0m\u001b[1;33m(\u001b[0m\u001b[0mself\u001b[0m\u001b[1;33m,\u001b[0m \u001b[0mname\u001b[0m\u001b[1;33m)\u001b[0m\u001b[1;33m\u001b[0m\u001b[1;33m\u001b[0m\u001b[0m\n\u001b[0m",
      "\u001b[1;31mAttributeError\u001b[0m: 'DataFrame' object has no attribute 'plt'"
     ]
    },
    {
     "data": {
      "text/plain": [
       "<Figure size 1000x600 with 0 Axes>"
      ]
     },
     "metadata": {},
     "output_type": "display_data"
    }
   ],
   "source": [
    "plt.figure(figsize = (10,6))\n",
    "\n",
    "\n",
    "mask1 = 'Visitors(1000s)' >'20000'\n",
    "mask2 = 'Visitors(1000s)' <'20000'\n",
    "\n",
    "top_and_bottom_5.sort_values('Visitors(1000s)',ascending=False).plt.bar(park[mask1], 'Visitors(1000s)'[mask1], color = ('green'))\n",
    "top_and_bottom_5.sort_values('Visitors(1000s)',ascending=False).plt.bar(park[mask2], 'Visitors(1000s)'[mask2], color = ('blue'))\n",
    "ci=None\n",
    "plt.xticks(rotation=90)\n",
    "plt.show()"
   ]
  },
  {
   "cell_type": "code",
   "execution_count": 84,
   "id": "1b0510c2-1476-4acf-b5f3-aafb3aa4cbdf",
   "metadata": {},
   "outputs": [
    {
     "data": {
      "text/html": [
       "<div>\n",
       "<style scoped>\n",
       "    .dataframe tbody tr th:only-of-type {\n",
       "        vertical-align: middle;\n",
       "    }\n",
       "\n",
       "    .dataframe tbody tr th {\n",
       "        vertical-align: top;\n",
       "    }\n",
       "\n",
       "    .dataframe thead th {\n",
       "        text-align: right;\n",
       "    }\n",
       "</style>\n",
       "<table border=\"1\" class=\"dataframe\">\n",
       "  <thead>\n",
       "    <tr style=\"text-align: right;\">\n",
       "      <th></th>\n",
       "      <th>Incident Date</th>\n",
       "      <th>Park Name</th>\n",
       "      <th>Cause of Death</th>\n",
       "      <th>Cause of Death Group \\n(Used in the NPS Mortality Dashboard)</th>\n",
       "      <th>Intent</th>\n",
       "      <th>Outcome</th>\n",
       "      <th>Sex</th>\n",
       "      <th>Age Range</th>\n",
       "      <th>Activity</th>\n",
       "    </tr>\n",
       "  </thead>\n",
       "  <tbody>\n",
       "    <tr>\n",
       "      <th>0</th>\n",
       "      <td>1/1/2007</td>\n",
       "      <td>Glen Canyon National Recreation Area</td>\n",
       "      <td>Undetermined</td>\n",
       "      <td>Undetermined</td>\n",
       "      <td>Undetermined</td>\n",
       "      <td>Fatal injury</td>\n",
       "      <td>Male</td>\n",
       "      <td>65+</td>\n",
       "      <td>Not Reported</td>\n",
       "    </tr>\n",
       "  </tbody>\n",
       "</table>\n",
       "</div>"
      ],
      "text/plain": [
       "  Incident Date                             Park Name Cause of Death  \\\n",
       "0      1/1/2007  Glen Canyon National Recreation Area   Undetermined   \n",
       "\n",
       "  Cause of Death Group \\n(Used in the NPS Mortality Dashboard)         Intent  \\\n",
       "0                                       Undetermined             Undetermined   \n",
       "\n",
       "        Outcome   Sex Age Range      Activity  \n",
       "0  Fatal injury  Male       65+  Not Reported  "
      ]
     },
     "execution_count": 84,
     "metadata": {},
     "output_type": "execute_result"
    }
   ],
   "source": [
    "nps_deaths.head(1)"
   ]
  },
  {
   "cell_type": "code",
   "execution_count": 85,
   "id": "f44dc628-70f2-4510-970d-861e69819c26",
   "metadata": {},
   "outputs": [],
   "source": [
    "List=['Petrified Forest National Park','Big Bend National Park','Carlsbad Caverns National Park','Glacier Bay National Park & Preserve', 'Arches National Park','Guadalupe Mountains National Park','Mesa Verde National Park','Bryce Canyon National Park','White Sands National Park','Great Sand Dunes National Park & Preserve','Glacier National Park','Saguaro National Park','Canyonlands National Park','Rocky Mountain National Park','Yellowstone National Park','Zion National Park','Grand Teton National Park','Grand Canyon National Park','Black Canyon Of The Gunnison National Park',]"
   ]
  },
  {
   "cell_type": "markdown",
   "id": "4b64d7cf-cc92-4b1e-8082-d765087ead2f",
   "metadata": {},
   "source": [
    "CLEAN UP FOR CONSISTENCY IN PARK NAME"
   ]
  },
  {
   "cell_type": "code",
   "execution_count": 86,
   "id": "31aa1b30-3c2e-4c20-b3c2-3003629e3c02",
   "metadata": {
    "scrolled": true
   },
   "outputs": [
    {
     "data": {
      "text/html": [
       "<div>\n",
       "<style scoped>\n",
       "    .dataframe tbody tr th:only-of-type {\n",
       "        vertical-align: middle;\n",
       "    }\n",
       "\n",
       "    .dataframe tbody tr th {\n",
       "        vertical-align: top;\n",
       "    }\n",
       "\n",
       "    .dataframe thead th {\n",
       "        text-align: right;\n",
       "    }\n",
       "</style>\n",
       "<table border=\"1\" class=\"dataframe\">\n",
       "  <thead>\n",
       "    <tr style=\"text-align: right;\">\n",
       "      <th></th>\n",
       "      <th>Incident Date</th>\n",
       "      <th>Park Name</th>\n",
       "      <th>Cause of Death</th>\n",
       "      <th>Cause of Death Group \\n(Used in the NPS Mortality Dashboard)</th>\n",
       "      <th>Intent</th>\n",
       "      <th>Outcome</th>\n",
       "      <th>Sex</th>\n",
       "      <th>Age Range</th>\n",
       "      <th>Activity</th>\n",
       "    </tr>\n",
       "  </thead>\n",
       "  <tbody>\n",
       "    <tr>\n",
       "      <th>6</th>\n",
       "      <td>2/10/2007</td>\n",
       "      <td>Black Canyon Of The Gunnison National Park</td>\n",
       "      <td>Fall</td>\n",
       "      <td>Fall</td>\n",
       "      <td>Unintentional</td>\n",
       "      <td>Fatal injury</td>\n",
       "      <td>Female</td>\n",
       "      <td>15-24</td>\n",
       "      <td>Not Reported</td>\n",
       "    </tr>\n",
       "    <tr>\n",
       "      <th>20</th>\n",
       "      <td>3/31/2007</td>\n",
       "      <td>Grand Canyon National Park</td>\n",
       "      <td>Drowning</td>\n",
       "      <td>Drowning</td>\n",
       "      <td>Unintentional</td>\n",
       "      <td>Fatal injury</td>\n",
       "      <td>Male</td>\n",
       "      <td>55-64</td>\n",
       "      <td>Vessel Related</td>\n",
       "    </tr>\n",
       "    <tr>\n",
       "      <th>21</th>\n",
       "      <td>4/2/2007</td>\n",
       "      <td>Grand Canyon National Park</td>\n",
       "      <td>Fall</td>\n",
       "      <td>Fall</td>\n",
       "      <td>Unintentional</td>\n",
       "      <td>Fatal injury</td>\n",
       "      <td>Male</td>\n",
       "      <td>Not Reported</td>\n",
       "      <td>Not Reported</td>\n",
       "    </tr>\n",
       "    <tr>\n",
       "      <th>32</th>\n",
       "      <td>4/30/2007</td>\n",
       "      <td>Grand Teton National Park</td>\n",
       "      <td>Fall</td>\n",
       "      <td>Fall</td>\n",
       "      <td>Unintentional</td>\n",
       "      <td>Fatal injury</td>\n",
       "      <td>Male</td>\n",
       "      <td>25-34</td>\n",
       "      <td>Climbing</td>\n",
       "    </tr>\n",
       "    <tr>\n",
       "      <th>33</th>\n",
       "      <td>4/30/2007</td>\n",
       "      <td>Grand Teton National Park</td>\n",
       "      <td>Fall</td>\n",
       "      <td>Fall</td>\n",
       "      <td>Unintentional</td>\n",
       "      <td>Fatal injury</td>\n",
       "      <td>Male</td>\n",
       "      <td>35-44</td>\n",
       "      <td>Climbing</td>\n",
       "    </tr>\n",
       "    <tr>\n",
       "      <th>...</th>\n",
       "      <td>...</td>\n",
       "      <td>...</td>\n",
       "      <td>...</td>\n",
       "      <td>...</td>\n",
       "      <td>...</td>\n",
       "      <td>...</td>\n",
       "      <td>...</td>\n",
       "      <td>...</td>\n",
       "      <td>...</td>\n",
       "    </tr>\n",
       "    <tr>\n",
       "      <th>4592</th>\n",
       "      <td>5/10/2024</td>\n",
       "      <td>Grand Canyon National Park</td>\n",
       "      <td>Suicide</td>\n",
       "      <td>Suicide</td>\n",
       "      <td>Intentional</td>\n",
       "      <td>Fatal Injury</td>\n",
       "      <td>Male</td>\n",
       "      <td>55-64</td>\n",
       "      <td>Suicide</td>\n",
       "    </tr>\n",
       "    <tr>\n",
       "      <th>4611</th>\n",
       "      <td>6/7/2024</td>\n",
       "      <td>Bryce Canyon National Park</td>\n",
       "      <td>Fall</td>\n",
       "      <td>Fall</td>\n",
       "      <td>Unintentional</td>\n",
       "      <td>Fatal Injury</td>\n",
       "      <td>Not Reported</td>\n",
       "      <td>65+</td>\n",
       "      <td>Walking</td>\n",
       "    </tr>\n",
       "    <tr>\n",
       "      <th>4621</th>\n",
       "      <td>6/16/2024</td>\n",
       "      <td>Grand Canyon National Park</td>\n",
       "      <td>Undetermined</td>\n",
       "      <td>Undetermined</td>\n",
       "      <td>Undetermined</td>\n",
       "      <td>Fatal Injury</td>\n",
       "      <td>Male</td>\n",
       "      <td>35-44</td>\n",
       "      <td>Hiking</td>\n",
       "    </tr>\n",
       "    <tr>\n",
       "      <th>4622</th>\n",
       "      <td>6/17/2024</td>\n",
       "      <td>Grand Canyon National Park</td>\n",
       "      <td>Medical - Not during physical activity</td>\n",
       "      <td>Medical - Not during physical activity</td>\n",
       "      <td>Medical</td>\n",
       "      <td>Fatal Injury</td>\n",
       "      <td>Male</td>\n",
       "      <td>65+</td>\n",
       "      <td>Sleeping</td>\n",
       "    </tr>\n",
       "    <tr>\n",
       "      <th>4633</th>\n",
       "      <td>6/29/2024</td>\n",
       "      <td>Grand Canyon National Park</td>\n",
       "      <td>Undetermined</td>\n",
       "      <td>Undetermined</td>\n",
       "      <td>Undetermined</td>\n",
       "      <td>Fatal Injury</td>\n",
       "      <td>Male</td>\n",
       "      <td>45-54</td>\n",
       "      <td>Hiking</td>\n",
       "    </tr>\n",
       "  </tbody>\n",
       "</table>\n",
       "<p>705 rows × 9 columns</p>\n",
       "</div>"
      ],
      "text/plain": [
       "     Incident Date                                   Park Name  \\\n",
       "6        2/10/2007  Black Canyon Of The Gunnison National Park   \n",
       "20       3/31/2007                  Grand Canyon National Park   \n",
       "21        4/2/2007                  Grand Canyon National Park   \n",
       "32       4/30/2007                   Grand Teton National Park   \n",
       "33       4/30/2007                   Grand Teton National Park   \n",
       "...            ...                                         ...   \n",
       "4592     5/10/2024                  Grand Canyon National Park   \n",
       "4611      6/7/2024                  Bryce Canyon National Park   \n",
       "4621     6/16/2024                  Grand Canyon National Park   \n",
       "4622     6/17/2024                  Grand Canyon National Park   \n",
       "4633     6/29/2024                  Grand Canyon National Park   \n",
       "\n",
       "                              Cause of Death  \\\n",
       "6                                       Fall   \n",
       "20                                  Drowning   \n",
       "21                                      Fall   \n",
       "32                                      Fall   \n",
       "33                                      Fall   \n",
       "...                                      ...   \n",
       "4592                                 Suicide   \n",
       "4611                                    Fall   \n",
       "4621                            Undetermined   \n",
       "4622  Medical - Not during physical activity   \n",
       "4633                            Undetermined   \n",
       "\n",
       "     Cause of Death Group \\n(Used in the NPS Mortality Dashboard)   \\\n",
       "6                                                  Fall              \n",
       "20                                             Drowning              \n",
       "21                                                 Fall              \n",
       "32                                                 Fall              \n",
       "33                                                 Fall              \n",
       "...                                                 ...              \n",
       "4592                                            Suicide              \n",
       "4611                                               Fall              \n",
       "4621                                       Undetermined              \n",
       "4622             Medical - Not during physical activity              \n",
       "4633                                       Undetermined              \n",
       "\n",
       "             Intent       Outcome           Sex     Age Range        Activity  \n",
       "6     Unintentional  Fatal injury        Female         15-24    Not Reported  \n",
       "20    Unintentional  Fatal injury          Male         55-64  Vessel Related  \n",
       "21    Unintentional  Fatal injury          Male  Not Reported    Not Reported  \n",
       "32    Unintentional  Fatal injury          Male         25-34        Climbing  \n",
       "33    Unintentional  Fatal injury          Male         35-44        Climbing  \n",
       "...             ...           ...           ...           ...             ...  \n",
       "4592    Intentional  Fatal Injury          Male         55-64         Suicide  \n",
       "4611  Unintentional  Fatal Injury  Not Reported           65+         Walking  \n",
       "4621   Undetermined  Fatal Injury          Male         35-44          Hiking  \n",
       "4622        Medical  Fatal Injury          Male           65+        Sleeping  \n",
       "4633   Undetermined  Fatal Injury          Male         45-54          Hiking  \n",
       "\n",
       "[705 rows x 9 columns]"
      ]
     },
     "execution_count": 86,
     "metadata": {},
     "output_type": "execute_result"
    }
   ],
   "source": [
    "new_nps_deaths=nps_deaths.loc[nps_deaths['Park Name'].isin(List)]\n",
    "new_nps_deaths"
   ]
  },
  {
   "cell_type": "code",
   "execution_count": null,
   "id": "54254111-53b3-4893-927e-7948637965ee",
   "metadata": {},
   "outputs": [],
   "source": [
    "new_nps_deaths['Age Range']=new_nps_deaths['Age Range'].str.replace('35 - 44','35-44')"
   ]
  },
  {
   "cell_type": "code",
   "execution_count": 87,
   "id": "4ffa78e0-f839-42dd-9666-ed3b0194cf62",
   "metadata": {},
   "outputs": [
    {
     "name": "stderr",
     "output_type": "stream",
     "text": [
      "C:\\Users\\Owner\\AppData\\Local\\Temp\\ipykernel_23240\\2207369093.py:1: SettingWithCopyWarning: \n",
      "A value is trying to be set on a copy of a slice from a DataFrame.\n",
      "Try using .loc[row_indexer,col_indexer] = value instead\n",
      "\n",
      "See the caveats in the documentation: https://pandas.pydata.org/pandas-docs/stable/user_guide/indexing.html#returning-a-view-versus-a-copy\n",
      "  new_nps_deaths['Outcome']=new_nps_deaths['Outcome'].str.title()\n"
     ]
    }
   ],
   "source": [
    "new_nps_deaths['Outcome']=new_nps_deaths['Outcome'].str.title()"
   ]
  },
  {
   "cell_type": "code",
   "execution_count": 88,
   "id": "409b19d7-5be2-40cd-8d51-6910e21f04ef",
   "metadata": {},
   "outputs": [
    {
     "data": {
      "text/html": [
       "<div>\n",
       "<style scoped>\n",
       "    .dataframe tbody tr th:only-of-type {\n",
       "        vertical-align: middle;\n",
       "    }\n",
       "\n",
       "    .dataframe tbody tr th {\n",
       "        vertical-align: top;\n",
       "    }\n",
       "\n",
       "    .dataframe thead th {\n",
       "        text-align: right;\n",
       "    }\n",
       "</style>\n",
       "<table border=\"1\" class=\"dataframe\">\n",
       "  <thead>\n",
       "    <tr style=\"text-align: right;\">\n",
       "      <th></th>\n",
       "      <th>Incident Date</th>\n",
       "      <th>Park Name</th>\n",
       "      <th>Cause of Death</th>\n",
       "      <th>Cause of Death Group \\n(Used in the NPS Mortality Dashboard)</th>\n",
       "      <th>Intent</th>\n",
       "      <th>Outcome</th>\n",
       "      <th>Sex</th>\n",
       "      <th>Age Range</th>\n",
       "      <th>Activity</th>\n",
       "    </tr>\n",
       "  </thead>\n",
       "  <tbody>\n",
       "    <tr>\n",
       "      <th>6</th>\n",
       "      <td>2/10/2007</td>\n",
       "      <td>Black Canyon Of The Gunnison National Park</td>\n",
       "      <td>Fall</td>\n",
       "      <td>Fall</td>\n",
       "      <td>Unintentional</td>\n",
       "      <td>Fatal Injury</td>\n",
       "      <td>Female</td>\n",
       "      <td>15-24</td>\n",
       "      <td>Not Reported</td>\n",
       "    </tr>\n",
       "    <tr>\n",
       "      <th>20</th>\n",
       "      <td>3/31/2007</td>\n",
       "      <td>Grand Canyon National Park</td>\n",
       "      <td>Drowning</td>\n",
       "      <td>Drowning</td>\n",
       "      <td>Unintentional</td>\n",
       "      <td>Fatal Injury</td>\n",
       "      <td>Male</td>\n",
       "      <td>55-64</td>\n",
       "      <td>Vessel Related</td>\n",
       "    </tr>\n",
       "    <tr>\n",
       "      <th>21</th>\n",
       "      <td>4/2/2007</td>\n",
       "      <td>Grand Canyon National Park</td>\n",
       "      <td>Fall</td>\n",
       "      <td>Fall</td>\n",
       "      <td>Unintentional</td>\n",
       "      <td>Fatal Injury</td>\n",
       "      <td>Male</td>\n",
       "      <td>Not Reported</td>\n",
       "      <td>Not Reported</td>\n",
       "    </tr>\n",
       "    <tr>\n",
       "      <th>32</th>\n",
       "      <td>4/30/2007</td>\n",
       "      <td>Grand Teton National Park</td>\n",
       "      <td>Fall</td>\n",
       "      <td>Fall</td>\n",
       "      <td>Unintentional</td>\n",
       "      <td>Fatal Injury</td>\n",
       "      <td>Male</td>\n",
       "      <td>25-34</td>\n",
       "      <td>Climbing</td>\n",
       "    </tr>\n",
       "    <tr>\n",
       "      <th>33</th>\n",
       "      <td>4/30/2007</td>\n",
       "      <td>Grand Teton National Park</td>\n",
       "      <td>Fall</td>\n",
       "      <td>Fall</td>\n",
       "      <td>Unintentional</td>\n",
       "      <td>Fatal Injury</td>\n",
       "      <td>Male</td>\n",
       "      <td>35-44</td>\n",
       "      <td>Climbing</td>\n",
       "    </tr>\n",
       "    <tr>\n",
       "      <th>...</th>\n",
       "      <td>...</td>\n",
       "      <td>...</td>\n",
       "      <td>...</td>\n",
       "      <td>...</td>\n",
       "      <td>...</td>\n",
       "      <td>...</td>\n",
       "      <td>...</td>\n",
       "      <td>...</td>\n",
       "      <td>...</td>\n",
       "    </tr>\n",
       "    <tr>\n",
       "      <th>4592</th>\n",
       "      <td>5/10/2024</td>\n",
       "      <td>Grand Canyon National Park</td>\n",
       "      <td>Suicide</td>\n",
       "      <td>Suicide</td>\n",
       "      <td>Intentional</td>\n",
       "      <td>Fatal Injury</td>\n",
       "      <td>Male</td>\n",
       "      <td>55-64</td>\n",
       "      <td>Suicide</td>\n",
       "    </tr>\n",
       "    <tr>\n",
       "      <th>4611</th>\n",
       "      <td>6/7/2024</td>\n",
       "      <td>Bryce Canyon National Park</td>\n",
       "      <td>Fall</td>\n",
       "      <td>Fall</td>\n",
       "      <td>Unintentional</td>\n",
       "      <td>Fatal Injury</td>\n",
       "      <td>Not Reported</td>\n",
       "      <td>65+</td>\n",
       "      <td>Walking</td>\n",
       "    </tr>\n",
       "    <tr>\n",
       "      <th>4621</th>\n",
       "      <td>6/16/2024</td>\n",
       "      <td>Grand Canyon National Park</td>\n",
       "      <td>Undetermined</td>\n",
       "      <td>Undetermined</td>\n",
       "      <td>Undetermined</td>\n",
       "      <td>Fatal Injury</td>\n",
       "      <td>Male</td>\n",
       "      <td>35-44</td>\n",
       "      <td>Hiking</td>\n",
       "    </tr>\n",
       "    <tr>\n",
       "      <th>4622</th>\n",
       "      <td>6/17/2024</td>\n",
       "      <td>Grand Canyon National Park</td>\n",
       "      <td>Medical - Not during physical activity</td>\n",
       "      <td>Medical - Not during physical activity</td>\n",
       "      <td>Medical</td>\n",
       "      <td>Fatal Injury</td>\n",
       "      <td>Male</td>\n",
       "      <td>65+</td>\n",
       "      <td>Sleeping</td>\n",
       "    </tr>\n",
       "    <tr>\n",
       "      <th>4633</th>\n",
       "      <td>6/29/2024</td>\n",
       "      <td>Grand Canyon National Park</td>\n",
       "      <td>Undetermined</td>\n",
       "      <td>Undetermined</td>\n",
       "      <td>Undetermined</td>\n",
       "      <td>Fatal Injury</td>\n",
       "      <td>Male</td>\n",
       "      <td>45-54</td>\n",
       "      <td>Hiking</td>\n",
       "    </tr>\n",
       "  </tbody>\n",
       "</table>\n",
       "<p>705 rows × 9 columns</p>\n",
       "</div>"
      ],
      "text/plain": [
       "     Incident Date                                   Park Name  \\\n",
       "6        2/10/2007  Black Canyon Of The Gunnison National Park   \n",
       "20       3/31/2007                  Grand Canyon National Park   \n",
       "21        4/2/2007                  Grand Canyon National Park   \n",
       "32       4/30/2007                   Grand Teton National Park   \n",
       "33       4/30/2007                   Grand Teton National Park   \n",
       "...            ...                                         ...   \n",
       "4592     5/10/2024                  Grand Canyon National Park   \n",
       "4611      6/7/2024                  Bryce Canyon National Park   \n",
       "4621     6/16/2024                  Grand Canyon National Park   \n",
       "4622     6/17/2024                  Grand Canyon National Park   \n",
       "4633     6/29/2024                  Grand Canyon National Park   \n",
       "\n",
       "                              Cause of Death  \\\n",
       "6                                       Fall   \n",
       "20                                  Drowning   \n",
       "21                                      Fall   \n",
       "32                                      Fall   \n",
       "33                                      Fall   \n",
       "...                                      ...   \n",
       "4592                                 Suicide   \n",
       "4611                                    Fall   \n",
       "4621                            Undetermined   \n",
       "4622  Medical - Not during physical activity   \n",
       "4633                            Undetermined   \n",
       "\n",
       "     Cause of Death Group \\n(Used in the NPS Mortality Dashboard)   \\\n",
       "6                                                  Fall              \n",
       "20                                             Drowning              \n",
       "21                                                 Fall              \n",
       "32                                                 Fall              \n",
       "33                                                 Fall              \n",
       "...                                                 ...              \n",
       "4592                                            Suicide              \n",
       "4611                                               Fall              \n",
       "4621                                       Undetermined              \n",
       "4622             Medical - Not during physical activity              \n",
       "4633                                       Undetermined              \n",
       "\n",
       "             Intent       Outcome           Sex     Age Range        Activity  \n",
       "6     Unintentional  Fatal Injury        Female         15-24    Not Reported  \n",
       "20    Unintentional  Fatal Injury          Male         55-64  Vessel Related  \n",
       "21    Unintentional  Fatal Injury          Male  Not Reported    Not Reported  \n",
       "32    Unintentional  Fatal Injury          Male         25-34        Climbing  \n",
       "33    Unintentional  Fatal Injury          Male         35-44        Climbing  \n",
       "...             ...           ...           ...           ...             ...  \n",
       "4592    Intentional  Fatal Injury          Male         55-64         Suicide  \n",
       "4611  Unintentional  Fatal Injury  Not Reported           65+         Walking  \n",
       "4621   Undetermined  Fatal Injury          Male         35-44          Hiking  \n",
       "4622        Medical  Fatal Injury          Male           65+        Sleeping  \n",
       "4633   Undetermined  Fatal Injury          Male         45-54          Hiking  \n",
       "\n",
       "[705 rows x 9 columns]"
      ]
     },
     "execution_count": 88,
     "metadata": {},
     "output_type": "execute_result"
    }
   ],
   "source": [
    "new_nps_deaths"
   ]
  },
  {
   "cell_type": "code",
   "execution_count": 89,
   "id": "5bc387b3-bca9-4c93-acee-aa9eadf37809",
   "metadata": {},
   "outputs": [
    {
     "data": {
      "text/plain": [
       "Outcome\n",
       "Fatal Injury    705\n",
       "Name: count, dtype: int64"
      ]
     },
     "execution_count": 89,
     "metadata": {},
     "output_type": "execute_result"
    }
   ],
   "source": [
    "new_nps_deaths['Outcome'].value_counts()"
   ]
  },
  {
   "cell_type": "code",
   "execution_count": 90,
   "id": "1a677ca6-68a0-4ee2-a0e7-d539a9463318",
   "metadata": {},
   "outputs": [
    {
     "data": {
      "text/html": [
       "<div>\n",
       "<style scoped>\n",
       "    .dataframe tbody tr th:only-of-type {\n",
       "        vertical-align: middle;\n",
       "    }\n",
       "\n",
       "    .dataframe tbody tr th {\n",
       "        vertical-align: top;\n",
       "    }\n",
       "\n",
       "    .dataframe thead th {\n",
       "        text-align: right;\n",
       "    }\n",
       "</style>\n",
       "<table border=\"1\" class=\"dataframe\">\n",
       "  <thead>\n",
       "    <tr style=\"text-align: right;\">\n",
       "      <th></th>\n",
       "      <th>Sex</th>\n",
       "      <th>Age Range</th>\n",
       "      <th>count</th>\n",
       "    </tr>\n",
       "  </thead>\n",
       "  <tbody>\n",
       "    <tr>\n",
       "      <th>0</th>\n",
       "      <td>Female</td>\n",
       "      <td>55-64</td>\n",
       "      <td>29</td>\n",
       "    </tr>\n",
       "    <tr>\n",
       "      <th>1</th>\n",
       "      <td>Female</td>\n",
       "      <td>25-34</td>\n",
       "      <td>23</td>\n",
       "    </tr>\n",
       "    <tr>\n",
       "      <th>2</th>\n",
       "      <td>Female</td>\n",
       "      <td>65+</td>\n",
       "      <td>22</td>\n",
       "    </tr>\n",
       "    <tr>\n",
       "      <th>3</th>\n",
       "      <td>Female</td>\n",
       "      <td>45-54</td>\n",
       "      <td>21</td>\n",
       "    </tr>\n",
       "    <tr>\n",
       "      <th>4</th>\n",
       "      <td>Female</td>\n",
       "      <td>15-24</td>\n",
       "      <td>20</td>\n",
       "    </tr>\n",
       "    <tr>\n",
       "      <th>5</th>\n",
       "      <td>Female</td>\n",
       "      <td>35-44</td>\n",
       "      <td>15</td>\n",
       "    </tr>\n",
       "    <tr>\n",
       "      <th>6</th>\n",
       "      <td>Female</td>\n",
       "      <td>Not Reported</td>\n",
       "      <td>13</td>\n",
       "    </tr>\n",
       "    <tr>\n",
       "      <th>7</th>\n",
       "      <td>Female</td>\n",
       "      <td>0-14</td>\n",
       "      <td>6</td>\n",
       "    </tr>\n",
       "    <tr>\n",
       "      <th>8</th>\n",
       "      <td>Male</td>\n",
       "      <td>65+</td>\n",
       "      <td>128</td>\n",
       "    </tr>\n",
       "    <tr>\n",
       "      <th>9</th>\n",
       "      <td>Male</td>\n",
       "      <td>55-64</td>\n",
       "      <td>99</td>\n",
       "    </tr>\n",
       "    <tr>\n",
       "      <th>10</th>\n",
       "      <td>Male</td>\n",
       "      <td>25-34</td>\n",
       "      <td>79</td>\n",
       "    </tr>\n",
       "    <tr>\n",
       "      <th>11</th>\n",
       "      <td>Male</td>\n",
       "      <td>35-44</td>\n",
       "      <td>72</td>\n",
       "    </tr>\n",
       "    <tr>\n",
       "      <th>12</th>\n",
       "      <td>Male</td>\n",
       "      <td>45-54</td>\n",
       "      <td>58</td>\n",
       "    </tr>\n",
       "    <tr>\n",
       "      <th>13</th>\n",
       "      <td>Male</td>\n",
       "      <td>15-24</td>\n",
       "      <td>57</td>\n",
       "    </tr>\n",
       "    <tr>\n",
       "      <th>14</th>\n",
       "      <td>Male</td>\n",
       "      <td>Not Reported</td>\n",
       "      <td>31</td>\n",
       "    </tr>\n",
       "    <tr>\n",
       "      <th>15</th>\n",
       "      <td>Male</td>\n",
       "      <td>0-14</td>\n",
       "      <td>4</td>\n",
       "    </tr>\n",
       "    <tr>\n",
       "      <th>16</th>\n",
       "      <td>Male</td>\n",
       "      <td>35 - 44</td>\n",
       "      <td>1</td>\n",
       "    </tr>\n",
       "    <tr>\n",
       "      <th>17</th>\n",
       "      <td>Not Reported</td>\n",
       "      <td>Not Reported</td>\n",
       "      <td>20</td>\n",
       "    </tr>\n",
       "    <tr>\n",
       "      <th>18</th>\n",
       "      <td>Not Reported</td>\n",
       "      <td>65+</td>\n",
       "      <td>3</td>\n",
       "    </tr>\n",
       "    <tr>\n",
       "      <th>19</th>\n",
       "      <td>Not Reported</td>\n",
       "      <td>15-24</td>\n",
       "      <td>2</td>\n",
       "    </tr>\n",
       "  </tbody>\n",
       "</table>\n",
       "</div>"
      ],
      "text/plain": [
       "             Sex     Age Range  count\n",
       "0         Female         55-64     29\n",
       "1         Female         25-34     23\n",
       "2         Female           65+     22\n",
       "3         Female         45-54     21\n",
       "4         Female         15-24     20\n",
       "5         Female         35-44     15\n",
       "6         Female  Not Reported     13\n",
       "7         Female          0-14      6\n",
       "8           Male           65+    128\n",
       "9           Male         55-64     99\n",
       "10          Male         25-34     79\n",
       "11          Male         35-44     72\n",
       "12          Male         45-54     58\n",
       "13          Male         15-24     57\n",
       "14          Male  Not Reported     31\n",
       "15          Male          0-14      4\n",
       "16          Male       35 - 44      1\n",
       "17  Not Reported  Not Reported     20\n",
       "18  Not Reported           65+      3\n",
       "19  Not Reported         15-24      2"
      ]
     },
     "execution_count": 90,
     "metadata": {},
     "output_type": "execute_result"
    }
   ],
   "source": [
    "Deaths_per_age=new_nps_deaths.groupby('Sex')['Age Range'].value_counts().to_frame().reset_index()\n",
    "Deaths_per_age"
   ]
  },
  {
   "cell_type": "code",
   "execution_count": 91,
   "id": "6c1a8a2e-4fc1-4fcc-ab9c-9a1d6e778b0b",
   "metadata": {},
   "outputs": [],
   "source": [
    "Deaths_per_age['Sex']=Deaths_per_age['Sex'].str.replace('Not Reported','Unknown-Sex')"
   ]
  },
  {
   "cell_type": "code",
   "execution_count": 92,
   "id": "273e9b47-be5a-4ecd-86c2-8caf071d738f",
   "metadata": {},
   "outputs": [],
   "source": [
    "Deaths_per_age['Age Range']=Deaths_per_age['Age Range'].str.replace('Not Reported','Unknown-Age')"
   ]
  },
  {
   "cell_type": "code",
   "execution_count": 93,
   "id": "8e7b643d-19b9-451f-a76e-ea8ab3c7cb1d",
   "metadata": {},
   "outputs": [
    {
     "data": {
      "text/html": [
       "<div>\n",
       "<style scoped>\n",
       "    .dataframe tbody tr th:only-of-type {\n",
       "        vertical-align: middle;\n",
       "    }\n",
       "\n",
       "    .dataframe tbody tr th {\n",
       "        vertical-align: top;\n",
       "    }\n",
       "\n",
       "    .dataframe thead th {\n",
       "        text-align: right;\n",
       "    }\n",
       "</style>\n",
       "<table border=\"1\" class=\"dataframe\">\n",
       "  <thead>\n",
       "    <tr style=\"text-align: right;\">\n",
       "      <th></th>\n",
       "      <th>Sex</th>\n",
       "      <th>Age Range</th>\n",
       "      <th>count</th>\n",
       "    </tr>\n",
       "  </thead>\n",
       "  <tbody>\n",
       "  </tbody>\n",
       "</table>\n",
       "</div>"
      ],
      "text/plain": [
       "Empty DataFrame\n",
       "Columns: [Sex, Age Range, count]\n",
       "Index: []"
      ]
     },
     "execution_count": 93,
     "metadata": {},
     "output_type": "execute_result"
    }
   ],
   "source": [
    "Deaths_per_age.loc[Deaths_per_age['Age Range']=='Unknown']"
   ]
  },
  {
   "cell_type": "code",
   "execution_count": 94,
   "id": "a93b4618-5d40-4026-af75-368e4bf2c3d5",
   "metadata": {},
   "outputs": [
    {
     "data": {
      "text/html": [
       "<div>\n",
       "<style scoped>\n",
       "    .dataframe tbody tr th:only-of-type {\n",
       "        vertical-align: middle;\n",
       "    }\n",
       "\n",
       "    .dataframe tbody tr th {\n",
       "        vertical-align: top;\n",
       "    }\n",
       "\n",
       "    .dataframe thead th {\n",
       "        text-align: right;\n",
       "    }\n",
       "</style>\n",
       "<table border=\"1\" class=\"dataframe\">\n",
       "  <thead>\n",
       "    <tr style=\"text-align: right;\">\n",
       "      <th></th>\n",
       "      <th>Sex</th>\n",
       "      <th>Age Range</th>\n",
       "      <th>count</th>\n",
       "    </tr>\n",
       "  </thead>\n",
       "  <tbody>\n",
       "    <tr>\n",
       "      <th>0</th>\n",
       "      <td>Female</td>\n",
       "      <td>55-64</td>\n",
       "      <td>29</td>\n",
       "    </tr>\n",
       "    <tr>\n",
       "      <th>1</th>\n",
       "      <td>Female</td>\n",
       "      <td>25-34</td>\n",
       "      <td>23</td>\n",
       "    </tr>\n",
       "    <tr>\n",
       "      <th>2</th>\n",
       "      <td>Female</td>\n",
       "      <td>65+</td>\n",
       "      <td>22</td>\n",
       "    </tr>\n",
       "    <tr>\n",
       "      <th>3</th>\n",
       "      <td>Female</td>\n",
       "      <td>45-54</td>\n",
       "      <td>21</td>\n",
       "    </tr>\n",
       "    <tr>\n",
       "      <th>4</th>\n",
       "      <td>Female</td>\n",
       "      <td>15-24</td>\n",
       "      <td>20</td>\n",
       "    </tr>\n",
       "    <tr>\n",
       "      <th>5</th>\n",
       "      <td>Female</td>\n",
       "      <td>35-44</td>\n",
       "      <td>15</td>\n",
       "    </tr>\n",
       "    <tr>\n",
       "      <th>6</th>\n",
       "      <td>Female</td>\n",
       "      <td>Unknown-Age</td>\n",
       "      <td>13</td>\n",
       "    </tr>\n",
       "    <tr>\n",
       "      <th>7</th>\n",
       "      <td>Female</td>\n",
       "      <td>0-14</td>\n",
       "      <td>6</td>\n",
       "    </tr>\n",
       "    <tr>\n",
       "      <th>8</th>\n",
       "      <td>Male</td>\n",
       "      <td>65+</td>\n",
       "      <td>128</td>\n",
       "    </tr>\n",
       "    <tr>\n",
       "      <th>9</th>\n",
       "      <td>Male</td>\n",
       "      <td>55-64</td>\n",
       "      <td>99</td>\n",
       "    </tr>\n",
       "    <tr>\n",
       "      <th>10</th>\n",
       "      <td>Male</td>\n",
       "      <td>25-34</td>\n",
       "      <td>79</td>\n",
       "    </tr>\n",
       "    <tr>\n",
       "      <th>11</th>\n",
       "      <td>Male</td>\n",
       "      <td>35-44</td>\n",
       "      <td>72</td>\n",
       "    </tr>\n",
       "    <tr>\n",
       "      <th>12</th>\n",
       "      <td>Male</td>\n",
       "      <td>45-54</td>\n",
       "      <td>58</td>\n",
       "    </tr>\n",
       "    <tr>\n",
       "      <th>13</th>\n",
       "      <td>Male</td>\n",
       "      <td>15-24</td>\n",
       "      <td>57</td>\n",
       "    </tr>\n",
       "    <tr>\n",
       "      <th>14</th>\n",
       "      <td>Male</td>\n",
       "      <td>Unknown-Age</td>\n",
       "      <td>31</td>\n",
       "    </tr>\n",
       "    <tr>\n",
       "      <th>15</th>\n",
       "      <td>Male</td>\n",
       "      <td>0-14</td>\n",
       "      <td>4</td>\n",
       "    </tr>\n",
       "    <tr>\n",
       "      <th>16</th>\n",
       "      <td>Male</td>\n",
       "      <td>35 - 44</td>\n",
       "      <td>1</td>\n",
       "    </tr>\n",
       "    <tr>\n",
       "      <th>17</th>\n",
       "      <td>Unknown-Sex</td>\n",
       "      <td>Unknown-Age</td>\n",
       "      <td>20</td>\n",
       "    </tr>\n",
       "    <tr>\n",
       "      <th>18</th>\n",
       "      <td>Unknown-Sex</td>\n",
       "      <td>65+</td>\n",
       "      <td>3</td>\n",
       "    </tr>\n",
       "    <tr>\n",
       "      <th>19</th>\n",
       "      <td>Unknown-Sex</td>\n",
       "      <td>15-24</td>\n",
       "      <td>2</td>\n",
       "    </tr>\n",
       "  </tbody>\n",
       "</table>\n",
       "</div>"
      ],
      "text/plain": [
       "            Sex    Age Range  count\n",
       "0        Female        55-64     29\n",
       "1        Female        25-34     23\n",
       "2        Female          65+     22\n",
       "3        Female        45-54     21\n",
       "4        Female        15-24     20\n",
       "5        Female        35-44     15\n",
       "6        Female  Unknown-Age     13\n",
       "7        Female         0-14      6\n",
       "8          Male          65+    128\n",
       "9          Male        55-64     99\n",
       "10         Male        25-34     79\n",
       "11         Male        35-44     72\n",
       "12         Male        45-54     58\n",
       "13         Male        15-24     57\n",
       "14         Male  Unknown-Age     31\n",
       "15         Male         0-14      4\n",
       "16         Male      35 - 44      1\n",
       "17  Unknown-Sex  Unknown-Age     20\n",
       "18  Unknown-Sex          65+      3\n",
       "19  Unknown-Sex        15-24      2"
      ]
     },
     "execution_count": 94,
     "metadata": {},
     "output_type": "execute_result"
    }
   ],
   "source": [
    "Deaths_per_age"
   ]
  },
  {
   "cell_type": "code",
   "execution_count": 100,
   "id": "0f974b51-a6bc-41b5-b6c6-3f5b8d578d3b",
   "metadata": {},
   "outputs": [
    {
     "name": "stderr",
     "output_type": "stream",
     "text": [
      "C:\\Users\\Owner\\AppData\\Local\\Temp\\ipykernel_23240\\2696871789.py:6: UserWarning: No artists with labels found to put in legend.  Note that artists whose label start with an underscore are ignored when legend() is called with no argument.\n",
      "  ax.legend(fancybox=True, framealpha=0.5)\n"
     ]
    },
    {
     "data": {
      "image/png": "[encoded data removed]",
      "text/plain": [
       "<Figure size 1000x600 with 1 Axes>"
      ]
     },
     "metadata": {},
     "output_type": "display_data"
    }
   ],
   "source": [
    "pivot_Deaths_per_age=Deaths_per_age.pivot_table(index='Age Range',columns='Sex',values='count',aggfunc='sum')\n",
    "pivot_Deaths_per_age.plot(kind='bar',stacked=False,figsize=(10,6), color=['darkgreen','darkblue','black'])\n",
    "plt.title('Fatalities in the National Parks Comparing Age and Gender', fontsize=15, fontweight='bold')\n",
    "plt.xlabel( 'Age Range',fontsize=15 )\n",
    "plt.ylabel('Number of Fatalities',fontsize=15,)\n",
    "ax.legend(fancybox=True, framealpha=0.5)\n",
    "ax.set_title('fancy, transparent legends')\n",
    "plt.savefig('totals_bar_plot2.png',bbox_inches = 'tight', transparent=True)\n",
    "plt.show()"
   ]
  },
  {
   "cell_type": "code",
   "execution_count": 101,
   "id": "9e30792f-7d7c-4bfc-9108-6ded3a01ea14",
   "metadata": {},
   "outputs": [
    {
     "name": "stdout",
     "output_type": "stream",
     "text": [
      "<class 'pandas.core.frame.DataFrame'>\n",
      "RangeIndex: 20 entries, 0 to 19\n",
      "Data columns (total 3 columns):\n",
      " #   Column     Non-Null Count  Dtype \n",
      "---  ------     --------------  ----- \n",
      " 0   Sex        20 non-null     object\n",
      " 1   Age Range  20 non-null     object\n",
      " 2   count      20 non-null     int64 \n",
      "dtypes: int64(1), object(2)\n",
      "memory usage: 612.0+ bytes\n"
     ]
    }
   ],
   "source": [
    "Deaths_per_age.info()"
   ]
  },
  {
   "cell_type": "code",
   "execution_count": 102,
   "id": "1786dcfe-3e87-4142-a064-07767071c833",
   "metadata": {},
   "outputs": [
    {
     "data": {
      "text/html": [
       "<div>\n",
       "<style scoped>\n",
       "    .dataframe tbody tr th:only-of-type {\n",
       "        vertical-align: middle;\n",
       "    }\n",
       "\n",
       "    .dataframe tbody tr th {\n",
       "        vertical-align: top;\n",
       "    }\n",
       "\n",
       "    .dataframe thead th {\n",
       "        text-align: right;\n",
       "    }\n",
       "</style>\n",
       "<table border=\"1\" class=\"dataframe\">\n",
       "  <thead>\n",
       "    <tr style=\"text-align: right;\">\n",
       "      <th></th>\n",
       "      <th>Sex</th>\n",
       "      <th>count</th>\n",
       "    </tr>\n",
       "  </thead>\n",
       "  <tbody>\n",
       "    <tr>\n",
       "      <th>0</th>\n",
       "      <td>Male</td>\n",
       "      <td>530</td>\n",
       "    </tr>\n",
       "    <tr>\n",
       "      <th>1</th>\n",
       "      <td>Female</td>\n",
       "      <td>149</td>\n",
       "    </tr>\n",
       "    <tr>\n",
       "      <th>2</th>\n",
       "      <td>Not Reported</td>\n",
       "      <td>26</td>\n",
       "    </tr>\n",
       "  </tbody>\n",
       "</table>\n",
       "</div>"
      ],
      "text/plain": [
       "            Sex  count\n",
       "0          Male    530\n",
       "1        Female    149\n",
       "2  Not Reported     26"
      ]
     },
     "execution_count": 102,
     "metadata": {},
     "output_type": "execute_result"
    }
   ],
   "source": [
    "Deaths_per_gender=new_nps_deaths['Sex'].value_counts().to_frame().reset_index()\n",
    "Deaths_per_gender\n"
   ]
  },
  {
   "cell_type": "markdown",
   "id": "7325af51-8a82-4d3b-a96d-c095c9ade524",
   "metadata": {},
   "source": [
    "combined_df=pd.concat([Deaths_per_age,Deaths_per_gender],axis=1)\n",
    "combined_df"
   ]
  },
  {
   "cell_type": "code",
   "execution_count": 103,
   "id": "bcb5176c-469f-4878-9a52-5dbfda836ea7",
   "metadata": {},
   "outputs": [
    {
     "name": "stderr",
     "output_type": "stream",
     "text": [
      "C:\\Users\\Owner\\AppData\\Local\\Temp\\ipykernel_23240\\2600631922.py:1: SettingWithCopyWarning: \n",
      "A value is trying to be set on a copy of a slice from a DataFrame.\n",
      "Try using .loc[row_indexer,col_indexer] = value instead\n",
      "\n",
      "See the caveats in the documentation: https://pandas.pydata.org/pandas-docs/stable/user_guide/indexing.html#returning-a-view-versus-a-copy\n",
      "  new_nps_deaths['Incident Date'] = pd.to_datetime(new_nps_deaths['Incident Date'])\n"
     ]
    }
   ],
   "source": [
    "new_nps_deaths['Incident Date'] = pd.to_datetime(new_nps_deaths['Incident Date'])"
   ]
  },
  {
   "cell_type": "code",
   "execution_count": 104,
   "id": "ed99fc12-6ad6-4f01-9733-44591870d4b8",
   "metadata": {},
   "outputs": [
    {
     "name": "stderr",
     "output_type": "stream",
     "text": [
      "C:\\Users\\Owner\\AppData\\Local\\Temp\\ipykernel_23240\\1133000966.py:1: SettingWithCopyWarning: \n",
      "A value is trying to be set on a copy of a slice from a DataFrame.\n",
      "Try using .loc[row_indexer,col_indexer] = value instead\n",
      "\n",
      "See the caveats in the documentation: https://pandas.pydata.org/pandas-docs/stable/user_guide/indexing.html#returning-a-view-versus-a-copy\n",
      "  new_nps_deaths['month']=new_nps_deaths['Incident Date'].dt.month\n"
     ]
    }
   ],
   "source": [
    "new_nps_deaths['month']=new_nps_deaths['Incident Date'].dt.month"
   ]
  },
  {
   "cell_type": "code",
   "execution_count": 105,
   "id": "0c66e884-e1cc-47bf-bcb3-19be23832a61",
   "metadata": {},
   "outputs": [
    {
     "data": {
      "text/html": [
       "<div>\n",
       "<style scoped>\n",
       "    .dataframe tbody tr th:only-of-type {\n",
       "        vertical-align: middle;\n",
       "    }\n",
       "\n",
       "    .dataframe tbody tr th {\n",
       "        vertical-align: top;\n",
       "    }\n",
       "\n",
       "    .dataframe thead th {\n",
       "        text-align: right;\n",
       "    }\n",
       "</style>\n",
       "<table border=\"1\" class=\"dataframe\">\n",
       "  <thead>\n",
       "    <tr style=\"text-align: right;\">\n",
       "      <th></th>\n",
       "      <th>Incident Date</th>\n",
       "      <th>Park Name</th>\n",
       "      <th>Cause of Death</th>\n",
       "      <th>Cause of Death Group \\n(Used in the NPS Mortality Dashboard)</th>\n",
       "      <th>Intent</th>\n",
       "      <th>Outcome</th>\n",
       "      <th>Sex</th>\n",
       "      <th>Age Range</th>\n",
       "      <th>Activity</th>\n",
       "      <th>month</th>\n",
       "    </tr>\n",
       "  </thead>\n",
       "  <tbody>\n",
       "    <tr>\n",
       "      <th>6</th>\n",
       "      <td>2007-02-10</td>\n",
       "      <td>Black Canyon Of The Gunnison National Park</td>\n",
       "      <td>Fall</td>\n",
       "      <td>Fall</td>\n",
       "      <td>Unintentional</td>\n",
       "      <td>Fatal Injury</td>\n",
       "      <td>Female</td>\n",
       "      <td>15-24</td>\n",
       "      <td>Not Reported</td>\n",
       "      <td>2</td>\n",
       "    </tr>\n",
       "  </tbody>\n",
       "</table>\n",
       "</div>"
      ],
      "text/plain": [
       "  Incident Date                                   Park Name Cause of Death  \\\n",
       "6    2007-02-10  Black Canyon Of The Gunnison National Park           Fall   \n",
       "\n",
       "  Cause of Death Group \\n(Used in the NPS Mortality Dashboard)   \\\n",
       "6                                               Fall              \n",
       "\n",
       "          Intent       Outcome     Sex Age Range      Activity  month  \n",
       "6  Unintentional  Fatal Injury  Female     15-24  Not Reported      2  "
      ]
     },
     "execution_count": 105,
     "metadata": {},
     "output_type": "execute_result"
    }
   ],
   "source": [
    "new_nps_deaths.head(1)"
   ]
  },
  {
   "cell_type": "code",
   "execution_count": 107,
   "id": "811b4f27-3cc8-432e-b7dc-ef45c8893c70",
   "metadata": {},
   "outputs": [],
   "source": [
    "new_nps_deaths=new_nps_deaths.drop(columns=['Cause of Death Group \\n(Used in the NPS Mortality Dashboard) '])"
   ]
  },
  {
   "cell_type": "code",
   "execution_count": 116,
   "id": "36537233-a3f6-407f-8faa-924ff6ae59eb",
   "metadata": {},
   "outputs": [
    {
     "data": {
      "text/html": [
       "<div>\n",
       "<style scoped>\n",
       "    .dataframe tbody tr th:only-of-type {\n",
       "        vertical-align: middle;\n",
       "    }\n",
       "\n",
       "    .dataframe tbody tr th {\n",
       "        vertical-align: top;\n",
       "    }\n",
       "\n",
       "    .dataframe thead th {\n",
       "        text-align: right;\n",
       "    }\n",
       "</style>\n",
       "<table border=\"1\" class=\"dataframe\">\n",
       "  <thead>\n",
       "    <tr style=\"text-align: right;\">\n",
       "      <th></th>\n",
       "      <th>Cause of Death</th>\n",
       "      <th>count</th>\n",
       "    </tr>\n",
       "  </thead>\n",
       "  <tbody>\n",
       "    <tr>\n",
       "      <th>0</th>\n",
       "      <td>Fall</td>\n",
       "      <td>174</td>\n",
       "    </tr>\n",
       "    <tr>\n",
       "      <th>1</th>\n",
       "      <td>Medical - Not during physical activity</td>\n",
       "      <td>77</td>\n",
       "    </tr>\n",
       "    <tr>\n",
       "      <th>2</th>\n",
       "      <td>Medical - During physical activity</td>\n",
       "      <td>73</td>\n",
       "    </tr>\n",
       "    <tr>\n",
       "      <th>3</th>\n",
       "      <td>Undetermined</td>\n",
       "      <td>72</td>\n",
       "    </tr>\n",
       "    <tr>\n",
       "      <th>4</th>\n",
       "      <td>Suicide</td>\n",
       "      <td>66</td>\n",
       "    </tr>\n",
       "    <tr>\n",
       "      <th>5</th>\n",
       "      <td>Drowning</td>\n",
       "      <td>54</td>\n",
       "    </tr>\n",
       "    <tr>\n",
       "      <th>6</th>\n",
       "      <td>Motor Vehicle Crash</td>\n",
       "      <td>52</td>\n",
       "    </tr>\n",
       "    <tr>\n",
       "      <th>7</th>\n",
       "      <td>Hyperthermia</td>\n",
       "      <td>44</td>\n",
       "    </tr>\n",
       "    <tr>\n",
       "      <th>8</th>\n",
       "      <td>Avalanche</td>\n",
       "      <td>17</td>\n",
       "    </tr>\n",
       "    <tr>\n",
       "      <th>9</th>\n",
       "      <td>Medical - Unknown</td>\n",
       "      <td>16</td>\n",
       "    </tr>\n",
       "    <tr>\n",
       "      <th>10</th>\n",
       "      <td>Hypothermia</td>\n",
       "      <td>10</td>\n",
       "    </tr>\n",
       "    <tr>\n",
       "      <th>11</th>\n",
       "      <td>Flash flood</td>\n",
       "      <td>10</td>\n",
       "    </tr>\n",
       "    <tr>\n",
       "      <th>12</th>\n",
       "      <td>Aircraft Incident</td>\n",
       "      <td>5</td>\n",
       "    </tr>\n",
       "    <tr>\n",
       "      <th>13</th>\n",
       "      <td>Aircraft incident</td>\n",
       "      <td>5</td>\n",
       "    </tr>\n",
       "    <tr>\n",
       "      <th>14</th>\n",
       "      <td>Widlife incident</td>\n",
       "      <td>4</td>\n",
       "    </tr>\n",
       "    <tr>\n",
       "      <th>15</th>\n",
       "      <td>Skiing Incident</td>\n",
       "      <td>3</td>\n",
       "    </tr>\n",
       "    <tr>\n",
       "      <th>16</th>\n",
       "      <td>Lightning Strike</td>\n",
       "      <td>3</td>\n",
       "    </tr>\n",
       "    <tr>\n",
       "      <th>17</th>\n",
       "      <td>Vessel Incident</td>\n",
       "      <td>2</td>\n",
       "    </tr>\n",
       "    <tr>\n",
       "      <th>18</th>\n",
       "      <td>Rockfall</td>\n",
       "      <td>2</td>\n",
       "    </tr>\n",
       "    <tr>\n",
       "      <th>19</th>\n",
       "      <td>Homicide</td>\n",
       "      <td>2</td>\n",
       "    </tr>\n",
       "    <tr>\n",
       "      <th>20</th>\n",
       "      <td>Lightning strike</td>\n",
       "      <td>2</td>\n",
       "    </tr>\n",
       "    <tr>\n",
       "      <th>21</th>\n",
       "      <td>Poisoning - Drugs</td>\n",
       "      <td>2</td>\n",
       "    </tr>\n",
       "    <tr>\n",
       "      <th>22</th>\n",
       "      <td>Poisoning - drugs</td>\n",
       "      <td>1</td>\n",
       "    </tr>\n",
       "    <tr>\n",
       "      <th>23</th>\n",
       "      <td>Asphyxiation</td>\n",
       "      <td>1</td>\n",
       "    </tr>\n",
       "    <tr>\n",
       "      <th>24</th>\n",
       "      <td>Poisoning - alcohol</td>\n",
       "      <td>1</td>\n",
       "    </tr>\n",
       "    <tr>\n",
       "      <th>25</th>\n",
       "      <td>Bicycle only crash</td>\n",
       "      <td>1</td>\n",
       "    </tr>\n",
       "    <tr>\n",
       "      <th>26</th>\n",
       "      <td>Falling tree/branch</td>\n",
       "      <td>1</td>\n",
       "    </tr>\n",
       "    <tr>\n",
       "      <th>27</th>\n",
       "      <td>Horseback riding incident</td>\n",
       "      <td>1</td>\n",
       "    </tr>\n",
       "    <tr>\n",
       "      <th>28</th>\n",
       "      <td>Snowboard Incident</td>\n",
       "      <td>1</td>\n",
       "    </tr>\n",
       "    <tr>\n",
       "      <th>29</th>\n",
       "      <td>Poisoning - Carbon monoxide</td>\n",
       "      <td>1</td>\n",
       "    </tr>\n",
       "  </tbody>\n",
       "</table>\n",
       "</div>"
      ],
      "text/plain": [
       "                            Cause of Death  count\n",
       "0                                     Fall    174\n",
       "1   Medical - Not during physical activity     77\n",
       "2       Medical - During physical activity     73\n",
       "3                             Undetermined     72\n",
       "4                                  Suicide     66\n",
       "5                                 Drowning     54\n",
       "6                      Motor Vehicle Crash     52\n",
       "7                             Hyperthermia     44\n",
       "8                                Avalanche     17\n",
       "9                        Medical - Unknown     16\n",
       "10                             Hypothermia     10\n",
       "11                             Flash flood     10\n",
       "12                      Aircraft Incident       5\n",
       "13                       Aircraft incident      5\n",
       "14                       Widlife incident       4\n",
       "15                         Skiing Incident      3\n",
       "16                        Lightning Strike      3\n",
       "17                         Vessel Incident      2\n",
       "18                                Rockfall      2\n",
       "19                                Homicide      2\n",
       "20                        Lightning strike      2\n",
       "21                       Poisoning - Drugs      2\n",
       "22                       Poisoning - drugs      1\n",
       "23                            Asphyxiation      1\n",
       "24                     Poisoning - alcohol      1\n",
       "25                      Bicycle only crash      1\n",
       "26                     Falling tree/branch      1\n",
       "27               Horseback riding incident      1\n",
       "28                      Snowboard Incident      1\n",
       "29             Poisoning - Carbon monoxide      1"
      ]
     },
     "execution_count": 116,
     "metadata": {},
     "output_type": "execute_result"
    }
   ],
   "source": [
    "Causes_of_Death=new_nps_deaths['Cause of Death'].value_counts().to_frame().reset_index()\n",
    "Causes_of_Death.head(30)"
   ]
  },
  {
   "cell_type": "code",
   "execution_count": 117,
   "id": "22abf5a5-ea6d-4b62-9241-8f527af9b187",
   "metadata": {},
   "outputs": [
    {
     "data": {
      "text/html": [
       "<div>\n",
       "<style scoped>\n",
       "    .dataframe tbody tr th:only-of-type {\n",
       "        vertical-align: middle;\n",
       "    }\n",
       "\n",
       "    .dataframe tbody tr th {\n",
       "        vertical-align: top;\n",
       "    }\n",
       "\n",
       "    .dataframe thead th {\n",
       "        text-align: right;\n",
       "    }\n",
       "</style>\n",
       "<table border=\"1\" class=\"dataframe\">\n",
       "  <thead>\n",
       "    <tr style=\"text-align: right;\">\n",
       "      <th></th>\n",
       "      <th>Cause of Death</th>\n",
       "      <th>Park Name</th>\n",
       "      <th>Incident Date</th>\n",
       "      <th>Activity</th>\n",
       "    </tr>\n",
       "  </thead>\n",
       "  <tbody>\n",
       "    <tr>\n",
       "      <th>0</th>\n",
       "      <td>Aircraft Incident</td>\n",
       "      <td>Canyonlands National Park</td>\n",
       "      <td>2008-06-02</td>\n",
       "      <td>2</td>\n",
       "    </tr>\n",
       "    <tr>\n",
       "      <th>1</th>\n",
       "      <td>Aircraft Incident</td>\n",
       "      <td>Grand Teton National Park</td>\n",
       "      <td>2012-02-15</td>\n",
       "      <td>1</td>\n",
       "    </tr>\n",
       "    <tr>\n",
       "      <th>2</th>\n",
       "      <td>Aircraft Incident</td>\n",
       "      <td>Grand Teton National Park</td>\n",
       "      <td>2013-09-11</td>\n",
       "      <td>2</td>\n",
       "    </tr>\n",
       "    <tr>\n",
       "      <th>3</th>\n",
       "      <td>Aircraft incident</td>\n",
       "      <td>Glacier Bay National Park &amp; Preserve</td>\n",
       "      <td>2018-09-28</td>\n",
       "      <td>3</td>\n",
       "    </tr>\n",
       "    <tr>\n",
       "      <th>4</th>\n",
       "      <td>Aircraft incident</td>\n",
       "      <td>Grand Teton National Park</td>\n",
       "      <td>2018-06-09</td>\n",
       "      <td>2</td>\n",
       "    </tr>\n",
       "    <tr>\n",
       "      <th>...</th>\n",
       "      <td>...</td>\n",
       "      <td>...</td>\n",
       "      <td>...</td>\n",
       "      <td>...</td>\n",
       "    </tr>\n",
       "    <tr>\n",
       "      <th>656</th>\n",
       "      <td>Vessel Incident</td>\n",
       "      <td>Grand Teton National Park</td>\n",
       "      <td>2014-09-04</td>\n",
       "      <td>1</td>\n",
       "    </tr>\n",
       "    <tr>\n",
       "      <th>657</th>\n",
       "      <td>Widlife incident</td>\n",
       "      <td>Grand Teton National Park</td>\n",
       "      <td>2018-09-14</td>\n",
       "      <td>1</td>\n",
       "    </tr>\n",
       "    <tr>\n",
       "      <th>658</th>\n",
       "      <td>Widlife incident</td>\n",
       "      <td>Yellowstone National Park</td>\n",
       "      <td>2011-07-06</td>\n",
       "      <td>1</td>\n",
       "    </tr>\n",
       "    <tr>\n",
       "      <th>659</th>\n",
       "      <td>Widlife incident</td>\n",
       "      <td>Yellowstone National Park</td>\n",
       "      <td>2011-08-26</td>\n",
       "      <td>1</td>\n",
       "    </tr>\n",
       "    <tr>\n",
       "      <th>660</th>\n",
       "      <td>Widlife incident</td>\n",
       "      <td>Yellowstone National Park</td>\n",
       "      <td>2015-08-10</td>\n",
       "      <td>1</td>\n",
       "    </tr>\n",
       "  </tbody>\n",
       "</table>\n",
       "<p>661 rows × 4 columns</p>\n",
       "</div>"
      ],
      "text/plain": [
       "         Cause of Death                             Park Name Incident Date  \\\n",
       "0    Aircraft Incident              Canyonlands National Park    2008-06-02   \n",
       "1    Aircraft Incident              Grand Teton National Park    2012-02-15   \n",
       "2    Aircraft Incident              Grand Teton National Park    2013-09-11   \n",
       "3     Aircraft incident  Glacier Bay National Park & Preserve    2018-09-28   \n",
       "4     Aircraft incident             Grand Teton National Park    2018-06-09   \n",
       "..                  ...                                   ...           ...   \n",
       "656     Vessel Incident             Grand Teton National Park    2014-09-04   \n",
       "657   Widlife incident              Grand Teton National Park    2018-09-14   \n",
       "658   Widlife incident              Yellowstone National Park    2011-07-06   \n",
       "659   Widlife incident              Yellowstone National Park    2011-08-26   \n",
       "660   Widlife incident              Yellowstone National Park    2015-08-10   \n",
       "\n",
       "     Activity  \n",
       "0           2  \n",
       "1           1  \n",
       "2           2  \n",
       "3           3  \n",
       "4           2  \n",
       "..        ...  \n",
       "656         1  \n",
       "657         1  \n",
       "658         1  \n",
       "659         1  \n",
       "660         1  \n",
       "\n",
       "[661 rows x 4 columns]"
      ]
     },
     "execution_count": 117,
     "metadata": {},
     "output_type": "execute_result"
    }
   ],
   "source": [
    "\n",
    "new_nps_deaths.groupby(['Cause of Death','Park Name','Incident Date'])['Activity'].count().to_frame().reset_index()"
   ]
  },
  {
   "cell_type": "markdown",
   "id": "4e941bc5-b8d1-4dd8-b998-b6806eace06d",
   "metadata": {},
   "source": [
    "GRAPH THE TOTAL OF UNIQUE CAUSE OF DEATH PER YEAR (ID TOTAL DROWNINGS IN 2010)"
   ]
  },
  {
   "cell_type": "code",
   "execution_count": 118,
   "id": "c04bdf38-174b-48c6-a00c-bff286d1a3c9",
   "metadata": {},
   "outputs": [
    {
     "data": {
      "text/html": [
       "<div>\n",
       "<style scoped>\n",
       "    .dataframe tbody tr th:only-of-type {\n",
       "        vertical-align: middle;\n",
       "    }\n",
       "\n",
       "    .dataframe tbody tr th {\n",
       "        vertical-align: top;\n",
       "    }\n",
       "\n",
       "    .dataframe thead th {\n",
       "        text-align: right;\n",
       "    }\n",
       "</style>\n",
       "<table border=\"1\" class=\"dataframe\">\n",
       "  <thead>\n",
       "    <tr style=\"text-align: right;\">\n",
       "      <th></th>\n",
       "      <th>Incident Date</th>\n",
       "      <th>Park Name</th>\n",
       "      <th>Cause of Death</th>\n",
       "      <th>Intent</th>\n",
       "      <th>Outcome</th>\n",
       "      <th>Sex</th>\n",
       "      <th>Age Range</th>\n",
       "      <th>Activity</th>\n",
       "      <th>month</th>\n",
       "    </tr>\n",
       "  </thead>\n",
       "  <tbody>\n",
       "    <tr>\n",
       "      <th>6</th>\n",
       "      <td>2007-02-10</td>\n",
       "      <td>Black Canyon Of The Gunnison National Park</td>\n",
       "      <td>Fall</td>\n",
       "      <td>Unintentional</td>\n",
       "      <td>Fatal Injury</td>\n",
       "      <td>Female</td>\n",
       "      <td>15-24</td>\n",
       "      <td>Not Reported</td>\n",
       "      <td>2</td>\n",
       "    </tr>\n",
       "  </tbody>\n",
       "</table>\n",
       "</div>"
      ],
      "text/plain": [
       "  Incident Date                                   Park Name Cause of Death  \\\n",
       "6    2007-02-10  Black Canyon Of The Gunnison National Park           Fall   \n",
       "\n",
       "          Intent       Outcome     Sex Age Range      Activity  month  \n",
       "6  Unintentional  Fatal Injury  Female     15-24  Not Reported      2  "
      ]
     },
     "execution_count": 118,
     "metadata": {},
     "output_type": "execute_result"
    }
   ],
   "source": [
    "new_nps_deaths.head(1)"
   ]
  },
  {
   "cell_type": "code",
   "execution_count": 119,
   "id": "573de46e-cfd1-48f0-9e03-ffad8e926029",
   "metadata": {},
   "outputs": [
    {
     "name": "stdout",
     "output_type": "stream",
     "text": [
      "<class 'pandas.core.frame.DataFrame'>\n",
      "Index: 705 entries, 6 to 4633\n",
      "Data columns (total 9 columns):\n",
      " #   Column          Non-Null Count  Dtype         \n",
      "---  ------          --------------  -----         \n",
      " 0   Incident Date   705 non-null    datetime64[ns]\n",
      " 1   Park Name       705 non-null    object        \n",
      " 2   Cause of Death  705 non-null    object        \n",
      " 3   Intent          705 non-null    object        \n",
      " 4   Outcome         705 non-null    object        \n",
      " 5   Sex             705 non-null    object        \n",
      " 6   Age Range       703 non-null    object        \n",
      " 7   Activity        705 non-null    object        \n",
      " 8   month           705 non-null    int32         \n",
      "dtypes: datetime64[ns](1), int32(1), object(7)\n",
      "memory usage: 52.3+ KB\n"
     ]
    }
   ],
   "source": [
    "new_nps_deaths.info()\n"
   ]
  },
  {
   "cell_type": "code",
   "execution_count": 120,
   "id": "ffdfe986-c8bf-4b9b-bce0-ef83f409c8c0",
   "metadata": {},
   "outputs": [
    {
     "data": {
      "text/html": [
       "<div>\n",
       "<style scoped>\n",
       "    .dataframe tbody tr th:only-of-type {\n",
       "        vertical-align: middle;\n",
       "    }\n",
       "\n",
       "    .dataframe tbody tr th {\n",
       "        vertical-align: top;\n",
       "    }\n",
       "\n",
       "    .dataframe thead th {\n",
       "        text-align: right;\n",
       "    }\n",
       "</style>\n",
       "<table border=\"1\" class=\"dataframe\">\n",
       "  <thead>\n",
       "    <tr style=\"text-align: right;\">\n",
       "      <th></th>\n",
       "      <th>Year</th>\n",
       "      <th>Visitors(1000s)</th>\n",
       "      <th>park</th>\n",
       "    </tr>\n",
       "  </thead>\n",
       "  <tbody>\n",
       "    <tr>\n",
       "      <th>99</th>\n",
       "      <td>2007</td>\n",
       "      <td>541.0</td>\n",
       "      <td>Mesa Verde National Park</td>\n",
       "    </tr>\n",
       "  </tbody>\n",
       "</table>\n",
       "</div>"
      ],
      "text/plain": [
       "    Year  Visitors(1000s)                      park\n",
       "99  2007            541.0  Mesa Verde National Park"
      ]
     },
     "execution_count": 120,
     "metadata": {},
     "output_type": "execute_result"
    }
   ],
   "source": [
    "Intermountain_parkpop.head(1)"
   ]
  },
  {
   "cell_type": "code",
   "execution_count": 121,
   "id": "86687f6f-9fbc-42f7-b8b7-efb17e19780f",
   "metadata": {},
   "outputs": [],
   "source": [
    "new_nps_deaths['month']=new_nps_deaths['Incident Date'].dt.month"
   ]
  },
  {
   "cell_type": "code",
   "execution_count": 122,
   "id": "35e838f5-d756-41fe-9e34-fd89f3ad1e23",
   "metadata": {},
   "outputs": [
    {
     "data": {
      "text/html": [
       "<div>\n",
       "<style scoped>\n",
       "    .dataframe tbody tr th:only-of-type {\n",
       "        vertical-align: middle;\n",
       "    }\n",
       "\n",
       "    .dataframe tbody tr th {\n",
       "        vertical-align: top;\n",
       "    }\n",
       "\n",
       "    .dataframe thead th {\n",
       "        text-align: right;\n",
       "    }\n",
       "</style>\n",
       "<table border=\"1\" class=\"dataframe\">\n",
       "  <thead>\n",
       "    <tr style=\"text-align: right;\">\n",
       "      <th></th>\n",
       "      <th>Incident Date</th>\n",
       "      <th>Park Name</th>\n",
       "      <th>Cause of Death</th>\n",
       "      <th>Intent</th>\n",
       "      <th>Outcome</th>\n",
       "      <th>Sex</th>\n",
       "      <th>Age Range</th>\n",
       "      <th>Activity</th>\n",
       "      <th>month</th>\n",
       "    </tr>\n",
       "  </thead>\n",
       "  <tbody>\n",
       "    <tr>\n",
       "      <th>6</th>\n",
       "      <td>2007-02-10</td>\n",
       "      <td>Black Canyon Of The Gunnison National Park</td>\n",
       "      <td>Fall</td>\n",
       "      <td>Unintentional</td>\n",
       "      <td>Fatal Injury</td>\n",
       "      <td>Female</td>\n",
       "      <td>15-24</td>\n",
       "      <td>Not Reported</td>\n",
       "      <td>2</td>\n",
       "    </tr>\n",
       "  </tbody>\n",
       "</table>\n",
       "</div>"
      ],
      "text/plain": [
       "  Incident Date                                   Park Name Cause of Death  \\\n",
       "6    2007-02-10  Black Canyon Of The Gunnison National Park           Fall   \n",
       "\n",
       "          Intent       Outcome     Sex Age Range      Activity  month  \n",
       "6  Unintentional  Fatal Injury  Female     15-24  Not Reported      2  "
      ]
     },
     "execution_count": 122,
     "metadata": {},
     "output_type": "execute_result"
    }
   ],
   "source": [
    "new_nps_deaths.head(1)"
   ]
  },
  {
   "cell_type": "code",
   "execution_count": 123,
   "id": "0f4a0e30-9c66-4c39-92c4-543589f57e68",
   "metadata": {},
   "outputs": [
    {
     "data": {
      "text/html": [
       "<div>\n",
       "<style scoped>\n",
       "    .dataframe tbody tr th:only-of-type {\n",
       "        vertical-align: middle;\n",
       "    }\n",
       "\n",
       "    .dataframe tbody tr th {\n",
       "        vertical-align: top;\n",
       "    }\n",
       "\n",
       "    .dataframe thead th {\n",
       "        text-align: right;\n",
       "    }\n",
       "</style>\n",
       "<table border=\"1\" class=\"dataframe\">\n",
       "  <thead>\n",
       "    <tr style=\"text-align: right;\">\n",
       "      <th></th>\n",
       "      <th>Incident Date</th>\n",
       "      <th>Park Name</th>\n",
       "      <th>Cause of Death</th>\n",
       "      <th>Intent</th>\n",
       "      <th>Outcome</th>\n",
       "      <th>Sex</th>\n",
       "      <th>Age Range</th>\n",
       "      <th>Activity</th>\n",
       "      <th>month</th>\n",
       "      <th>year</th>\n",
       "    </tr>\n",
       "  </thead>\n",
       "  <tbody>\n",
       "    <tr>\n",
       "      <th>6</th>\n",
       "      <td>2007-02-10</td>\n",
       "      <td>Black Canyon Of The Gunnison National Park</td>\n",
       "      <td>Fall</td>\n",
       "      <td>Unintentional</td>\n",
       "      <td>Fatal Injury</td>\n",
       "      <td>Female</td>\n",
       "      <td>15-24</td>\n",
       "      <td>Not Reported</td>\n",
       "      <td>2</td>\n",
       "      <td>2007</td>\n",
       "    </tr>\n",
       "  </tbody>\n",
       "</table>\n",
       "</div>"
      ],
      "text/plain": [
       "  Incident Date                                   Park Name Cause of Death  \\\n",
       "6    2007-02-10  Black Canyon Of The Gunnison National Park           Fall   \n",
       "\n",
       "          Intent       Outcome     Sex Age Range      Activity  month  year  \n",
       "6  Unintentional  Fatal Injury  Female     15-24  Not Reported      2  2007  "
      ]
     },
     "execution_count": 123,
     "metadata": {},
     "output_type": "execute_result"
    }
   ],
   "source": [
    "new_nps_deaths['year']=new_nps_deaths['Incident Date'].dt.year\n",
    "new_nps_deaths.head(1)"
   ]
  },
  {
   "cell_type": "code",
   "execution_count": 124,
   "id": "4557bee3-515f-4cf8-b827-b159f30af638",
   "metadata": {},
   "outputs": [
    {
     "data": {
      "text/html": [
       "<div>\n",
       "<style scoped>\n",
       "    .dataframe tbody tr th:only-of-type {\n",
       "        vertical-align: middle;\n",
       "    }\n",
       "\n",
       "    .dataframe tbody tr th {\n",
       "        vertical-align: top;\n",
       "    }\n",
       "\n",
       "    .dataframe thead th {\n",
       "        text-align: right;\n",
       "    }\n",
       "</style>\n",
       "<table border=\"1\" class=\"dataframe\">\n",
       "  <thead>\n",
       "    <tr style=\"text-align: right;\">\n",
       "      <th></th>\n",
       "      <th>Year</th>\n",
       "      <th>Visitors(1000s)</th>\n",
       "      <th>Park Name</th>\n",
       "    </tr>\n",
       "  </thead>\n",
       "  <tbody>\n",
       "    <tr>\n",
       "      <th>99</th>\n",
       "      <td>2007</td>\n",
       "      <td>541.0</td>\n",
       "      <td>Mesa Verde National Park</td>\n",
       "    </tr>\n",
       "    <tr>\n",
       "      <th>100</th>\n",
       "      <td>2008</td>\n",
       "      <td>551.0</td>\n",
       "      <td>Mesa Verde National Park</td>\n",
       "    </tr>\n",
       "    <tr>\n",
       "      <th>101</th>\n",
       "      <td>2009</td>\n",
       "      <td>550.0</td>\n",
       "      <td>Mesa Verde National Park</td>\n",
       "    </tr>\n",
       "    <tr>\n",
       "      <th>102</th>\n",
       "      <td>2010</td>\n",
       "      <td>560.0</td>\n",
       "      <td>Mesa Verde National Park</td>\n",
       "    </tr>\n",
       "    <tr>\n",
       "      <th>103</th>\n",
       "      <td>2011</td>\n",
       "      <td>572.0</td>\n",
       "      <td>Mesa Verde National Park</td>\n",
       "    </tr>\n",
       "  </tbody>\n",
       "</table>\n",
       "</div>"
      ],
      "text/plain": [
       "     Year  Visitors(1000s)                 Park Name\n",
       "99   2007            541.0  Mesa Verde National Park\n",
       "100  2008            551.0  Mesa Verde National Park\n",
       "101  2009            550.0  Mesa Verde National Park\n",
       "102  2010            560.0  Mesa Verde National Park\n",
       "103  2011            572.0  Mesa Verde National Park"
      ]
     },
     "execution_count": 124,
     "metadata": {},
     "output_type": "execute_result"
    }
   ],
   "source": [
    "Intermountain_parkpop=Intermountain_parkpop.rename(columns={'park':'Park Name'})\n",
    "Intermountain_parkpop.head()"
   ]
  },
  {
   "cell_type": "code",
   "execution_count": 125,
   "id": "7d4ae1df-df3c-4e3b-800e-f5a5d11b52a8",
   "metadata": {},
   "outputs": [],
   "source": [
    "new_nps_deaths=new_nps_deaths.drop(columns=['Incident Date']).rename(columns={'year':'Year'})"
   ]
  },
  {
   "cell_type": "markdown",
   "id": "cece0555-03d7-4d0e-8ef8-08955b9264b1",
   "metadata": {},
   "source": [
    "Combine population and death data"
   ]
  },
  {
   "cell_type": "code",
   "execution_count": 126,
   "id": "20b204f1-fb71-4d6b-90c9-66fcfcf66485",
   "metadata": {},
   "outputs": [
    {
     "data": {
      "text/html": [
       "<div>\n",
       "<style scoped>\n",
       "    .dataframe tbody tr th:only-of-type {\n",
       "        vertical-align: middle;\n",
       "    }\n",
       "\n",
       "    .dataframe tbody tr th {\n",
       "        vertical-align: top;\n",
       "    }\n",
       "\n",
       "    .dataframe thead th {\n",
       "        text-align: right;\n",
       "    }\n",
       "</style>\n",
       "<table border=\"1\" class=\"dataframe\">\n",
       "  <thead>\n",
       "    <tr style=\"text-align: right;\">\n",
       "      <th></th>\n",
       "      <th>Park Name</th>\n",
       "      <th>Cause of Death</th>\n",
       "      <th>Intent</th>\n",
       "      <th>Outcome</th>\n",
       "      <th>Sex</th>\n",
       "      <th>Age Range</th>\n",
       "      <th>Activity</th>\n",
       "      <th>month</th>\n",
       "      <th>Year</th>\n",
       "      <th>Visitors(1000s)</th>\n",
       "    </tr>\n",
       "  </thead>\n",
       "  <tbody>\n",
       "    <tr>\n",
       "      <th>0</th>\n",
       "      <td>Black Canyon Of The Gunnison National Park</td>\n",
       "      <td>Fall</td>\n",
       "      <td>Unintentional</td>\n",
       "      <td>Fatal Injury</td>\n",
       "      <td>Female</td>\n",
       "      <td>15-24</td>\n",
       "      <td>Not Reported</td>\n",
       "      <td>2</td>\n",
       "      <td>2007</td>\n",
       "      <td>220.0</td>\n",
       "    </tr>\n",
       "    <tr>\n",
       "      <th>1</th>\n",
       "      <td>Grand Canyon National Park</td>\n",
       "      <td>Drowning</td>\n",
       "      <td>Unintentional</td>\n",
       "      <td>Fatal Injury</td>\n",
       "      <td>Male</td>\n",
       "      <td>55-64</td>\n",
       "      <td>Vessel Related</td>\n",
       "      <td>3</td>\n",
       "      <td>2007</td>\n",
       "      <td>4414.0</td>\n",
       "    </tr>\n",
       "    <tr>\n",
       "      <th>2</th>\n",
       "      <td>Grand Canyon National Park</td>\n",
       "      <td>Fall</td>\n",
       "      <td>Unintentional</td>\n",
       "      <td>Fatal Injury</td>\n",
       "      <td>Male</td>\n",
       "      <td>Not Reported</td>\n",
       "      <td>Not Reported</td>\n",
       "      <td>4</td>\n",
       "      <td>2007</td>\n",
       "      <td>4414.0</td>\n",
       "    </tr>\n",
       "    <tr>\n",
       "      <th>3</th>\n",
       "      <td>Grand Teton National Park</td>\n",
       "      <td>Fall</td>\n",
       "      <td>Unintentional</td>\n",
       "      <td>Fatal Injury</td>\n",
       "      <td>Male</td>\n",
       "      <td>25-34</td>\n",
       "      <td>Climbing</td>\n",
       "      <td>4</td>\n",
       "      <td>2007</td>\n",
       "      <td>2589.0</td>\n",
       "    </tr>\n",
       "    <tr>\n",
       "      <th>4</th>\n",
       "      <td>Grand Teton National Park</td>\n",
       "      <td>Fall</td>\n",
       "      <td>Unintentional</td>\n",
       "      <td>Fatal Injury</td>\n",
       "      <td>Male</td>\n",
       "      <td>35-44</td>\n",
       "      <td>Climbing</td>\n",
       "      <td>4</td>\n",
       "      <td>2007</td>\n",
       "      <td>2589.0</td>\n",
       "    </tr>\n",
       "  </tbody>\n",
       "</table>\n",
       "</div>"
      ],
      "text/plain": [
       "                                    Park Name Cause of Death         Intent  \\\n",
       "0  Black Canyon Of The Gunnison National Park           Fall  Unintentional   \n",
       "1                  Grand Canyon National Park       Drowning  Unintentional   \n",
       "2                  Grand Canyon National Park           Fall  Unintentional   \n",
       "3                   Grand Teton National Park           Fall  Unintentional   \n",
       "4                   Grand Teton National Park           Fall  Unintentional   \n",
       "\n",
       "        Outcome     Sex     Age Range        Activity  month  Year  \\\n",
       "0  Fatal Injury  Female         15-24    Not Reported      2  2007   \n",
       "1  Fatal Injury    Male         55-64  Vessel Related      3  2007   \n",
       "2  Fatal Injury    Male  Not Reported    Not Reported      4  2007   \n",
       "3  Fatal Injury    Male         25-34        Climbing      4  2007   \n",
       "4  Fatal Injury    Male         35-44        Climbing      4  2007   \n",
       "\n",
       "   Visitors(1000s)  \n",
       "0            220.0  \n",
       "1           4414.0  \n",
       "2           4414.0  \n",
       "3           2589.0  \n",
       "4           2589.0  "
      ]
     },
     "execution_count": 126,
     "metadata": {},
     "output_type": "execute_result"
    }
   ],
   "source": [
    "deaths_population=pd.merge(new_nps_deaths, Intermountain_parkpop, \n",
    "                               left_on = ['Year', 'Park Name'], right_on = ['Year', 'Park Name'],\n",
    "                               how = 'inner')\n",
    "deaths_population.head()"
   ]
  },
  {
   "cell_type": "code",
   "execution_count": 127,
   "id": "2c282641-087c-4b77-b3f3-926edc4af6d0",
   "metadata": {},
   "outputs": [
    {
     "data": {
      "text/plain": [
       "(692, 10)"
      ]
     },
     "execution_count": 127,
     "metadata": {},
     "output_type": "execute_result"
    }
   ],
   "source": [
    "deaths_population.shape"
   ]
  },
  {
   "cell_type": "markdown",
   "id": "da95b20d-289b-43c6-83a5-b87d1194742e",
   "metadata": {},
   "source": [
    "Visitors: min and max per 1000"
   ]
  },
  {
   "cell_type": "code",
   "execution_count": 128,
   "id": "6f2d6543-3889-4806-8b3f-7ec0e664c4bd",
   "metadata": {},
   "outputs": [
    {
     "data": {
      "text/plain": [
       "170.0"
      ]
     },
     "execution_count": 128,
     "metadata": {},
     "output_type": "execute_result"
    }
   ],
   "source": [
    "deaths_population['Visitors(1000s)'].min()"
   ]
  },
  {
   "cell_type": "code",
   "execution_count": 129,
   "id": "b5fb2b57-acae-420c-93f3-cc0de09073ad",
   "metadata": {},
   "outputs": [
    {
     "data": {
      "text/plain": [
       "6380.0"
      ]
     },
     "execution_count": 129,
     "metadata": {},
     "output_type": "execute_result"
    }
   ],
   "source": [
    "deaths_population['Visitors(1000s)'].max()"
   ]
  },
  {
   "cell_type": "code",
   "execution_count": 130,
   "id": "4c00dea1-46fb-46f9-a71a-6c9b3b06e338",
   "metadata": {
    "scrolled": true
   },
   "outputs": [
    {
     "data": {
      "text/html": [
       "<div>\n",
       "<style scoped>\n",
       "    .dataframe tbody tr th:only-of-type {\n",
       "        vertical-align: middle;\n",
       "    }\n",
       "\n",
       "    .dataframe tbody tr th {\n",
       "        vertical-align: top;\n",
       "    }\n",
       "\n",
       "    .dataframe thead th {\n",
       "        text-align: right;\n",
       "    }\n",
       "</style>\n",
       "<table border=\"1\" class=\"dataframe\">\n",
       "  <thead>\n",
       "    <tr style=\"text-align: right;\">\n",
       "      <th></th>\n",
       "      <th>Park Name</th>\n",
       "      <th>Cause of Death</th>\n",
       "      <th>Intent</th>\n",
       "      <th>Outcome</th>\n",
       "      <th>Sex</th>\n",
       "      <th>Age Range</th>\n",
       "      <th>Activity</th>\n",
       "      <th>month</th>\n",
       "      <th>Year</th>\n",
       "      <th>Visitors(1000s)</th>\n",
       "    </tr>\n",
       "  </thead>\n",
       "  <tbody>\n",
       "    <tr>\n",
       "      <th>0</th>\n",
       "      <td>Black Canyon Of The Gunnison National Park</td>\n",
       "      <td>Fall</td>\n",
       "      <td>Unintentional</td>\n",
       "      <td>Fatal Injury</td>\n",
       "      <td>Female</td>\n",
       "      <td>15-24</td>\n",
       "      <td>Not Reported</td>\n",
       "      <td>2</td>\n",
       "      <td>2007</td>\n",
       "      <td>220.0</td>\n",
       "    </tr>\n",
       "    <tr>\n",
       "      <th>1</th>\n",
       "      <td>Grand Canyon National Park</td>\n",
       "      <td>Drowning</td>\n",
       "      <td>Unintentional</td>\n",
       "      <td>Fatal Injury</td>\n",
       "      <td>Male</td>\n",
       "      <td>55-64</td>\n",
       "      <td>Vessel Related</td>\n",
       "      <td>3</td>\n",
       "      <td>2007</td>\n",
       "      <td>4414.0</td>\n",
       "    </tr>\n",
       "    <tr>\n",
       "      <th>2</th>\n",
       "      <td>Grand Canyon National Park</td>\n",
       "      <td>Fall</td>\n",
       "      <td>Unintentional</td>\n",
       "      <td>Fatal Injury</td>\n",
       "      <td>Male</td>\n",
       "      <td>Not Reported</td>\n",
       "      <td>Not Reported</td>\n",
       "      <td>4</td>\n",
       "      <td>2007</td>\n",
       "      <td>4414.0</td>\n",
       "    </tr>\n",
       "    <tr>\n",
       "      <th>3</th>\n",
       "      <td>Grand Teton National Park</td>\n",
       "      <td>Fall</td>\n",
       "      <td>Unintentional</td>\n",
       "      <td>Fatal Injury</td>\n",
       "      <td>Male</td>\n",
       "      <td>25-34</td>\n",
       "      <td>Climbing</td>\n",
       "      <td>4</td>\n",
       "      <td>2007</td>\n",
       "      <td>2589.0</td>\n",
       "    </tr>\n",
       "    <tr>\n",
       "      <th>4</th>\n",
       "      <td>Grand Teton National Park</td>\n",
       "      <td>Fall</td>\n",
       "      <td>Unintentional</td>\n",
       "      <td>Fatal Injury</td>\n",
       "      <td>Male</td>\n",
       "      <td>35-44</td>\n",
       "      <td>Climbing</td>\n",
       "      <td>4</td>\n",
       "      <td>2007</td>\n",
       "      <td>2589.0</td>\n",
       "    </tr>\n",
       "  </tbody>\n",
       "</table>\n",
       "</div>"
      ],
      "text/plain": [
       "                                    Park Name Cause of Death         Intent  \\\n",
       "0  Black Canyon Of The Gunnison National Park           Fall  Unintentional   \n",
       "1                  Grand Canyon National Park       Drowning  Unintentional   \n",
       "2                  Grand Canyon National Park           Fall  Unintentional   \n",
       "3                   Grand Teton National Park           Fall  Unintentional   \n",
       "4                   Grand Teton National Park           Fall  Unintentional   \n",
       "\n",
       "        Outcome     Sex     Age Range        Activity  month  Year  \\\n",
       "0  Fatal Injury  Female         15-24    Not Reported      2  2007   \n",
       "1  Fatal Injury    Male         55-64  Vessel Related      3  2007   \n",
       "2  Fatal Injury    Male  Not Reported    Not Reported      4  2007   \n",
       "3  Fatal Injury    Male         25-34        Climbing      4  2007   \n",
       "4  Fatal Injury    Male         35-44        Climbing      4  2007   \n",
       "\n",
       "   Visitors(1000s)  \n",
       "0            220.0  \n",
       "1           4414.0  \n",
       "2           4414.0  \n",
       "3           2589.0  \n",
       "4           2589.0  "
      ]
     },
     "execution_count": 130,
     "metadata": {},
     "output_type": "execute_result"
    }
   ],
   "source": [
    "deaths_population.head(5)"
   ]
  },
  {
   "cell_type": "code",
   "execution_count": 131,
   "id": "a272e38f-5afd-430e-ab6e-10122bd9d2e4",
   "metadata": {},
   "outputs": [],
   "source": [
    "Park_Visitors_totals=deaths_population.drop(columns=['Cause of Death','Intent','Outcome','Sex','Age Range','Activity','month','Year'])\n",
    "Park_Visitors_totals=Park_Visitors_totals.drop_duplicates(subset='Park Name')"
   ]
  },
  {
   "cell_type": "code",
   "execution_count": 132,
   "id": "0285bc5d-5880-45b7-8b56-5f71f7b23cb3",
   "metadata": {},
   "outputs": [
    {
     "data": {
      "image/png": "[encoded data removed]",
      "text/plain": [
       "<Figure size 640x480 with 1 Axes>"
      ]
     },
     "metadata": {},
     "output_type": "display_data"
    }
   ],
   "source": [
    "Park_Visitors_totals.plot(kind='bar',\n",
    "                      x='Park Name',\n",
    "                      y='Visitors(1000s)')\n",
    "plt.title('Total Visitors by Park')\n",
    "plt.xlabel('Park Name')\n",
    "plt.ylabel('Visitors(1000s)')\n",
    "plt.savefig('visitors by park',bbox_inches = 'tight', transparent=True)\n",
    "plt.show()"
   ]
  },
  {
   "cell_type": "code",
   "execution_count": 133,
   "id": "9ceab432-48eb-4e8c-a852-6bfad66c1585",
   "metadata": {},
   "outputs": [
    {
     "data": {
      "text/html": [
       "<div>\n",
       "<style scoped>\n",
       "    .dataframe tbody tr th:only-of-type {\n",
       "        vertical-align: middle;\n",
       "    }\n",
       "\n",
       "    .dataframe tbody tr th {\n",
       "        vertical-align: top;\n",
       "    }\n",
       "\n",
       "    .dataframe thead th {\n",
       "        text-align: right;\n",
       "    }\n",
       "</style>\n",
       "<table border=\"1\" class=\"dataframe\">\n",
       "  <thead>\n",
       "    <tr style=\"text-align: right;\">\n",
       "      <th></th>\n",
       "      <th>Park Name</th>\n",
       "      <th>Cause of Death</th>\n",
       "      <th>Intent</th>\n",
       "      <th>Outcome</th>\n",
       "      <th>Sex</th>\n",
       "      <th>Age Range</th>\n",
       "      <th>Activity</th>\n",
       "      <th>month</th>\n",
       "      <th>Year</th>\n",
       "      <th>Visitors(1000s)</th>\n",
       "    </tr>\n",
       "  </thead>\n",
       "  <tbody>\n",
       "    <tr>\n",
       "      <th>0</th>\n",
       "      <td>Black Canyon Of The Gunnison National Park</td>\n",
       "      <td>Fall</td>\n",
       "      <td>Unintentional</td>\n",
       "      <td>Fatal Injury</td>\n",
       "      <td>Female</td>\n",
       "      <td>15-24</td>\n",
       "      <td>Not Reported</td>\n",
       "      <td>2</td>\n",
       "      <td>2007</td>\n",
       "      <td>220.0</td>\n",
       "    </tr>\n",
       "  </tbody>\n",
       "</table>\n",
       "</div>"
      ],
      "text/plain": [
       "                                    Park Name Cause of Death         Intent  \\\n",
       "0  Black Canyon Of The Gunnison National Park           Fall  Unintentional   \n",
       "\n",
       "        Outcome     Sex Age Range      Activity  month  Year  Visitors(1000s)  \n",
       "0  Fatal Injury  Female     15-24  Not Reported      2  2007            220.0  "
      ]
     },
     "execution_count": 133,
     "metadata": {},
     "output_type": "execute_result"
    }
   ],
   "source": [
    "deaths_population.head(1)"
   ]
  },
  {
   "cell_type": "code",
   "execution_count": 134,
   "id": "41dca185-5abf-48b9-bee0-e8c14bd5cca7",
   "metadata": {
    "scrolled": true
   },
   "outputs": [
    {
     "data": {
      "text/html": [
       "<div>\n",
       "<style scoped>\n",
       "    .dataframe tbody tr th:only-of-type {\n",
       "        vertical-align: middle;\n",
       "    }\n",
       "\n",
       "    .dataframe tbody tr th {\n",
       "        vertical-align: top;\n",
       "    }\n",
       "\n",
       "    .dataframe thead th {\n",
       "        text-align: right;\n",
       "    }\n",
       "</style>\n",
       "<table border=\"1\" class=\"dataframe\">\n",
       "  <thead>\n",
       "    <tr style=\"text-align: right;\">\n",
       "      <th></th>\n",
       "      <th>Park Name</th>\n",
       "      <th>Cause of Death</th>\n",
       "      <th>Year</th>\n",
       "      <th>Fatality_Count</th>\n",
       "    </tr>\n",
       "  </thead>\n",
       "  <tbody>\n",
       "    <tr>\n",
       "      <th>0</th>\n",
       "      <td>Arches National Park</td>\n",
       "      <td>Fall</td>\n",
       "      <td>2019</td>\n",
       "      <td>2</td>\n",
       "    </tr>\n",
       "    <tr>\n",
       "      <th>1</th>\n",
       "      <td>Arches National Park</td>\n",
       "      <td>Fall</td>\n",
       "      <td>2022</td>\n",
       "      <td>1</td>\n",
       "    </tr>\n",
       "    <tr>\n",
       "      <th>2</th>\n",
       "      <td>Arches National Park</td>\n",
       "      <td>Hyperthermia</td>\n",
       "      <td>2016</td>\n",
       "      <td>1</td>\n",
       "    </tr>\n",
       "    <tr>\n",
       "      <th>3</th>\n",
       "      <td>Arches National Park</td>\n",
       "      <td>Hyperthermia</td>\n",
       "      <td>2018</td>\n",
       "      <td>1</td>\n",
       "    </tr>\n",
       "    <tr>\n",
       "      <th>4</th>\n",
       "      <td>Arches National Park</td>\n",
       "      <td>Hyperthermia</td>\n",
       "      <td>2021</td>\n",
       "      <td>1</td>\n",
       "    </tr>\n",
       "    <tr>\n",
       "      <th>...</th>\n",
       "      <td>...</td>\n",
       "      <td>...</td>\n",
       "      <td>...</td>\n",
       "      <td>...</td>\n",
       "    </tr>\n",
       "    <tr>\n",
       "      <th>422</th>\n",
       "      <td>Zion National Park</td>\n",
       "      <td>Medical - Not during physical activity</td>\n",
       "      <td>2022</td>\n",
       "      <td>1</td>\n",
       "    </tr>\n",
       "    <tr>\n",
       "      <th>423</th>\n",
       "      <td>Zion National Park</td>\n",
       "      <td>Suicide</td>\n",
       "      <td>2017</td>\n",
       "      <td>1</td>\n",
       "    </tr>\n",
       "    <tr>\n",
       "      <th>424</th>\n",
       "      <td>Zion National Park</td>\n",
       "      <td>Suicide</td>\n",
       "      <td>2021</td>\n",
       "      <td>2</td>\n",
       "    </tr>\n",
       "    <tr>\n",
       "      <th>425</th>\n",
       "      <td>Zion National Park</td>\n",
       "      <td>Undetermined</td>\n",
       "      <td>2010</td>\n",
       "      <td>2</td>\n",
       "    </tr>\n",
       "    <tr>\n",
       "      <th>426</th>\n",
       "      <td>Zion National Park</td>\n",
       "      <td>Undetermined</td>\n",
       "      <td>2021</td>\n",
       "      <td>1</td>\n",
       "    </tr>\n",
       "  </tbody>\n",
       "</table>\n",
       "<p>427 rows × 4 columns</p>\n",
       "</div>"
      ],
      "text/plain": [
       "                Park Name                          Cause of Death  Year  \\\n",
       "0    Arches National Park                                    Fall  2019   \n",
       "1    Arches National Park                                    Fall  2022   \n",
       "2    Arches National Park                            Hyperthermia  2016   \n",
       "3    Arches National Park                            Hyperthermia  2018   \n",
       "4    Arches National Park                            Hyperthermia  2021   \n",
       "..                    ...                                     ...   ...   \n",
       "422    Zion National Park  Medical - Not during physical activity  2022   \n",
       "423    Zion National Park                                 Suicide  2017   \n",
       "424    Zion National Park                                 Suicide  2021   \n",
       "425    Zion National Park                            Undetermined  2010   \n",
       "426    Zion National Park                            Undetermined  2021   \n",
       "\n",
       "     Fatality_Count  \n",
       "0                 2  \n",
       "1                 1  \n",
       "2                 1  \n",
       "3                 1  \n",
       "4                 1  \n",
       "..              ...  \n",
       "422               1  \n",
       "423               1  \n",
       "424               2  \n",
       "425               2  \n",
       "426               1  \n",
       "\n",
       "[427 rows x 4 columns]"
      ]
     },
     "execution_count": 134,
     "metadata": {},
     "output_type": "execute_result"
    }
   ],
   "source": [
    "Deaths_per_park=deaths_population.groupby(['Park Name','Cause of Death','Year'])['Outcome'].count().to_frame().reset_index().rename(columns={'Outcome':'Fatality_Count'})\n",
    "Deaths_per_park"
   ]
  },
  {
   "cell_type": "markdown",
   "id": "ead341e1-87ec-4f89-86fe-0262d042697f",
   "metadata": {},
   "source": [
    "FIND TOTAL DEATHS PER CAPITAL OF MILLION AND THEN CAUSE OF DEATH TOTAL PER CAPITA PER PARK\n"
   ]
  },
  {
   "cell_type": "code",
   "execution_count": 135,
   "id": "4417f85a-8f61-49a9-8cab-b11c0234cfce",
   "metadata": {},
   "outputs": [
    {
     "data": {
      "text/html": [
       "<div>\n",
       "<style scoped>\n",
       "    .dataframe tbody tr th:only-of-type {\n",
       "        vertical-align: middle;\n",
       "    }\n",
       "\n",
       "    .dataframe tbody tr th {\n",
       "        vertical-align: top;\n",
       "    }\n",
       "\n",
       "    .dataframe thead th {\n",
       "        text-align: right;\n",
       "    }\n",
       "</style>\n",
       "<table border=\"1\" class=\"dataframe\">\n",
       "  <thead>\n",
       "    <tr style=\"text-align: right;\">\n",
       "      <th></th>\n",
       "      <th>Park Name</th>\n",
       "      <th>Year</th>\n",
       "      <th>Total Deaths</th>\n",
       "    </tr>\n",
       "  </thead>\n",
       "  <tbody>\n",
       "    <tr>\n",
       "      <th>0</th>\n",
       "      <td>Arches National Park</td>\n",
       "      <td>2016</td>\n",
       "      <td>3</td>\n",
       "    </tr>\n",
       "    <tr>\n",
       "      <th>1</th>\n",
       "      <td>Arches National Park</td>\n",
       "      <td>2017</td>\n",
       "      <td>1</td>\n",
       "    </tr>\n",
       "    <tr>\n",
       "      <th>2</th>\n",
       "      <td>Arches National Park</td>\n",
       "      <td>2018</td>\n",
       "      <td>2</td>\n",
       "    </tr>\n",
       "    <tr>\n",
       "      <th>3</th>\n",
       "      <td>Arches National Park</td>\n",
       "      <td>2019</td>\n",
       "      <td>3</td>\n",
       "    </tr>\n",
       "    <tr>\n",
       "      <th>4</th>\n",
       "      <td>Arches National Park</td>\n",
       "      <td>2021</td>\n",
       "      <td>1</td>\n",
       "    </tr>\n",
       "    <tr>\n",
       "      <th>...</th>\n",
       "      <td>...</td>\n",
       "      <td>...</td>\n",
       "      <td>...</td>\n",
       "    </tr>\n",
       "    <tr>\n",
       "      <th>163</th>\n",
       "      <td>Zion National Park</td>\n",
       "      <td>2017</td>\n",
       "      <td>4</td>\n",
       "    </tr>\n",
       "    <tr>\n",
       "      <th>164</th>\n",
       "      <td>Zion National Park</td>\n",
       "      <td>2018</td>\n",
       "      <td>3</td>\n",
       "    </tr>\n",
       "    <tr>\n",
       "      <th>165</th>\n",
       "      <td>Zion National Park</td>\n",
       "      <td>2019</td>\n",
       "      <td>4</td>\n",
       "    </tr>\n",
       "    <tr>\n",
       "      <th>166</th>\n",
       "      <td>Zion National Park</td>\n",
       "      <td>2021</td>\n",
       "      <td>6</td>\n",
       "    </tr>\n",
       "    <tr>\n",
       "      <th>167</th>\n",
       "      <td>Zion National Park</td>\n",
       "      <td>2022</td>\n",
       "      <td>4</td>\n",
       "    </tr>\n",
       "  </tbody>\n",
       "</table>\n",
       "<p>168 rows × 3 columns</p>\n",
       "</div>"
      ],
      "text/plain": [
       "                Park Name  Year  Total Deaths\n",
       "0    Arches National Park  2016             3\n",
       "1    Arches National Park  2017             1\n",
       "2    Arches National Park  2018             2\n",
       "3    Arches National Park  2019             3\n",
       "4    Arches National Park  2021             1\n",
       "..                    ...   ...           ...\n",
       "163    Zion National Park  2017             4\n",
       "164    Zion National Park  2018             3\n",
       "165    Zion National Park  2019             4\n",
       "166    Zion National Park  2021             6\n",
       "167    Zion National Park  2022             4\n",
       "\n",
       "[168 rows x 3 columns]"
      ]
     },
     "execution_count": 135,
     "metadata": {},
     "output_type": "execute_result"
    }
   ],
   "source": [
    "Total_deaths=deaths_population.groupby(['Park Name','Year'])['Outcome'].count().reset_index().rename(columns={'Outcome':'Total Deaths'})\n",
    "Total_deaths"
   ]
  },
  {
   "cell_type": "code",
   "execution_count": 138,
   "id": "b7a95dab-7060-4b54-a079-09f054fd5bb9",
   "metadata": {},
   "outputs": [
    {
     "data": {
      "text/html": [
       "<div>\n",
       "<style scoped>\n",
       "    .dataframe tbody tr th:only-of-type {\n",
       "        vertical-align: middle;\n",
       "    }\n",
       "\n",
       "    .dataframe tbody tr th {\n",
       "        vertical-align: top;\n",
       "    }\n",
       "\n",
       "    .dataframe thead th {\n",
       "        text-align: right;\n",
       "    }\n",
       "</style>\n",
       "<table border=\"1\" class=\"dataframe\">\n",
       "  <thead>\n",
       "    <tr style=\"text-align: right;\">\n",
       "      <th></th>\n",
       "      <th>Park Name</th>\n",
       "      <th>Total Deaths</th>\n",
       "    </tr>\n",
       "  </thead>\n",
       "  <tbody>\n",
       "    <tr>\n",
       "      <th>0</th>\n",
       "      <td>Arches National Park</td>\n",
       "      <td>15</td>\n",
       "    </tr>\n",
       "    <tr>\n",
       "      <th>1</th>\n",
       "      <td>Big Bend National Park</td>\n",
       "      <td>35</td>\n",
       "    </tr>\n",
       "    <tr>\n",
       "      <th>2</th>\n",
       "      <td>Black Canyon Of The Gunnison National Park</td>\n",
       "      <td>9</td>\n",
       "    </tr>\n",
       "    <tr>\n",
       "      <th>3</th>\n",
       "      <td>Bryce Canyon National Park</td>\n",
       "      <td>6</td>\n",
       "    </tr>\n",
       "    <tr>\n",
       "      <th>4</th>\n",
       "      <td>Canyonlands National Park</td>\n",
       "      <td>27</td>\n",
       "    </tr>\n",
       "    <tr>\n",
       "      <th>5</th>\n",
       "      <td>Carlsbad Caverns National Park</td>\n",
       "      <td>3</td>\n",
       "    </tr>\n",
       "    <tr>\n",
       "      <th>6</th>\n",
       "      <td>Glacier National Park</td>\n",
       "      <td>53</td>\n",
       "    </tr>\n",
       "    <tr>\n",
       "      <th>7</th>\n",
       "      <td>Grand Canyon National Park</td>\n",
       "      <td>212</td>\n",
       "    </tr>\n",
       "    <tr>\n",
       "      <th>8</th>\n",
       "      <td>Grand Teton National Park</td>\n",
       "      <td>73</td>\n",
       "    </tr>\n",
       "    <tr>\n",
       "      <th>9</th>\n",
       "      <td>Great Sand Dunes National Park &amp; Preserve</td>\n",
       "      <td>4</td>\n",
       "    </tr>\n",
       "    <tr>\n",
       "      <th>10</th>\n",
       "      <td>Guadalupe Mountains National Park</td>\n",
       "      <td>7</td>\n",
       "    </tr>\n",
       "    <tr>\n",
       "      <th>11</th>\n",
       "      <td>Mesa Verde National Park</td>\n",
       "      <td>5</td>\n",
       "    </tr>\n",
       "    <tr>\n",
       "      <th>12</th>\n",
       "      <td>Petrified Forest National Park</td>\n",
       "      <td>1</td>\n",
       "    </tr>\n",
       "    <tr>\n",
       "      <th>13</th>\n",
       "      <td>Rocky Mountain National Park</td>\n",
       "      <td>77</td>\n",
       "    </tr>\n",
       "    <tr>\n",
       "      <th>14</th>\n",
       "      <td>Saguaro National Park</td>\n",
       "      <td>19</td>\n",
       "    </tr>\n",
       "    <tr>\n",
       "      <th>15</th>\n",
       "      <td>White Sands National Park</td>\n",
       "      <td>7</td>\n",
       "    </tr>\n",
       "    <tr>\n",
       "      <th>16</th>\n",
       "      <td>Yellowstone National Park</td>\n",
       "      <td>84</td>\n",
       "    </tr>\n",
       "    <tr>\n",
       "      <th>17</th>\n",
       "      <td>Zion National Park</td>\n",
       "      <td>55</td>\n",
       "    </tr>\n",
       "  </tbody>\n",
       "</table>\n",
       "</div>"
      ],
      "text/plain": [
       "                                     Park Name  Total Deaths\n",
       "0                         Arches National Park            15\n",
       "1                       Big Bend National Park            35\n",
       "2   Black Canyon Of The Gunnison National Park             9\n",
       "3                   Bryce Canyon National Park             6\n",
       "4                    Canyonlands National Park            27\n",
       "5               Carlsbad Caverns National Park             3\n",
       "6                        Glacier National Park            53\n",
       "7                   Grand Canyon National Park           212\n",
       "8                    Grand Teton National Park            73\n",
       "9    Great Sand Dunes National Park & Preserve             4\n",
       "10           Guadalupe Mountains National Park             7\n",
       "11                    Mesa Verde National Park             5\n",
       "12              Petrified Forest National Park             1\n",
       "13                Rocky Mountain National Park            77\n",
       "14                       Saguaro National Park            19\n",
       "15                   White Sands National Park             7\n",
       "16                   Yellowstone National Park            84\n",
       "17                          Zion National Park            55"
      ]
     },
     "execution_count": 138,
     "metadata": {},
     "output_type": "execute_result"
    }
   ],
   "source": [
    "Total_deaths.groupby('Park Name')['Total Deaths'].sum().reset_index()"
   ]
  },
  {
   "cell_type": "markdown",
   "id": "52367a9e-fb6d-4908-8605-2ea7ea58d93d",
   "metadata": {},
   "source": [
    "DO NOT LOOK AT ABOVE TABLE CLOSELY BC IT IS NOT WEIGHTED PER CAPITA"
   ]
  },
  {
   "cell_type": "markdown",
   "id": "060e3054-cc47-4d2c-9247-aff7aa130b1f",
   "metadata": {},
   "source": [
    "TOTAL DEATHS IN INTRAMOUNTAINOUS RANGE PARKS 2007-2023"
   ]
  },
  {
   "cell_type": "code",
   "execution_count": 137,
   "id": "e75695fd-6099-4c89-95d9-760ec9318057",
   "metadata": {},
   "outputs": [
    {
     "data": {
      "text/plain": [
       "692"
      ]
     },
     "execution_count": 137,
     "metadata": {},
     "output_type": "execute_result"
    }
   ],
   "source": [
    "Total_deaths['Total Deaths'].sum()"
   ]
  },
  {
   "cell_type": "markdown",
   "id": "5e6773c3-8225-4493-b03a-68f54114e503",
   "metadata": {},
   "source": [
    "BELOW SHOWS PARK FATALITIES PER CAUSE OF DEATH PER YEAR"
   ]
  },
  {
   "cell_type": "code",
   "execution_count": 139,
   "id": "c9dc27c9-ba00-4111-9511-3388e1a5f622",
   "metadata": {
    "scrolled": true
   },
   "outputs": [
    {
     "data": {
      "text/html": [
       "<div>\n",
       "<style scoped>\n",
       "    .dataframe tbody tr th:only-of-type {\n",
       "        vertical-align: middle;\n",
       "    }\n",
       "\n",
       "    .dataframe tbody tr th {\n",
       "        vertical-align: top;\n",
       "    }\n",
       "\n",
       "    .dataframe thead th {\n",
       "        text-align: right;\n",
       "    }\n",
       "</style>\n",
       "<table border=\"1\" class=\"dataframe\">\n",
       "  <thead>\n",
       "    <tr style=\"text-align: right;\">\n",
       "      <th></th>\n",
       "      <th>Park Name</th>\n",
       "      <th>Cause of Death</th>\n",
       "      <th>Intent</th>\n",
       "      <th>Outcome</th>\n",
       "      <th>Sex</th>\n",
       "      <th>Age Range</th>\n",
       "      <th>Activity</th>\n",
       "      <th>month</th>\n",
       "      <th>Year</th>\n",
       "      <th>Visitors(1000s)</th>\n",
       "      <th>Fatality_Count</th>\n",
       "    </tr>\n",
       "  </thead>\n",
       "  <tbody>\n",
       "    <tr>\n",
       "      <th>0</th>\n",
       "      <td>Black Canyon Of The Gunnison National Park</td>\n",
       "      <td>Fall</td>\n",
       "      <td>Unintentional</td>\n",
       "      <td>Fatal Injury</td>\n",
       "      <td>Female</td>\n",
       "      <td>15-24</td>\n",
       "      <td>Not Reported</td>\n",
       "      <td>2</td>\n",
       "      <td>2007</td>\n",
       "      <td>220.0</td>\n",
       "      <td>1</td>\n",
       "    </tr>\n",
       "    <tr>\n",
       "      <th>1</th>\n",
       "      <td>Grand Canyon National Park</td>\n",
       "      <td>Drowning</td>\n",
       "      <td>Unintentional</td>\n",
       "      <td>Fatal Injury</td>\n",
       "      <td>Male</td>\n",
       "      <td>55-64</td>\n",
       "      <td>Vessel Related</td>\n",
       "      <td>3</td>\n",
       "      <td>2007</td>\n",
       "      <td>4414.0</td>\n",
       "      <td>1</td>\n",
       "    </tr>\n",
       "    <tr>\n",
       "      <th>2</th>\n",
       "      <td>Grand Canyon National Park</td>\n",
       "      <td>Fall</td>\n",
       "      <td>Unintentional</td>\n",
       "      <td>Fatal Injury</td>\n",
       "      <td>Male</td>\n",
       "      <td>Not Reported</td>\n",
       "      <td>Not Reported</td>\n",
       "      <td>4</td>\n",
       "      <td>2007</td>\n",
       "      <td>4414.0</td>\n",
       "      <td>4</td>\n",
       "    </tr>\n",
       "    <tr>\n",
       "      <th>3</th>\n",
       "      <td>Grand Teton National Park</td>\n",
       "      <td>Fall</td>\n",
       "      <td>Unintentional</td>\n",
       "      <td>Fatal Injury</td>\n",
       "      <td>Male</td>\n",
       "      <td>25-34</td>\n",
       "      <td>Climbing</td>\n",
       "      <td>4</td>\n",
       "      <td>2007</td>\n",
       "      <td>2589.0</td>\n",
       "      <td>2</td>\n",
       "    </tr>\n",
       "    <tr>\n",
       "      <th>4</th>\n",
       "      <td>Grand Teton National Park</td>\n",
       "      <td>Fall</td>\n",
       "      <td>Unintentional</td>\n",
       "      <td>Fatal Injury</td>\n",
       "      <td>Male</td>\n",
       "      <td>35-44</td>\n",
       "      <td>Climbing</td>\n",
       "      <td>4</td>\n",
       "      <td>2007</td>\n",
       "      <td>2589.0</td>\n",
       "      <td>2</td>\n",
       "    </tr>\n",
       "    <tr>\n",
       "      <th>...</th>\n",
       "      <td>...</td>\n",
       "      <td>...</td>\n",
       "      <td>...</td>\n",
       "      <td>...</td>\n",
       "      <td>...</td>\n",
       "      <td>...</td>\n",
       "      <td>...</td>\n",
       "      <td>...</td>\n",
       "      <td>...</td>\n",
       "      <td>...</td>\n",
       "      <td>...</td>\n",
       "    </tr>\n",
       "    <tr>\n",
       "      <th>687</th>\n",
       "      <td>Bryce Canyon National Park</td>\n",
       "      <td>Flash flood</td>\n",
       "      <td>Unintentional</td>\n",
       "      <td>Fatal Injury</td>\n",
       "      <td>Female</td>\n",
       "      <td>65+</td>\n",
       "      <td>Hiking</td>\n",
       "      <td>8</td>\n",
       "      <td>2023</td>\n",
       "      <td>2461.0</td>\n",
       "      <td>1</td>\n",
       "    </tr>\n",
       "    <tr>\n",
       "      <th>688</th>\n",
       "      <td>Grand Teton National Park</td>\n",
       "      <td>Undetermined</td>\n",
       "      <td>Unintentional</td>\n",
       "      <td>Fatal Injury</td>\n",
       "      <td>Male</td>\n",
       "      <td>65+</td>\n",
       "      <td>Not Reported</td>\n",
       "      <td>9</td>\n",
       "      <td>2023</td>\n",
       "      <td>3417.0</td>\n",
       "      <td>1</td>\n",
       "    </tr>\n",
       "    <tr>\n",
       "      <th>689</th>\n",
       "      <td>Bryce Canyon National Park</td>\n",
       "      <td>Undetermined</td>\n",
       "      <td>Undetermined</td>\n",
       "      <td>Fatal Injury</td>\n",
       "      <td>Male</td>\n",
       "      <td>65+</td>\n",
       "      <td>Not Reported</td>\n",
       "      <td>9</td>\n",
       "      <td>2023</td>\n",
       "      <td>2461.0</td>\n",
       "      <td>1</td>\n",
       "    </tr>\n",
       "    <tr>\n",
       "      <th>690</th>\n",
       "      <td>Grand Canyon National Park</td>\n",
       "      <td>Undetermined</td>\n",
       "      <td>Undetermined</td>\n",
       "      <td>Fatal Injury</td>\n",
       "      <td>Male</td>\n",
       "      <td>65+</td>\n",
       "      <td>Hiking</td>\n",
       "      <td>11</td>\n",
       "      <td>2023</td>\n",
       "      <td>4734.0</td>\n",
       "      <td>3</td>\n",
       "    </tr>\n",
       "    <tr>\n",
       "      <th>691</th>\n",
       "      <td>Big Bend National Park</td>\n",
       "      <td>Medical - Not during physical activity</td>\n",
       "      <td>Medical</td>\n",
       "      <td>Fatal Injury</td>\n",
       "      <td>Male</td>\n",
       "      <td>35-44</td>\n",
       "      <td>Other</td>\n",
       "      <td>12</td>\n",
       "      <td>2023</td>\n",
       "      <td>509.0</td>\n",
       "      <td>1</td>\n",
       "    </tr>\n",
       "  </tbody>\n",
       "</table>\n",
       "<p>692 rows × 11 columns</p>\n",
       "</div>"
      ],
      "text/plain": [
       "                                      Park Name  \\\n",
       "0    Black Canyon Of The Gunnison National Park   \n",
       "1                    Grand Canyon National Park   \n",
       "2                    Grand Canyon National Park   \n",
       "3                     Grand Teton National Park   \n",
       "4                     Grand Teton National Park   \n",
       "..                                          ...   \n",
       "687                  Bryce Canyon National Park   \n",
       "688                   Grand Teton National Park   \n",
       "689                  Bryce Canyon National Park   \n",
       "690                  Grand Canyon National Park   \n",
       "691                      Big Bend National Park   \n",
       "\n",
       "                             Cause of Death         Intent       Outcome  \\\n",
       "0                                      Fall  Unintentional  Fatal Injury   \n",
       "1                                  Drowning  Unintentional  Fatal Injury   \n",
       "2                                      Fall  Unintentional  Fatal Injury   \n",
       "3                                      Fall  Unintentional  Fatal Injury   \n",
       "4                                      Fall  Unintentional  Fatal Injury   \n",
       "..                                      ...            ...           ...   \n",
       "687                             Flash flood  Unintentional  Fatal Injury   \n",
       "688                            Undetermined  Unintentional  Fatal Injury   \n",
       "689                            Undetermined   Undetermined  Fatal Injury   \n",
       "690                            Undetermined   Undetermined  Fatal Injury   \n",
       "691  Medical - Not during physical activity        Medical  Fatal Injury   \n",
       "\n",
       "        Sex     Age Range        Activity  month  Year  Visitors(1000s)  \\\n",
       "0    Female         15-24    Not Reported      2  2007            220.0   \n",
       "1      Male         55-64  Vessel Related      3  2007           4414.0   \n",
       "2      Male  Not Reported    Not Reported      4  2007           4414.0   \n",
       "3      Male         25-34        Climbing      4  2007           2589.0   \n",
       "4      Male         35-44        Climbing      4  2007           2589.0   \n",
       "..      ...           ...             ...    ...   ...              ...   \n",
       "687  Female           65+          Hiking      8  2023           2461.0   \n",
       "688    Male           65+    Not Reported      9  2023           3417.0   \n",
       "689    Male           65+    Not Reported      9  2023           2461.0   \n",
       "690    Male           65+          Hiking     11  2023           4734.0   \n",
       "691    Male         35-44           Other     12  2023            509.0   \n",
       "\n",
       "     Fatality_Count  \n",
       "0                 1  \n",
       "1                 1  \n",
       "2                 4  \n",
       "3                 2  \n",
       "4                 2  \n",
       "..              ...  \n",
       "687               1  \n",
       "688               1  \n",
       "689               1  \n",
       "690               3  \n",
       "691               1  \n",
       "\n",
       "[692 rows x 11 columns]"
      ]
     },
     "execution_count": 139,
     "metadata": {},
     "output_type": "execute_result"
    }
   ],
   "source": [
    "Visitors_Fatality_merge=pd.merge(deaths_population, Deaths_per_park, left_on=['Park Name', 'Year', 'Cause of Death'],right_on=['Park Name','Year','Cause of Death'], how='inner')\n",
    "Visitors_Fatality_merge"
   ]
  },
  {
   "cell_type": "code",
   "execution_count": 140,
   "id": "4946846f-5a94-44a1-80e9-fe81e1798e81",
   "metadata": {},
   "outputs": [],
   "source": [
    "Visitors_Fatality_merge['Visitors']=Visitors_Fatality_merge['Visitors(1000s)']*1000"
   ]
  },
  {
   "cell_type": "code",
   "execution_count": 141,
   "id": "203c5350-0214-4fda-a356-864002b3aafb",
   "metadata": {},
   "outputs": [
    {
     "data": {
      "text/html": [
       "<div>\n",
       "<style scoped>\n",
       "    .dataframe tbody tr th:only-of-type {\n",
       "        vertical-align: middle;\n",
       "    }\n",
       "\n",
       "    .dataframe tbody tr th {\n",
       "        vertical-align: top;\n",
       "    }\n",
       "\n",
       "    .dataframe thead th {\n",
       "        text-align: right;\n",
       "    }\n",
       "</style>\n",
       "<table border=\"1\" class=\"dataframe\">\n",
       "  <thead>\n",
       "    <tr style=\"text-align: right;\">\n",
       "      <th></th>\n",
       "      <th>Park Name</th>\n",
       "      <th>Cause of Death</th>\n",
       "      <th>Intent</th>\n",
       "      <th>Outcome</th>\n",
       "      <th>Sex</th>\n",
       "      <th>Age Range</th>\n",
       "      <th>Activity</th>\n",
       "      <th>month</th>\n",
       "      <th>Year</th>\n",
       "      <th>Visitors(1000s)</th>\n",
       "      <th>Fatality_Count</th>\n",
       "      <th>Visitors</th>\n",
       "    </tr>\n",
       "  </thead>\n",
       "  <tbody>\n",
       "    <tr>\n",
       "      <th>0</th>\n",
       "      <td>Black Canyon Of The Gunnison National Park</td>\n",
       "      <td>Fall</td>\n",
       "      <td>Unintentional</td>\n",
       "      <td>Fatal Injury</td>\n",
       "      <td>Female</td>\n",
       "      <td>15-24</td>\n",
       "      <td>Not Reported</td>\n",
       "      <td>2</td>\n",
       "      <td>2007</td>\n",
       "      <td>220.0</td>\n",
       "      <td>1</td>\n",
       "      <td>220000.0</td>\n",
       "    </tr>\n",
       "    <tr>\n",
       "      <th>1</th>\n",
       "      <td>Grand Canyon National Park</td>\n",
       "      <td>Drowning</td>\n",
       "      <td>Unintentional</td>\n",
       "      <td>Fatal Injury</td>\n",
       "      <td>Male</td>\n",
       "      <td>55-64</td>\n",
       "      <td>Vessel Related</td>\n",
       "      <td>3</td>\n",
       "      <td>2007</td>\n",
       "      <td>4414.0</td>\n",
       "      <td>1</td>\n",
       "      <td>4414000.0</td>\n",
       "    </tr>\n",
       "    <tr>\n",
       "      <th>2</th>\n",
       "      <td>Grand Canyon National Park</td>\n",
       "      <td>Fall</td>\n",
       "      <td>Unintentional</td>\n",
       "      <td>Fatal Injury</td>\n",
       "      <td>Male</td>\n",
       "      <td>Not Reported</td>\n",
       "      <td>Not Reported</td>\n",
       "      <td>4</td>\n",
       "      <td>2007</td>\n",
       "      <td>4414.0</td>\n",
       "      <td>4</td>\n",
       "      <td>4414000.0</td>\n",
       "    </tr>\n",
       "    <tr>\n",
       "      <th>3</th>\n",
       "      <td>Grand Teton National Park</td>\n",
       "      <td>Fall</td>\n",
       "      <td>Unintentional</td>\n",
       "      <td>Fatal Injury</td>\n",
       "      <td>Male</td>\n",
       "      <td>25-34</td>\n",
       "      <td>Climbing</td>\n",
       "      <td>4</td>\n",
       "      <td>2007</td>\n",
       "      <td>2589.0</td>\n",
       "      <td>2</td>\n",
       "      <td>2589000.0</td>\n",
       "    </tr>\n",
       "    <tr>\n",
       "      <th>4</th>\n",
       "      <td>Grand Teton National Park</td>\n",
       "      <td>Fall</td>\n",
       "      <td>Unintentional</td>\n",
       "      <td>Fatal Injury</td>\n",
       "      <td>Male</td>\n",
       "      <td>35-44</td>\n",
       "      <td>Climbing</td>\n",
       "      <td>4</td>\n",
       "      <td>2007</td>\n",
       "      <td>2589.0</td>\n",
       "      <td>2</td>\n",
       "      <td>2589000.0</td>\n",
       "    </tr>\n",
       "  </tbody>\n",
       "</table>\n",
       "</div>"
      ],
      "text/plain": [
       "                                    Park Name Cause of Death         Intent  \\\n",
       "0  Black Canyon Of The Gunnison National Park           Fall  Unintentional   \n",
       "1                  Grand Canyon National Park       Drowning  Unintentional   \n",
       "2                  Grand Canyon National Park           Fall  Unintentional   \n",
       "3                   Grand Teton National Park           Fall  Unintentional   \n",
       "4                   Grand Teton National Park           Fall  Unintentional   \n",
       "\n",
       "        Outcome     Sex     Age Range        Activity  month  Year  \\\n",
       "0  Fatal Injury  Female         15-24    Not Reported      2  2007   \n",
       "1  Fatal Injury    Male         55-64  Vessel Related      3  2007   \n",
       "2  Fatal Injury    Male  Not Reported    Not Reported      4  2007   \n",
       "3  Fatal Injury    Male         25-34        Climbing      4  2007   \n",
       "4  Fatal Injury    Male         35-44        Climbing      4  2007   \n",
       "\n",
       "   Visitors(1000s)  Fatality_Count   Visitors  \n",
       "0            220.0               1   220000.0  \n",
       "1           4414.0               1  4414000.0  \n",
       "2           4414.0               4  4414000.0  \n",
       "3           2589.0               2  2589000.0  \n",
       "4           2589.0               2  2589000.0  "
      ]
     },
     "execution_count": 141,
     "metadata": {},
     "output_type": "execute_result"
    }
   ],
   "source": [
    "Visitors_Fatality_merge.head()"
   ]
  },
  {
   "cell_type": "markdown",
   "id": "ee65b103-769e-4536-9eac-20ca934369fa",
   "metadata": {},
   "source": [
    "##change to per capita in millions"
   ]
  },
  {
   "cell_type": "code",
   "execution_count": 142,
   "id": "46c13371-e76b-465d-998f-bba3a194290e",
   "metadata": {},
   "outputs": [
    {
     "data": {
      "text/html": [
       "<div>\n",
       "<style scoped>\n",
       "    .dataframe tbody tr th:only-of-type {\n",
       "        vertical-align: middle;\n",
       "    }\n",
       "\n",
       "    .dataframe tbody tr th {\n",
       "        vertical-align: top;\n",
       "    }\n",
       "\n",
       "    .dataframe thead th {\n",
       "        text-align: right;\n",
       "    }\n",
       "</style>\n",
       "<table border=\"1\" class=\"dataframe\">\n",
       "  <thead>\n",
       "    <tr style=\"text-align: right;\">\n",
       "      <th></th>\n",
       "      <th>Park Name</th>\n",
       "      <th>Cause of Death</th>\n",
       "      <th>Intent</th>\n",
       "      <th>Outcome</th>\n",
       "      <th>Sex</th>\n",
       "      <th>Age Range</th>\n",
       "      <th>Activity</th>\n",
       "      <th>month</th>\n",
       "      <th>Year</th>\n",
       "      <th>Visitors(1000s)</th>\n",
       "      <th>Fatality_Count</th>\n",
       "      <th>Visitors</th>\n",
       "    </tr>\n",
       "  </thead>\n",
       "  <tbody>\n",
       "    <tr>\n",
       "      <th>0</th>\n",
       "      <td>Black Canyon Of The Gunnison National Park</td>\n",
       "      <td>Fall</td>\n",
       "      <td>Unintentional</td>\n",
       "      <td>Fatal Injury</td>\n",
       "      <td>Female</td>\n",
       "      <td>15-24</td>\n",
       "      <td>Not Reported</td>\n",
       "      <td>2</td>\n",
       "      <td>2007</td>\n",
       "      <td>220.0</td>\n",
       "      <td>1</td>\n",
       "      <td>220000.0</td>\n",
       "    </tr>\n",
       "    <tr>\n",
       "      <th>1</th>\n",
       "      <td>Grand Canyon National Park</td>\n",
       "      <td>Drowning</td>\n",
       "      <td>Unintentional</td>\n",
       "      <td>Fatal Injury</td>\n",
       "      <td>Male</td>\n",
       "      <td>55-64</td>\n",
       "      <td>Vessel Related</td>\n",
       "      <td>3</td>\n",
       "      <td>2007</td>\n",
       "      <td>4414.0</td>\n",
       "      <td>1</td>\n",
       "      <td>4414000.0</td>\n",
       "    </tr>\n",
       "    <tr>\n",
       "      <th>2</th>\n",
       "      <td>Grand Canyon National Park</td>\n",
       "      <td>Fall</td>\n",
       "      <td>Unintentional</td>\n",
       "      <td>Fatal Injury</td>\n",
       "      <td>Male</td>\n",
       "      <td>Not Reported</td>\n",
       "      <td>Not Reported</td>\n",
       "      <td>4</td>\n",
       "      <td>2007</td>\n",
       "      <td>4414.0</td>\n",
       "      <td>4</td>\n",
       "      <td>4414000.0</td>\n",
       "    </tr>\n",
       "    <tr>\n",
       "      <th>3</th>\n",
       "      <td>Grand Teton National Park</td>\n",
       "      <td>Fall</td>\n",
       "      <td>Unintentional</td>\n",
       "      <td>Fatal Injury</td>\n",
       "      <td>Male</td>\n",
       "      <td>25-34</td>\n",
       "      <td>Climbing</td>\n",
       "      <td>4</td>\n",
       "      <td>2007</td>\n",
       "      <td>2589.0</td>\n",
       "      <td>2</td>\n",
       "      <td>2589000.0</td>\n",
       "    </tr>\n",
       "    <tr>\n",
       "      <th>4</th>\n",
       "      <td>Grand Teton National Park</td>\n",
       "      <td>Fall</td>\n",
       "      <td>Unintentional</td>\n",
       "      <td>Fatal Injury</td>\n",
       "      <td>Male</td>\n",
       "      <td>35-44</td>\n",
       "      <td>Climbing</td>\n",
       "      <td>4</td>\n",
       "      <td>2007</td>\n",
       "      <td>2589.0</td>\n",
       "      <td>2</td>\n",
       "      <td>2589000.0</td>\n",
       "    </tr>\n",
       "  </tbody>\n",
       "</table>\n",
       "</div>"
      ],
      "text/plain": [
       "                                    Park Name Cause of Death         Intent  \\\n",
       "0  Black Canyon Of The Gunnison National Park           Fall  Unintentional   \n",
       "1                  Grand Canyon National Park       Drowning  Unintentional   \n",
       "2                  Grand Canyon National Park           Fall  Unintentional   \n",
       "3                   Grand Teton National Park           Fall  Unintentional   \n",
       "4                   Grand Teton National Park           Fall  Unintentional   \n",
       "\n",
       "        Outcome     Sex     Age Range        Activity  month  Year  \\\n",
       "0  Fatal Injury  Female         15-24    Not Reported      2  2007   \n",
       "1  Fatal Injury    Male         55-64  Vessel Related      3  2007   \n",
       "2  Fatal Injury    Male  Not Reported    Not Reported      4  2007   \n",
       "3  Fatal Injury    Male         25-34        Climbing      4  2007   \n",
       "4  Fatal Injury    Male         35-44        Climbing      4  2007   \n",
       "\n",
       "   Visitors(1000s)  Fatality_Count   Visitors  \n",
       "0            220.0               1   220000.0  \n",
       "1           4414.0               1  4414000.0  \n",
       "2           4414.0               4  4414000.0  \n",
       "3           2589.0               2  2589000.0  \n",
       "4           2589.0               2  2589000.0  "
      ]
     },
     "execution_count": 142,
     "metadata": {},
     "output_type": "execute_result"
    }
   ],
   "source": [
    "Visitors_Fatality_merge.head()"
   ]
  },
  {
   "cell_type": "code",
   "execution_count": 145,
   "id": "549fe3ca-7e80-4349-b247-dd2ffdc1f8e1",
   "metadata": {},
   "outputs": [
    {
     "data": {
      "text/html": [
       "<div>\n",
       "<style scoped>\n",
       "    .dataframe tbody tr th:only-of-type {\n",
       "        vertical-align: middle;\n",
       "    }\n",
       "\n",
       "    .dataframe tbody tr th {\n",
       "        vertical-align: top;\n",
       "    }\n",
       "\n",
       "    .dataframe thead th {\n",
       "        text-align: right;\n",
       "    }\n",
       "</style>\n",
       "<table border=\"1\" class=\"dataframe\">\n",
       "  <thead>\n",
       "    <tr style=\"text-align: right;\">\n",
       "      <th></th>\n",
       "      <th>Park Name</th>\n",
       "      <th>Cause of Death</th>\n",
       "      <th>Intent</th>\n",
       "      <th>Outcome</th>\n",
       "      <th>Sex</th>\n",
       "      <th>Age Range</th>\n",
       "      <th>Activity</th>\n",
       "      <th>month</th>\n",
       "      <th>Year</th>\n",
       "      <th>Visitors(1000s)</th>\n",
       "      <th>Fatality_Count</th>\n",
       "      <th>Visitors</th>\n",
       "      <th>Fatalities_per_million</th>\n",
       "    </tr>\n",
       "  </thead>\n",
       "  <tbody>\n",
       "    <tr>\n",
       "      <th>0</th>\n",
       "      <td>Black Canyon Of The Gunnison National Park</td>\n",
       "      <td>Fall</td>\n",
       "      <td>Unintentional</td>\n",
       "      <td>Fatal Injury</td>\n",
       "      <td>Female</td>\n",
       "      <td>15-24</td>\n",
       "      <td>Not Reported</td>\n",
       "      <td>2</td>\n",
       "      <td>2007</td>\n",
       "      <td>220.0</td>\n",
       "      <td>1</td>\n",
       "      <td>220000.0</td>\n",
       "      <td>4.545455</td>\n",
       "    </tr>\n",
       "  </tbody>\n",
       "</table>\n",
       "</div>"
      ],
      "text/plain": [
       "                                    Park Name Cause of Death         Intent  \\\n",
       "0  Black Canyon Of The Gunnison National Park           Fall  Unintentional   \n",
       "\n",
       "        Outcome     Sex Age Range      Activity  month  Year  Visitors(1000s)  \\\n",
       "0  Fatal Injury  Female     15-24  Not Reported      2  2007            220.0   \n",
       "\n",
       "   Fatality_Count  Visitors  Fatalities_per_million  \n",
       "0               1  220000.0                4.545455  "
      ]
     },
     "execution_count": 145,
     "metadata": {},
     "output_type": "execute_result"
    }
   ],
   "source": [
    "Visitors_Fatality_merge['Fatalities_per_million']=Visitors_Fatality_merge['Fatality_Count']/Visitors_Fatality_merge['Visitors'] *1000000 \n",
    "Visitors_Fatality_merge.head(1)"
   ]
  },
  {
   "cell_type": "markdown",
   "id": "f241e9e8-345a-4c50-a028-17e0b0cc50e9",
   "metadata": {
    "scrolled": true
   },
   "source": [
    "Visitors_Fatality_merge['Fatalities_per_million']=Visitors_Fatality_merge['Fatality_Count']/Visitors_Fatality_merge['Visitors'] *1000000 \n",
    "Visitors_Fatality_merge.head(30)"
   ]
  },
  {
   "cell_type": "code",
   "execution_count": 147,
   "id": "995f0a32-bd45-4f37-a7db-750046471797",
   "metadata": {
    "scrolled": true
   },
   "outputs": [
    {
     "data": {
      "text/html": [
       "<div>\n",
       "<style scoped>\n",
       "    .dataframe tbody tr th:only-of-type {\n",
       "        vertical-align: middle;\n",
       "    }\n",
       "\n",
       "    .dataframe tbody tr th {\n",
       "        vertical-align: top;\n",
       "    }\n",
       "\n",
       "    .dataframe thead th {\n",
       "        text-align: right;\n",
       "    }\n",
       "</style>\n",
       "<table border=\"1\" class=\"dataframe\">\n",
       "  <thead>\n",
       "    <tr style=\"text-align: right;\">\n",
       "      <th></th>\n",
       "      <th>Park Name</th>\n",
       "      <th>Cause of Death</th>\n",
       "      <th>Intent</th>\n",
       "      <th>Outcome</th>\n",
       "      <th>Sex</th>\n",
       "      <th>Age Range</th>\n",
       "      <th>Activity</th>\n",
       "      <th>month</th>\n",
       "      <th>Year</th>\n",
       "      <th>Visitors(1000s)</th>\n",
       "      <th>Fatality_Count</th>\n",
       "      <th>Visitors</th>\n",
       "      <th>Fatalities_per_million</th>\n",
       "    </tr>\n",
       "  </thead>\n",
       "  <tbody>\n",
       "    <tr>\n",
       "      <th>0</th>\n",
       "      <td>Black Canyon Of The Gunnison National Park</td>\n",
       "      <td>Fall</td>\n",
       "      <td>Unintentional</td>\n",
       "      <td>Fatal Injury</td>\n",
       "      <td>Female</td>\n",
       "      <td>15-24</td>\n",
       "      <td>Not Reported</td>\n",
       "      <td>2</td>\n",
       "      <td>2007</td>\n",
       "      <td>220.0</td>\n",
       "      <td>1</td>\n",
       "      <td>220000.0</td>\n",
       "      <td>4.545455</td>\n",
       "    </tr>\n",
       "    <tr>\n",
       "      <th>1</th>\n",
       "      <td>Grand Canyon National Park</td>\n",
       "      <td>Drowning</td>\n",
       "      <td>Unintentional</td>\n",
       "      <td>Fatal Injury</td>\n",
       "      <td>Male</td>\n",
       "      <td>55-64</td>\n",
       "      <td>Vessel Related</td>\n",
       "      <td>3</td>\n",
       "      <td>2007</td>\n",
       "      <td>4414.0</td>\n",
       "      <td>1</td>\n",
       "      <td>4414000.0</td>\n",
       "      <td>0.226552</td>\n",
       "    </tr>\n",
       "    <tr>\n",
       "      <th>2</th>\n",
       "      <td>Grand Canyon National Park</td>\n",
       "      <td>Fall</td>\n",
       "      <td>Unintentional</td>\n",
       "      <td>Fatal Injury</td>\n",
       "      <td>Male</td>\n",
       "      <td>Not Reported</td>\n",
       "      <td>Not Reported</td>\n",
       "      <td>4</td>\n",
       "      <td>2007</td>\n",
       "      <td>4414.0</td>\n",
       "      <td>4</td>\n",
       "      <td>4414000.0</td>\n",
       "      <td>0.906208</td>\n",
       "    </tr>\n",
       "    <tr>\n",
       "      <th>3</th>\n",
       "      <td>Grand Teton National Park</td>\n",
       "      <td>Fall</td>\n",
       "      <td>Unintentional</td>\n",
       "      <td>Fatal Injury</td>\n",
       "      <td>Male</td>\n",
       "      <td>25-34</td>\n",
       "      <td>Climbing</td>\n",
       "      <td>4</td>\n",
       "      <td>2007</td>\n",
       "      <td>2589.0</td>\n",
       "      <td>2</td>\n",
       "      <td>2589000.0</td>\n",
       "      <td>0.772499</td>\n",
       "    </tr>\n",
       "    <tr>\n",
       "      <th>4</th>\n",
       "      <td>Grand Teton National Park</td>\n",
       "      <td>Fall</td>\n",
       "      <td>Unintentional</td>\n",
       "      <td>Fatal Injury</td>\n",
       "      <td>Male</td>\n",
       "      <td>35-44</td>\n",
       "      <td>Climbing</td>\n",
       "      <td>4</td>\n",
       "      <td>2007</td>\n",
       "      <td>2589.0</td>\n",
       "      <td>2</td>\n",
       "      <td>2589000.0</td>\n",
       "      <td>0.772499</td>\n",
       "    </tr>\n",
       "  </tbody>\n",
       "</table>\n",
       "</div>"
      ],
      "text/plain": [
       "                                    Park Name Cause of Death         Intent  \\\n",
       "0  Black Canyon Of The Gunnison National Park           Fall  Unintentional   \n",
       "1                  Grand Canyon National Park       Drowning  Unintentional   \n",
       "2                  Grand Canyon National Park           Fall  Unintentional   \n",
       "3                   Grand Teton National Park           Fall  Unintentional   \n",
       "4                   Grand Teton National Park           Fall  Unintentional   \n",
       "\n",
       "        Outcome     Sex     Age Range        Activity  month  Year  \\\n",
       "0  Fatal Injury  Female         15-24    Not Reported      2  2007   \n",
       "1  Fatal Injury    Male         55-64  Vessel Related      3  2007   \n",
       "2  Fatal Injury    Male  Not Reported    Not Reported      4  2007   \n",
       "3  Fatal Injury    Male         25-34        Climbing      4  2007   \n",
       "4  Fatal Injury    Male         35-44        Climbing      4  2007   \n",
       "\n",
       "   Visitors(1000s)  Fatality_Count   Visitors  Fatalities_per_million  \n",
       "0            220.0               1   220000.0                4.545455  \n",
       "1           4414.0               1  4414000.0                0.226552  \n",
       "2           4414.0               4  4414000.0                0.906208  \n",
       "3           2589.0               2  2589000.0                0.772499  \n",
       "4           2589.0               2  2589000.0                0.772499  "
      ]
     },
     "execution_count": 147,
     "metadata": {},
     "output_type": "execute_result"
    }
   ],
   "source": [
    "Visitors_Fatality_merge.groupby('Park Name')\n",
    "Visitors_Fatality_merge.head()"
   ]
  },
  {
   "cell_type": "markdown",
   "id": "1638ac31-9f86-4c8a-857f-134911db3b43",
   "metadata": {},
   "source": [
    "###########################################################################################################################\n",
    "Cause_of_death_totals['Cause of Death']=Cause_of_death_totals['Cause of Death'].str.replace('Aircraft Incident ','Aircraft Incident')\n",
    "###########################################################################################################################"
   ]
  },
  {
   "cell_type": "code",
   "execution_count": 148,
   "id": "a7941451-f18d-4265-99ac-9ccb4027e171",
   "metadata": {},
   "outputs": [],
   "source": [
    "Visitors_Fatality_merge['Cause of Death']=Visitors_Fatality_merge['Cause of Death'].str.title()"
   ]
  },
  {
   "cell_type": "code",
   "execution_count": 149,
   "id": "05fa6279-52a5-4b36-b984-207b3cb37a1e",
   "metadata": {},
   "outputs": [
    {
     "data": {
      "text/html": [
       "<div>\n",
       "<style scoped>\n",
       "    .dataframe tbody tr th:only-of-type {\n",
       "        vertical-align: middle;\n",
       "    }\n",
       "\n",
       "    .dataframe tbody tr th {\n",
       "        vertical-align: top;\n",
       "    }\n",
       "\n",
       "    .dataframe thead th {\n",
       "        text-align: right;\n",
       "    }\n",
       "</style>\n",
       "<table border=\"1\" class=\"dataframe\">\n",
       "  <thead>\n",
       "    <tr style=\"text-align: right;\">\n",
       "      <th></th>\n",
       "      <th>Park Name</th>\n",
       "      <th>Fatalities_per_million</th>\n",
       "    </tr>\n",
       "  </thead>\n",
       "  <tbody>\n",
       "    <tr>\n",
       "      <th>0</th>\n",
       "      <td>Arches National Park</td>\n",
       "      <td>16.00</td>\n",
       "    </tr>\n",
       "    <tr>\n",
       "      <th>1</th>\n",
       "      <td>Big Bend National Park</td>\n",
       "      <td>141.92</td>\n",
       "    </tr>\n",
       "    <tr>\n",
       "      <th>2</th>\n",
       "      <td>Black Canyon Of The Gunnison National Park</td>\n",
       "      <td>53.53</td>\n",
       "    </tr>\n",
       "    <tr>\n",
       "      <th>3</th>\n",
       "      <td>Bryce Canyon National Park</td>\n",
       "      <td>2.97</td>\n",
       "    </tr>\n",
       "    <tr>\n",
       "      <th>4</th>\n",
       "      <td>Canyonlands National Park</td>\n",
       "      <td>72.82</td>\n",
       "    </tr>\n",
       "    <tr>\n",
       "      <th>5</th>\n",
       "      <td>Carlsbad Caverns National Park</td>\n",
       "      <td>10.56</td>\n",
       "    </tr>\n",
       "    <tr>\n",
       "      <th>6</th>\n",
       "      <td>Glacier National Park</td>\n",
       "      <td>37.09</td>\n",
       "    </tr>\n",
       "    <tr>\n",
       "      <th>7</th>\n",
       "      <td>Grand Canyon National Park</td>\n",
       "      <td>167.24</td>\n",
       "    </tr>\n",
       "    <tr>\n",
       "      <th>8</th>\n",
       "      <td>Grand Teton National Park</td>\n",
       "      <td>45.81</td>\n",
       "    </tr>\n",
       "    <tr>\n",
       "      <th>9</th>\n",
       "      <td>Great Sand Dunes National Park &amp; Preserve</td>\n",
       "      <td>11.29</td>\n",
       "    </tr>\n",
       "    <tr>\n",
       "      <th>10</th>\n",
       "      <td>Guadalupe Mountains National Park</td>\n",
       "      <td>47.77</td>\n",
       "    </tr>\n",
       "    <tr>\n",
       "      <th>11</th>\n",
       "      <td>Mesa Verde National Park</td>\n",
       "      <td>9.17</td>\n",
       "    </tr>\n",
       "    <tr>\n",
       "      <th>12</th>\n",
       "      <td>Petrified Forest National Park</td>\n",
       "      <td>1.98</td>\n",
       "    </tr>\n",
       "    <tr>\n",
       "      <th>13</th>\n",
       "      <td>Rocky Mountain National Park</td>\n",
       "      <td>42.38</td>\n",
       "    </tr>\n",
       "    <tr>\n",
       "      <th>14</th>\n",
       "      <td>Saguaro National Park</td>\n",
       "      <td>45.76</td>\n",
       "    </tr>\n",
       "    <tr>\n",
       "      <th>15</th>\n",
       "      <td>White Sands National Park</td>\n",
       "      <td>16.22</td>\n",
       "    </tr>\n",
       "    <tr>\n",
       "      <th>16</th>\n",
       "      <td>Yellowstone National Park</td>\n",
       "      <td>39.89</td>\n",
       "    </tr>\n",
       "    <tr>\n",
       "      <th>17</th>\n",
       "      <td>Zion National Park</td>\n",
       "      <td>41.27</td>\n",
       "    </tr>\n",
       "  </tbody>\n",
       "</table>\n",
       "</div>"
      ],
      "text/plain": [
       "                                     Park Name  Fatalities_per_million\n",
       "0                         Arches National Park                   16.00\n",
       "1                       Big Bend National Park                  141.92\n",
       "2   Black Canyon Of The Gunnison National Park                   53.53\n",
       "3                   Bryce Canyon National Park                    2.97\n",
       "4                    Canyonlands National Park                   72.82\n",
       "5               Carlsbad Caverns National Park                   10.56\n",
       "6                        Glacier National Park                   37.09\n",
       "7                   Grand Canyon National Park                  167.24\n",
       "8                    Grand Teton National Park                   45.81\n",
       "9    Great Sand Dunes National Park & Preserve                   11.29\n",
       "10           Guadalupe Mountains National Park                   47.77\n",
       "11                    Mesa Verde National Park                    9.17\n",
       "12              Petrified Forest National Park                    1.98\n",
       "13                Rocky Mountain National Park                   42.38\n",
       "14                       Saguaro National Park                   45.76\n",
       "15                   White Sands National Park                   16.22\n",
       "16                   Yellowstone National Park                   39.89\n",
       "17                          Zion National Park                   41.27"
      ]
     },
     "execution_count": 149,
     "metadata": {},
     "output_type": "execute_result"
    }
   ],
   "source": [
    "new_group = Visitors_Fatality_merge.groupby('Park Name')['Fatalities_per_million'].sum().round(2).to_frame().reset_index()\n",
    "new_group.head(18)"
   ]
  },
  {
   "cell_type": "code",
   "execution_count": 150,
   "id": "ddaf1fc5-063f-44c1-8e8f-896b9361b6fb",
   "metadata": {},
   "outputs": [
    {
     "data": {
      "text/html": [
       "<div>\n",
       "<style scoped>\n",
       "    .dataframe tbody tr th:only-of-type {\n",
       "        vertical-align: middle;\n",
       "    }\n",
       "\n",
       "    .dataframe tbody tr th {\n",
       "        vertical-align: top;\n",
       "    }\n",
       "\n",
       "    .dataframe thead th {\n",
       "        text-align: right;\n",
       "    }\n",
       "</style>\n",
       "<table border=\"1\" class=\"dataframe\">\n",
       "  <thead>\n",
       "    <tr style=\"text-align: right;\">\n",
       "      <th></th>\n",
       "      <th>Park Name</th>\n",
       "      <th>Fatalities_per_million</th>\n",
       "    </tr>\n",
       "  </thead>\n",
       "  <tbody>\n",
       "    <tr>\n",
       "      <th>0</th>\n",
       "      <td>Arches National Park</td>\n",
       "      <td>16.00</td>\n",
       "    </tr>\n",
       "    <tr>\n",
       "      <th>1</th>\n",
       "      <td>Big Bend National Park</td>\n",
       "      <td>141.92</td>\n",
       "    </tr>\n",
       "    <tr>\n",
       "      <th>2</th>\n",
       "      <td>Black Canyon Of The Gunnison National Park</td>\n",
       "      <td>53.53</td>\n",
       "    </tr>\n",
       "    <tr>\n",
       "      <th>3</th>\n",
       "      <td>Bryce Canyon National Park</td>\n",
       "      <td>2.97</td>\n",
       "    </tr>\n",
       "    <tr>\n",
       "      <th>4</th>\n",
       "      <td>Canyonlands National Park</td>\n",
       "      <td>72.82</td>\n",
       "    </tr>\n",
       "    <tr>\n",
       "      <th>5</th>\n",
       "      <td>Carlsbad Caverns National Park</td>\n",
       "      <td>10.56</td>\n",
       "    </tr>\n",
       "    <tr>\n",
       "      <th>6</th>\n",
       "      <td>Glacier National Park</td>\n",
       "      <td>37.09</td>\n",
       "    </tr>\n",
       "    <tr>\n",
       "      <th>7</th>\n",
       "      <td>Grand Canyon National Park</td>\n",
       "      <td>167.24</td>\n",
       "    </tr>\n",
       "    <tr>\n",
       "      <th>8</th>\n",
       "      <td>Grand Teton National Park</td>\n",
       "      <td>45.81</td>\n",
       "    </tr>\n",
       "    <tr>\n",
       "      <th>9</th>\n",
       "      <td>Great Sand Dunes National Park &amp; Preserve</td>\n",
       "      <td>11.29</td>\n",
       "    </tr>\n",
       "    <tr>\n",
       "      <th>10</th>\n",
       "      <td>Guadalupe Mountains National Park</td>\n",
       "      <td>47.77</td>\n",
       "    </tr>\n",
       "    <tr>\n",
       "      <th>11</th>\n",
       "      <td>Mesa Verde National Park</td>\n",
       "      <td>9.17</td>\n",
       "    </tr>\n",
       "    <tr>\n",
       "      <th>12</th>\n",
       "      <td>Petrified Forest National Park</td>\n",
       "      <td>1.98</td>\n",
       "    </tr>\n",
       "    <tr>\n",
       "      <th>13</th>\n",
       "      <td>Rocky Mountain National Park</td>\n",
       "      <td>42.38</td>\n",
       "    </tr>\n",
       "    <tr>\n",
       "      <th>14</th>\n",
       "      <td>Saguaro National Park</td>\n",
       "      <td>45.76</td>\n",
       "    </tr>\n",
       "    <tr>\n",
       "      <th>15</th>\n",
       "      <td>White Sands National Park</td>\n",
       "      <td>16.22</td>\n",
       "    </tr>\n",
       "    <tr>\n",
       "      <th>16</th>\n",
       "      <td>Yellowstone National Park</td>\n",
       "      <td>39.89</td>\n",
       "    </tr>\n",
       "    <tr>\n",
       "      <th>17</th>\n",
       "      <td>Zion National Park</td>\n",
       "      <td>41.27</td>\n",
       "    </tr>\n",
       "  </tbody>\n",
       "</table>\n",
       "</div>"
      ],
      "text/plain": [
       "                                     Park Name  Fatalities_per_million\n",
       "0                         Arches National Park                   16.00\n",
       "1                       Big Bend National Park                  141.92\n",
       "2   Black Canyon Of The Gunnison National Park                   53.53\n",
       "3                   Bryce Canyon National Park                    2.97\n",
       "4                    Canyonlands National Park                   72.82\n",
       "5               Carlsbad Caverns National Park                   10.56\n",
       "6                        Glacier National Park                   37.09\n",
       "7                   Grand Canyon National Park                  167.24\n",
       "8                    Grand Teton National Park                   45.81\n",
       "9    Great Sand Dunes National Park & Preserve                   11.29\n",
       "10           Guadalupe Mountains National Park                   47.77\n",
       "11                    Mesa Verde National Park                    9.17\n",
       "12              Petrified Forest National Park                    1.98\n",
       "13                Rocky Mountain National Park                   42.38\n",
       "14                       Saguaro National Park                   45.76\n",
       "15                   White Sands National Park                   16.22\n",
       "16                   Yellowstone National Park                   39.89\n",
       "17                          Zion National Park                   41.27"
      ]
     },
     "execution_count": 150,
     "metadata": {},
     "output_type": "execute_result"
    }
   ],
   "source": [
    "new_group2 = new_group.groupby(['Park Name'])['Fatalities_per_million'].sum().reset_index()\n",
    "new_group2\n"
   ]
  },
  {
   "cell_type": "code",
   "execution_count": 151,
   "id": "9929f18a-5b02-44e6-ae95-a9bddbabe885",
   "metadata": {},
   "outputs": [],
   "source": [
    "Top_5_for_fatalities=new_group2.sort_values('Fatalities_per_million', ascending=False).head()"
   ]
  },
  {
   "cell_type": "code",
   "execution_count": 152,
   "id": "08b3d5d8-3e6f-4453-9e04-e905fe55d8f8",
   "metadata": {},
   "outputs": [],
   "source": [
    "Bottom_5_for_fatalities=new_group2.sort_values('Fatalities_per_million', ascending=False).tail()"
   ]
  },
  {
   "cell_type": "code",
   "execution_count": 153,
   "id": "0a9f5e1e-f672-46e7-94ca-8881a459ddfc",
   "metadata": {},
   "outputs": [
    {
     "data": {
      "image/png": "[encoded data removed]",
      "text/plain": [
       "<Figure size 1000x600 with 1 Axes>"
      ]
     },
     "metadata": {},
     "output_type": "display_data"
    }
   ],
   "source": [
    "plt.figure(figsize = (10,6))\n",
    "\n",
    "sns.barplot(data =new_group2.sort_values('Fatalities_per_million',ascending=False),\n",
    "               x = 'Park Name',\n",
    "               y = 'Fatalities_per_million', color='darkgreen',errorbar=None)       \n",
    "                \n",
    "plt.title('Fatalities per National Park', fontsize=16)\n",
    "plt.ylabel('Fatalities/million', fontsize=14)\n",
    "plt.xlabel(' ')\n",
    "plt.xticks(rotation=90)\n",
    "plt.savefig('fatalities per million2',bbox_inches = 'tight', transparent=True);"
   ]
  },
  {
   "cell_type": "markdown",
   "id": "d0948c82-6001-48ff-af89-095060a4a254",
   "metadata": {},
   "source": [
    "THE ABOVE GRAPH MAKES ME WANT TO LOOK AT BIG BEND NP CAUSES OF DEATHS AND SEE IF IT MAY BE CONSIDERED ONE OF THE MOST DANGEROUS \n",
    "BC PER CAPITA IT HAS A HIGHER FATALITY RATE EVEN THOUGH LOWER VISITOR NUMBERS"
   ]
  },
  {
   "cell_type": "code",
   "execution_count": 177,
   "id": "368a81c1-bf06-41dd-8074-61f16b5670d8",
   "metadata": {},
   "outputs": [],
   "source": [
    "Top_and_bottom_for_fatalities=pd.concat([Top_5_for_fatalities, Bottom_5_for_fatalities])"
   ]
  },
  {
   "cell_type": "code",
   "execution_count": 176,
   "id": "d6435158-f0a1-4bae-9177-63d27afd6b5c",
   "metadata": {},
   "outputs": [],
   "source": [
    "import matplotlib.patches as mpatches\n"
   ]
  },
  {
   "cell_type": "code",
   "execution_count": 178,
   "id": "d1549760-2f68-4823-8cc2-23f324a0c650",
   "metadata": {},
   "outputs": [
    {
     "data": {
      "image/png": "[encoded data removed]",
      "text/plain": [
       "<Figure size 1000x600 with 1 Axes>"
      ]
     },
     "metadata": {},
     "output_type": "display_data"
    }
   ],
   "source": [
    "top_parks = [\n",
    "    'Grand Canyon National Park', 'Big Bend National Park', \n",
    "    'Canyonlands National Park', 'Black Canyon Of The Gunnison National Park', \n",
    "    'Guadalupe Mountains National Park']\n",
    "\n",
    "bottom_parks = [\n",
    "    'Great Sand Dunes National Park & Preserve', 'Carlsbad Caverns National Park',\n",
    "    'Mesa Verde National Park', 'Bryce Canyon National Park', \n",
    "    'Petrified Forest National Park']\n",
    "\n",
    "Top_and_bottom_for_fatalities['Color'] = Top_and_bottom_for_fatalities['Park Name'].apply(\n",
    "    lambda x: 'darkblue' if x in top_parks else 'darkgreen' if x in bottom_parks else 'grey')\n",
    "\n",
    "\n",
    "fig, ax = plt.subplots(figsize=(10,6))\n",
    "Top_and_bottom_for_fatalities.sort_values('Fatalities_per_million', ascending=False).plot.bar(\n",
    "    x='Park Name', y='Fatalities_per_million', color=Top_and_bottom_for_fatalities['Color'], \n",
    "    legend=False,ax=ax)\n",
    "ax.set_xlabel=(' ')\n",
    "plt.xticks(rotation=90)\n",
    "plt.ylabel('Fatalities per Million', fontsize=14)\n",
    "plt.title('Top and Bottom 5 Parks for Fatalities', fontsize=16, fontweight='bold')\n",
    "top_bar = mpatches.Patch(color='darkblue', label = 'Top 5 Parks')\n",
    "bottom_bar = mpatches.Patch(color='darkgreen', label='Bottom 5 Parks')\n",
    "ax.legend(handles=[top_bar, bottom_bar])\n",
    "plt.savefig('Top and Bottom 5 park fatalities3',bbox_inches = 'tight', transparent=True)\n",
    "for spine in plt.gca().spines.values():\n",
    "    spine.set_visible(False)\n",
    "plt.show()\n",
    "    "
   ]
  },
  {
   "cell_type": "code",
   "execution_count": 179,
   "id": "f0eb4088-53c5-43d8-843b-14786337b214",
   "metadata": {},
   "outputs": [
    {
     "data": {
      "text/html": [
       "<div>\n",
       "<style scoped>\n",
       "    .dataframe tbody tr th:only-of-type {\n",
       "        vertical-align: middle;\n",
       "    }\n",
       "\n",
       "    .dataframe tbody tr th {\n",
       "        vertical-align: top;\n",
       "    }\n",
       "\n",
       "    .dataframe thead th {\n",
       "        text-align: right;\n",
       "    }\n",
       "</style>\n",
       "<table border=\"1\" class=\"dataframe\">\n",
       "  <thead>\n",
       "    <tr style=\"text-align: right;\">\n",
       "      <th></th>\n",
       "      <th>Park Name</th>\n",
       "      <th>Fatalities_per_million</th>\n",
       "      <th>Color</th>\n",
       "    </tr>\n",
       "  </thead>\n",
       "  <tbody>\n",
       "    <tr>\n",
       "      <th>7</th>\n",
       "      <td>Grand Canyon National Park</td>\n",
       "      <td>167.24</td>\n",
       "      <td>darkblue</td>\n",
       "    </tr>\n",
       "    <tr>\n",
       "      <th>1</th>\n",
       "      <td>Big Bend National Park</td>\n",
       "      <td>141.92</td>\n",
       "      <td>darkblue</td>\n",
       "    </tr>\n",
       "    <tr>\n",
       "      <th>4</th>\n",
       "      <td>Canyonlands National Park</td>\n",
       "      <td>72.82</td>\n",
       "      <td>darkblue</td>\n",
       "    </tr>\n",
       "    <tr>\n",
       "      <th>2</th>\n",
       "      <td>Black Canyon Of The Gunnison National Park</td>\n",
       "      <td>53.53</td>\n",
       "      <td>darkblue</td>\n",
       "    </tr>\n",
       "    <tr>\n",
       "      <th>10</th>\n",
       "      <td>Guadalupe Mountains National Park</td>\n",
       "      <td>47.77</td>\n",
       "      <td>darkblue</td>\n",
       "    </tr>\n",
       "    <tr>\n",
       "      <th>9</th>\n",
       "      <td>Great Sand Dunes National Park &amp; Preserve</td>\n",
       "      <td>11.29</td>\n",
       "      <td>darkgreen</td>\n",
       "    </tr>\n",
       "    <tr>\n",
       "      <th>5</th>\n",
       "      <td>Carlsbad Caverns National Park</td>\n",
       "      <td>10.56</td>\n",
       "      <td>darkgreen</td>\n",
       "    </tr>\n",
       "    <tr>\n",
       "      <th>11</th>\n",
       "      <td>Mesa Verde National Park</td>\n",
       "      <td>9.17</td>\n",
       "      <td>darkgreen</td>\n",
       "    </tr>\n",
       "    <tr>\n",
       "      <th>3</th>\n",
       "      <td>Bryce Canyon National Park</td>\n",
       "      <td>2.97</td>\n",
       "      <td>darkgreen</td>\n",
       "    </tr>\n",
       "    <tr>\n",
       "      <th>12</th>\n",
       "      <td>Petrified Forest National Park</td>\n",
       "      <td>1.98</td>\n",
       "      <td>darkgreen</td>\n",
       "    </tr>\n",
       "  </tbody>\n",
       "</table>\n",
       "</div>"
      ],
      "text/plain": [
       "                                     Park Name  Fatalities_per_million  \\\n",
       "7                   Grand Canyon National Park                  167.24   \n",
       "1                       Big Bend National Park                  141.92   \n",
       "4                    Canyonlands National Park                   72.82   \n",
       "2   Black Canyon Of The Gunnison National Park                   53.53   \n",
       "10           Guadalupe Mountains National Park                   47.77   \n",
       "9    Great Sand Dunes National Park & Preserve                   11.29   \n",
       "5               Carlsbad Caverns National Park                   10.56   \n",
       "11                    Mesa Verde National Park                    9.17   \n",
       "3                   Bryce Canyon National Park                    2.97   \n",
       "12              Petrified Forest National Park                    1.98   \n",
       "\n",
       "        Color  \n",
       "7    darkblue  \n",
       "1    darkblue  \n",
       "4    darkblue  \n",
       "2    darkblue  \n",
       "10   darkblue  \n",
       "9   darkgreen  \n",
       "5   darkgreen  \n",
       "11  darkgreen  \n",
       "3   darkgreen  \n",
       "12  darkgreen  "
      ]
     },
     "execution_count": 179,
     "metadata": {},
     "output_type": "execute_result"
    }
   ],
   "source": [
    "Top_and_bottom_for_fatalities.head(10)"
   ]
  },
  {
   "cell_type": "code",
   "execution_count": null,
   "id": "30d6fb8d-d9f0-41d6-8cd5-2637599330cf",
   "metadata": {},
   "outputs": [],
   "source": [
    "Causes_total_Stats=Visitors_Fatality_merge.groupby('Cause of Death')['Fatalities_per_million'].describe().reset_index()\n",
    "Causes_total_Stats.head(30)"
   ]
  },
  {
   "cell_type": "code",
   "execution_count": null,
   "id": "38040d2d-d8db-4b99-90b9-4b22ace06993",
   "metadata": {},
   "outputs": [],
   "source": [
    "df_transposed = Causes_total_Stats.transpose()"
   ]
  },
  {
   "cell_type": "code",
   "execution_count": null,
   "id": "36929c18-d989-4025-a652-d3c80bd89d50",
   "metadata": {},
   "outputs": [],
   "source": [
    "df_transposed.head()"
   ]
  },
  {
   "cell_type": "markdown",
   "id": "78375824-1bbf-443b-b043-73ff56d3b1bd",
   "metadata": {},
   "source": [
    "Causes_by_Park_Stats=Visitors_Fatality_merge.groupby(['Cause of Death','Park Name'])['Fatalities_per_million'].describe().reset_index()\n",
    "Causes_by_Park_Stats.sort_by(count"
   ]
  },
  {
   "cell_type": "code",
   "execution_count": null,
   "id": "76d86be0-8f54-4330-85ab-111e845781dc",
   "metadata": {},
   "outputs": [],
   "source": [
    "deaths_population['Cause of Death']=deaths_population['Cause of Death'].str.title()"
   ]
  },
  {
   "cell_type": "code",
   "execution_count": null,
   "id": "b6b330db-3783-4c33-bcf0-891dabef1181",
   "metadata": {
    "scrolled": true
   },
   "outputs": [],
   "source": [
    "Cause_of_death_totals=deaths_population.groupby(['Cause of Death','Park Name', 'Year'])['Outcome'].count().to_frame().reset_index().rename(columns={'Outcome':'Fatality_Count'})\n",
    "Cause_of_death_totals.head(50)"
   ]
  },
  {
   "cell_type": "markdown",
   "id": "cc9fb531-d014-4b57-a522-18956165f2e4",
   "metadata": {},
   "source": [
    "**use a different chart, stacked line/stacked area graphs"
   ]
  },
  {
   "cell_type": "code",
   "execution_count": null,
   "id": "fbf9fda4-14dc-4a1f-b904-636fe5d568dc",
   "metadata": {},
   "outputs": [],
   "source": [
    "(Cause_of_death_totals['Cause of Death'].unique())"
   ]
  },
  {
   "cell_type": "markdown",
   "id": "7b7d6076-e8fc-4fd9-80a7-1287da513b95",
   "metadata": {},
   "source": [
    "##### sns.scatterplot(data = Cause_of_death_totals,\n",
    "               x = 'Year',\n",
    "               y = 'Fatality_Count',\n",
    "               hue = 'Cause of Death',\n",
    "               palette = ['blue', 'coral', 'green']),\n",
    "plt.legend(bbox_to_anchor = (1,1), loc='upper left')"
   ]
  },
  {
   "cell_type": "code",
   "execution_count": null,
   "id": "6786cb5c-6482-419d-94be-f8a1ba3339c9",
   "metadata": {},
   "outputs": [],
   "source": [
    "(Cause_of_death_totals['Cause of Death'].value_counts())"
   ]
  },
  {
   "cell_type": "code",
   "execution_count": null,
   "id": "0f398833-86c2-41af-a88e-a10e46ad8247",
   "metadata": {},
   "outputs": [],
   "source": [
    "Cause_of_death_totals['Cause of Death']=Cause_of_death_totals['Cause of Death'].str.replace('Medical - Not During Physical Activity','Medical')\n",
    "Cause_of_death_totals['Cause of Death']"
   ]
  },
  {
   "cell_type": "code",
   "execution_count": null,
   "id": "e52f0945-5d72-418e-acb4-ab5e1461173f",
   "metadata": {},
   "outputs": [],
   "source": [
    "Cause_of_death_totals['Cause of Death']=Cause_of_death_totals['Cause of Death'].str.replace('Medical - During Physical Activity', 'Medical')"
   ]
  },
  {
   "cell_type": "code",
   "execution_count": null,
   "id": "6aeb127b-0f72-4b7c-8251-5d5459f2cf46",
   "metadata": {},
   "outputs": [],
   "source": [
    "Cause_of_death_totals['Cause of Death']=Cause_of_death_totals['Cause of Death'].str.replace('Medical - Unknown','Medical')\n",
    "Cause_of_death_totals['Cause of Death']"
   ]
  },
  {
   "cell_type": "code",
   "execution_count": null,
   "id": "429ddb09-eb55-4a05-ab5a-67ffe3fd88e1",
   "metadata": {},
   "outputs": [],
   "source": [
    "(Cause_of_death_totals['Cause of Death'].value_counts())"
   ]
  },
  {
   "cell_type": "code",
   "execution_count": null,
   "id": "4859a222-ae38-4e4f-a255-39272763eeb4",
   "metadata": {},
   "outputs": [],
   "source": [
    "Cause_of_death_totals['Cause of Death']=Cause_of_death_totals['Cause of Death'].str.replace('Aircraft Incident ','Aircraft Incident')\n"
   ]
  },
  {
   "cell_type": "code",
   "execution_count": null,
   "id": "4aba95fc-6436-46da-a321-037736e798af",
   "metadata": {},
   "outputs": [],
   "source": [
    "Cause_of_death_totals['Cause of Death']=Cause_of_death_totals['Cause of Death'].str.replace('Poisoning - Carbon Monoxide','Poisoning')"
   ]
  },
  {
   "cell_type": "code",
   "execution_count": null,
   "id": "a2c71582-e86e-4399-80a6-ed17ecd8bcc0",
   "metadata": {},
   "outputs": [],
   "source": [
    "Cause_of_death_totals['Cause of Death']=Cause_of_death_totals['Cause of Death'].str.replace('Poisoning - Alcohol','Poisoning')"
   ]
  },
  {
   "cell_type": "code",
   "execution_count": null,
   "id": "b3bab41c-e060-4e5b-81a0-36c235d7df25",
   "metadata": {},
   "outputs": [],
   "source": [
    "Cause_of_death_totals['Cause of Death']=Cause_of_death_totals['Cause of Death'].str.replace('Poisoning - Drugs','Poisoning')"
   ]
  },
  {
   "cell_type": "code",
   "execution_count": null,
   "id": "f442c3f4-004d-4c38-8094-3310eb9317a7",
   "metadata": {},
   "outputs": [],
   "source": [
    "Cause_of_death_totals['Cause of Death']=Cause_of_death_totals['Cause of Death'].str.replace('Skiing Incident','Winter Sports')\n"
   ]
  },
  {
   "cell_type": "code",
   "execution_count": null,
   "id": "2317e62e-afdf-4195-8dff-41e473536744",
   "metadata": {},
   "outputs": [],
   "source": [
    "Cause_of_death_totals['Cause of Death']=Cause_of_death_totals['Cause of Death'].str.replace('Snowboard Incident','Winter Sports')"
   ]
  },
  {
   "cell_type": "code",
   "execution_count": null,
   "id": "ecd63b4b-6f39-463e-bdb1-bec47836564f",
   "metadata": {},
   "outputs": [],
   "source": [
    "Cause_of_death_totals['Cause of Death']=Cause_of_death_totals['Cause of Death'].str.replace('Asphyxiation','Medical')"
   ]
  },
  {
   "cell_type": "code",
   "execution_count": null,
   "id": "d911516e-6f06-4240-82a0-67dac0233524",
   "metadata": {},
   "outputs": [],
   "source": [
    "Cause_of_death_totals['Cause of Death'].value_counts().reset_index()"
   ]
  },
  {
   "cell_type": "code",
   "execution_count": null,
   "id": "019b3ce5-8425-4eea-90a6-62a477ea2341",
   "metadata": {},
   "outputs": [],
   "source": [
    "Cause_of_death_totals.groupby('Year').head(1)"
   ]
  },
  {
   "cell_type": "code",
   "execution_count": null,
   "id": "9802109f-e781-492c-9359-ee3aa81b4c8a",
   "metadata": {},
   "outputs": [],
   "source": [
    "Cause_of_death_totals['Cause of Death'].value_counts().plot(kind='barh', color='darkblue')\n",
    "plt.title('Number of Deaths per Cause', fontsize=16)\n",
    "plt.ylabel('Cause of Death', fontsize=14)\n",
    "plt.xlabel('Number of Deaths', fontsize=14)\n",
    "plt.savefig('Number of deaths per cause2',bbox_inches = 'tight', transparent=True);\n"
   ]
  },
  {
   "cell_type": "markdown",
   "id": "dca6f7c4-18cd-4f98-b001-b1f651867b98",
   "metadata": {},
   "source": [
    "###should this be per million?!?###"
   ]
  },
  {
   "cell_type": "code",
   "execution_count": null,
   "id": "7951ee2c-9eb4-4077-a7d9-3a1aca062f9f",
   "metadata": {},
   "outputs": [],
   "source": [
    "Deaths_grouped=Cause_of_death_totals.groupby('Cause of Death')['Fatality_Count'].sum().reset_index()"
   ]
  },
  {
   "cell_type": "code",
   "execution_count": null,
   "id": "9bcaebae-9976-4911-bd64-a061f8a10047",
   "metadata": {},
   "outputs": [],
   "source": [
    "Deaths_grouped['group']=np.where(Deaths_grouped.Fatality_Count>20,Deaths_grouped['Cause of Death'],'Other')"
   ]
  },
  {
   "cell_type": "code",
   "execution_count": null,
   "id": "94d5f6e1-1c8c-464e-9314-607a3300eaf4",
   "metadata": {},
   "outputs": [],
   "source": [
    "Cause_of_death_totals=pd.merge(Cause_of_death_totals,Deaths_grouped[['Cause of Death','group']],on='Cause of Death')"
   ]
  },
  {
   "cell_type": "code",
   "execution_count": null,
   "id": "cb0e8c97-d268-4620-b5f7-061d1c6d2e29",
   "metadata": {},
   "outputs": [],
   "source": [
    "Cause_of_death_totals.groupby(['Cause of Death','Park Name']).head()"
   ]
  },
  {
   "cell_type": "code",
   "execution_count": null,
   "id": "622946a9-ad9a-482b-b5b7-6911d8072cdf",
   "metadata": {},
   "outputs": [],
   "source": [
    "BBC_total=Cause_of_death_totals.loc[Cause_of_death_totals['Park Name']=='Big Bend National Park']\n",
    "BBC_total.loc[BBC_total['Year']==2020]"
   ]
  },
  {
   "cell_type": "code",
   "execution_count": null,
   "id": "f911c449-6743-4b18-975d-5100611f729d",
   "metadata": {},
   "outputs": [],
   "source": [
    "GC_total=Cause_of_death_totals.loc[Cause_of_death_totals['Park Name']=='Grand Canyon National Park']\n",
    "GC_total.loc[GC_total['Year']==2020]"
   ]
  },
  {
   "cell_type": "code",
   "execution_count": null,
   "id": "75ec2bd2-2ffb-4185-8dae-d739c372a4cc",
   "metadata": {},
   "outputs": [],
   "source": [
    "Death_totals_per_year=(Cause_of_death_totals['Year'].value_counts().reset_index())\n",
    "Death_totals_per_year"
   ]
  },
  {
   "cell_type": "markdown",
   "id": "37c720c7-3b01-4861-8b75-fa2b5ea5290d",
   "metadata": {},
   "source": [
    "FATALITIES IN THE NP PER YEAR"
   ]
  },
  {
   "cell_type": "code",
   "execution_count": null,
   "id": "af61a36a-6989-4c50-843d-811159aa1702",
   "metadata": {},
   "outputs": [],
   "source": []
  },
  {
   "cell_type": "code",
   "execution_count": null,
   "id": "d40524f2-0f18-4aa9-a3da-5692baf9b85a",
   "metadata": {},
   "outputs": [],
   "source": [
    "sns.relplot(x='Year', y='count', data=Cause_of_death_totals['Year'].value_counts().reset_index(), kind='line')\n",
    "plt.savefig('fatalities per year',bbox_inches = 'tight', transparent=True);"
   ]
  },
  {
   "cell_type": "code",
   "execution_count": null,
   "id": "3dbc0e8c-4469-4777-ad64-3238af25cf46",
   "metadata": {},
   "outputs": [],
   "source": [
    "Cause_of_death_totals.head(1)"
   ]
  },
  {
   "cell_type": "code",
   "execution_count": null,
   "id": "d8afe9f0-685b-459e-96b6-2a690ab6486a",
   "metadata": {},
   "outputs": [],
   "source": [
    "pivot_Cause_of_death_totals=Cause_of_death_totals.pivot_table(index='Year', columns='group',values='Fatality_Count',aggfunc='sum',fill_value=0)\n",
    "pivot_Cause_of_death_totals.plot(kind='bar',stacked=True, figsize=(12,8))\n",
    "plt.title('Cause of Deaths per Year', fontsize=16)\n",
    "plt.xlabel(' ')\n",
    "plt.ylabel('Fatalities', fontsize=14)\n",
    "plt.legend(title='Cause of Death')\n",
    "plt.savefig('cause of death per year',bbox_inches = 'tight', transparent=True)\n",
    "plt.show()\n",
    "                                                            "
   ]
  },
  {
   "cell_type": "markdown",
   "id": "06274ecb-b64c-4b09-8797-9312c12ea643",
   "metadata": {},
   "source": [
    "pivot_Cause_of_death_totals=Cause_of_death_totals.pivot_table(index='Year', columns='group',values='Fatality_Count',aggfunc='sum'           "
   ]
  },
  {
   "cell_type": "markdown",
   "id": "328fe5a1-b38c-496d-a689-2c389ab7437c",
   "metadata": {},
   "source": [
    "NOTES:\n",
    "Tuesday am: start getting more statistics and graphs\n",
    "            organize questions according to how I want my presentation to flow\n",
    "        pm: get useable lat and long, vertical, and wifi data for top and bottom comparison\n",
    "            begin to develope point system"
   ]
  },
  {
   "cell_type": "markdown",
   "id": "1d821be7-c02e-477d-9725-79ff52786c04",
   "metadata": {},
   "source": [
    "*****NEED TO GRAPH ABOVE FATALITY AND CAUSE ONLY, THEN FATALITY AND PARK ONLY, THEN FATALITY BY YEAR****\n"
   ]
  },
  {
   "cell_type": "code",
   "execution_count": null,
   "id": "f1f58cda-8b46-4c44-af61-426d7643975b",
   "metadata": {},
   "outputs": [],
   "source": [
    "Cause_of_death_totals.head(1)"
   ]
  },
  {
   "cell_type": "markdown",
   "id": "950a759d-b27f-4996-b5d6-0cdecc680a12",
   "metadata": {},
   "source": [
    "total_deaths_per_year=Cause_of_death_totals.groupby('Year')['Fatality_Count'].sum()\n",
    "Falls_of_deaths_per_year=Cause_of_death_totals.loc[Cause_of_death_totals['group']=='Falls'].groupby('Year')['Fatality_Count'].sum()\n",
    "death_counts=pd.DataFrame({'total deaths':'total_deaths_per_year','falls_deaths':Falls_of_deaths_per_year}).fillna(0)\n",
    "death_counts['percentage_falls']=(death_counts[alls_deaths']/death_counts['total deaths'])*100\n"
   ]
  },
  {
   "cell_type": "code",
   "execution_count": null,
   "id": "c33807f5-086d-4c88-a327-4e98928eee6f",
   "metadata": {},
   "outputs": [],
   "source": [
    "SAR_df=pd.read_csv('data/SAR.csv')\n",
    "SAR_df.head()"
   ]
  },
  {
   "cell_type": "code",
   "execution_count": null,
   "id": "92ea5cca-44ac-49b6-a8ac-72e7744844ca",
   "metadata": {},
   "outputs": [],
   "source": [
    "SAR_df=SAR_df.rename(columns={'Park':'Park Name','Closed-Incident Only':'Closed/Incident Only'})"
   ]
  },
  {
   "cell_type": "code",
   "execution_count": null,
   "id": "bb4cb1ed-ad65-4bb9-8f94-254ea07d21f6",
   "metadata": {
    "scrolled": true
   },
   "outputs": [],
   "source": [
    "List=['Petrified Forest National Park','Big Bend National Park','Carlsbad Caverns National Park','Arches National Park','Guadalupe Mountains National Park','Mesa Verde National Park','Bryce Canyon National Park','White Sands National Park','Great Sand Dunes National Park & Preserve','Glacier National Park','Saguaro National Park','Canyonlands National Park','Rocky Mountain National Park','Yellowstone National Park','Zion National Park','Grand Teton National Park','Grand Canyon National Park','Black Canyon Of The Gunnison National Park',]\n",
    "SAR=SAR_df.loc[SAR_df['Park Name'].isin(List)]\n",
    "SAR.head(15)\n"
   ]
  },
  {
   "cell_type": "markdown",
   "id": "8b7d936b-27f8-4842-a806-ab05074a51c5",
   "metadata": {},
   "source": [
    "SAR STATIISTICAL DATA FOR INCIDENCES IN 15 OF THE 18 IMR NATIONAL PARKS 2007-2023"
   ]
  },
  {
   "cell_type": "code",
   "execution_count": null,
   "id": "4e16f423-1679-4f9e-83d1-f43cb7b8db58",
   "metadata": {},
   "outputs": [],
   "source": [
    "SAR['Incidents'].describe()"
   ]
  },
  {
   "cell_type": "markdown",
   "id": "ef012e53-4df6-43f5-842a-47de710e6b1e",
   "metadata": {},
   "source": [
    "NEED TO CATEGORIZE PARK INTO LOW, MEDIUM, AND HIGH INCIDENT LEVELS\n",
    "CAN I DO THIS BASED ON QUADRANTS"
   ]
  },
  {
   "cell_type": "code",
   "execution_count": null,
   "id": "4cc3e78c-86fd-4698-9bff-31817c27c0b1",
   "metadata": {},
   "outputs": [],
   "source": [
    "sns.boxplot(SAR)\n",
    "plt.xticks(rotation=60);"
   ]
  },
  {
   "cell_type": "code",
   "execution_count": null,
   "id": "4748cf36-5b11-4c5e-ac0d-e81c50441d1f",
   "metadata": {
    "scrolled": true
   },
   "outputs": [],
   "source": [
    "SAR.head()"
   ]
  },
  {
   "cell_type": "code",
   "execution_count": null,
   "id": "0c21f078-8bf4-4a3e-b497-c2d08e1859a7",
   "metadata": {},
   "outputs": [],
   "source": [
    "\n",
    "\n",
    "SAR.plot(kind='bar', x='Park Name', stacked = False, width=1.2 )\n",
    "plt.title('Search and Rescue Incidences:2007-2023')\n",
    "plt.xlabel('Park Name')\n",
    "plt.ylabel('Average number of Incidences')\n",
    "\n",
    "plt.legend(bbox_to_anchor=(1, 1.05), loc='upper left', borderaxespad=2)\n",
    "plt.savefig('SAR incidences per park',bbox_inches = 'tight', transparent=True);\n",
    "plt.show()"
   ]
  },
  {
   "cell_type": "markdown",
   "id": "155123c3-405b-474a-b439-1f2e01a2a22c",
   "metadata": {},
   "source": [
    "pivot_Cause_of_death_totals=Cause_of_death_totals.pivot_table(index='Year', columns='group',values='Fatality_Count',aggfunc='sum',fill_value=0)\n",
    "pivot_Cause_of_death_totals.plot(kind='bar',stacked=True, figsize=(12,8))\n",
    "plt.title('Cause of Death by Year')\n",
    "plt.xlabel('Year')\n",
    "plt.ylabel('Fatality Count')\n",
    "plt.legend(title='Cause of Death')\n",
    "plt.show()"
   ]
  },
  {
   "cell_type": "markdown",
   "id": "5a91ed52-e65f-4107-bd47-3c062c7c9fbf",
   "metadata": {},
   "source": [
    "The below markdown cells have species data which will be analyzed at a later date"
   ]
  },
  {
   "cell_type": "markdown",
   "id": "be13bc13-44c8-4512-8875-471613324501",
   "metadata": {},
   "source": [
    "\n",
    "arches_species=pd.read_csv('data/ArchesNP.Species.csv')\n",
    "arches_species.head(1)"
   ]
  },
  {
   "cell_type": "markdown",
   "id": "16740a36-402a-4323-95de-5039bab82ba7",
   "metadata": {},
   "source": [
    "arches_species=arches_species.drop(columns=['Park Code','Category Sort','Category','Order','Family','Taxon Code','TSN','Taxon Record Status','Scientific Name','Synonyms'])"
   ]
  },
  {
   "cell_type": "markdown",
   "id": "0fce1d1c-ed21-491b-8ac5-95d351ffacac",
   "metadata": {},
   "source": [
    "big_bend_species=pd.read_csv('data/BigBendNP.Species.csv')"
   ]
  },
  {
   "cell_type": "markdown",
   "id": "caf35673-b87d-478e-97d7-155da27caf4b",
   "metadata": {},
   "source": [
    "big_bend_species=big_bend_species.drop(columns=['Park Code','Category Sort','Category','Order','Family','Taxon Code','TSN','Taxon Record Status','Scientific Name','Synonyms'])\n",
    "big_bend_species.head(1)"
   ]
  },
  {
   "cell_type": "markdown",
   "id": "9688ca7d-28e0-45c7-bfae-68739520d344",
   "metadata": {},
   "source": [
    "bryce_canyon_species=pd.read_csv('data/BryceCanyonNP.Species.csv')"
   ]
  },
  {
   "cell_type": "markdown",
   "id": "159e5e3f-fce8-44fc-98e3-a2ced7e3370f",
   "metadata": {},
   "source": [
    "bryce_canyon_species=bryce_canyon_species.drop(columns=['Park Code','Category Sort','Category','Order','Family','Taxon Code','TSN','Taxon Record Status','Scientific Name','Synonyms'])\n",
    "bryce_canyon_species.head(1)"
   ]
  },
  {
   "cell_type": "markdown",
   "id": "f6b8ca59-106d-4ade-9741-9aa9f0911fb1",
   "metadata": {},
   "source": [
    "canyonlands_species=pd.read_csv('data/CanyonlandsNP.Species.csv')"
   ]
  },
  {
   "cell_type": "markdown",
   "id": "6c4561ff-e531-4332-ae3e-3f1d44402ebc",
   "metadata": {},
   "source": [
    "canyonlands_species=canyonlands_species.drop(columns=['Park Code','Category Sort','Category','Order','Family','Taxon Code','TSN','Taxon Record Status','Scientific Name','Synonyms'])\n",
    "canyonlands_species.head(1)"
   ]
  },
  {
   "cell_type": "markdown",
   "id": "61072969-9298-47d1-bd55-9cb2675e8f96",
   "metadata": {},
   "source": [
    "carlsbad_caverns_species=pd.read_csv('data/CarlsbadCavernsNP.Species.csv')"
   ]
  },
  {
   "cell_type": "markdown",
   "id": "78e1d6fb-bc6f-4748-90ca-e086cfff1c1e",
   "metadata": {},
   "source": [
    "carlsbad_caverns_species=carlsbad_caverns_species.drop(columns=['Park Code','Category Sort','Category','Order','Family','Taxon Code','TSN','Taxon Record Status','Scientific Name','Synonyms'])\n",
    "carlsbad_caverns_species.head(1)"
   ]
  },
  {
   "cell_type": "markdown",
   "id": "ccadc2d5-228d-46bd-bdda-de82af36b62d",
   "metadata": {},
   "source": [
    "grand_teton_species=pd.read_csv('data/GrandTetonNP.Species.csv')"
   ]
  },
  {
   "cell_type": "markdown",
   "id": "44caa06f-f41e-4a6a-bfd1-8c96b69f769e",
   "metadata": {},
   "source": [
    "grand_teton_species=grand_teton_species.drop(columns=['Park Code','Category Sort','Category','Order','Family','Taxon Code','TSN','Taxon Record Status','Scientific Name','Synonyms'])\n",
    "grand_teton_species.head(1)"
   ]
  },
  {
   "cell_type": "markdown",
   "id": "f7cbff41-4427-4d30-ad72-33368fb72577",
   "metadata": {},
   "source": [
    "guadalupe_species=pd.read_csv('data/GuadalupeNP.Species.csv')"
   ]
  },
  {
   "cell_type": "markdown",
   "id": "6df000c9-0279-49f5-97f8-6b3fcc5eace7",
   "metadata": {},
   "source": [
    "guadalupe_species=guadalupe_species.drop(columns=['Park Code','Category Sort','Category','Order','Family','Taxon Code','TSN','Taxon Record Status','Scientific Name','Synonyms'])\n",
    "guadalupe_species.head(1)"
   ]
  },
  {
   "cell_type": "markdown",
   "id": "3df17d1d-5846-4e87-bb87-f3b4ba8214e5",
   "metadata": {},
   "source": [
    "glacier_species=pd.read_csv('data/GlacierNP.Species.csv')"
   ]
  },
  {
   "cell_type": "markdown",
   "id": "99261edf-bbb3-4d20-8112-33b6e0040df7",
   "metadata": {},
   "source": [
    "glacier_species=glacier_species.drop(columns=['Park Code','Category Sort','Category','Order','Family','Taxon Code','TSN','Taxon Record Status','Scientific Name','Synonyms'])\n",
    "glacier_species.head(1)"
   ]
  },
  {
   "cell_type": "markdown",
   "id": "fcf906c0-073e-45ff-a1a2-28a2aceb7557",
   "metadata": {},
   "source": [
    "zion_species=pd.read_csv('data/ZionNP.Species.csv')"
   ]
  },
  {
   "cell_type": "markdown",
   "id": "d3090424-281a-48f8-b3da-653a8b0f9f69",
   "metadata": {},
   "source": [
    "zion_species=zion_species.drop(columns=['Park Code','Category Sort','Category','Order','Family','Taxon Code','TSN','Taxon Record Status','Scientific Name','Synonyms'])\n",
    "zion_species.head(1)"
   ]
  },
  {
   "cell_type": "markdown",
   "id": "8e1228bd-b87c-4e9e-9d8c-1ab1d3de769e",
   "metadata": {},
   "source": [
    "great_sand_dunes_species=pd.read_csv('data/GreatSandDunesNP.Species.csv')"
   ]
  },
  {
   "cell_type": "markdown",
   "id": "1020a80f-c93d-4d2b-ab73-8936e969a776",
   "metadata": {},
   "source": [
    "great_sand_dunes_species=great_sand_dunes_species.drop(columns=['Park Code','Category Sort','Category','Order','Family','Taxon Code','TSN','Taxon Record Status','Scientific Name','Synonyms'])\n",
    "great_sand_dunes_species.head(1)"
   ]
  },
  {
   "cell_type": "markdown",
   "id": "e2e2d2bc-d1e5-47b5-9ed5-2134e8ce3625",
   "metadata": {},
   "source": [
    "yellowstone_species=pd.read_csv('data/YellowstoneNP.Species.csv')"
   ]
  },
  {
   "cell_type": "markdown",
   "id": "48dccee5-06c5-41cb-8c9f-58fb964540ff",
   "metadata": {},
   "source": [
    "yellowstone_species=yellowstone_species.drop(columns=['Park Code','Category Sort','Category','Order','Family','Taxon Code','TSN','Taxon Record Status','Scientific Name','Synonyms'])\n",
    "yellowstone_species.head(1)"
   ]
  },
  {
   "cell_type": "markdown",
   "id": "ad0db3b6-e423-4f60-a387-2a0091a7fddd",
   "metadata": {},
   "source": [
    "white_sands_species=pd.read_csv('data/WhiteSandsNP.Species.csv')"
   ]
  },
  {
   "cell_type": "markdown",
   "id": "41b64606-3100-47db-aefe-94cb7f552364",
   "metadata": {},
   "source": [
    "white_sands_species=white_sands_species.drop(columns=['Park Code','Category Sort','Category','Order','Family','Taxon Code','TSN','Taxon Record Status','Scientific Name','Synonyms'])\n",
    "white_sands_species.head(1)"
   ]
  },
  {
   "cell_type": "markdown",
   "id": "44137f8d-bc52-430c-a523-bc5c20614a52",
   "metadata": {},
   "source": [
    "mesa_verde_species=pd.read_csv('data/MesaVerdeNP.Species.csv', encoding='latin1')"
   ]
  },
  {
   "cell_type": "markdown",
   "id": "7c2ad15f-c975-4990-b541-19ece21207f5",
   "metadata": {},
   "source": [
    "mesa_verde_species=mesa_verde_species.drop(columns=['Park Code','Category Sort','Category','Order','Family','Taxon Code','TSN','Taxon Record Status','Scientific Name','Synonyms'])\n",
    "mesa_verde_species.head(1)"
   ]
  },
  {
   "cell_type": "markdown",
   "id": "daf361b7-1bae-4ba0-9bf7-fa930592893b",
   "metadata": {},
   "source": [
    "rocky_mountain_species=pd.read_csv('data/RockyMountainNP.Species.csv', encoding='latin1')"
   ]
  },
  {
   "cell_type": "markdown",
   "id": "61f610a8-90fd-4ca4-8139-ffc00acdff39",
   "metadata": {},
   "source": [
    "rocky_mountain_species=rocky_mountain_species.drop(columns=['Park Code','Category Sort','Category','Order','Family','Taxon Code','TSN','Taxon Record Status','Scientific Name','Synonyms'])\n",
    "rocky_mountain_species.head(1)"
   ]
  },
  {
   "cell_type": "markdown",
   "id": "f6f9b835-e804-406a-9e16-8caecf7de59e",
   "metadata": {},
   "source": [
    "petrified_forest_species=pd.read_csv('data/PetrifiedForest.NP.Species.csv', encoding='latin1')"
   ]
  },
  {
   "cell_type": "markdown",
   "id": "adc26a2c-82da-4c49-bf7a-d2c38298bfe0",
   "metadata": {},
   "source": [
    "petrified_forest_species=petrified_forest_species.drop(columns=['Park Code','Category Sort','Category','Order','Family','Taxon Code','TSN','Taxon Record Status','Scientific Name','Synonyms'])\n",
    "petrified_forest_species.head(1)"
   ]
  },
  {
   "cell_type": "markdown",
   "id": "bc81fcad-9f03-4bf9-9b5f-740f3cd8387e",
   "metadata": {},
   "source": [
    "saguaro_species=pd.read_csv('data/SaguaroNP.Species.csv')"
   ]
  },
  {
   "cell_type": "markdown",
   "id": "24dee8a2-698f-48a6-a88c-e23d92ea03c6",
   "metadata": {},
   "source": [
    "saguaro_species=saguaro_species.drop(columns=['Park Code','Category Sort','Category','Order','Family','Taxon Code','TSN','Taxon Record Status','Scientific Name','Synonyms'])\n",
    "saguaro_species.head(1)"
   ]
  },
  {
   "cell_type": "markdown",
   "id": "fba59b8c-e664-4e7d-976a-e15075b03b9d",
   "metadata": {},
   "source": [
    "grand_canyon_species=pd.read_csv('data/GrandCanyonNP.Species.csv', encoding='latin1')"
   ]
  },
  {
   "cell_type": "markdown",
   "id": "b44785ea-5377-40f9-bc13-97dc5fd1d2af",
   "metadata": {},
   "source": [
    "grand_canyon_species=grand_canyon_species.drop(columns=['Park Code','Category Sort','Category','Order','Family','Taxon Code','TSN','Taxon Record Status','Scientific Name','Synonyms'])\n",
    "grand_canyon_species.head(1)"
   ]
  },
  {
   "cell_type": "markdown",
   "id": "52de0a9e-8aee-4c31-b627-a1c64a86612c",
   "metadata": {},
   "source": [
    "grand_canyon_species.info()"
   ]
  },
  {
   "cell_type": "markdown",
   "id": "d3520f2f-0f5b-4b5e-bb63-152ce678ee09",
   "metadata": {},
   "source": [
    "black_canyon_species=pd.read_csv('data/BlackCanyonNP.Species.csv',encoding='latin1')"
   ]
  },
  {
   "cell_type": "markdown",
   "id": "8468a6cb-b7ca-411e-9dff-8ce7ab6c68c0",
   "metadata": {},
   "source": [
    "black_canyon_species=black_canyon_species.drop(columns=['Park Code','Category Sort','Category','Order','Family','Taxon Code','TSN','Taxon Record Status','Scientific Name','Synonyms'])\n",
    "black_canyon_species.head(1)"
   ]
  },
  {
   "cell_type": "markdown",
   "id": "ff44a4df-b5f2-4832-b66d-e97b2b32dca9",
   "metadata": {},
   "source": [
    "black_canyon_species.info()"
   ]
  },
  {
   "cell_type": "markdown",
   "id": "3b3bb8a3-a626-46d7-8425-8ce5ce793295",
   "metadata": {},
   "source": [
    "species=pd.concat([black_canyon_species,grand_canyon_species,saguaro_species,petrified_forest_species,rocky_mountain_species,mesa_verde_species])\n",
    "species.head(1)"
   ]
  },
  {
   "cell_type": "markdown",
   "id": "6a905df2-ae3b-4fc3-8396-87a3eef34dcf",
   "metadata": {},
   "source": [
    "species_data=pd.concat([species,white_sands_species,great_sand_dunes_species,yellowstone_species,guadalupe_species,glacier_species,zion_species,\n",
    "                        grand_teton_species,carlsbad_caverns_species, canyonlands_species,bryce_canyon_species,big_bend_species,arches_species])"
   ]
  },
  {
   "cell_type": "markdown",
   "id": "fcda260b-0178-4f30-9d42-f61a5cb16f5e",
   "metadata": {},
   "source": [
    "species_data"
   ]
  },
  {
   "cell_type": "markdown",
   "id": "a72aab72-087b-4f6e-a840-af272dccff87",
   "metadata": {},
   "source": [
    "species_data.groupby('Park Name')['Common Names'].value_counts()"
   ]
  },
  {
   "cell_type": "markdown",
   "id": "a1588f4d-24a6-4630-995d-bc8fc6ad573a",
   "metadata": {},
   "source": [
    "species_data.groupby('Common Names')['Occurrence'].value_counts()"
   ]
  },
  {
   "cell_type": "markdown",
   "id": "4aa69f96-e363-4859-bca2-928431fec4a5",
   "metadata": {},
   "source": [
    "species_data['Occurrence'].unique()"
   ]
  },
  {
   "cell_type": "markdown",
   "id": "2826b72a-e3d4-4f00-8373-b7b603287f02",
   "metadata": {},
   "source": [
    "species_data['Common Names'].unique()"
   ]
  },
  {
   "cell_type": "markdown",
   "id": "ec4d3f8a-5fc4-4ff6-bc54-a27f299c27cc",
   "metadata": {},
   "source": [
    "COMPARING TOP AND BOTTOM PARKS IN DETAIL"
   ]
  },
  {
   "cell_type": "code",
   "execution_count": null,
   "id": "3d059e5a-e86f-4e6e-b4c1-4beada7e45ae",
   "metadata": {},
   "outputs": [],
   "source": [
    "Top_and_bottom_for_fatalities=Top_and_bottom_for_fatalities.sort_values('Fatalities_per_million',ascending=False)\n",
    "Top_and_bottom_for_fatalities.head(1)"
   ]
  },
  {
   "cell_type": "code",
   "execution_count": null,
   "id": "8526d180-5c15-4e1d-8b7e-cb4ec816d3c5",
   "metadata": {},
   "outputs": [],
   "source": [
    "Visitors_Fatality_merge.head(1)"
   ]
  },
  {
   "cell_type": "code",
   "execution_count": null,
   "id": "16445d58-2aba-41f7-95dd-8b578dc7edbd",
   "metadata": {},
   "outputs": [],
   "source": [
    "SAR.head(1)"
   ]
  },
  {
   "cell_type": "code",
   "execution_count": null,
   "id": "4fd72777-676a-4994-a75a-e5005ea37e5e",
   "metadata": {},
   "outputs": [],
   "source": [
    "Cause_of_death_totals.head(1)"
   ]
  },
  {
   "cell_type": "code",
   "execution_count": null,
   "id": "ea33e38a-2cd2-45d1-977a-78bc14795a42",
   "metadata": {},
   "outputs": [],
   "source": [
    "pivot_Deaths_per_age.reset_index().head(10)"
   ]
  },
  {
   "cell_type": "code",
   "execution_count": null,
   "id": "4e2bb079-9ad6-4f2e-9828-be6d82df222f",
   "metadata": {},
   "outputs": [],
   "source": [
    "merge1_df=pd.merge(Cause_of_death_totals, SAR, left_on='Park Name', right_on='Park Name', how='left')\n",
    "merge1_df.head(1)"
   ]
  },
  {
   "cell_type": "code",
   "execution_count": null,
   "id": "f1109bec-aa07-43ec-817e-eb95a87d6ea2",
   "metadata": {},
   "outputs": [],
   "source": [
    "Visitors_Fatality_merge.head(1)"
   ]
  },
  {
   "cell_type": "code",
   "execution_count": null,
   "id": "2581e710-ad72-4091-b5a1-4dd1601b79df",
   "metadata": {},
   "outputs": [],
   "source": [
    "Visitors_Fatality_merge['Cause of Death']=Visitors_Fatality_merge['Cause of Death'].str.replace('Aircraft Incident ','Aircraft Incident')"
   ]
  },
  {
   "cell_type": "code",
   "execution_count": null,
   "id": "da27cae7-5607-484b-8e7e-00a96e51ff8b",
   "metadata": {},
   "outputs": [],
   "source": [
    "Visitors_Fatality_merge['Cause of Death']=Visitors_Fatality_merge['Cause of Death'].str.replace('Poisoning - Carbon Monoxide','Poisoning')"
   ]
  },
  {
   "cell_type": "code",
   "execution_count": null,
   "id": "9860fe90-3407-464d-a34e-7fff2e399df2",
   "metadata": {},
   "outputs": [],
   "source": [
    "Visitors_Fatality_merge['Cause of Death']=Visitors_Fatality_merge['Cause of Death'].str.replace('Poisoning - Alcohol','Poisoning')"
   ]
  },
  {
   "cell_type": "code",
   "execution_count": null,
   "id": "4d85ad6b-b6be-439a-8d07-b472c0641cee",
   "metadata": {},
   "outputs": [],
   "source": [
    "Visitors_Fatality_merge['Cause of Death']=Visitors_Fatality_merge['Cause of Death'].str.replace('Poisoning - Drugs','Poisoning')"
   ]
  },
  {
   "cell_type": "code",
   "execution_count": null,
   "id": "7645902d-2396-4c74-831c-ab723ad89c76",
   "metadata": {},
   "outputs": [],
   "source": [
    "Visitors_Fatality_merge['Cause of Death']=Visitors_Fatality_merge['Cause of Death'].str.replace('Skiing Incident','Winter Sports')"
   ]
  },
  {
   "cell_type": "code",
   "execution_count": null,
   "id": "450b5468-9a0f-4889-b6fd-7416a035c76e",
   "metadata": {},
   "outputs": [],
   "source": [
    "Visitors_Fatality_merge['Cause of Death']=Visitors_Fatality_merge['Cause of Death'].str.replace('Snowboard Incident','Winter Sports')"
   ]
  },
  {
   "cell_type": "code",
   "execution_count": null,
   "id": "3bc473a2-7888-496b-9198-6e96771ece78",
   "metadata": {},
   "outputs": [],
   "source": [
    "Visitors_Fatality_merge['Cause of Death']=Visitors_Fatality_merge['Cause of Death'].str.replace('Asphyxiation','Medical')"
   ]
  },
  {
   "cell_type": "code",
   "execution_count": null,
   "id": "d8bc94ea-2805-439e-abbe-6210668f894b",
   "metadata": {},
   "outputs": [],
   "source": [
    "Visitors_Fatality_merge['Cause of Death']=Visitors_Fatality_merge['Cause of Death'].str.replace('Medical - Not During Physical Activity','Medical')"
   ]
  },
  {
   "cell_type": "code",
   "execution_count": null,
   "id": "6586110f-fd66-42d8-b0a1-9e4d53335e03",
   "metadata": {},
   "outputs": [],
   "source": [
    "Visitors_Fatality_merge['Cause of Death']=Visitors_Fatality_merge['Cause of Death'].str.replace('Medical - During Physical Activity','Medical')"
   ]
  },
  {
   "cell_type": "code",
   "execution_count": null,
   "id": "1107cca1-e6ab-4e9b-90d6-84421789c046",
   "metadata": {},
   "outputs": [],
   "source": [
    "Visitors_Fatality_merge['Cause of Death']=Visitors_Fatality_merge['Cause of Death'].str.replace('Medical - Unknown','Medical')"
   ]
  },
  {
   "cell_type": "code",
   "execution_count": null,
   "id": "cf045679-b0fd-465e-91be-5bc282b95053",
   "metadata": {},
   "outputs": [],
   "source": [
    "merge2_df=pd.merge(Visitors_Fatality_merge, merge1_df, left_on=['Park Name','Cause of Death','Year','Fatality_Count'],\n",
    "                   right_on=['Park Name','Cause of Death','Year','Fatality_Count'], how='left')"
   ]
  },
  {
   "cell_type": "code",
   "execution_count": null,
   "id": "cb9cbc81-6321-45f2-92f5-08b1d151a205",
   "metadata": {},
   "outputs": [],
   "source": [
    "merge2_df.head()"
   ]
  },
  {
   "cell_type": "code",
   "execution_count": null,
   "id": "8f499c29-6e56-4796-ae56-683b2f3e9fcd",
   "metadata": {},
   "outputs": [],
   "source": [
    "merge2_df['Cause of Death']=merge2_df['Cause of Death'].str.replace('Medical - Unknown','Medical')"
   ]
  },
  {
   "cell_type": "code",
   "execution_count": null,
   "id": "979f08cd-8c14-4041-aa70-8da46cb412b0",
   "metadata": {},
   "outputs": [],
   "source": [
    "merge2_df['Cause of Death'].unique()"
   ]
  },
  {
   "cell_type": "code",
   "execution_count": null,
   "id": "f9d79e96-a306-4b19-8c7d-cc4f664b8d95",
   "metadata": {},
   "outputs": [],
   "source": [
    "merge2_df=merge2_df.drop(columns=['Outcome', 'Activity','Intent']).rename(columns={'Fatality_Count':'Fatality Count','Fatalities_per_million':\n",
    "                                                                        'Fatalities per Million'})"
   ]
  },
  {
   "cell_type": "code",
   "execution_count": null,
   "id": "d9e13d38-5c7c-405b-b1e5-aa9522410b71",
   "metadata": {},
   "outputs": [],
   "source": [
    "List=['Grand Canyon National Park','Big Bend National Park','Carlsbad Caverns National Park','Black Canyon Of The Gunnison National Park','Canyonlands National Park',\n",
    "'Guadalupe Mountains National Park','Mesa Verde National Park','Great Sand Dunes National Park & Preserve','Petrified Forest National Park','Bryce Canyon National Park']\n",
    "merge2_df=merge2_df.loc[merge2_df['Park Name'].isin(List)]\n",
    "\n",
    "merge2_df=merge2_df.drop(columns=['Open Cases','Closed/Incident Only','Closed: Found','Closed: Not found'])"
   ]
  },
  {
   "cell_type": "code",
   "execution_count": 156,
   "id": "a5f5f281-6b36-4383-8ea9-824ecc79d1ec",
   "metadata": {},
   "outputs": [],
   "source": [
    "url='https://en.wikipedia.org/wiki/List_of_national_parks_of_the_United_States_by_elevation'"
   ]
  },
  {
   "cell_type": "code",
   "execution_count": 157,
   "id": "554b8c05-5637-42da-802d-12897a544278",
   "metadata": {},
   "outputs": [],
   "source": [
    "import requests\n",
    "from bs4 import BeautifulSoup as BS"
   ]
  },
  {
   "cell_type": "code",
   "execution_count": 158,
   "id": "45983da3-3ca2-4fa8-9a95-10aa0492edef",
   "metadata": {},
   "outputs": [],
   "source": [
    "response=requests.get(url)"
   ]
  },
  {
   "cell_type": "code",
   "execution_count": 159,
   "id": "e3790502-286b-4f5c-bc76-2de86117b1ef",
   "metadata": {},
   "outputs": [],
   "source": [
    "soup=BS(response.text)"
   ]
  },
  {
   "cell_type": "code",
   "execution_count": 160,
   "id": "18363a28-3f2b-4458-8370-87e359a7c7de",
   "metadata": {},
   "outputs": [
    {
     "name": "stderr",
     "output_type": "stream",
     "text": [
      "C:\\Users\\Owner\\AppData\\Local\\Temp\\ipykernel_23240\\1803954606.py:1: FutureWarning: Passing literal html to 'read_html' is deprecated and will be removed in a future version. To read from a literal string, wrap it in a 'StringIO' object.\n",
      "  elevation_df=pd.read_html(str(soup.find('table')))[0]\n"
     ]
    }
   ],
   "source": [
    "elevation_df=pd.read_html(str(soup.find('table')))[0]"
   ]
  },
  {
   "cell_type": "code",
   "execution_count": 161,
   "id": "8a666cc6-cace-4491-ac4d-f9f56efa62f1",
   "metadata": {},
   "outputs": [],
   "source": [
    "elevation_df=elevation_df.drop(columns=['Rank','Location','Mountain range','Location of lowest point']).rename(columns={'Park':'Park Name'})"
   ]
  },
  {
   "cell_type": "code",
   "execution_count": 162,
   "id": "0df0e128-9287-4e1b-af34-79d306926ae0",
   "metadata": {},
   "outputs": [
    {
     "data": {
      "text/plain": [
       "array(['Denali', 'Wrangell-St. Elias', 'Glacier Bay', 'Sequoia',\n",
       "       'Mount Rainier', 'Rocky Mountain', 'Kings Canyon', 'Grand Teton',\n",
       "       'Hawaii Volcanoes', 'Great Sand Dunes', 'Yosemite', 'Great Basin',\n",
       "       'Yellowstone', 'Death Valley', 'Glacier', 'Lassen Volcanic',\n",
       "       'Lake Clark', 'Haleakala', 'North Cascades', 'Grand Canyon',\n",
       "       'Bryce Canyon', 'Black Canyon of the Gunnison', 'Capitol Reef',\n",
       "       'Crater Lake', 'Guadalupe Mountains', 'Zion', 'Saguaro',\n",
       "       'Mesa Verde', 'Gates of the Arctic', 'Olympic', 'Big Bend',\n",
       "       'Katmai', 'Canyonlands', 'Great Smoky Mountains',\n",
       "       'Carlsbad Caverns', 'Kenai Fjords', 'Petrified Forest',\n",
       "       'Joshua Tree', 'Arches', 'Wind Cave', 'Kobuk Valley',\n",
       "       'White Sands', 'Shenandoah', 'Badlands', 'Pinnacles',\n",
       "       'New River Gorge', 'American Samoa', 'Redwood',\n",
       "       'Theodore Roosevelt', 'Channel Islands', 'Acadia', 'Voyageurs',\n",
       "       'Hot Springs', 'Isle Royale', 'Virgin Islands', 'Cuyahoga Valley',\n",
       "       'Mammoth Cave', 'Indiana Dunes', 'Gateway Arch', 'Congaree',\n",
       "       'Everglades', 'Dry Tortugas', 'Biscayne'], dtype=object)"
      ]
     },
     "execution_count": 162,
     "metadata": {},
     "output_type": "execute_result"
    }
   ],
   "source": [
    "elevation_df['Park Name'].unique()"
   ]
  },
  {
   "cell_type": "code",
   "execution_count": 163,
   "id": "39fb697c-a884-4497-8b57-c9558e09d8e7",
   "metadata": {},
   "outputs": [],
   "source": [
    "elevation_df['Park Name']=elevation_df['Park Name'].str.replace('Guadalupe Mountains','Guadalupe Mountains National Park')"
   ]
  },
  {
   "cell_type": "code",
   "execution_count": 164,
   "id": "06250709-b0cb-442b-a3ca-eeb58a2d5ae4",
   "metadata": {},
   "outputs": [],
   "source": [
    "elevation_df['Park Name']=elevation_df['Park Name'].str.replace('Mesa Verde','Mesa Verde National Park')"
   ]
  },
  {
   "cell_type": "code",
   "execution_count": 165,
   "id": "8e6f65ec-31a1-4f27-825a-3fdc116f3f5b",
   "metadata": {},
   "outputs": [],
   "source": [
    "elevation_df['Park Name']=elevation_df['Park Name'].str.replace('Big Bend','Big Bend National Park')"
   ]
  },
  {
   "cell_type": "code",
   "execution_count": 166,
   "id": "245f74d8-d907-4b60-9a02-dbfa65879ea3",
   "metadata": {},
   "outputs": [],
   "source": [
    "elevation_df['Park Name']=elevation_df['Park Name'].str.replace('Canyonlands','Canyonlands National Park')"
   ]
  },
  {
   "cell_type": "code",
   "execution_count": 167,
   "id": "5407ec6a-8558-4f25-9e1f-2971a5b95cd3",
   "metadata": {},
   "outputs": [],
   "source": [
    "elevation_df['Park Name']=elevation_df['Park Name'].str.replace('Carlsbad Caverns','Carlsbad Caverns National Park')"
   ]
  },
  {
   "cell_type": "code",
   "execution_count": 168,
   "id": "8d54b881-69b8-42fd-affc-1f3369d0c03b",
   "metadata": {},
   "outputs": [],
   "source": [
    "elevation_df['Park Name']=elevation_df['Park Name'].str.replace('Petrified Forest','Petrified Forest National Park')"
   ]
  },
  {
   "cell_type": "code",
   "execution_count": 169,
   "id": "f1dd15ca-a18e-400e-9bd0-4f6dc5e65bdd",
   "metadata": {},
   "outputs": [],
   "source": [
    "elevation_df['Park Name']=elevation_df['Park Name'].str.replace('Black Canyon of the Gunnison','Black Canyon Of The Gunnison National Park')"
   ]
  },
  {
   "cell_type": "code",
   "execution_count": 170,
   "id": "1c08e070-0a3b-4fe7-a90d-c6f98763145b",
   "metadata": {},
   "outputs": [],
   "source": [
    "elevation_df['Park Name']=elevation_df['Park Name'].str.replace('Grand Canyon','Grand Canyon National Park')"
   ]
  },
  {
   "cell_type": "code",
   "execution_count": 171,
   "id": "9824b1f1-123a-4e2e-8af8-23d71d9cbbc9",
   "metadata": {},
   "outputs": [],
   "source": [
    "elevation_df['Park Name']=elevation_df['Park Name'].str.replace('Great Sand Dunes','Great Sand Dunes National Park & Preserve')"
   ]
  },
  {
   "cell_type": "code",
   "execution_count": null,
   "id": "eeadf66c-2ec1-4a37-b094-4ec4cfafc584",
   "metadata": {},
   "outputs": [],
   "source": [
    "elevation_df['Park Name']=elevation_df['Park Name'].str.replace('Bryce Canyon','Bryce Canyon National Park')"
   ]
  },
  {
   "cell_type": "code",
   "execution_count": null,
   "id": "67aba09b-a6fb-4901-a396-4b92e38efa6b",
   "metadata": {},
   "outputs": [],
   "source": [
    "MyList=['Grand Canyon National Park','Big Bend National Park','Carlsbad Caverns National Park','Black Canyon Of The Gunnison National Park','Canyonlands National Park',\n",
    "'Guadalupe Mountains National Park','Mesa Verde National Park','Great Sand Dunes National Park & Preserve','Petrified Forest National Park','Bryce Canyon National Park']\n",
    "elevation_df=elevation_df.loc[elevation_df['Park Name'].isin(MyList)]"
   ]
  },
  {
   "cell_type": "code",
   "execution_count": 172,
   "id": "5537f8af-0194-4fec-9c71-20a382b59b2a",
   "metadata": {},
   "outputs": [
    {
     "data": {
      "text/html": [
       "<div>\n",
       "<style scoped>\n",
       "    .dataframe tbody tr th:only-of-type {\n",
       "        vertical-align: middle;\n",
       "    }\n",
       "\n",
       "    .dataframe tbody tr th {\n",
       "        vertical-align: top;\n",
       "    }\n",
       "\n",
       "    .dataframe thead th {\n",
       "        text-align: right;\n",
       "    }\n",
       "</style>\n",
       "<table border=\"1\" class=\"dataframe\">\n",
       "  <thead>\n",
       "    <tr style=\"text-align: right;\">\n",
       "      <th></th>\n",
       "      <th>Park Name</th>\n",
       "      <th>Peak name</th>\n",
       "      <th>Elevation</th>\n",
       "      <th>Minimum elevation</th>\n",
       "      <th>Vertical relief</th>\n",
       "    </tr>\n",
       "  </thead>\n",
       "  <tbody>\n",
       "    <tr>\n",
       "      <th>52</th>\n",
       "      <td>Hot Springs</td>\n",
       "      <td>Music Mountain</td>\n",
       "      <td>1,405 feet (428 m)</td>\n",
       "      <td>415 feet (126 m)</td>\n",
       "      <td>990 feet (300 m)</td>\n",
       "    </tr>\n",
       "    <tr>\n",
       "      <th>43</th>\n",
       "      <td>Badlands</td>\n",
       "      <td>Red Shirt Table</td>\n",
       "      <td>3,340 feet (1,020 m)</td>\n",
       "      <td>2,365 feet (721 m)</td>\n",
       "      <td>975 feet (297 m)</td>\n",
       "    </tr>\n",
       "    <tr>\n",
       "      <th>48</th>\n",
       "      <td>Theodore Roosevelt</td>\n",
       "      <td>Peck Hill</td>\n",
       "      <td>2,860 feet (870 m)</td>\n",
       "      <td>1,940 feet (590 m)</td>\n",
       "      <td>920 feet (280 m)</td>\n",
       "    </tr>\n",
       "    <tr>\n",
       "      <th>62</th>\n",
       "      <td>Biscayne</td>\n",
       "      <td>Totten Key, Old Rhodes Key</td>\n",
       "      <td>9 feet (2.7 m)</td>\n",
       "      <td>0 feet (0 m)</td>\n",
       "      <td>9 feet (2.7 m)</td>\n",
       "    </tr>\n",
       "    <tr>\n",
       "      <th>18</th>\n",
       "      <td>North Cascades</td>\n",
       "      <td>Goode Mountain</td>\n",
       "      <td>9,206 feet (2,806 m)</td>\n",
       "      <td>605 feet (184 m)</td>\n",
       "      <td>8,601 feet (2,622 m)</td>\n",
       "    </tr>\n",
       "    <tr>\n",
       "      <th>53</th>\n",
       "      <td>Isle Royale</td>\n",
       "      <td>Mount Desor</td>\n",
       "      <td>1,394 feet (425 m)</td>\n",
       "      <td>600 feet (180 m)</td>\n",
       "      <td>794 feet (242 m)</td>\n",
       "    </tr>\n",
       "    <tr>\n",
       "      <th>28</th>\n",
       "      <td>Gates of the Arctic</td>\n",
       "      <td>Mount Igikpak</td>\n",
       "      <td>8,276 feet (2,523 m)</td>\n",
       "      <td>280 feet (85 m)</td>\n",
       "      <td>7,996 feet (2,437 m)</td>\n",
       "    </tr>\n",
       "    <tr>\n",
       "      <th>19</th>\n",
       "      <td>Grand Canyon National Park</td>\n",
       "      <td>Lookout tower near the North Rim's main entran...</td>\n",
       "      <td>9,165 feet (2,793 m)</td>\n",
       "      <td>1,173 feet (358 m)</td>\n",
       "      <td>7,992 feet (2,436 m)</td>\n",
       "    </tr>\n",
       "    <tr>\n",
       "      <th>29</th>\n",
       "      <td>Olympic</td>\n",
       "      <td>Mount Olympus</td>\n",
       "      <td>7,962 feet (2,427 m)</td>\n",
       "      <td>0 feet (0 m)</td>\n",
       "      <td>7,962 feet (2,427 m)</td>\n",
       "    </tr>\n",
       "    <tr>\n",
       "      <th>31</th>\n",
       "      <td>Katmai</td>\n",
       "      <td>Mount Denison[21]</td>\n",
       "      <td>7,606 feet (2,318 m)</td>\n",
       "      <td>0 feet (0 m)</td>\n",
       "      <td>7,606 feet (2,318 m)</td>\n",
       "    </tr>\n",
       "  </tbody>\n",
       "</table>\n",
       "</div>"
      ],
      "text/plain": [
       "                     Park Name  \\\n",
       "52                 Hot Springs   \n",
       "43                    Badlands   \n",
       "48          Theodore Roosevelt   \n",
       "62                    Biscayne   \n",
       "18              North Cascades   \n",
       "53                 Isle Royale   \n",
       "28         Gates of the Arctic   \n",
       "19  Grand Canyon National Park   \n",
       "29                     Olympic   \n",
       "31                      Katmai   \n",
       "\n",
       "                                            Peak name             Elevation  \\\n",
       "52                                     Music Mountain    1,405 feet (428 m)   \n",
       "43                                    Red Shirt Table  3,340 feet (1,020 m)   \n",
       "48                                          Peck Hill    2,860 feet (870 m)   \n",
       "62                         Totten Key, Old Rhodes Key        9 feet (2.7 m)   \n",
       "18                                     Goode Mountain  9,206 feet (2,806 m)   \n",
       "53                                        Mount Desor    1,394 feet (425 m)   \n",
       "28                                      Mount Igikpak  8,276 feet (2,523 m)   \n",
       "19  Lookout tower near the North Rim's main entran...  9,165 feet (2,793 m)   \n",
       "29                                      Mount Olympus  7,962 feet (2,427 m)   \n",
       "31                                  Mount Denison[21]  7,606 feet (2,318 m)   \n",
       "\n",
       "     Minimum elevation       Vertical relief  \n",
       "52    415 feet (126 m)      990 feet (300 m)  \n",
       "43  2,365 feet (721 m)      975 feet (297 m)  \n",
       "48  1,940 feet (590 m)      920 feet (280 m)  \n",
       "62        0 feet (0 m)        9 feet (2.7 m)  \n",
       "18    605 feet (184 m)  8,601 feet (2,622 m)  \n",
       "53    600 feet (180 m)      794 feet (242 m)  \n",
       "28     280 feet (85 m)  7,996 feet (2,437 m)  \n",
       "19  1,173 feet (358 m)  7,992 feet (2,436 m)  \n",
       "29        0 feet (0 m)  7,962 feet (2,427 m)  \n",
       "31        0 feet (0 m)  7,606 feet (2,318 m)  "
      ]
     },
     "execution_count": 172,
     "metadata": {},
     "output_type": "execute_result"
    }
   ],
   "source": [
    "elevation_df.sort_values(by= 'Vertical relief', ascending=False).head(10)"
   ]
  },
  {
   "cell_type": "code",
   "execution_count": 173,
   "id": "bbf509eb-0cdf-432f-a161-61cb8f900e63",
   "metadata": {},
   "outputs": [],
   "source": [
    "elevation2_df=elevation_df.drop(columns=['Peak name','Vertical relief'])"
   ]
  },
  {
   "cell_type": "code",
   "execution_count": 174,
   "id": "db0ff0ae-e1f9-4d36-9a0a-855e2680d4e6",
   "metadata": {},
   "outputs": [
    {
     "ename": "NameError",
     "evalue": "name 'merge2_df' is not defined",
     "output_type": "error",
     "traceback": [
      "\u001b[1;31m---------------------------------------------------------------------------\u001b[0m",
      "\u001b[1;31mNameError\u001b[0m                                 Traceback (most recent call last)",
      "Cell \u001b[1;32mIn[174], line 1\u001b[0m\n\u001b[1;32m----> 1\u001b[0m merge2_df\u001b[38;5;241m.\u001b[39mhead(\u001b[38;5;241m1\u001b[39m)\n",
      "\u001b[1;31mNameError\u001b[0m: name 'merge2_df' is not defined"
     ]
    }
   ],
   "source": [
    "merge2_df.head(1)"
   ]
  },
  {
   "cell_type": "code",
   "execution_count": 175,
   "id": "683de69a-258f-4cac-be1e-a0f7457721e7",
   "metadata": {},
   "outputs": [
    {
     "ename": "NameError",
     "evalue": "name 'merge2_df' is not defined",
     "output_type": "error",
     "traceback": [
      "\u001b[1;31m---------------------------------------------------------------------------\u001b[0m",
      "\u001b[1;31mNameError\u001b[0m                                 Traceback (most recent call last)",
      "Cell \u001b[1;32mIn[175], line 1\u001b[0m\n\u001b[1;32m----> 1\u001b[0m full_df\u001b[38;5;241m=\u001b[39mpd\u001b[38;5;241m.\u001b[39mmerge(merge2_df,elevation2_df, left_on\u001b[38;5;241m=\u001b[39m\u001b[38;5;124m'\u001b[39m\u001b[38;5;124mPark Name\u001b[39m\u001b[38;5;124m'\u001b[39m, right_on\u001b[38;5;241m=\u001b[39m\u001b[38;5;124m'\u001b[39m\u001b[38;5;124mPark Name\u001b[39m\u001b[38;5;124m'\u001b[39m, how\u001b[38;5;241m=\u001b[39m\u001b[38;5;124m'\u001b[39m\u001b[38;5;124mleft\u001b[39m\u001b[38;5;124m'\u001b[39m)\n",
      "\u001b[1;31mNameError\u001b[0m: name 'merge2_df' is not defined"
     ]
    }
   ],
   "source": [
    "full_df=pd.merge(merge2_df,elevation2_df, left_on='Park Name', right_on='Park Name', how='left')\n"
   ]
  },
  {
   "cell_type": "code",
   "execution_count": null,
   "id": "a5fc9714-1fda-43af-b7ef-532d59a711bd",
   "metadata": {},
   "outputs": [],
   "source": [
    "Cause_of_death_totals.head(5)"
   ]
  },
  {
   "cell_type": "code",
   "execution_count": null,
   "id": "953cea2c-f680-49d8-85b1-f91a0a9f136d",
   "metadata": {},
   "outputs": [],
   "source": [
    "Cause_of_death_totals['Cause of Death'].value_counts().sum()"
   ]
  },
  {
   "cell_type": "code",
   "execution_count": null,
   "id": "0803e9c8-32a7-4fb6-9559-576957d8ed27",
   "metadata": {},
   "outputs": [],
   "source": [
    "full_df.head(1)"
   ]
  },
  {
   "cell_type": "code",
   "execution_count": null,
   "id": "ff62294e-ce8f-4cfb-9eee-b10dc4fa962a",
   "metadata": {},
   "outputs": [],
   "source": [
    "full_df['Elevation']=full_df['Elevation'].str[:-15]"
   ]
  },
  {
   "cell_type": "code",
   "execution_count": null,
   "id": "69b10625-e5c5-463a-8891-550561a82870",
   "metadata": {},
   "outputs": [],
   "source": [
    "full_df['Minimum Elevation']=full_df['Minimum elevation'].str[:-12]"
   ]
  },
  {
   "cell_type": "code",
   "execution_count": null,
   "id": "689629c6-6e65-4c48-a93b-6ed26dcefab5",
   "metadata": {},
   "outputs": [],
   "source": [
    "full_df=full_df.rename(columns={'Elevation':'Elevation ft.','Minimum elevation':'Minimum Elevation ft.'})"
   ]
  },
  {
   "cell_type": "code",
   "execution_count": null,
   "id": "cac92c2e-d0a0-4cd9-8835-f9ec1892772f",
   "metadata": {},
   "outputs": [],
   "source": [
    "Parkdeaths_per_age=full_df.groupby('Park Name')['Age Range'].value_counts().reset_index()"
   ]
  },
  {
   "cell_type": "code",
   "execution_count": null,
   "id": "b665144a-47a0-4543-b59a-d3c2190d22d2",
   "metadata": {},
   "outputs": [],
   "source": [
    "Big_Bend_df=full_df.loc[full_df['Park Name']=='Big Bend National Park']"
   ]
  },
  {
   "cell_type": "code",
   "execution_count": null,
   "id": "7b9f5bcb-9158-4969-a895-29ac631a833a",
   "metadata": {},
   "outputs": [],
   "source": [
    "Big_Bend_df['Cause of Death'].value_counts().reset_index()"
   ]
  },
  {
   "cell_type": "code",
   "execution_count": null,
   "id": "f10ea14f-1ef8-44ab-86a8-6708ee602290",
   "metadata": {},
   "outputs": [],
   "source": [
    "import matplotlib.colors as mcolors"
   ]
  },
  {
   "cell_type": "code",
   "execution_count": null,
   "id": "aa3d939c-6589-43c3-b963-44f11ca04e1c",
   "metadata": {},
   "outputs": [],
   "source": [
    "\n",
    "Big_Bend_df['Cause of Death'].value_counts().plot(kind='barh', color='darkgreen')\n",
    "plt.title('Big Bend NP',fontsize=16)\n",
    "plt.ylabel('Cause of Death', fontsize=14)\n",
    "plt.xlabel('Number of Deaths', fontsize=14)\n",
    "plt.savefig('Big Bend deaths per cause2',bbox_inches = 'tight', transparent=True)"
   ]
  },
  {
   "cell_type": "code",
   "execution_count": null,
   "id": "40ae4094-4a3c-4840-a12f-644738b8660a",
   "metadata": {},
   "outputs": [],
   "source": [
    "Grand_Canyon_National_Park_df=full_df.loc[full_df['Park Name']=='Grand Canyon National Park']"
   ]
  },
  {
   "cell_type": "code",
   "execution_count": null,
   "id": "0a88b1e6-121b-4cb5-949f-b67978d995b8",
   "metadata": {},
   "outputs": [],
   "source": [
    "Grand_Canyon_National_Park_df['Cause of Death'].value_counts()"
   ]
  },
  {
   "cell_type": "code",
   "execution_count": null,
   "id": "931b8691-ae08-4fef-8dc7-e31e6ce54d4b",
   "metadata": {},
   "outputs": [],
   "source": [
    "grouped=full_df.groupby(['Park Name','Cause of Death'])[['Fatality Count']].sum()\n",
    "grouped=grouped.reset_index()\n",
    "top_cause_per_park=grouped.sort_values(by=['Park Name','Fatality Count'],ascending=[True,False]).drop_duplicates(subset=['Park Name'])\n",
    "top_cause_per_park.head()"
   ]
  },
  {
   "cell_type": "markdown",
   "id": "da2b5f1f-cc21-408e-832e-3d0bae0e8807",
   "metadata": {},
   "source": [
    "grouped.head()"
   ]
  },
  {
   "cell_type": "code",
   "execution_count": null,
   "id": "2bb29caa-c2cf-4c2f-a26e-ec2fcd565ec3",
   "metadata": {},
   "outputs": [],
   "source": [
    "full_df['Fatalities per Million'] = (full_df['Fatality Count'] / full_df['Visitors']) * 1e6\n",
    "grouped = full_df.groupby(['Park Name', 'Cause of Death'])[['Fatalities per Million']].sum() \n",
    "grouped = grouped.reset_index()\n",
    "grouped.head()"
   ]
  },
  {
   "cell_type": "code",
   "execution_count": null,
   "id": "4fb0a6e1-4d23-4fb6-8f79-3785541588cd",
   "metadata": {},
   "outputs": [],
   "source": [
    "top_cause_per_park = grouped.sort_values(by=['Park Name', 'Fatalities per Million'], ascending=[True, False])\n",
    "top_cause_per_park = top_cause_per_park.drop_duplicates(subset=['Park Name'])\n",
    "top_cause_per_park.head(10)"
   ]
  },
  {
   "cell_type": "code",
   "execution_count": null,
   "id": "bf1f1a85-6ccc-4aeb-abe0-a76b46f74030",
   "metadata": {},
   "outputs": [],
   "source": [
    "full_df.head()"
   ]
  },
  {
   "cell_type": "code",
   "execution_count": null,
   "id": "3c534d6e-3431-46a1-9c55-866891a177a8",
   "metadata": {},
   "outputs": [],
   "source": [
    "top_cause_per_park2=pd.merge(top_cause_per_park, full_df, left_on=['Park Name', 'Fatalities per Million', 'Cause of Death'],  right_on=['Park Name', 'Fatalities per Million', 'Cause of Death'])\n",
    "top_cause_per_park2.drop(columns=['Minimum Elevation ft.','Minimum Elevation','Fatality Count','Visitors','group','Incidents'])\n",
    "top_cause_per_park2.head(10)"
   ]
  },
  {
   "cell_type": "code",
   "execution_count": null,
   "id": "42ee99f9-cd1a-42ee-abd9-d4d855d8d997",
   "metadata": {},
   "outputs": [],
   "source": [
    "top_5_parks=full_df.groupby('Park Name')[['Fatality Count']].sum().sort_values(by='Fatality Count', ascending=False).head(5).index\n",
    "filtered_df=full_df[full_df['Park Name'].isin(top_5_parks)]\n",
    "cause_of_death_totals=filtered_df.groupby('Cause of Death')[['Fatality Count']].sum()\n",
    "top_5_causes=cause_of_death_totals.sort_values(by='Fatality Count',ascending=False).head(5)\n",
    "top_5_causes.head(5)"
   ]
  },
  {
   "cell_type": "code",
   "execution_count": null,
   "id": "77624891-62b0-4632-9448-77eb3348fb68",
   "metadata": {
    "scrolled": true
   },
   "outputs": [],
   "source": [
    "full_df.head(1)"
   ]
  },
  {
   "cell_type": "code",
   "execution_count": null,
   "id": "9b46c10a-3b09-461e-b2ac-2364d31c9c4c",
   "metadata": {},
   "outputs": [],
   "source": [
    "fatality_counts_year=full_df.groupby('Year')['Fatality Count'].count().reset_index()\n",
    "fatality_counts_year"
   ]
  },
  {
   "cell_type": "code",
   "execution_count": null,
   "id": "badb89eb-daff-4103-92b6-665ccf30c0c0",
   "metadata": {},
   "outputs": [],
   "source": [
    "full_df[full_df['Fatality Count']==12]"
   ]
  },
  {
   "cell_type": "code",
   "execution_count": null,
   "id": "b7ee7ca6-de64-4d09-aaef-961c779518f2",
   "metadata": {},
   "outputs": [],
   "source": [
    "plt.figure(figsize=(8, 5)) \n",
    "plt.plot(fatality_counts_year['Year'], fatality_counts_year['Fatality Count'], marker='o', linestyle='-', color='g', label='Value')\n",
    "plt.title('Total IMR National Park Fatalities Per Year', fontsize=15)\n",
    "plt.ylabel('Fatalities', fontsize=14)\n",
    "plt.savefig('total fatalities per year',bbox_inches = 'tight', transparent=True)\n",
    "plt.show()"
   ]
  },
  {
   "cell_type": "code",
   "execution_count": null,
   "id": "569a8a0b-fceb-4651-babc-cca6204ded4f",
   "metadata": {},
   "outputs": [],
   "source": [
    "pivot_full_df=full_df.pivot_table(index='Year', columns='group',values='Fatality Count',aggfunc='count',fill_value=0)\n",
    "pivot_full_df.plot(kind='bar',stacked=True, figsize=(12,8))\n",
    "plt.title('Cause of Deaths per Year', fontsize=16)\n",
    "plt.xlabel(' ')\n",
    "plt.ylabel('Fatalities', fontsize=14)\n",
    "plt.legend(title='Cause of Death')\n",
    "plt.savefig('cause of death per year',bbox_inches = 'tight', transparent=True)\n",
    "plt.show()"
   ]
  },
  {
   "cell_type": "code",
   "execution_count": null,
   "id": "04fa9d09-d830-4a38-aa70-cb8eb5e9384d",
   "metadata": {},
   "outputs": [],
   "source": [
    "full_df[full_df['Year']==2014]['Fatality Count'].value_counts()"
   ]
  },
  {
   "cell_type": "code",
   "execution_count": null,
   "id": "3ade2673-41f1-42b4-90c1-ab8b37b9bfd0",
   "metadata": {},
   "outputs": [],
   "source": [
    "full_df['Cause of Death'].value_counts().plot(kind='barh', color='darkblue')\n",
    "plt.title('Number of Deaths per Cause', fontsize=16)\n",
    "plt.ylabel('Cause of Death', fontsize=14)\n",
    "plt.xlabel('Number of Deaths', fontsize=14)\n",
    "plt.savefig('Number of deaths per cause2',bbox_inches = 'tight', transparent=True);"
   ]
  },
  {
   "cell_type": "code",
   "execution_count": null,
   "id": "0f88cdab-00a2-4680-a2f6-8c6cfcd76663",
   "metadata": {},
   "outputs": [],
   "source": [
    "Grand_Canyon_National_Park_df=full_df.loc[full_df['Park Name']=='Grand Canyon National Park']"
   ]
  },
  {
   "cell_type": "code",
   "execution_count": null,
   "id": "0d158ce2-fb3c-4400-b04d-456cba2021e3",
   "metadata": {},
   "outputs": [],
   "source": [
    "Grand_Canyon_National_Park_df['Cause of Death'].value_counts()"
   ]
  },
  {
   "cell_type": "code",
   "execution_count": null,
   "id": "f41974d2-5225-4dbf-af12-89896c1c644c",
   "metadata": {},
   "outputs": [],
   "source": [
    "Grand_Canyon_National_Park_df['Cause of Death'].value_counts().plot(kind='barh', color='darkblue')\n",
    "plt.title('Grand Canyon National Park', fontsize=16)\n",
    "plt.ylabel('Cause of Death', fontsize=14)\n",
    "plt.xlabel('Number of Deaths', fontsize=14)\n",
    "plt.savefig('deaths per cause',bbox_inches = 'tight', transparent=True)"
   ]
  },
  {
   "cell_type": "code",
   "execution_count": null,
   "id": "79a1f26b-3904-4750-bfb5-f7845259c1c9",
   "metadata": {
    "scrolled": true
   },
   "outputs": [],
   "source": [
    "Cause_of_death_totals=Cause_of_death_totals.groupby('Year')[['Fatality_Count', 'Year']].value_counts().reset_index().sort_values('Fatality_Count', ascending= False)\n",
    "Cause_of_death_totals"
   ]
  },
  {
   "cell_type": "markdown",
   "id": "877b0bd3-0240-4ee7-9c50-0f25941f5863",
   "metadata": {},
   "source": [
    "sns.relplot(x='Year', y='count', data=Cause_of_death_totals['Year'].value_counts().reset_index(), kind='line',linewidth=2.7, color='darkgreen')\n",
    "plt.ylim(0)\n",
    "plt.title('Fatalities in IMR NP 2007 - 2023', fontsize=16)\n",
    "plt.xlabel('Year', fontsize=16)\n",
    "plt.ylabel('Fatalities', fontsize=16)\n",
    "plt.savefig('fatalities per year2',bbox_inches = 'tight', transparent=True);"
   ]
  },
  {
   "cell_type": "code",
   "execution_count": null,
   "id": "af78bccf-589d-4b7c-99d6-cdc402fa89d6",
   "metadata": {},
   "outputs": [],
   "source": [
    "Year_2014_data=full_df.loc[full_df['Year']==2014]\n",
    "Year_2014_data['group'].value_counts()"
   ]
  },
  {
   "cell_type": "code",
   "execution_count": null,
   "id": "a740eab4-7f43-4e35-9eca-72b059237901",
   "metadata": {},
   "outputs": [],
   "source": [
    "SAR.head(10)"
   ]
  },
  {
   "cell_type": "code",
   "execution_count": null,
   "id": "c457e5ae-a536-4221-95ae-afdcc3acfa4a",
   "metadata": {},
   "outputs": [],
   "source": [
    "plt.figure(figsize=(8, 5)) \n",
    "plt.plot(SAR['Park Name'], SAR['Incidents'], marker='o', linestyle='-', color='g', label='Value')\n",
    "plt.xticks(rotation=90)\n",
    "plt.grid()\n",
    "plt.show()"
   ]
  },
  {
   "cell_type": "code",
   "execution_count": null,
   "id": "f260a26d-ee80-473f-97f6-9c93b2de39f0",
   "metadata": {},
   "outputs": [],
   "source": [
    "SAR.plot.scatter(x='Park Name', y='Incidents', c='Open Cases', cmap='viridis')\n",
    "plt.xticks(rotation=90);\n"
   ]
  },
  {
   "cell_type": "code",
   "execution_count": null,
   "id": "4db86aa6-089c-49be-bcb6-8b34f145a208",
   "metadata": {},
   "outputs": [],
   "source": [
    "plt.bar(SAR['Park Name'], SAR['Incidents'], color='darkblue')\n",
    "plt.xlabel('Park Name', fontsize=14)\n",
    "plt.ylabel('Incidents', fontsize=14)\n",
    "plt.title('SAR Incidents per park', fontsize=16)\n",
    "plt.xticks(rotation=90)\n",
    "plt.savefig('incidences per park',bbox_inches = 'tight', transparent=True)\n",
    "plt.show()"
   ]
  },
  {
   "cell_type": "markdown",
   "id": "7424677e-482e-41e0-92b3-019499527328",
   "metadata": {},
   "source": [
    "Incidents_data.head().reset_index(drop=True)"
   ]
  },
  {
   "cell_type": "code",
   "execution_count": null,
   "id": "0767f964-7790-4c95-bb3a-5b78c7f60f4a",
   "metadata": {},
   "outputs": [],
   "source": [
    "group=full_df.groupby(['Park Name', 'group'])['Fatalities per Million'].sum().reset_index()\n",
    "cause_count=group.groupby('Park Name')['group'].nunique()\n",
    "cause_of_deaths_ppark=group.groupby('Park Name')['group'].apply(list)\n",
    "cause_of_deaths_ppark.head()\n"
   ]
  },
  {
   "cell_type": "code",
   "execution_count": null,
   "id": "62476d4b-0023-44b8-be32-30fbc51606ef",
   "metadata": {},
   "outputs": [],
   "source": [
    "group=full_df.groupby(['Park Name', 'group','Year'])['Fatalities per Million'].sum().reset_index()\n",
    "Big_Bend=group.loc[group['Park Name']=='Big Bend National Park'].sort_values(by='Fatalities per Million', ascending=False)\n",
    "Big_Bend.head(1)"
   ]
  },
  {
   "cell_type": "code",
   "execution_count": null,
   "id": "a59401d3-f940-4cf5-b015-9d2fee85b059",
   "metadata": {},
   "outputs": [],
   "source": [
    "Grand_Canyon=group.loc[group['Park Name']=='Grand Canyon National Park'].sort_values(by= 'Fatalities per Million', ascending=False)"
   ]
  },
  {
   "cell_type": "code",
   "execution_count": null,
   "id": "8f402001-6d85-492e-86f1-f4ac10be4699",
   "metadata": {},
   "outputs": [],
   "source": [
    "Carlsbad_Caverns=group.loc[group['Park Name']=='Carlsbad Caverns National Park'].sort_values(by= 'Fatalities per Million', ascending=False)"
   ]
  },
  {
   "cell_type": "code",
   "execution_count": null,
   "id": "ea441456-4520-4c91-b138-3547933eaf47",
   "metadata": {},
   "outputs": [],
   "source": [
    "Petrified_Forest=group.loc[group['Park Name']=='Petrified Forest National Park'].sort_values(by= 'Fatalities per Million', ascending=False)"
   ]
  },
  {
   "cell_type": "code",
   "execution_count": null,
   "id": "5caea62a-8501-4d11-8974-85103f921f5f",
   "metadata": {},
   "outputs": [],
   "source": [
    "##Averages for fatalities per year; Avg fatalities per park per year,"
   ]
  },
  {
   "cell_type": "markdown",
   "id": "34f5120d-2814-4514-8bc0-33413b77536d",
   "metadata": {},
   "source": [
    "graph changes in  number of deaths per park over the years\n",
    "graph changes in causes of death over the years\n",
    "these are in slide 4, can I go back and reference them  but get further data for which are still at the top and then what 2023 looks like?"
   ]
  },
  {
   "cell_type": "code",
   "execution_count": null,
   "id": "0f812359-aa19-44e1-b68e-8f99cb660c2d",
   "metadata": {},
   "outputs": [],
   "source": [
    "Big_Bend.head()"
   ]
  },
  {
   "cell_type": "code",
   "execution_count": null,
   "id": "1d8d6280-2ef5-49a3-9d8b-b33e9969caac",
   "metadata": {},
   "outputs": [],
   "source": [
    "Big_Bend.loc[Big_Bend['Year']=='2023']"
   ]
  },
  {
   "cell_type": "code",
   "execution_count": null,
   "id": "f950e3f1-1af9-40bb-95ff-3dbe4f607fec",
   "metadata": {},
   "outputs": [],
   "source": [
    "Grand_Canyon.loc[Grand_Canyon['Year']=='2023']"
   ]
  },
  {
   "cell_type": "code",
   "execution_count": null,
   "id": "209668f1-03cb-400d-89f5-47ac09904127",
   "metadata": {},
   "outputs": [],
   "source": [
    "full_df.head(1)"
   ]
  },
  {
   "cell_type": "code",
   "execution_count": null,
   "id": "b3c5309a-e1a0-4684-a8cd-9dcf4593a793",
   "metadata": {},
   "outputs": [],
   "source": [
    "sns.relplot(x='Year', y='count', data=full_df['Year'].count().reset_index(), kind='line',linewidth=2.7, color='darkgreen')\n",
    "plt.ylim(0)\n",
    "plt.title('Fatalities in IMR NP 2007 - 2023', fontsize=16)\n",
    "plt.xlabel('Year', fontsize=16)\n",
    "plt.ylabel('Fatalities', fontsize=16)\n",
    "plt.savefig('fatalities per year2',bbox_inches = 'tight', transparent=True);"
   ]
  },
  {
   "cell_type": "code",
   "execution_count": null,
   "id": "07c73d0f-e921-4b6a-85b9-de61ed846b31",
   "metadata": {},
   "outputs": [],
   "source": [
    "sns.relplot(x='Year', y='count', data=full_df['Year'].value_counts().reset_index(), kind='line')\n",
    "plt.savefig('fatalities per year',bbox_inches = 'tight', transparent=True);"
   ]
  },
  {
   "cell_type": "code",
   "execution_count": null,
   "id": "d25ef51a-d237-491b-bd05-1a5f3ea3284b",
   "metadata": {},
   "outputs": [],
   "source": []
  }
 ],
 "metadata": {
  "kernelspec": {
   "display_name": "Python 3 (ipykernel)",
   "language": "python",
   "name": "python3"
  },
  "language_info": {
   "codemirror_mode": {
    "name": "ipython",
    "version": 3
   },
   "file_extension": ".py",
   "mimetype": "text/x-python",
   "name": "python",
   "nbconvert_exporter": "python",
   "pygments_lexer": "ipython3",
   "version": "3.12.7"
  }
 },
 "nbformat": 4,
 "nbformat_minor": 5
}
