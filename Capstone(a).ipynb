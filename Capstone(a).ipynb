{
 "cells": [
  {
   "cell_type": "code",
   "execution_count": 1,
   "id": "90a8e764-9948-406f-8e09-5da282963125",
   "metadata": {},
   "outputs": [],
   "source": [
    "import pandas as pd\n",
    "import seaborn as sns\n",
    "import numpy as np \n",
    "import matplotlib.pyplot as plt"
   ]
  },
  {
   "cell_type": "code",
   "execution_count": 2,
   "id": "94e8c350-dcac-4743-9991-b56390d74638",
   "metadata": {},
   "outputs": [],
   "source": [
    "nps_deaths=pd.read_csv('data/nps_fatality_stats.csv')"
   ]
  },
  {
   "cell_type": "code",
   "execution_count": 3,
   "id": "bdfaa7de-04c8-4f98-aaf0-aa5b3a993787",
   "metadata": {},
   "outputs": [
    {
     "data": {
      "text/html": [
       "<div>\n",
       "<style scoped>\n",
       "    .dataframe tbody tr th:only-of-type {\n",
       "        vertical-align: middle;\n",
       "    }\n",
       "\n",
       "    .dataframe tbody tr th {\n",
       "        vertical-align: top;\n",
       "    }\n",
       "\n",
       "    .dataframe thead th {\n",
       "        text-align: right;\n",
       "    }\n",
       "</style>\n",
       "<table border=\"1\" class=\"dataframe\">\n",
       "  <thead>\n",
       "    <tr style=\"text-align: right;\">\n",
       "      <th></th>\n",
       "      <th>Incident Date</th>\n",
       "      <th>Park Name</th>\n",
       "      <th>Cause of Death</th>\n",
       "      <th>Cause of Death Group \\n(Used in the NPS Mortality Dashboard)</th>\n",
       "      <th>Intent</th>\n",
       "      <th>Outcome</th>\n",
       "      <th>Sex</th>\n",
       "      <th>Age Range</th>\n",
       "      <th>Activity</th>\n",
       "    </tr>\n",
       "  </thead>\n",
       "  <tbody>\n",
       "    <tr>\n",
       "      <th>0</th>\n",
       "      <td>1/1/2007</td>\n",
       "      <td>Glen Canyon National Recreation Area</td>\n",
       "      <td>Undetermined</td>\n",
       "      <td>Undetermined</td>\n",
       "      <td>Undetermined</td>\n",
       "      <td>Fatal injury</td>\n",
       "      <td>Male</td>\n",
       "      <td>65+</td>\n",
       "      <td>Not Reported</td>\n",
       "    </tr>\n",
       "    <tr>\n",
       "      <th>1</th>\n",
       "      <td>1/22/2007</td>\n",
       "      <td>Golden Gate National Recreation Area</td>\n",
       "      <td>Drowning</td>\n",
       "      <td>Drowning</td>\n",
       "      <td>Unintentional</td>\n",
       "      <td>Fatal injury</td>\n",
       "      <td>Male</td>\n",
       "      <td>Not Reported</td>\n",
       "      <td>Vessel Related</td>\n",
       "    </tr>\n",
       "    <tr>\n",
       "      <th>2</th>\n",
       "      <td>1/22/2007</td>\n",
       "      <td>Golden Gate National Recreation Area</td>\n",
       "      <td>Undetermined</td>\n",
       "      <td>Undetermined</td>\n",
       "      <td>Undetermined</td>\n",
       "      <td>Fatal injury</td>\n",
       "      <td>Male</td>\n",
       "      <td>Not Reported</td>\n",
       "      <td>Vessel Related</td>\n",
       "    </tr>\n",
       "    <tr>\n",
       "      <th>3</th>\n",
       "      <td>1/29/2007</td>\n",
       "      <td>Natchez Trace Parkway</td>\n",
       "      <td>Motor Vehicle Crash</td>\n",
       "      <td>Motor Vehicle Crash</td>\n",
       "      <td>Unintentional</td>\n",
       "      <td>Fatal injury</td>\n",
       "      <td>Female</td>\n",
       "      <td>15-24</td>\n",
       "      <td>Driving</td>\n",
       "    </tr>\n",
       "    <tr>\n",
       "      <th>4</th>\n",
       "      <td>1/29/2007</td>\n",
       "      <td>Natchez Trace Parkway</td>\n",
       "      <td>Motor Vehicle Crash</td>\n",
       "      <td>Motor Vehicle Crash</td>\n",
       "      <td>Unintentional</td>\n",
       "      <td>Fatal injury</td>\n",
       "      <td>Female</td>\n",
       "      <td>45-54</td>\n",
       "      <td>Driving</td>\n",
       "    </tr>\n",
       "  </tbody>\n",
       "</table>\n",
       "</div>"
      ],
      "text/plain": [
       "  Incident Date                             Park Name       Cause of Death  \\\n",
       "0      1/1/2007  Glen Canyon National Recreation Area         Undetermined   \n",
       "1     1/22/2007  Golden Gate National Recreation Area             Drowning   \n",
       "2     1/22/2007  Golden Gate National Recreation Area         Undetermined   \n",
       "3     1/29/2007                 Natchez Trace Parkway  Motor Vehicle Crash   \n",
       "4     1/29/2007                 Natchez Trace Parkway  Motor Vehicle Crash   \n",
       "\n",
       "  Cause of Death Group \\n(Used in the NPS Mortality Dashboard)   \\\n",
       "0                                       Undetermined              \n",
       "1                                           Drowning              \n",
       "2                                       Undetermined              \n",
       "3                                Motor Vehicle Crash              \n",
       "4                                Motor Vehicle Crash              \n",
       "\n",
       "          Intent       Outcome     Sex     Age Range        Activity  \n",
       "0   Undetermined  Fatal injury    Male           65+    Not Reported  \n",
       "1  Unintentional  Fatal injury    Male  Not Reported  Vessel Related  \n",
       "2   Undetermined  Fatal injury    Male  Not Reported  Vessel Related  \n",
       "3  Unintentional  Fatal injury  Female         15-24        Driving   \n",
       "4  Unintentional  Fatal injury  Female         45-54        Driving   "
      ]
     },
     "execution_count": 3,
     "metadata": {},
     "output_type": "execute_result"
    }
   ],
   "source": [
    "nps_deaths.head()"
   ]
  },
  {
   "cell_type": "code",
   "execution_count": 4,
   "id": "0f55f98e-8cc8-4c12-83ee-cf6bbe359066",
   "metadata": {},
   "outputs": [
    {
     "data": {
      "text/plain": [
       "(4635, 9)"
      ]
     },
     "execution_count": 4,
     "metadata": {},
     "output_type": "execute_result"
    }
   ],
   "source": [
    "nps_deaths.shape"
   ]
  },
  {
   "cell_type": "code",
   "execution_count": 5,
   "id": "59b1c971-606f-4935-93c1-6b35553507c7",
   "metadata": {},
   "outputs": [
    {
     "data": {
      "text/html": [
       "<div>\n",
       "<style scoped>\n",
       "    .dataframe tbody tr th:only-of-type {\n",
       "        vertical-align: middle;\n",
       "    }\n",
       "\n",
       "    .dataframe tbody tr th {\n",
       "        vertical-align: top;\n",
       "    }\n",
       "\n",
       "    .dataframe thead th {\n",
       "        text-align: right;\n",
       "    }\n",
       "</style>\n",
       "<table border=\"1\" class=\"dataframe\">\n",
       "  <thead>\n",
       "    <tr style=\"text-align: right;\">\n",
       "      <th></th>\n",
       "      <th>Year</th>\n",
       "      <th>RecreationVisitors</th>\n",
       "      <th>TotalRecreationVisitors</th>\n",
       "      <th>park</th>\n",
       "    </tr>\n",
       "  </thead>\n",
       "  <tbody>\n",
       "    <tr>\n",
       "      <th>0</th>\n",
       "      <td>1971</td>\n",
       "      <td>27,100</td>\n",
       "      <td>8,639,984</td>\n",
       "      <td>Guadalupe Mountains National Park</td>\n",
       "    </tr>\n",
       "  </tbody>\n",
       "</table>\n",
       "</div>"
      ],
      "text/plain": [
       "   Year RecreationVisitors TotalRecreationVisitors  \\\n",
       "0  1971             27,100               8,639,984   \n",
       "\n",
       "                                park  \n",
       "0  Guadalupe Mountains National Park  "
      ]
     },
     "execution_count": 5,
     "metadata": {},
     "output_type": "execute_result"
    }
   ],
   "source": [
    "Guad_nps_df=pd.read_csv('data/Guadalupe_pop.csv',skiprows=3)\n",
    "Guad_nps_df['park']='Guadalupe Mountains National Park'\n",
    "Guad_nps_df.head(1)"
   ]
  },
  {
   "cell_type": "code",
   "execution_count": 6,
   "id": "c355201a-8459-4271-8da9-d98fe4d3a5e2",
   "metadata": {},
   "outputs": [
    {
     "data": {
      "text/html": [
       "<div>\n",
       "<style scoped>\n",
       "    .dataframe tbody tr th:only-of-type {\n",
       "        vertical-align: middle;\n",
       "    }\n",
       "\n",
       "    .dataframe tbody tr th {\n",
       "        vertical-align: top;\n",
       "    }\n",
       "\n",
       "    .dataframe thead th {\n",
       "        text-align: right;\n",
       "    }\n",
       "</style>\n",
       "<table border=\"1\" class=\"dataframe\">\n",
       "  <thead>\n",
       "    <tr style=\"text-align: right;\">\n",
       "      <th></th>\n",
       "      <th>Year</th>\n",
       "      <th>RecreationVisitors</th>\n",
       "      <th>TotalRecreationVisitors</th>\n",
       "      <th>park</th>\n",
       "    </tr>\n",
       "  </thead>\n",
       "  <tbody>\n",
       "    <tr>\n",
       "      <th>0</th>\n",
       "      <td>1929</td>\n",
       "      <td>51,500</td>\n",
       "      <td>171,510,364</td>\n",
       "      <td>Grand Teton National Park</td>\n",
       "    </tr>\n",
       "  </tbody>\n",
       "</table>\n",
       "</div>"
      ],
      "text/plain": [
       "   Year RecreationVisitors TotalRecreationVisitors                       park\n",
       "0  1929             51,500             171,510,364  Grand Teton National Park"
      ]
     },
     "execution_count": 6,
     "metadata": {},
     "output_type": "execute_result"
    }
   ],
   "source": [
    "Grand_Teton_pop_df=pd.read_csv('data/Grand_Teton_pop.csv',skiprows=3)\n",
    "Grand_Teton_pop_df['park']='Grand Teton National Park'\n",
    "Grand_Teton_pop_df.head(1)"
   ]
  },
  {
   "cell_type": "code",
   "execution_count": 7,
   "id": "e25bbbeb-f5ba-4dda-8d49-93c1597263c9",
   "metadata": {},
   "outputs": [
    {
     "data": {
      "text/html": [
       "<div>\n",
       "<style scoped>\n",
       "    .dataframe tbody tr th:only-of-type {\n",
       "        vertical-align: middle;\n",
       "    }\n",
       "\n",
       "    .dataframe tbody tr th {\n",
       "        vertical-align: top;\n",
       "    }\n",
       "\n",
       "    .dataframe thead th {\n",
       "        text-align: right;\n",
       "    }\n",
       "</style>\n",
       "<table border=\"1\" class=\"dataframe\">\n",
       "  <thead>\n",
       "    <tr style=\"text-align: right;\">\n",
       "      <th></th>\n",
       "      <th>Year</th>\n",
       "      <th>RecreationVisitors</th>\n",
       "      <th>TotalRecreationVisitors</th>\n",
       "      <th>park</th>\n",
       "    </tr>\n",
       "  </thead>\n",
       "  <tbody>\n",
       "    <tr>\n",
       "      <th>0</th>\n",
       "      <td>1919</td>\n",
       "      <td>37,745</td>\n",
       "      <td>240,991,619</td>\n",
       "      <td>Grand Canyon National Park</td>\n",
       "    </tr>\n",
       "  </tbody>\n",
       "</table>\n",
       "</div>"
      ],
      "text/plain": [
       "   Year RecreationVisitors TotalRecreationVisitors                        park\n",
       "0  1919             37,745             240,991,619  Grand Canyon National Park"
      ]
     },
     "execution_count": 7,
     "metadata": {},
     "output_type": "execute_result"
    }
   ],
   "source": [
    "Grand_Canyon_pop_df=pd.read_csv('data/Grand_Canyon_pop.csv',skiprows=3)\n",
    "Grand_Canyon_pop_df['park']='Grand Canyon National Park'\n",
    "Grand_Canyon_pop_df.head(1)"
   ]
  },
  {
   "cell_type": "code",
   "execution_count": 8,
   "id": "3f19ed01-1c14-42e7-8e52-cb66063b3b0b",
   "metadata": {},
   "outputs": [
    {
     "data": {
      "text/html": [
       "<div>\n",
       "<style scoped>\n",
       "    .dataframe tbody tr th:only-of-type {\n",
       "        vertical-align: middle;\n",
       "    }\n",
       "\n",
       "    .dataframe tbody tr th {\n",
       "        vertical-align: top;\n",
       "    }\n",
       "\n",
       "    .dataframe thead th {\n",
       "        text-align: right;\n",
       "    }\n",
       "</style>\n",
       "<table border=\"1\" class=\"dataframe\">\n",
       "  <thead>\n",
       "    <tr style=\"text-align: right;\">\n",
       "      <th></th>\n",
       "      <th>Year</th>\n",
       "      <th>RecreationVisitors</th>\n",
       "      <th>TotalRecreationVisitors</th>\n",
       "      <th>park</th>\n",
       "    </tr>\n",
       "  </thead>\n",
       "  <tbody>\n",
       "    <tr>\n",
       "      <th>0</th>\n",
       "      <td>1911</td>\n",
       "      <td>4,000</td>\n",
       "      <td>124,972,813</td>\n",
       "      <td>Glacier National Park</td>\n",
       "    </tr>\n",
       "  </tbody>\n",
       "</table>\n",
       "</div>"
      ],
      "text/plain": [
       "   Year RecreationVisitors TotalRecreationVisitors                   park\n",
       "0  1911              4,000             124,972,813  Glacier National Park"
      ]
     },
     "execution_count": 8,
     "metadata": {},
     "output_type": "execute_result"
    }
   ],
   "source": [
    "Glacier_pop_df=pd.read_csv('data/Glacier_pop.csv',skiprows=3)\n",
    "Glacier_pop_df['park']='Glacier National Park'\n",
    "Glacier_pop_df.head(1)"
   ]
  },
  {
   "cell_type": "code",
   "execution_count": 9,
   "id": "caf1e365-1e99-460b-8ae8-fec892337435",
   "metadata": {},
   "outputs": [
    {
     "data": {
      "text/html": [
       "<div>\n",
       "<style scoped>\n",
       "    .dataframe tbody tr th:only-of-type {\n",
       "        vertical-align: middle;\n",
       "    }\n",
       "\n",
       "    .dataframe tbody tr th {\n",
       "        vertical-align: top;\n",
       "    }\n",
       "\n",
       "    .dataframe thead th {\n",
       "        text-align: right;\n",
       "    }\n",
       "</style>\n",
       "<table border=\"1\" class=\"dataframe\">\n",
       "  <thead>\n",
       "    <tr style=\"text-align: right;\">\n",
       "      <th></th>\n",
       "      <th>Year</th>\n",
       "      <th>RecreationVisitors</th>\n",
       "      <th>TotalRecreationVisitors</th>\n",
       "      <th>park</th>\n",
       "    </tr>\n",
       "  </thead>\n",
       "  <tbody>\n",
       "    <tr>\n",
       "      <th>0</th>\n",
       "      <td>1924</td>\n",
       "      <td>1,280</td>\n",
       "      <td>46,478,465</td>\n",
       "      <td>Carlsbad Caverns National Park</td>\n",
       "    </tr>\n",
       "  </tbody>\n",
       "</table>\n",
       "</div>"
      ],
      "text/plain": [
       "   Year RecreationVisitors TotalRecreationVisitors  \\\n",
       "0  1924              1,280              46,478,465   \n",
       "\n",
       "                             park  \n",
       "0  Carlsbad Caverns National Park  "
      ]
     },
     "execution_count": 9,
     "metadata": {},
     "output_type": "execute_result"
    }
   ],
   "source": [
    "Carlsbad_Caverns_pop_df=pd.read_csv('data/Carlsbad_Caverns.csv',skiprows=3)\n",
    "Carlsbad_Caverns_pop_df['park']='Carlsbad Caverns National Park'\n",
    "Carlsbad_Caverns_pop_df.head(1)"
   ]
  },
  {
   "cell_type": "code",
   "execution_count": 10,
   "id": "23c780ab-2e5a-457a-8b79-7202c1ac8668",
   "metadata": {},
   "outputs": [
    {
     "data": {
      "text/html": [
       "<div>\n",
       "<style scoped>\n",
       "    .dataframe tbody tr th:only-of-type {\n",
       "        vertical-align: middle;\n",
       "    }\n",
       "\n",
       "    .dataframe tbody tr th {\n",
       "        vertical-align: top;\n",
       "    }\n",
       "\n",
       "    .dataframe thead th {\n",
       "        text-align: right;\n",
       "    }\n",
       "</style>\n",
       "<table border=\"1\" class=\"dataframe\">\n",
       "  <thead>\n",
       "    <tr style=\"text-align: right;\">\n",
       "      <th></th>\n",
       "      <th>Year</th>\n",
       "      <th>RecreationVisitors</th>\n",
       "      <th>TotalRecreationVisitors</th>\n",
       "      <th>park</th>\n",
       "    </tr>\n",
       "  </thead>\n",
       "  <tbody>\n",
       "    <tr>\n",
       "      <th>0</th>\n",
       "      <td>1965</td>\n",
       "      <td>19,400</td>\n",
       "      <td>19,190,788</td>\n",
       "      <td>Canyonlands National Park</td>\n",
       "    </tr>\n",
       "  </tbody>\n",
       "</table>\n",
       "</div>"
      ],
      "text/plain": [
       "   Year RecreationVisitors TotalRecreationVisitors                       park\n",
       "0  1965             19,400              19,190,788  Canyonlands National Park"
      ]
     },
     "execution_count": 10,
     "metadata": {},
     "output_type": "execute_result"
    }
   ],
   "source": [
    "Canyonlands_pop_df=pd.read_csv('data/Canyonlands_pop.csv',skiprows=3)\n",
    "Canyonlands_pop_df['park']='Canyonlands National Park'\n",
    "Canyonlands_pop_df.head(1)"
   ]
  },
  {
   "cell_type": "code",
   "execution_count": 11,
   "id": "51969844-532c-4ca1-9f6b-e0741e06cfbd",
   "metadata": {},
   "outputs": [
    {
     "data": {
      "text/html": [
       "<div>\n",
       "<style scoped>\n",
       "    .dataframe tbody tr th:only-of-type {\n",
       "        vertical-align: middle;\n",
       "    }\n",
       "\n",
       "    .dataframe tbody tr th {\n",
       "        vertical-align: top;\n",
       "    }\n",
       "\n",
       "    .dataframe thead th {\n",
       "        text-align: right;\n",
       "    }\n",
       "</style>\n",
       "<table border=\"1\" class=\"dataframe\">\n",
       "  <thead>\n",
       "    <tr style=\"text-align: right;\">\n",
       "      <th></th>\n",
       "      <th>Year</th>\n",
       "      <th>RecreationVisitors</th>\n",
       "      <th>TotalRecreationVisitors</th>\n",
       "      <th>park</th>\n",
       "    </tr>\n",
       "  </thead>\n",
       "  <tbody>\n",
       "    <tr>\n",
       "      <th>0</th>\n",
       "      <td>1929</td>\n",
       "      <td>21,997</td>\n",
       "      <td>65,941,639</td>\n",
       "      <td>Bryce Canyon National Park</td>\n",
       "    </tr>\n",
       "  </tbody>\n",
       "</table>\n",
       "</div>"
      ],
      "text/plain": [
       "   Year RecreationVisitors TotalRecreationVisitors                        park\n",
       "0  1929             21,997              65,941,639  Bryce Canyon National Park"
      ]
     },
     "execution_count": 11,
     "metadata": {},
     "output_type": "execute_result"
    }
   ],
   "source": [
    "Bryce_Canyon_pop_df=pd.read_csv('data/Bryce_Canyon_pop.csv',skiprows=3)\n",
    "Bryce_Canyon_pop_df['park']='Bryce Canyon National Park'\n",
    "Bryce_Canyon_pop_df.head(1)"
   ]
  },
  {
   "cell_type": "code",
   "execution_count": 12,
   "id": "f51e53e2-d2f3-42ac-830d-e2ed69e3f294",
   "metadata": {},
   "outputs": [
    {
     "data": {
      "text/html": [
       "<div>\n",
       "<style scoped>\n",
       "    .dataframe tbody tr th:only-of-type {\n",
       "        vertical-align: middle;\n",
       "    }\n",
       "\n",
       "    .dataframe tbody tr th {\n",
       "        vertical-align: top;\n",
       "    }\n",
       "\n",
       "    .dataframe thead th {\n",
       "        text-align: right;\n",
       "    }\n",
       "</style>\n",
       "<table border=\"1\" class=\"dataframe\">\n",
       "  <thead>\n",
       "    <tr style=\"text-align: right;\">\n",
       "      <th></th>\n",
       "      <th>Year</th>\n",
       "      <th>RecreationVisitors</th>\n",
       "      <th>TotalRecreationVisitors</th>\n",
       "      <th>park</th>\n",
       "    </tr>\n",
       "  </thead>\n",
       "  <tbody>\n",
       "    <tr>\n",
       "      <th>0</th>\n",
       "      <td>1934</td>\n",
       "      <td>2,592</td>\n",
       "      <td>16,040,142</td>\n",
       "      <td>Black Canyon Of The Gunnison National Park</td>\n",
       "    </tr>\n",
       "  </tbody>\n",
       "</table>\n",
       "</div>"
      ],
      "text/plain": [
       "   Year RecreationVisitors TotalRecreationVisitors  \\\n",
       "0  1934              2,592              16,040,142   \n",
       "\n",
       "                                         park  \n",
       "0  Black Canyon Of The Gunnison National Park  "
      ]
     },
     "execution_count": 12,
     "metadata": {},
     "output_type": "execute_result"
    }
   ],
   "source": [
    "Black_Canyon_pop_df=pd.read_csv('data/Black_Canyon_pop.csv',skiprows=3)\n",
    "Black_Canyon_pop_df['park']='Black Canyon Of The Gunnison National Park'\n",
    "Black_Canyon_pop_df.head(1)"
   ]
  },
  {
   "cell_type": "code",
   "execution_count": 13,
   "id": "cb2e9cfb-e478-40b7-94be-a59a546179c2",
   "metadata": {},
   "outputs": [
    {
     "data": {
      "text/html": [
       "<div>\n",
       "<style scoped>\n",
       "    .dataframe tbody tr th:only-of-type {\n",
       "        vertical-align: middle;\n",
       "    }\n",
       "\n",
       "    .dataframe tbody tr th {\n",
       "        vertical-align: top;\n",
       "    }\n",
       "\n",
       "    .dataframe thead th {\n",
       "        text-align: right;\n",
       "    }\n",
       "</style>\n",
       "<table border=\"1\" class=\"dataframe\">\n",
       "  <thead>\n",
       "    <tr style=\"text-align: right;\">\n",
       "      <th></th>\n",
       "      <th>Year</th>\n",
       "      <th>RecreationVisitors</th>\n",
       "      <th>TotalRecreationVisitors</th>\n",
       "      <th>park</th>\n",
       "    </tr>\n",
       "  </thead>\n",
       "  <tbody>\n",
       "    <tr>\n",
       "      <th>0</th>\n",
       "      <td>1944</td>\n",
       "      <td>1,409</td>\n",
       "      <td>19,162,799</td>\n",
       "      <td>Big Bend National Park</td>\n",
       "    </tr>\n",
       "  </tbody>\n",
       "</table>\n",
       "</div>"
      ],
      "text/plain": [
       "   Year RecreationVisitors TotalRecreationVisitors                    park\n",
       "0  1944              1,409              19,162,799  Big Bend National Park"
      ]
     },
     "execution_count": 13,
     "metadata": {},
     "output_type": "execute_result"
    }
   ],
   "source": [
    "Big_Bend_pop_df=pd.read_csv('data/Big_Bend_pop.csv',skiprows=3)\n",
    "Big_Bend_pop_df['park']='Big Bend National Park'\n",
    "Big_Bend_pop_df.head(1)"
   ]
  },
  {
   "cell_type": "code",
   "execution_count": 14,
   "id": "2878e5e8-05e1-4147-a903-490e96024e04",
   "metadata": {},
   "outputs": [
    {
     "data": {
      "text/html": [
       "<div>\n",
       "<style scoped>\n",
       "    .dataframe tbody tr th:only-of-type {\n",
       "        vertical-align: middle;\n",
       "    }\n",
       "\n",
       "    .dataframe tbody tr th {\n",
       "        vertical-align: top;\n",
       "    }\n",
       "\n",
       "    .dataframe thead th {\n",
       "        text-align: right;\n",
       "    }\n",
       "</style>\n",
       "<table border=\"1\" class=\"dataframe\">\n",
       "  <thead>\n",
       "    <tr style=\"text-align: right;\">\n",
       "      <th></th>\n",
       "      <th>Year</th>\n",
       "      <th>RecreationVisitors</th>\n",
       "      <th>TotalRecreationVisitors</th>\n",
       "      <th>park</th>\n",
       "    </tr>\n",
       "  </thead>\n",
       "  <tbody>\n",
       "    <tr>\n",
       "      <th>0</th>\n",
       "      <td>1929</td>\n",
       "      <td>500</td>\n",
       "      <td>43,427,888</td>\n",
       "      <td>Arches National Park</td>\n",
       "    </tr>\n",
       "  </tbody>\n",
       "</table>\n",
       "</div>"
      ],
      "text/plain": [
       "   Year RecreationVisitors TotalRecreationVisitors                  park\n",
       "0  1929                500              43,427,888  Arches National Park"
      ]
     },
     "execution_count": 14,
     "metadata": {},
     "output_type": "execute_result"
    }
   ],
   "source": [
    "Arches_pop_df=pd.read_csv('data/Arches_pop.csv',skiprows=3)\n",
    "Arches_pop_df['park']='Arches National Park'\n",
    "Arches_pop_df.head(1)"
   ]
  },
  {
   "cell_type": "code",
   "execution_count": 15,
   "id": "19f1047f-6f6e-4ea6-9655-ebb299726872",
   "metadata": {},
   "outputs": [
    {
     "data": {
      "text/html": [
       "<div>\n",
       "<style scoped>\n",
       "    .dataframe tbody tr th:only-of-type {\n",
       "        vertical-align: middle;\n",
       "    }\n",
       "\n",
       "    .dataframe tbody tr th {\n",
       "        vertical-align: top;\n",
       "    }\n",
       "\n",
       "    .dataframe thead th {\n",
       "        text-align: right;\n",
       "    }\n",
       "</style>\n",
       "<table border=\"1\" class=\"dataframe\">\n",
       "  <thead>\n",
       "    <tr style=\"text-align: right;\">\n",
       "      <th></th>\n",
       "      <th>Year</th>\n",
       "      <th>RecreationVisitors</th>\n",
       "      <th>TotalRecreationVisitors</th>\n",
       "      <th>park</th>\n",
       "    </tr>\n",
       "  </thead>\n",
       "  <tbody>\n",
       "    <tr>\n",
       "      <th>0</th>\n",
       "      <td>1932</td>\n",
       "      <td>500</td>\n",
       "      <td>17,054,087</td>\n",
       "      <td>Great Sand Dunes National Park &amp; Preserve</td>\n",
       "    </tr>\n",
       "  </tbody>\n",
       "</table>\n",
       "</div>"
      ],
      "text/plain": [
       "   Year RecreationVisitors TotalRecreationVisitors  \\\n",
       "0  1932                500              17,054,087   \n",
       "\n",
       "                                        park  \n",
       "0  Great Sand Dunes National Park & Preserve  "
      ]
     },
     "execution_count": 15,
     "metadata": {},
     "output_type": "execute_result"
    }
   ],
   "source": [
    "Great_Sand_Dunes_pop_df=pd.read_csv('data/Great_Sand_Dunes_pop.csv',skiprows=3)\n",
    "Great_Sand_Dunes_pop_df['park']='Great Sand Dunes National Park & Preserve'\n",
    "Great_Sand_Dunes_pop_df.head(1)"
   ]
  },
  {
   "cell_type": "code",
   "execution_count": 16,
   "id": "ce3648cd-5a85-4be8-b62f-18bb87024b64",
   "metadata": {},
   "outputs": [
    {
     "data": {
      "text/html": [
       "<div>\n",
       "<style scoped>\n",
       "    .dataframe tbody tr th:only-of-type {\n",
       "        vertical-align: middle;\n",
       "    }\n",
       "\n",
       "    .dataframe tbody tr th {\n",
       "        vertical-align: top;\n",
       "    }\n",
       "\n",
       "    .dataframe thead th {\n",
       "        text-align: right;\n",
       "    }\n",
       "</style>\n",
       "<table border=\"1\" class=\"dataframe\">\n",
       "  <thead>\n",
       "    <tr style=\"text-align: right;\">\n",
       "      <th></th>\n",
       "      <th>Year</th>\n",
       "      <th>RecreationVisitors</th>\n",
       "      <th>TotalRecreationVisitors</th>\n",
       "      <th>park</th>\n",
       "    </tr>\n",
       "  </thead>\n",
       "  <tbody>\n",
       "    <tr>\n",
       "      <th>0</th>\n",
       "      <td>1919</td>\n",
       "      <td>1,814</td>\n",
       "      <td>142,570,935</td>\n",
       "      <td>Zion National Park</td>\n",
       "    </tr>\n",
       "  </tbody>\n",
       "</table>\n",
       "</div>"
      ],
      "text/plain": [
       "   Year RecreationVisitors TotalRecreationVisitors                park\n",
       "0  1919              1,814             142,570,935  Zion National Park"
      ]
     },
     "execution_count": 16,
     "metadata": {},
     "output_type": "execute_result"
    }
   ],
   "source": [
    "Zion_pop_df=pd.read_csv('data/Zion_pop.csv',skiprows=3)\n",
    "Zion_pop_df['park']='Zion National Park'\n",
    "Zion_pop_df.head(1)"
   ]
  },
  {
   "cell_type": "code",
   "execution_count": 17,
   "id": "1cf2e0f0-41c9-4b31-bd7a-fd883eb31801",
   "metadata": {},
   "outputs": [
    {
     "data": {
      "text/html": [
       "<div>\n",
       "<style scoped>\n",
       "    .dataframe tbody tr th:only-of-type {\n",
       "        vertical-align: middle;\n",
       "    }\n",
       "\n",
       "    .dataframe tbody tr th {\n",
       "        vertical-align: top;\n",
       "    }\n",
       "\n",
       "    .dataframe thead th {\n",
       "        text-align: right;\n",
       "    }\n",
       "</style>\n",
       "<table border=\"1\" class=\"dataframe\">\n",
       "  <thead>\n",
       "    <tr style=\"text-align: right;\">\n",
       "      <th></th>\n",
       "      <th>Year</th>\n",
       "      <th>RecreationVisitors</th>\n",
       "      <th>TotalRecreationVisitors</th>\n",
       "      <th>park</th>\n",
       "    </tr>\n",
       "  </thead>\n",
       "  <tbody>\n",
       "    <tr>\n",
       "      <th>0</th>\n",
       "      <td>1904</td>\n",
       "      <td>13,727</td>\n",
       "      <td>203,750,110</td>\n",
       "      <td>Yellowstone National Park</td>\n",
       "    </tr>\n",
       "  </tbody>\n",
       "</table>\n",
       "</div>"
      ],
      "text/plain": [
       "   Year RecreationVisitors TotalRecreationVisitors                       park\n",
       "0  1904             13,727             203,750,110  Yellowstone National Park"
      ]
     },
     "execution_count": 17,
     "metadata": {},
     "output_type": "execute_result"
    }
   ],
   "source": [
    "Yellowstone_pop_df=pd.read_csv('data/Yellowstone_pop.csv',skiprows=3)\n",
    "Yellowstone_pop_df['park']='Yellowstone National Park'\n",
    "Yellowstone_pop_df.head(1)"
   ]
  },
  {
   "cell_type": "code",
   "execution_count": 18,
   "id": "dbecaee9-c39c-4810-bdac-95e5620c9a03",
   "metadata": {},
   "outputs": [
    {
     "data": {
      "text/html": [
       "<div>\n",
       "<style scoped>\n",
       "    .dataframe tbody tr th:only-of-type {\n",
       "        vertical-align: middle;\n",
       "    }\n",
       "\n",
       "    .dataframe tbody tr th {\n",
       "        vertical-align: top;\n",
       "    }\n",
       "\n",
       "    .dataframe thead th {\n",
       "        text-align: right;\n",
       "    }\n",
       "</style>\n",
       "<table border=\"1\" class=\"dataframe\">\n",
       "  <thead>\n",
       "    <tr style=\"text-align: right;\">\n",
       "      <th></th>\n",
       "      <th>Year</th>\n",
       "      <th>RecreationVisitors</th>\n",
       "      <th>TotalRecreationVisitors</th>\n",
       "      <th>park</th>\n",
       "    </tr>\n",
       "  </thead>\n",
       "  <tbody>\n",
       "    <tr>\n",
       "      <th>0</th>\n",
       "      <td>1933</td>\n",
       "      <td>12,000</td>\n",
       "      <td>38,276,355</td>\n",
       "      <td>White Sands National Park</td>\n",
       "    </tr>\n",
       "  </tbody>\n",
       "</table>\n",
       "</div>"
      ],
      "text/plain": [
       "   Year RecreationVisitors TotalRecreationVisitors                       park\n",
       "0  1933             12,000              38,276,355  White Sands National Park"
      ]
     },
     "execution_count": 18,
     "metadata": {},
     "output_type": "execute_result"
    }
   ],
   "source": [
    "White_Sands_pop_df=pd.read_csv('data/White_Sands_pop.csv',skiprows=3)\n",
    "White_Sands_pop_df['park']='White Sands National Park'\n",
    "White_Sands_pop_df.head(1)"
   ]
  },
  {
   "cell_type": "code",
   "execution_count": 19,
   "id": "60064ec9-6afc-4c3b-9c08-0b6a09e70209",
   "metadata": {},
   "outputs": [
    {
     "data": {
      "text/html": [
       "<div>\n",
       "<style scoped>\n",
       "    .dataframe tbody tr th:only-of-type {\n",
       "        vertical-align: middle;\n",
       "    }\n",
       "\n",
       "    .dataframe tbody tr th {\n",
       "        vertical-align: top;\n",
       "    }\n",
       "\n",
       "    .dataframe thead th {\n",
       "        text-align: right;\n",
       "    }\n",
       "</style>\n",
       "<table border=\"1\" class=\"dataframe\">\n",
       "  <thead>\n",
       "    <tr style=\"text-align: right;\">\n",
       "      <th></th>\n",
       "      <th>Year</th>\n",
       "      <th>RecreationVisitors</th>\n",
       "      <th>TotalRecreationVisitors</th>\n",
       "      <th>park</th>\n",
       "    </tr>\n",
       "  </thead>\n",
       "  <tbody>\n",
       "    <tr>\n",
       "      <th>0</th>\n",
       "      <td>1920</td>\n",
       "      <td>5,000</td>\n",
       "      <td>39,873,266</td>\n",
       "      <td>Saguaro National Park</td>\n",
       "    </tr>\n",
       "  </tbody>\n",
       "</table>\n",
       "</div>"
      ],
      "text/plain": [
       "   Year RecreationVisitors TotalRecreationVisitors                   park\n",
       "0  1920              5,000              39,873,266  Saguaro National Park"
      ]
     },
     "execution_count": 19,
     "metadata": {},
     "output_type": "execute_result"
    }
   ],
   "source": [
    "Saguaro_pop_df=pd.read_csv('data/Saguaro_pop.csv',skiprows=3)\n",
    "Saguaro_pop_df['park']='Saguaro National Park'\n",
    "Saguaro_pop_df.head(1)"
   ]
  },
  {
   "cell_type": "code",
   "execution_count": 20,
   "id": "fccc921d-4303-4bea-8c11-0054db40b2ce",
   "metadata": {},
   "outputs": [
    {
     "data": {
      "text/html": [
       "<div>\n",
       "<style scoped>\n",
       "    .dataframe tbody tr th:only-of-type {\n",
       "        vertical-align: middle;\n",
       "    }\n",
       "\n",
       "    .dataframe tbody tr th {\n",
       "        vertical-align: top;\n",
       "    }\n",
       "\n",
       "    .dataframe thead th {\n",
       "        text-align: right;\n",
       "    }\n",
       "</style>\n",
       "<table border=\"1\" class=\"dataframe\">\n",
       "  <thead>\n",
       "    <tr style=\"text-align: right;\">\n",
       "      <th></th>\n",
       "      <th>Year</th>\n",
       "      <th>RecreationVisitors</th>\n",
       "      <th>TotalRecreationVisitors</th>\n",
       "      <th>park</th>\n",
       "    </tr>\n",
       "  </thead>\n",
       "  <tbody>\n",
       "    <tr>\n",
       "      <th>0</th>\n",
       "      <td>1915</td>\n",
       "      <td>31,000</td>\n",
       "      <td>209,930,678</td>\n",
       "      <td>Rocky Mountain National Park</td>\n",
       "    </tr>\n",
       "  </tbody>\n",
       "</table>\n",
       "</div>"
      ],
      "text/plain": [
       "   Year RecreationVisitors TotalRecreationVisitors  \\\n",
       "0  1915             31,000             209,930,678   \n",
       "\n",
       "                           park  \n",
       "0  Rocky Mountain National Park  "
      ]
     },
     "execution_count": 20,
     "metadata": {},
     "output_type": "execute_result"
    }
   ],
   "source": [
    "Rocky_Mountain_pop_df=pd.read_csv('data/Rocky_Mountain_pop.csv',skiprows=3)\n",
    "Rocky_Mountain_pop_df['park']='Rocky Mountain National Park'\n",
    "Rocky_Mountain_pop_df.head(1)"
   ]
  },
  {
   "cell_type": "code",
   "execution_count": 21,
   "id": "fa5335ee-6f7a-45fa-a0d8-9400a7003813",
   "metadata": {},
   "outputs": [
    {
     "data": {
      "text/html": [
       "<div>\n",
       "<style scoped>\n",
       "    .dataframe tbody tr th:only-of-type {\n",
       "        vertical-align: middle;\n",
       "    }\n",
       "\n",
       "    .dataframe tbody tr th {\n",
       "        vertical-align: top;\n",
       "    }\n",
       "\n",
       "    .dataframe thead th {\n",
       "        text-align: right;\n",
       "    }\n",
       "</style>\n",
       "<table border=\"1\" class=\"dataframe\">\n",
       "  <thead>\n",
       "    <tr style=\"text-align: right;\">\n",
       "      <th></th>\n",
       "      <th>Year</th>\n",
       "      <th>RecreationVisitors</th>\n",
       "      <th>TotalRecreationVisitors</th>\n",
       "      <th>park</th>\n",
       "    </tr>\n",
       "  </thead>\n",
       "  <tbody>\n",
       "    <tr>\n",
       "      <th>0</th>\n",
       "      <td>1919</td>\n",
       "      <td>3,000</td>\n",
       "      <td>58,055,578</td>\n",
       "      <td>Petrified Forest National Park</td>\n",
       "    </tr>\n",
       "  </tbody>\n",
       "</table>\n",
       "</div>"
      ],
      "text/plain": [
       "   Year RecreationVisitors TotalRecreationVisitors  \\\n",
       "0  1919              3,000              58,055,578   \n",
       "\n",
       "                             park  \n",
       "0  Petrified Forest National Park  "
      ]
     },
     "execution_count": 21,
     "metadata": {},
     "output_type": "execute_result"
    }
   ],
   "source": [
    "Petrified_Forest_pop_df=pd.read_csv('data/Petrified_Forest_pop.csv',skiprows=3)\n",
    "Petrified_Forest_pop_df['park']='Petrified Forest National Park'\n",
    "Petrified_Forest_pop_df.head(1)"
   ]
  },
  {
   "cell_type": "code",
   "execution_count": 22,
   "id": "67078017-a889-410f-9379-b6c352fa6009",
   "metadata": {},
   "outputs": [
    {
     "data": {
      "text/html": [
       "<div>\n",
       "<style scoped>\n",
       "    .dataframe tbody tr th:only-of-type {\n",
       "        vertical-align: middle;\n",
       "    }\n",
       "\n",
       "    .dataframe tbody tr th {\n",
       "        vertical-align: top;\n",
       "    }\n",
       "\n",
       "    .dataframe thead th {\n",
       "        text-align: right;\n",
       "    }\n",
       "</style>\n",
       "<table border=\"1\" class=\"dataframe\">\n",
       "  <thead>\n",
       "    <tr style=\"text-align: right;\">\n",
       "      <th></th>\n",
       "      <th>Year</th>\n",
       "      <th>RecreationVisitors</th>\n",
       "      <th>TotalRecreationVisitors</th>\n",
       "      <th>park</th>\n",
       "    </tr>\n",
       "  </thead>\n",
       "  <tbody>\n",
       "    <tr>\n",
       "      <th>0</th>\n",
       "      <td>1908</td>\n",
       "      <td>80</td>\n",
       "      <td>36,438,206</td>\n",
       "      <td>Mesa Verde National Park</td>\n",
       "    </tr>\n",
       "  </tbody>\n",
       "</table>\n",
       "</div>"
      ],
      "text/plain": [
       "   Year RecreationVisitors TotalRecreationVisitors                      park\n",
       "0  1908                 80              36,438,206  Mesa Verde National Park"
      ]
     },
     "execution_count": 22,
     "metadata": {},
     "output_type": "execute_result"
    }
   ],
   "source": [
    "Mesa_Verde_pop_df=pd.read_csv('data/Mesa_Verde_pop.csv',skiprows=3)\n",
    "Mesa_Verde_pop_df['park']='Mesa Verde National Park'\n",
    "Mesa_Verde_pop_df.head(1)"
   ]
  },
  {
   "cell_type": "markdown",
   "id": "2ddb12ac-39cf-4b25-a07f-cd736a28e939",
   "metadata": {},
   "source": [
    "Combining population data"
   ]
  },
  {
   "cell_type": "code",
   "execution_count": 23,
   "id": "60bf3b69-86bb-4b9b-9807-766b9669ddc2",
   "metadata": {},
   "outputs": [
    {
     "data": {
      "text/html": [
       "<div>\n",
       "<style scoped>\n",
       "    .dataframe tbody tr th:only-of-type {\n",
       "        vertical-align: middle;\n",
       "    }\n",
       "\n",
       "    .dataframe tbody tr th {\n",
       "        vertical-align: top;\n",
       "    }\n",
       "\n",
       "    .dataframe thead th {\n",
       "        text-align: right;\n",
       "    }\n",
       "</style>\n",
       "<table border=\"1\" class=\"dataframe\">\n",
       "  <thead>\n",
       "    <tr style=\"text-align: right;\">\n",
       "      <th></th>\n",
       "      <th>Year</th>\n",
       "      <th>RecreationVisitors</th>\n",
       "      <th>TotalRecreationVisitors</th>\n",
       "      <th>park</th>\n",
       "    </tr>\n",
       "  </thead>\n",
       "  <tbody>\n",
       "    <tr>\n",
       "      <th>0</th>\n",
       "      <td>1908</td>\n",
       "      <td>80</td>\n",
       "      <td>36,438,206</td>\n",
       "      <td>Mesa Verde National Park</td>\n",
       "    </tr>\n",
       "    <tr>\n",
       "      <th>1</th>\n",
       "      <td>1909</td>\n",
       "      <td>165</td>\n",
       "      <td>36,438,206</td>\n",
       "      <td>Mesa Verde National Park</td>\n",
       "    </tr>\n",
       "    <tr>\n",
       "      <th>2</th>\n",
       "      <td>1910</td>\n",
       "      <td>250</td>\n",
       "      <td>36,438,206</td>\n",
       "      <td>Mesa Verde National Park</td>\n",
       "    </tr>\n",
       "    <tr>\n",
       "      <th>3</th>\n",
       "      <td>1911</td>\n",
       "      <td>206</td>\n",
       "      <td>36,438,206</td>\n",
       "      <td>Mesa Verde National Park</td>\n",
       "    </tr>\n",
       "    <tr>\n",
       "      <th>4</th>\n",
       "      <td>1912</td>\n",
       "      <td>230</td>\n",
       "      <td>36,438,206</td>\n",
       "      <td>Mesa Verde National Park</td>\n",
       "    </tr>\n",
       "    <tr>\n",
       "      <th>...</th>\n",
       "      <td>...</td>\n",
       "      <td>...</td>\n",
       "      <td>...</td>\n",
       "      <td>...</td>\n",
       "    </tr>\n",
       "    <tr>\n",
       "      <th>75</th>\n",
       "      <td>2019</td>\n",
       "      <td>463,832</td>\n",
       "      <td>19,162,799</td>\n",
       "      <td>Big Bend National Park</td>\n",
       "    </tr>\n",
       "    <tr>\n",
       "      <th>76</th>\n",
       "      <td>2020</td>\n",
       "      <td>393,907</td>\n",
       "      <td>19,162,799</td>\n",
       "      <td>Big Bend National Park</td>\n",
       "    </tr>\n",
       "    <tr>\n",
       "      <th>77</th>\n",
       "      <td>2021</td>\n",
       "      <td>581,220</td>\n",
       "      <td>19,162,799</td>\n",
       "      <td>Big Bend National Park</td>\n",
       "    </tr>\n",
       "    <tr>\n",
       "      <th>78</th>\n",
       "      <td>2022</td>\n",
       "      <td>514,107</td>\n",
       "      <td>19,162,799</td>\n",
       "      <td>Big Bend National Park</td>\n",
       "    </tr>\n",
       "    <tr>\n",
       "      <th>79</th>\n",
       "      <td>2023</td>\n",
       "      <td>509,129</td>\n",
       "      <td>19,162,799</td>\n",
       "      <td>Big Bend National Park</td>\n",
       "    </tr>\n",
       "  </tbody>\n",
       "</table>\n",
       "<p>1013 rows × 4 columns</p>\n",
       "</div>"
      ],
      "text/plain": [
       "    Year RecreationVisitors TotalRecreationVisitors                      park\n",
       "0   1908                 80              36,438,206  Mesa Verde National Park\n",
       "1   1909                165              36,438,206  Mesa Verde National Park\n",
       "2   1910                250              36,438,206  Mesa Verde National Park\n",
       "3   1911                206              36,438,206  Mesa Verde National Park\n",
       "4   1912                230              36,438,206  Mesa Verde National Park\n",
       "..   ...                ...                     ...                       ...\n",
       "75  2019            463,832              19,162,799    Big Bend National Park\n",
       "76  2020            393,907              19,162,799    Big Bend National Park\n",
       "77  2021            581,220              19,162,799    Big Bend National Park\n",
       "78  2022            514,107              19,162,799    Big Bend National Park\n",
       "79  2023            509,129              19,162,799    Big Bend National Park\n",
       "\n",
       "[1013 rows x 4 columns]"
      ]
     },
     "execution_count": 23,
     "metadata": {},
     "output_type": "execute_result"
    }
   ],
   "source": [
    "concat_data = pd.concat([Mesa_Verde_pop_df,Petrified_Forest_pop_df,Rocky_Mountain_pop_df,Saguaro_pop_df,White_Sands_pop_df,Yellowstone_pop_df,Zion_pop_df,Great_Sand_Dunes_pop_df,Arches_pop_df,Big_Bend_pop_df])\n",
    "concat_data"
   ]
  },
  {
   "cell_type": "code",
   "execution_count": 24,
   "id": "4914cbc2-68c0-43ba-9fce-e200d61c0eb7",
   "metadata": {},
   "outputs": [
    {
     "data": {
      "text/html": [
       "<div>\n",
       "<style scoped>\n",
       "    .dataframe tbody tr th:only-of-type {\n",
       "        vertical-align: middle;\n",
       "    }\n",
       "\n",
       "    .dataframe tbody tr th {\n",
       "        vertical-align: top;\n",
       "    }\n",
       "\n",
       "    .dataframe thead th {\n",
       "        text-align: right;\n",
       "    }\n",
       "</style>\n",
       "<table border=\"1\" class=\"dataframe\">\n",
       "  <thead>\n",
       "    <tr style=\"text-align: right;\">\n",
       "      <th></th>\n",
       "      <th>Year</th>\n",
       "      <th>RecreationVisitors</th>\n",
       "      <th>TotalRecreationVisitors</th>\n",
       "      <th>park</th>\n",
       "    </tr>\n",
       "  </thead>\n",
       "  <tbody>\n",
       "    <tr>\n",
       "      <th>0</th>\n",
       "      <td>1908</td>\n",
       "      <td>80</td>\n",
       "      <td>36,438,206</td>\n",
       "      <td>Mesa Verde National Park</td>\n",
       "    </tr>\n",
       "    <tr>\n",
       "      <th>1</th>\n",
       "      <td>1909</td>\n",
       "      <td>165</td>\n",
       "      <td>36,438,206</td>\n",
       "      <td>Mesa Verde National Park</td>\n",
       "    </tr>\n",
       "    <tr>\n",
       "      <th>2</th>\n",
       "      <td>1910</td>\n",
       "      <td>250</td>\n",
       "      <td>36,438,206</td>\n",
       "      <td>Mesa Verde National Park</td>\n",
       "    </tr>\n",
       "    <tr>\n",
       "      <th>3</th>\n",
       "      <td>1911</td>\n",
       "      <td>206</td>\n",
       "      <td>36,438,206</td>\n",
       "      <td>Mesa Verde National Park</td>\n",
       "    </tr>\n",
       "    <tr>\n",
       "      <th>4</th>\n",
       "      <td>1912</td>\n",
       "      <td>230</td>\n",
       "      <td>36,438,206</td>\n",
       "      <td>Mesa Verde National Park</td>\n",
       "    </tr>\n",
       "  </tbody>\n",
       "</table>\n",
       "</div>"
      ],
      "text/plain": [
       "   Year RecreationVisitors TotalRecreationVisitors                      park\n",
       "0  1908                 80              36,438,206  Mesa Verde National Park\n",
       "1  1909                165              36,438,206  Mesa Verde National Park\n",
       "2  1910                250              36,438,206  Mesa Verde National Park\n",
       "3  1911                206              36,438,206  Mesa Verde National Park\n",
       "4  1912                230              36,438,206  Mesa Verde National Park"
      ]
     },
     "execution_count": 24,
     "metadata": {},
     "output_type": "execute_result"
    }
   ],
   "source": [
    "concat_2=pd.concat([concat_data,Black_Canyon_pop_df,Bryce_Canyon_pop_df,Canyonlands_pop_df,Carlsbad_Caverns_pop_df,Glacier_pop_df,Grand_Canyon_pop_df,Grand_Teton_pop_df,Guad_nps_df])\n",
    "concat_2.head()"
   ]
  },
  {
   "cell_type": "code",
   "execution_count": 25,
   "id": "831c1c76-61e7-4947-919b-a2111333a5c9",
   "metadata": {},
   "outputs": [
    {
     "data": {
      "text/html": [
       "<div>\n",
       "<style scoped>\n",
       "    .dataframe tbody tr th:only-of-type {\n",
       "        vertical-align: middle;\n",
       "    }\n",
       "\n",
       "    .dataframe tbody tr th {\n",
       "        vertical-align: top;\n",
       "    }\n",
       "\n",
       "    .dataframe thead th {\n",
       "        text-align: right;\n",
       "    }\n",
       "</style>\n",
       "<table border=\"1\" class=\"dataframe\">\n",
       "  <thead>\n",
       "    <tr style=\"text-align: right;\">\n",
       "      <th></th>\n",
       "      <th>Year</th>\n",
       "      <th>RecreationVisitors</th>\n",
       "      <th>park</th>\n",
       "    </tr>\n",
       "  </thead>\n",
       "  <tbody>\n",
       "    <tr>\n",
       "      <th>0</th>\n",
       "      <td>1908</td>\n",
       "      <td>80</td>\n",
       "      <td>Mesa Verde National Park</td>\n",
       "    </tr>\n",
       "    <tr>\n",
       "      <th>1</th>\n",
       "      <td>1909</td>\n",
       "      <td>165</td>\n",
       "      <td>Mesa Verde National Park</td>\n",
       "    </tr>\n",
       "    <tr>\n",
       "      <th>2</th>\n",
       "      <td>1910</td>\n",
       "      <td>250</td>\n",
       "      <td>Mesa Verde National Park</td>\n",
       "    </tr>\n",
       "    <tr>\n",
       "      <th>3</th>\n",
       "      <td>1911</td>\n",
       "      <td>206</td>\n",
       "      <td>Mesa Verde National Park</td>\n",
       "    </tr>\n",
       "    <tr>\n",
       "      <th>4</th>\n",
       "      <td>1912</td>\n",
       "      <td>230</td>\n",
       "      <td>Mesa Verde National Park</td>\n",
       "    </tr>\n",
       "    <tr>\n",
       "      <th>...</th>\n",
       "      <td>...</td>\n",
       "      <td>...</td>\n",
       "      <td>...</td>\n",
       "    </tr>\n",
       "    <tr>\n",
       "      <th>48</th>\n",
       "      <td>2019</td>\n",
       "      <td>188,833</td>\n",
       "      <td>Guadalupe Mountains National Park</td>\n",
       "    </tr>\n",
       "    <tr>\n",
       "      <th>49</th>\n",
       "      <td>2020</td>\n",
       "      <td>151,256</td>\n",
       "      <td>Guadalupe Mountains National Park</td>\n",
       "    </tr>\n",
       "    <tr>\n",
       "      <th>50</th>\n",
       "      <td>2021</td>\n",
       "      <td>243,291</td>\n",
       "      <td>Guadalupe Mountains National Park</td>\n",
       "    </tr>\n",
       "    <tr>\n",
       "      <th>51</th>\n",
       "      <td>2022</td>\n",
       "      <td>219,987</td>\n",
       "      <td>Guadalupe Mountains National Park</td>\n",
       "    </tr>\n",
       "    <tr>\n",
       "      <th>52</th>\n",
       "      <td>2023</td>\n",
       "      <td>227,340</td>\n",
       "      <td>Guadalupe Mountains National Park</td>\n",
       "    </tr>\n",
       "  </tbody>\n",
       "</table>\n",
       "<p>1723 rows × 3 columns</p>\n",
       "</div>"
      ],
      "text/plain": [
       "    Year RecreationVisitors                               park\n",
       "0   1908                 80           Mesa Verde National Park\n",
       "1   1909                165           Mesa Verde National Park\n",
       "2   1910                250           Mesa Verde National Park\n",
       "3   1911                206           Mesa Verde National Park\n",
       "4   1912                230           Mesa Verde National Park\n",
       "..   ...                ...                                ...\n",
       "48  2019            188,833  Guadalupe Mountains National Park\n",
       "49  2020            151,256  Guadalupe Mountains National Park\n",
       "50  2021            243,291  Guadalupe Mountains National Park\n",
       "51  2022            219,987  Guadalupe Mountains National Park\n",
       "52  2023            227,340  Guadalupe Mountains National Park\n",
       "\n",
       "[1723 rows x 3 columns]"
      ]
     },
     "execution_count": 25,
     "metadata": {},
     "output_type": "execute_result"
    }
   ],
   "source": [
    "Intermountain_parkpop_df=concat_2.drop(columns=['TotalRecreationVisitors'])\n",
    "Intermountain_parkpop_df"
   ]
  },
  {
   "cell_type": "code",
   "execution_count": 26,
   "id": "5ff00767-57d0-4905-8f7c-9bd8433b6e45",
   "metadata": {},
   "outputs": [],
   "source": [
    "Intermountain_parkpop_df=Intermountain_parkpop_df.rename(columns={'RecreationVisitors':'Visitors'})"
   ]
  },
  {
   "cell_type": "code",
   "execution_count": 27,
   "id": "7f35b531-4761-41ae-b059-caeb5c62e66d",
   "metadata": {},
   "outputs": [],
   "source": [
    "Intermountain_parkpop_df['Year']=Intermountain_parkpop_df['Year'].astype(str)"
   ]
  },
  {
   "cell_type": "code",
   "execution_count": 28,
   "id": "f9264c83-7357-48b5-89b3-02ae7e9e857e",
   "metadata": {},
   "outputs": [
    {
     "name": "stdout",
     "output_type": "stream",
     "text": [
      "<class 'pandas.core.frame.DataFrame'>\n",
      "Index: 1723 entries, 0 to 52\n",
      "Data columns (total 3 columns):\n",
      " #   Column    Non-Null Count  Dtype \n",
      "---  ------    --------------  ----- \n",
      " 0   Year      1723 non-null   object\n",
      " 1   Visitors  1723 non-null   object\n",
      " 2   park      1723 non-null   object\n",
      "dtypes: object(3)\n",
      "memory usage: 53.8+ KB\n"
     ]
    }
   ],
   "source": [
    "Intermountain_parkpop_df.info()"
   ]
  },
  {
   "cell_type": "code",
   "execution_count": 29,
   "id": "0aae5916-6ff9-470d-9b79-32c7edb13ec4",
   "metadata": {},
   "outputs": [
    {
     "data": {
      "text/html": [
       "<div>\n",
       "<style scoped>\n",
       "    .dataframe tbody tr th:only-of-type {\n",
       "        vertical-align: middle;\n",
       "    }\n",
       "\n",
       "    .dataframe tbody tr th {\n",
       "        vertical-align: top;\n",
       "    }\n",
       "\n",
       "    .dataframe thead th {\n",
       "        text-align: right;\n",
       "    }\n",
       "</style>\n",
       "<table border=\"1\" class=\"dataframe\">\n",
       "  <thead>\n",
       "    <tr style=\"text-align: right;\">\n",
       "      <th></th>\n",
       "      <th>Year</th>\n",
       "      <th>Visitors</th>\n",
       "      <th>park</th>\n",
       "    </tr>\n",
       "  </thead>\n",
       "  <tbody>\n",
       "    <tr>\n",
       "      <th>0</th>\n",
       "      <td>1908</td>\n",
       "      <td>80</td>\n",
       "      <td>Mesa Verde National Park</td>\n",
       "    </tr>\n",
       "    <tr>\n",
       "      <th>1</th>\n",
       "      <td>1909</td>\n",
       "      <td>165</td>\n",
       "      <td>Mesa Verde National Park</td>\n",
       "    </tr>\n",
       "    <tr>\n",
       "      <th>2</th>\n",
       "      <td>1910</td>\n",
       "      <td>250</td>\n",
       "      <td>Mesa Verde National Park</td>\n",
       "    </tr>\n",
       "    <tr>\n",
       "      <th>3</th>\n",
       "      <td>1911</td>\n",
       "      <td>206</td>\n",
       "      <td>Mesa Verde National Park</td>\n",
       "    </tr>\n",
       "    <tr>\n",
       "      <th>4</th>\n",
       "      <td>1912</td>\n",
       "      <td>230</td>\n",
       "      <td>Mesa Verde National Park</td>\n",
       "    </tr>\n",
       "    <tr>\n",
       "      <th>...</th>\n",
       "      <td>...</td>\n",
       "      <td>...</td>\n",
       "      <td>...</td>\n",
       "    </tr>\n",
       "    <tr>\n",
       "      <th>48</th>\n",
       "      <td>2019</td>\n",
       "      <td>188,833</td>\n",
       "      <td>Guadalupe Mountains National Park</td>\n",
       "    </tr>\n",
       "    <tr>\n",
       "      <th>49</th>\n",
       "      <td>2020</td>\n",
       "      <td>151,256</td>\n",
       "      <td>Guadalupe Mountains National Park</td>\n",
       "    </tr>\n",
       "    <tr>\n",
       "      <th>50</th>\n",
       "      <td>2021</td>\n",
       "      <td>243,291</td>\n",
       "      <td>Guadalupe Mountains National Park</td>\n",
       "    </tr>\n",
       "    <tr>\n",
       "      <th>51</th>\n",
       "      <td>2022</td>\n",
       "      <td>219,987</td>\n",
       "      <td>Guadalupe Mountains National Park</td>\n",
       "    </tr>\n",
       "    <tr>\n",
       "      <th>52</th>\n",
       "      <td>2023</td>\n",
       "      <td>227,340</td>\n",
       "      <td>Guadalupe Mountains National Park</td>\n",
       "    </tr>\n",
       "  </tbody>\n",
       "</table>\n",
       "<p>1723 rows × 3 columns</p>\n",
       "</div>"
      ],
      "text/plain": [
       "    Year Visitors                               park\n",
       "0   1908       80           Mesa Verde National Park\n",
       "1   1909      165           Mesa Verde National Park\n",
       "2   1910      250           Mesa Verde National Park\n",
       "3   1911      206           Mesa Verde National Park\n",
       "4   1912      230           Mesa Verde National Park\n",
       "..   ...      ...                                ...\n",
       "48  2019  188,833  Guadalupe Mountains National Park\n",
       "49  2020  151,256  Guadalupe Mountains National Park\n",
       "50  2021  243,291  Guadalupe Mountains National Park\n",
       "51  2022  219,987  Guadalupe Mountains National Park\n",
       "52  2023  227,340  Guadalupe Mountains National Park\n",
       "\n",
       "[1723 rows x 3 columns]"
      ]
     },
     "execution_count": 29,
     "metadata": {},
     "output_type": "execute_result"
    }
   ],
   "source": [
    "Intermountain_parkpop_df"
   ]
  },
  {
   "cell_type": "code",
   "execution_count": 30,
   "id": "fffbf918-3a2b-484b-9ff2-de687db5f188",
   "metadata": {
    "scrolled": true
   },
   "outputs": [
    {
     "data": {
      "text/html": [
       "<div>\n",
       "<style scoped>\n",
       "    .dataframe tbody tr th:only-of-type {\n",
       "        vertical-align: middle;\n",
       "    }\n",
       "\n",
       "    .dataframe tbody tr th {\n",
       "        vertical-align: top;\n",
       "    }\n",
       "\n",
       "    .dataframe thead th {\n",
       "        text-align: right;\n",
       "    }\n",
       "</style>\n",
       "<table border=\"1\" class=\"dataframe\">\n",
       "  <thead>\n",
       "    <tr style=\"text-align: right;\">\n",
       "      <th></th>\n",
       "      <th>Year</th>\n",
       "      <th>Visitors</th>\n",
       "      <th>park</th>\n",
       "    </tr>\n",
       "  </thead>\n",
       "  <tbody>\n",
       "    <tr>\n",
       "      <th>99</th>\n",
       "      <td>2007</td>\n",
       "      <td>541,102</td>\n",
       "      <td>Mesa Verde National Park</td>\n",
       "    </tr>\n",
       "    <tr>\n",
       "      <th>100</th>\n",
       "      <td>2008</td>\n",
       "      <td>551,446</td>\n",
       "      <td>Mesa Verde National Park</td>\n",
       "    </tr>\n",
       "    <tr>\n",
       "      <th>101</th>\n",
       "      <td>2009</td>\n",
       "      <td>550,377</td>\n",
       "      <td>Mesa Verde National Park</td>\n",
       "    </tr>\n",
       "    <tr>\n",
       "      <th>102</th>\n",
       "      <td>2010</td>\n",
       "      <td>559,712</td>\n",
       "      <td>Mesa Verde National Park</td>\n",
       "    </tr>\n",
       "    <tr>\n",
       "      <th>103</th>\n",
       "      <td>2011</td>\n",
       "      <td>572,329</td>\n",
       "      <td>Mesa Verde National Park</td>\n",
       "    </tr>\n",
       "    <tr>\n",
       "      <th>104</th>\n",
       "      <td>2012</td>\n",
       "      <td>488,860</td>\n",
       "      <td>Mesa Verde National Park</td>\n",
       "    </tr>\n",
       "    <tr>\n",
       "      <th>105</th>\n",
       "      <td>2013</td>\n",
       "      <td>460,237</td>\n",
       "      <td>Mesa Verde National Park</td>\n",
       "    </tr>\n",
       "    <tr>\n",
       "      <th>106</th>\n",
       "      <td>2014</td>\n",
       "      <td>501,563</td>\n",
       "      <td>Mesa Verde National Park</td>\n",
       "    </tr>\n",
       "    <tr>\n",
       "      <th>107</th>\n",
       "      <td>2015</td>\n",
       "      <td>547,325</td>\n",
       "      <td>Mesa Verde National Park</td>\n",
       "    </tr>\n",
       "    <tr>\n",
       "      <th>108</th>\n",
       "      <td>2016</td>\n",
       "      <td>583,527</td>\n",
       "      <td>Mesa Verde National Park</td>\n",
       "    </tr>\n",
       "    <tr>\n",
       "      <th>109</th>\n",
       "      <td>2017</td>\n",
       "      <td>613,788</td>\n",
       "      <td>Mesa Verde National Park</td>\n",
       "    </tr>\n",
       "    <tr>\n",
       "      <th>110</th>\n",
       "      <td>2018</td>\n",
       "      <td>563,420</td>\n",
       "      <td>Mesa Verde National Park</td>\n",
       "    </tr>\n",
       "    <tr>\n",
       "      <th>111</th>\n",
       "      <td>2019</td>\n",
       "      <td>556,203</td>\n",
       "      <td>Mesa Verde National Park</td>\n",
       "    </tr>\n",
       "    <tr>\n",
       "      <th>112</th>\n",
       "      <td>2020</td>\n",
       "      <td>287,477</td>\n",
       "      <td>Mesa Verde National Park</td>\n",
       "    </tr>\n",
       "    <tr>\n",
       "      <th>113</th>\n",
       "      <td>2021</td>\n",
       "      <td>548,477</td>\n",
       "      <td>Mesa Verde National Park</td>\n",
       "    </tr>\n",
       "    <tr>\n",
       "      <th>114</th>\n",
       "      <td>2022</td>\n",
       "      <td>499,790</td>\n",
       "      <td>Mesa Verde National Park</td>\n",
       "    </tr>\n",
       "    <tr>\n",
       "      <th>115</th>\n",
       "      <td>2023</td>\n",
       "      <td>505,194</td>\n",
       "      <td>Mesa Verde National Park</td>\n",
       "    </tr>\n",
       "    <tr>\n",
       "      <th>88</th>\n",
       "      <td>2007</td>\n",
       "      <td>563,590</td>\n",
       "      <td>Petrified Forest National Park</td>\n",
       "    </tr>\n",
       "    <tr>\n",
       "      <th>89</th>\n",
       "      <td>2008</td>\n",
       "      <td>543,714</td>\n",
       "      <td>Petrified Forest National Park</td>\n",
       "    </tr>\n",
       "    <tr>\n",
       "      <th>90</th>\n",
       "      <td>2009</td>\n",
       "      <td>631,613</td>\n",
       "      <td>Petrified Forest National Park</td>\n",
       "    </tr>\n",
       "  </tbody>\n",
       "</table>\n",
       "</div>"
      ],
      "text/plain": [
       "     Year Visitors                            park\n",
       "99   2007  541,102        Mesa Verde National Park\n",
       "100  2008  551,446        Mesa Verde National Park\n",
       "101  2009  550,377        Mesa Verde National Park\n",
       "102  2010  559,712        Mesa Verde National Park\n",
       "103  2011  572,329        Mesa Verde National Park\n",
       "104  2012  488,860        Mesa Verde National Park\n",
       "105  2013  460,237        Mesa Verde National Park\n",
       "106  2014  501,563        Mesa Verde National Park\n",
       "107  2015  547,325        Mesa Verde National Park\n",
       "108  2016  583,527        Mesa Verde National Park\n",
       "109  2017  613,788        Mesa Verde National Park\n",
       "110  2018  563,420        Mesa Verde National Park\n",
       "111  2019  556,203        Mesa Verde National Park\n",
       "112  2020  287,477        Mesa Verde National Park\n",
       "113  2021  548,477        Mesa Verde National Park\n",
       "114  2022  499,790        Mesa Verde National Park\n",
       "115  2023  505,194        Mesa Verde National Park\n",
       "88   2007  563,590  Petrified Forest National Park\n",
       "89   2008  543,714  Petrified Forest National Park\n",
       "90   2009  631,613  Petrified Forest National Park"
      ]
     },
     "execution_count": 30,
     "metadata": {},
     "output_type": "execute_result"
    }
   ],
   "source": [
    "Intermountain_parkpop = Intermountain_parkpop_df[(Intermountain_parkpop_df['Year'] >= '2007') & \n",
    "                     (Intermountain_parkpop_df['Year'] < '2024')]\n",
    "Intermountain_parkpop.head(20)"
   ]
  },
  {
   "cell_type": "code",
   "execution_count": 31,
   "id": "aee8db1d-2c98-4975-9445-fe6a6c70acf7",
   "metadata": {},
   "outputs": [
    {
     "data": {
      "text/plain": [
       "Index(['Year', 'Visitors', 'park'], dtype='object')"
      ]
     },
     "execution_count": 31,
     "metadata": {},
     "output_type": "execute_result"
    }
   ],
   "source": [
    "Intermountain_parkpop.columns"
   ]
  },
  {
   "cell_type": "markdown",
   "id": "35d5a1be-797c-4e52-9624-fe4c4c068dcb",
   "metadata": {},
   "source": [
    "WHAT IS THE TOTAL VISITORS PER YEAR THROUGH ALL INTERMOUNTAINOUS NATIONAL PARKS\n"
   ]
  },
  {
   "cell_type": "code",
   "execution_count": 32,
   "id": "1aa0c769-e861-4f36-b8c0-a008304b7e24",
   "metadata": {},
   "outputs": [
    {
     "data": {
      "text/html": [
       "<div>\n",
       "<style scoped>\n",
       "    .dataframe tbody tr th:only-of-type {\n",
       "        vertical-align: middle;\n",
       "    }\n",
       "\n",
       "    .dataframe tbody tr th {\n",
       "        vertical-align: top;\n",
       "    }\n",
       "\n",
       "    .dataframe thead th {\n",
       "        text-align: right;\n",
       "    }\n",
       "</style>\n",
       "<table border=\"1\" class=\"dataframe\">\n",
       "  <thead>\n",
       "    <tr style=\"text-align: right;\">\n",
       "      <th></th>\n",
       "      <th>Year</th>\n",
       "      <th>Visitors</th>\n",
       "      <th>park</th>\n",
       "    </tr>\n",
       "  </thead>\n",
       "  <tbody>\n",
       "    <tr>\n",
       "      <th>99</th>\n",
       "      <td>2007</td>\n",
       "      <td>541,102</td>\n",
       "      <td>Mesa Verde National Park</td>\n",
       "    </tr>\n",
       "    <tr>\n",
       "      <th>100</th>\n",
       "      <td>2008</td>\n",
       "      <td>551,446</td>\n",
       "      <td>Mesa Verde National Park</td>\n",
       "    </tr>\n",
       "    <tr>\n",
       "      <th>101</th>\n",
       "      <td>2009</td>\n",
       "      <td>550,377</td>\n",
       "      <td>Mesa Verde National Park</td>\n",
       "    </tr>\n",
       "    <tr>\n",
       "      <th>102</th>\n",
       "      <td>2010</td>\n",
       "      <td>559,712</td>\n",
       "      <td>Mesa Verde National Park</td>\n",
       "    </tr>\n",
       "    <tr>\n",
       "      <th>103</th>\n",
       "      <td>2011</td>\n",
       "      <td>572,329</td>\n",
       "      <td>Mesa Verde National Park</td>\n",
       "    </tr>\n",
       "  </tbody>\n",
       "</table>\n",
       "</div>"
      ],
      "text/plain": [
       "     Year Visitors                      park\n",
       "99   2007  541,102  Mesa Verde National Park\n",
       "100  2008  551,446  Mesa Verde National Park\n",
       "101  2009  550,377  Mesa Verde National Park\n",
       "102  2010  559,712  Mesa Verde National Park\n",
       "103  2011  572,329  Mesa Verde National Park"
      ]
     },
     "execution_count": 32,
     "metadata": {},
     "output_type": "execute_result"
    }
   ],
   "source": [
    "Intermountain_parkpop.groupby(['Year','park'])\n",
    "Intermountain_parkpop.head()"
   ]
  },
  {
   "cell_type": "code",
   "execution_count": 33,
   "id": "870e18ad-e38f-4810-b577-5d99032b842d",
   "metadata": {},
   "outputs": [
    {
     "name": "stderr",
     "output_type": "stream",
     "text": [
      "C:\\Users\\Owner\\AppData\\Local\\Temp\\ipykernel_14356\\606800316.py:1: SettingWithCopyWarning: \n",
      "A value is trying to be set on a copy of a slice from a DataFrame.\n",
      "Try using .loc[row_indexer,col_indexer] = value instead\n",
      "\n",
      "See the caveats in the documentation: https://pandas.pydata.org/pandas-docs/stable/user_guide/indexing.html#returning-a-view-versus-a-copy\n",
      "  Intermountain_parkpop['Year']=Intermountain_parkpop['Year'].astype(int)\n"
     ]
    }
   ],
   "source": [
    "Intermountain_parkpop['Year']=Intermountain_parkpop['Year'].astype(int)"
   ]
  },
  {
   "cell_type": "code",
   "execution_count": 34,
   "id": "06cbfe27-50f8-4273-8f18-2784d37f9f0c",
   "metadata": {},
   "outputs": [
    {
     "name": "stderr",
     "output_type": "stream",
     "text": [
      "C:\\Users\\Owner\\AppData\\Local\\Temp\\ipykernel_14356\\744248895.py:1: SettingWithCopyWarning: \n",
      "A value is trying to be set on a copy of a slice from a DataFrame.\n",
      "Try using .loc[row_indexer,col_indexer] = value instead\n",
      "\n",
      "See the caveats in the documentation: https://pandas.pydata.org/pandas-docs/stable/user_guide/indexing.html#returning-a-view-versus-a-copy\n",
      "  Intermountain_parkpop['Visitors']=Intermountain_parkpop['Visitors'].str.replace(',' , '')\n"
     ]
    },
    {
     "data": {
      "text/html": [
       "<div>\n",
       "<style scoped>\n",
       "    .dataframe tbody tr th:only-of-type {\n",
       "        vertical-align: middle;\n",
       "    }\n",
       "\n",
       "    .dataframe tbody tr th {\n",
       "        vertical-align: top;\n",
       "    }\n",
       "\n",
       "    .dataframe thead th {\n",
       "        text-align: right;\n",
       "    }\n",
       "</style>\n",
       "<table border=\"1\" class=\"dataframe\">\n",
       "  <thead>\n",
       "    <tr style=\"text-align: right;\">\n",
       "      <th></th>\n",
       "      <th>Year</th>\n",
       "      <th>Visitors</th>\n",
       "      <th>park</th>\n",
       "    </tr>\n",
       "  </thead>\n",
       "  <tbody>\n",
       "    <tr>\n",
       "      <th>99</th>\n",
       "      <td>2007</td>\n",
       "      <td>541102</td>\n",
       "      <td>Mesa Verde National Park</td>\n",
       "    </tr>\n",
       "    <tr>\n",
       "      <th>100</th>\n",
       "      <td>2008</td>\n",
       "      <td>551446</td>\n",
       "      <td>Mesa Verde National Park</td>\n",
       "    </tr>\n",
       "    <tr>\n",
       "      <th>101</th>\n",
       "      <td>2009</td>\n",
       "      <td>550377</td>\n",
       "      <td>Mesa Verde National Park</td>\n",
       "    </tr>\n",
       "    <tr>\n",
       "      <th>102</th>\n",
       "      <td>2010</td>\n",
       "      <td>559712</td>\n",
       "      <td>Mesa Verde National Park</td>\n",
       "    </tr>\n",
       "    <tr>\n",
       "      <th>103</th>\n",
       "      <td>2011</td>\n",
       "      <td>572329</td>\n",
       "      <td>Mesa Verde National Park</td>\n",
       "    </tr>\n",
       "    <tr>\n",
       "      <th>...</th>\n",
       "      <td>...</td>\n",
       "      <td>...</td>\n",
       "      <td>...</td>\n",
       "    </tr>\n",
       "    <tr>\n",
       "      <th>48</th>\n",
       "      <td>2019</td>\n",
       "      <td>188833</td>\n",
       "      <td>Guadalupe Mountains National Park</td>\n",
       "    </tr>\n",
       "    <tr>\n",
       "      <th>49</th>\n",
       "      <td>2020</td>\n",
       "      <td>151256</td>\n",
       "      <td>Guadalupe Mountains National Park</td>\n",
       "    </tr>\n",
       "    <tr>\n",
       "      <th>50</th>\n",
       "      <td>2021</td>\n",
       "      <td>243291</td>\n",
       "      <td>Guadalupe Mountains National Park</td>\n",
       "    </tr>\n",
       "    <tr>\n",
       "      <th>51</th>\n",
       "      <td>2022</td>\n",
       "      <td>219987</td>\n",
       "      <td>Guadalupe Mountains National Park</td>\n",
       "    </tr>\n",
       "    <tr>\n",
       "      <th>52</th>\n",
       "      <td>2023</td>\n",
       "      <td>227340</td>\n",
       "      <td>Guadalupe Mountains National Park</td>\n",
       "    </tr>\n",
       "  </tbody>\n",
       "</table>\n",
       "<p>306 rows × 3 columns</p>\n",
       "</div>"
      ],
      "text/plain": [
       "     Year Visitors                               park\n",
       "99   2007   541102           Mesa Verde National Park\n",
       "100  2008   551446           Mesa Verde National Park\n",
       "101  2009   550377           Mesa Verde National Park\n",
       "102  2010   559712           Mesa Verde National Park\n",
       "103  2011   572329           Mesa Verde National Park\n",
       "..    ...      ...                                ...\n",
       "48   2019   188833  Guadalupe Mountains National Park\n",
       "49   2020   151256  Guadalupe Mountains National Park\n",
       "50   2021   243291  Guadalupe Mountains National Park\n",
       "51   2022   219987  Guadalupe Mountains National Park\n",
       "52   2023   227340  Guadalupe Mountains National Park\n",
       "\n",
       "[306 rows x 3 columns]"
      ]
     },
     "execution_count": 34,
     "metadata": {},
     "output_type": "execute_result"
    }
   ],
   "source": [
    "Intermountain_parkpop['Visitors']=Intermountain_parkpop['Visitors'].str.replace(',' , '')\n",
    "Intermountain_parkpop"
   ]
  },
  {
   "cell_type": "code",
   "execution_count": 35,
   "id": "01e87dda-f246-437e-8d14-105ac16fe64f",
   "metadata": {},
   "outputs": [
    {
     "name": "stderr",
     "output_type": "stream",
     "text": [
      "C:\\Users\\Owner\\AppData\\Local\\Temp\\ipykernel_14356\\749589372.py:1: SettingWithCopyWarning: \n",
      "A value is trying to be set on a copy of a slice from a DataFrame.\n",
      "Try using .loc[row_indexer,col_indexer] = value instead\n",
      "\n",
      "See the caveats in the documentation: https://pandas.pydata.org/pandas-docs/stable/user_guide/indexing.html#returning-a-view-versus-a-copy\n",
      "  Intermountain_parkpop['Visitors']=Intermountain_parkpop['Visitors'].astype(int)\n"
     ]
    }
   ],
   "source": [
    "Intermountain_parkpop['Visitors']=Intermountain_parkpop['Visitors'].astype(int)"
   ]
  },
  {
   "cell_type": "markdown",
   "id": "812ace3e-75b9-4009-afe9-e44b8721d038",
   "metadata": {},
   "source": [
    "WHAT IS THE TOTAL NUMBER OF VISITORS OF THE INTERMOUNTAINOUS REGION"
   ]
  },
  {
   "cell_type": "code",
   "execution_count": 36,
   "id": "36ee9f46-2e20-4261-b444-acbbf36b8579",
   "metadata": {},
   "outputs": [
    {
     "data": {
      "text/plain": [
       "496427574"
      ]
     },
     "execution_count": 36,
     "metadata": {},
     "output_type": "execute_result"
    }
   ],
   "source": [
    "Intermountain_parkpop['Visitors'].sum()"
   ]
  },
  {
   "cell_type": "markdown",
   "id": "f237af12-49ee-4c19-a5ed-3bd5213d57ed",
   "metadata": {},
   "source": [
    "TOTAL VISITORS OF ALL PARKS PER YEAR"
   ]
  },
  {
   "cell_type": "code",
   "execution_count": 37,
   "id": "9d5aa490-8252-4dc0-9a60-16073f27da67",
   "metadata": {},
   "outputs": [
    {
     "name": "stderr",
     "output_type": "stream",
     "text": [
      "C:\\Users\\Owner\\AppData\\Local\\Temp\\ipykernel_14356\\971345702.py:1: SettingWithCopyWarning: \n",
      "A value is trying to be set on a copy of a slice from a DataFrame.\n",
      "Try using .loc[row_indexer,col_indexer] = value instead\n",
      "\n",
      "See the caveats in the documentation: https://pandas.pydata.org/pandas-docs/stable/user_guide/indexing.html#returning-a-view-versus-a-copy\n",
      "  Intermountain_parkpop['Visitors']=(Intermountain_parkpop['Visitors']/1000).round()\n"
     ]
    },
    {
     "data": {
      "text/html": [
       "<div>\n",
       "<style scoped>\n",
       "    .dataframe tbody tr th:only-of-type {\n",
       "        vertical-align: middle;\n",
       "    }\n",
       "\n",
       "    .dataframe tbody tr th {\n",
       "        vertical-align: top;\n",
       "    }\n",
       "\n",
       "    .dataframe thead th {\n",
       "        text-align: right;\n",
       "    }\n",
       "</style>\n",
       "<table border=\"1\" class=\"dataframe\">\n",
       "  <thead>\n",
       "    <tr style=\"text-align: right;\">\n",
       "      <th></th>\n",
       "      <th>Year</th>\n",
       "      <th>Visitors</th>\n",
       "      <th>park</th>\n",
       "    </tr>\n",
       "  </thead>\n",
       "  <tbody>\n",
       "    <tr>\n",
       "      <th>99</th>\n",
       "      <td>2007</td>\n",
       "      <td>541.0</td>\n",
       "      <td>Mesa Verde National Park</td>\n",
       "    </tr>\n",
       "    <tr>\n",
       "      <th>100</th>\n",
       "      <td>2008</td>\n",
       "      <td>551.0</td>\n",
       "      <td>Mesa Verde National Park</td>\n",
       "    </tr>\n",
       "    <tr>\n",
       "      <th>101</th>\n",
       "      <td>2009</td>\n",
       "      <td>550.0</td>\n",
       "      <td>Mesa Verde National Park</td>\n",
       "    </tr>\n",
       "    <tr>\n",
       "      <th>102</th>\n",
       "      <td>2010</td>\n",
       "      <td>560.0</td>\n",
       "      <td>Mesa Verde National Park</td>\n",
       "    </tr>\n",
       "    <tr>\n",
       "      <th>103</th>\n",
       "      <td>2011</td>\n",
       "      <td>572.0</td>\n",
       "      <td>Mesa Verde National Park</td>\n",
       "    </tr>\n",
       "    <tr>\n",
       "      <th>...</th>\n",
       "      <td>...</td>\n",
       "      <td>...</td>\n",
       "      <td>...</td>\n",
       "    </tr>\n",
       "    <tr>\n",
       "      <th>48</th>\n",
       "      <td>2019</td>\n",
       "      <td>189.0</td>\n",
       "      <td>Guadalupe Mountains National Park</td>\n",
       "    </tr>\n",
       "    <tr>\n",
       "      <th>49</th>\n",
       "      <td>2020</td>\n",
       "      <td>151.0</td>\n",
       "      <td>Guadalupe Mountains National Park</td>\n",
       "    </tr>\n",
       "    <tr>\n",
       "      <th>50</th>\n",
       "      <td>2021</td>\n",
       "      <td>243.0</td>\n",
       "      <td>Guadalupe Mountains National Park</td>\n",
       "    </tr>\n",
       "    <tr>\n",
       "      <th>51</th>\n",
       "      <td>2022</td>\n",
       "      <td>220.0</td>\n",
       "      <td>Guadalupe Mountains National Park</td>\n",
       "    </tr>\n",
       "    <tr>\n",
       "      <th>52</th>\n",
       "      <td>2023</td>\n",
       "      <td>227.0</td>\n",
       "      <td>Guadalupe Mountains National Park</td>\n",
       "    </tr>\n",
       "  </tbody>\n",
       "</table>\n",
       "<p>306 rows × 3 columns</p>\n",
       "</div>"
      ],
      "text/plain": [
       "     Year  Visitors                               park\n",
       "99   2007     541.0           Mesa Verde National Park\n",
       "100  2008     551.0           Mesa Verde National Park\n",
       "101  2009     550.0           Mesa Verde National Park\n",
       "102  2010     560.0           Mesa Verde National Park\n",
       "103  2011     572.0           Mesa Verde National Park\n",
       "..    ...       ...                                ...\n",
       "48   2019     189.0  Guadalupe Mountains National Park\n",
       "49   2020     151.0  Guadalupe Mountains National Park\n",
       "50   2021     243.0  Guadalupe Mountains National Park\n",
       "51   2022     220.0  Guadalupe Mountains National Park\n",
       "52   2023     227.0  Guadalupe Mountains National Park\n",
       "\n",
       "[306 rows x 3 columns]"
      ]
     },
     "execution_count": 37,
     "metadata": {},
     "output_type": "execute_result"
    }
   ],
   "source": [
    "Intermountain_parkpop['Visitors']=(Intermountain_parkpop['Visitors']/1000).round()\n",
    "Intermountain_parkpop"
   ]
  },
  {
   "cell_type": "code",
   "execution_count": 38,
   "id": "97cf8be4-b5b4-49d5-b946-93e99c69c54d",
   "metadata": {},
   "outputs": [],
   "source": [
    "Intermountain_parkpop=Intermountain_parkpop.rename(columns={'Visitors':'Visitors/1000'})"
   ]
  },
  {
   "cell_type": "code",
   "execution_count": 39,
   "id": "f585ffc3-137a-45f9-968f-848016a3f037",
   "metadata": {},
   "outputs": [
    {
     "data": {
      "text/html": [
       "<div>\n",
       "<style scoped>\n",
       "    .dataframe tbody tr th:only-of-type {\n",
       "        vertical-align: middle;\n",
       "    }\n",
       "\n",
       "    .dataframe tbody tr th {\n",
       "        vertical-align: top;\n",
       "    }\n",
       "\n",
       "    .dataframe thead th {\n",
       "        text-align: right;\n",
       "    }\n",
       "</style>\n",
       "<table border=\"1\" class=\"dataframe\">\n",
       "  <thead>\n",
       "    <tr style=\"text-align: right;\">\n",
       "      <th></th>\n",
       "      <th>Year</th>\n",
       "      <th>Visitors/1000</th>\n",
       "      <th>park</th>\n",
       "    </tr>\n",
       "  </thead>\n",
       "  <tbody>\n",
       "    <tr>\n",
       "      <th>99</th>\n",
       "      <td>2007</td>\n",
       "      <td>541.0</td>\n",
       "      <td>Mesa Verde National Park</td>\n",
       "    </tr>\n",
       "    <tr>\n",
       "      <th>100</th>\n",
       "      <td>2008</td>\n",
       "      <td>551.0</td>\n",
       "      <td>Mesa Verde National Park</td>\n",
       "    </tr>\n",
       "    <tr>\n",
       "      <th>101</th>\n",
       "      <td>2009</td>\n",
       "      <td>550.0</td>\n",
       "      <td>Mesa Verde National Park</td>\n",
       "    </tr>\n",
       "    <tr>\n",
       "      <th>102</th>\n",
       "      <td>2010</td>\n",
       "      <td>560.0</td>\n",
       "      <td>Mesa Verde National Park</td>\n",
       "    </tr>\n",
       "    <tr>\n",
       "      <th>103</th>\n",
       "      <td>2011</td>\n",
       "      <td>572.0</td>\n",
       "      <td>Mesa Verde National Park</td>\n",
       "    </tr>\n",
       "    <tr>\n",
       "      <th>...</th>\n",
       "      <td>...</td>\n",
       "      <td>...</td>\n",
       "      <td>...</td>\n",
       "    </tr>\n",
       "    <tr>\n",
       "      <th>48</th>\n",
       "      <td>2019</td>\n",
       "      <td>189.0</td>\n",
       "      <td>Guadalupe Mountains National Park</td>\n",
       "    </tr>\n",
       "    <tr>\n",
       "      <th>49</th>\n",
       "      <td>2020</td>\n",
       "      <td>151.0</td>\n",
       "      <td>Guadalupe Mountains National Park</td>\n",
       "    </tr>\n",
       "    <tr>\n",
       "      <th>50</th>\n",
       "      <td>2021</td>\n",
       "      <td>243.0</td>\n",
       "      <td>Guadalupe Mountains National Park</td>\n",
       "    </tr>\n",
       "    <tr>\n",
       "      <th>51</th>\n",
       "      <td>2022</td>\n",
       "      <td>220.0</td>\n",
       "      <td>Guadalupe Mountains National Park</td>\n",
       "    </tr>\n",
       "    <tr>\n",
       "      <th>52</th>\n",
       "      <td>2023</td>\n",
       "      <td>227.0</td>\n",
       "      <td>Guadalupe Mountains National Park</td>\n",
       "    </tr>\n",
       "  </tbody>\n",
       "</table>\n",
       "<p>306 rows × 3 columns</p>\n",
       "</div>"
      ],
      "text/plain": [
       "     Year  Visitors/1000                               park\n",
       "99   2007          541.0           Mesa Verde National Park\n",
       "100  2008          551.0           Mesa Verde National Park\n",
       "101  2009          550.0           Mesa Verde National Park\n",
       "102  2010          560.0           Mesa Verde National Park\n",
       "103  2011          572.0           Mesa Verde National Park\n",
       "..    ...            ...                                ...\n",
       "48   2019          189.0  Guadalupe Mountains National Park\n",
       "49   2020          151.0  Guadalupe Mountains National Park\n",
       "50   2021          243.0  Guadalupe Mountains National Park\n",
       "51   2022          220.0  Guadalupe Mountains National Park\n",
       "52   2023          227.0  Guadalupe Mountains National Park\n",
       "\n",
       "[306 rows x 3 columns]"
      ]
     },
     "execution_count": 39,
     "metadata": {},
     "output_type": "execute_result"
    }
   ],
   "source": [
    "Intermountain_parkpop"
   ]
  },
  {
   "cell_type": "code",
   "execution_count": 40,
   "id": "297c2ec4-c7cd-43f1-87d7-50e5010aa2f9",
   "metadata": {},
   "outputs": [
    {
     "data": {
      "text/html": [
       "<div>\n",
       "<style scoped>\n",
       "    .dataframe tbody tr th:only-of-type {\n",
       "        vertical-align: middle;\n",
       "    }\n",
       "\n",
       "    .dataframe tbody tr th {\n",
       "        vertical-align: top;\n",
       "    }\n",
       "\n",
       "    .dataframe thead th {\n",
       "        text-align: right;\n",
       "    }\n",
       "</style>\n",
       "<table border=\"1\" class=\"dataframe\">\n",
       "  <thead>\n",
       "    <tr style=\"text-align: right;\">\n",
       "      <th></th>\n",
       "      <th>Year</th>\n",
       "      <th>Visitors/1000</th>\n",
       "      <th>park</th>\n",
       "    </tr>\n",
       "  </thead>\n",
       "  <tbody>\n",
       "    <tr>\n",
       "      <th>42</th>\n",
       "      <td>2013</td>\n",
       "      <td>146.0</td>\n",
       "      <td>Guadalupe Mountains National Park</td>\n",
       "    </tr>\n",
       "    <tr>\n",
       "      <th>49</th>\n",
       "      <td>2020</td>\n",
       "      <td>151.0</td>\n",
       "      <td>Guadalupe Mountains National Park</td>\n",
       "    </tr>\n",
       "    <tr>\n",
       "      <th>40</th>\n",
       "      <td>2011</td>\n",
       "      <td>153.0</td>\n",
       "      <td>Guadalupe Mountains National Park</td>\n",
       "    </tr>\n",
       "    <tr>\n",
       "      <th>41</th>\n",
       "      <td>2012</td>\n",
       "      <td>159.0</td>\n",
       "      <td>Guadalupe Mountains National Park</td>\n",
       "    </tr>\n",
       "    <tr>\n",
       "      <th>74</th>\n",
       "      <td>2008</td>\n",
       "      <td>160.0</td>\n",
       "      <td>Black Canyon Of The Gunnison National Park</td>\n",
       "    </tr>\n",
       "    <tr>\n",
       "      <th>...</th>\n",
       "      <td>...</td>\n",
       "      <td>...</td>\n",
       "      <td>...</td>\n",
       "    </tr>\n",
       "    <tr>\n",
       "      <th>96</th>\n",
       "      <td>2015</td>\n",
       "      <td>5521.0</td>\n",
       "      <td>Grand Canyon National Park</td>\n",
       "    </tr>\n",
       "    <tr>\n",
       "      <th>97</th>\n",
       "      <td>2016</td>\n",
       "      <td>5970.0</td>\n",
       "      <td>Grand Canyon National Park</td>\n",
       "    </tr>\n",
       "    <tr>\n",
       "      <th>100</th>\n",
       "      <td>2019</td>\n",
       "      <td>5974.0</td>\n",
       "      <td>Grand Canyon National Park</td>\n",
       "    </tr>\n",
       "    <tr>\n",
       "      <th>98</th>\n",
       "      <td>2017</td>\n",
       "      <td>6254.0</td>\n",
       "      <td>Grand Canyon National Park</td>\n",
       "    </tr>\n",
       "    <tr>\n",
       "      <th>99</th>\n",
       "      <td>2018</td>\n",
       "      <td>6380.0</td>\n",
       "      <td>Grand Canyon National Park</td>\n",
       "    </tr>\n",
       "  </tbody>\n",
       "</table>\n",
       "<p>306 rows × 3 columns</p>\n",
       "</div>"
      ],
      "text/plain": [
       "     Year  Visitors/1000                                        park\n",
       "42   2013          146.0           Guadalupe Mountains National Park\n",
       "49   2020          151.0           Guadalupe Mountains National Park\n",
       "40   2011          153.0           Guadalupe Mountains National Park\n",
       "41   2012          159.0           Guadalupe Mountains National Park\n",
       "74   2008          160.0  Black Canyon Of The Gunnison National Park\n",
       "..    ...            ...                                         ...\n",
       "96   2015         5521.0                  Grand Canyon National Park\n",
       "97   2016         5970.0                  Grand Canyon National Park\n",
       "100  2019         5974.0                  Grand Canyon National Park\n",
       "98   2017         6254.0                  Grand Canyon National Park\n",
       "99   2018         6380.0                  Grand Canyon National Park\n",
       "\n",
       "[306 rows x 3 columns]"
      ]
     },
     "execution_count": 40,
     "metadata": {},
     "output_type": "execute_result"
    }
   ],
   "source": [
    "Intermountain_parkpop.sort_values(by='Visitors/1000')"
   ]
  },
  {
   "cell_type": "code",
   "execution_count": 41,
   "id": "6d4c8a64-d22d-43fe-9913-9e418752f091",
   "metadata": {},
   "outputs": [
    {
     "name": "stderr",
     "output_type": "stream",
     "text": [
      "C:\\Users\\Owner\\anaconda3\\Lib\\site-packages\\seaborn\\axisgrid.py:854: FutureWarning: \n",
      "\n",
      "The `ci` parameter is deprecated. Use `errorbar=None` for the same effect.\n",
      "\n",
      "  func(*plot_args, **plot_kwargs)\n"
     ]
    },
    {
     "data": {
      "image/png": "[encoded data removed]",
      "text/plain": [
       "<Figure size 500x500 with 1 Axes>"
      ]
     },
     "metadata": {},
     "output_type": "display_data"
    }
   ],
   "source": [
    "sns.relplot(x='Year', y='Visitors/1000', data=Intermountain_parkpop, kind='line',ci=None)\n",
    "plt.ylim(0);"
   ]
  },
  {
   "cell_type": "code",
   "execution_count": 42,
   "id": "b003c29b-9ec5-47ac-9f3d-91e7ce7a0a57",
   "metadata": {},
   "outputs": [
    {
     "data": {
      "text/html": [
       "<div>\n",
       "<style scoped>\n",
       "    .dataframe tbody tr th:only-of-type {\n",
       "        vertical-align: middle;\n",
       "    }\n",
       "\n",
       "    .dataframe tbody tr th {\n",
       "        vertical-align: top;\n",
       "    }\n",
       "\n",
       "    .dataframe thead th {\n",
       "        text-align: right;\n",
       "    }\n",
       "</style>\n",
       "<table border=\"1\" class=\"dataframe\">\n",
       "  <thead>\n",
       "    <tr style=\"text-align: right;\">\n",
       "      <th></th>\n",
       "      <th>park</th>\n",
       "      <th>Visitors/1000</th>\n",
       "    </tr>\n",
       "  </thead>\n",
       "  <tbody>\n",
       "    <tr>\n",
       "      <th>0</th>\n",
       "      <td>Arches National Park</td>\n",
       "      <td>1300.882353</td>\n",
       "    </tr>\n",
       "    <tr>\n",
       "      <th>1</th>\n",
       "      <td>Big Bend National Park</td>\n",
       "      <td>403.588235</td>\n",
       "    </tr>\n",
       "    <tr>\n",
       "      <th>2</th>\n",
       "      <td>Black Canyon Of The Gunnison National Park</td>\n",
       "      <td>249.882353</td>\n",
       "    </tr>\n",
       "    <tr>\n",
       "      <th>3</th>\n",
       "      <td>Bryce Canyon National Park</td>\n",
       "      <td>1784.058824</td>\n",
       "    </tr>\n",
       "    <tr>\n",
       "      <th>4</th>\n",
       "      <td>Canyonlands National Park</td>\n",
       "      <td>604.058824</td>\n",
       "    </tr>\n",
       "    <tr>\n",
       "      <th>5</th>\n",
       "      <td>Carlsbad Caverns National Park</td>\n",
       "      <td>403.647059</td>\n",
       "    </tr>\n",
       "    <tr>\n",
       "      <th>6</th>\n",
       "      <td>Glacier National Park</td>\n",
       "      <td>2466.117647</td>\n",
       "    </tr>\n",
       "    <tr>\n",
       "      <th>7</th>\n",
       "      <td>Grand Canyon National Park</td>\n",
       "      <td>4859.470588</td>\n",
       "    </tr>\n",
       "    <tr>\n",
       "      <th>8</th>\n",
       "      <td>Grand Teton National Park</td>\n",
       "      <td>3007.529412</td>\n",
       "    </tr>\n",
       "    <tr>\n",
       "      <th>9</th>\n",
       "      <td>Great Sand Dunes National Park &amp; Preserve</td>\n",
       "      <td>376.352941</td>\n",
       "    </tr>\n",
       "    <tr>\n",
       "      <th>10</th>\n",
       "      <td>Guadalupe Mountains National Park</td>\n",
       "      <td>183.764706</td>\n",
       "    </tr>\n",
       "    <tr>\n",
       "      <th>11</th>\n",
       "      <td>Mesa Verde National Park</td>\n",
       "      <td>525.235294</td>\n",
       "    </tr>\n",
       "    <tr>\n",
       "      <th>12</th>\n",
       "      <td>Petrified Forest National Park</td>\n",
       "      <td>618.705882</td>\n",
       "    </tr>\n",
       "    <tr>\n",
       "      <th>13</th>\n",
       "      <td>Rocky Mountain National Park</td>\n",
       "      <td>3693.529412</td>\n",
       "    </tr>\n",
       "    <tr>\n",
       "      <th>14</th>\n",
       "      <td>Saguaro National Park</td>\n",
       "      <td>800.705882</td>\n",
       "    </tr>\n",
       "    <tr>\n",
       "      <th>15</th>\n",
       "      <td>White Sands National Park</td>\n",
       "      <td>541.058824</td>\n",
       "    </tr>\n",
       "    <tr>\n",
       "      <th>16</th>\n",
       "      <td>Yellowstone National Park</td>\n",
       "      <td>3750.588235</td>\n",
       "    </tr>\n",
       "    <tr>\n",
       "      <th>17</th>\n",
       "      <td>Zion National Park</td>\n",
       "      <td>3632.235294</td>\n",
       "    </tr>\n",
       "  </tbody>\n",
       "</table>\n",
       "</div>"
      ],
      "text/plain": [
       "                                          park  Visitors/1000\n",
       "0                         Arches National Park    1300.882353\n",
       "1                       Big Bend National Park     403.588235\n",
       "2   Black Canyon Of The Gunnison National Park     249.882353\n",
       "3                   Bryce Canyon National Park    1784.058824\n",
       "4                    Canyonlands National Park     604.058824\n",
       "5               Carlsbad Caverns National Park     403.647059\n",
       "6                        Glacier National Park    2466.117647\n",
       "7                   Grand Canyon National Park    4859.470588\n",
       "8                    Grand Teton National Park    3007.529412\n",
       "9    Great Sand Dunes National Park & Preserve     376.352941\n",
       "10           Guadalupe Mountains National Park     183.764706\n",
       "11                    Mesa Verde National Park     525.235294\n",
       "12              Petrified Forest National Park     618.705882\n",
       "13                Rocky Mountain National Park    3693.529412\n",
       "14                       Saguaro National Park     800.705882\n",
       "15                   White Sands National Park     541.058824\n",
       "16                   Yellowstone National Park    3750.588235\n",
       "17                          Zion National Park    3632.235294"
      ]
     },
     "execution_count": 42,
     "metadata": {},
     "output_type": "execute_result"
    }
   ],
   "source": [
    "Parkpop_forgraph=Intermountain_parkpop.groupby('park')['Visitors/1000'].mean().reset_index()\n",
    "Parkpop_forgraph"
   ]
  },
  {
   "cell_type": "markdown",
   "id": "5ce29556-b6ef-4213-8191-4ced50c193b5",
   "metadata": {},
   "source": [
    "TOTAL VISITORS PER PARK"
   ]
  },
  {
   "cell_type": "code",
   "execution_count": 59,
   "id": "596716a9-d415-4a3a-bac0-fdad7e760bcf",
   "metadata": {},
   "outputs": [
    {
     "name": "stderr",
     "output_type": "stream",
     "text": [
      "C:\\Users\\Owner\\AppData\\Local\\Temp\\ipykernel_14356\\2822972455.py:3: FutureWarning: \n",
      "\n",
      "The `ci` parameter is deprecated. Use `errorbar=None` for the same effect.\n",
      "\n",
      "  sns.barplot(data =Parkpop_forgraph .sort_values('Visitors/1000',ascending=False),\n"
     ]
    },
    {
     "data": {
      "image/png": "[encoded data removed]",
      "text/plain": [
       "<Figure size 1000x600 with 1 Axes>"
      ]
     },
     "metadata": {},
     "output_type": "display_data"
    }
   ],
   "source": [
    "plt.figure(figsize = (10,6))\n",
    "\n",
    "sns.barplot(data =Parkpop_forgraph .sort_values('Visitors/1000',ascending=False),\n",
    "               x = 'park',\n",
    "               y = 'Visitors/1000',          \n",
    "                ci=None)\n",
    "plt.xticks(rotation=90);\n"
   ]
  },
  {
   "cell_type": "markdown",
   "id": "669f81e9-5f03-4ced-9168-a742006c1380",
   "metadata": {},
   "source": [
    "PLOT VISITOR TOTAL FOR THE TOP 5 AND BOTTOM 5 PARKS "
   ]
  },
  {
   "cell_type": "code",
   "execution_count": 44,
   "id": "b6d583e5-371f-4d71-8fd1-f461437ed2a7",
   "metadata": {},
   "outputs": [],
   "source": [
    "Top_five_parkpop=Intermountain_parkpop.groupby('park')['Visitors/1000'].sum().sort_values(ascending = False).head()\n",
    "Top_five_parkpop=Top_five_parkpop.reset_index()"
   ]
  },
  {
   "cell_type": "code",
   "execution_count": 45,
   "id": "debf1f36-620a-4486-8b25-0642f5f7ad74",
   "metadata": {},
   "outputs": [
    {
     "data": {
      "text/html": [
       "<div>\n",
       "<style scoped>\n",
       "    .dataframe tbody tr th:only-of-type {\n",
       "        vertical-align: middle;\n",
       "    }\n",
       "\n",
       "    .dataframe tbody tr th {\n",
       "        vertical-align: top;\n",
       "    }\n",
       "\n",
       "    .dataframe thead th {\n",
       "        text-align: right;\n",
       "    }\n",
       "</style>\n",
       "<table border=\"1\" class=\"dataframe\">\n",
       "  <thead>\n",
       "    <tr style=\"text-align: right;\">\n",
       "      <th></th>\n",
       "      <th>park</th>\n",
       "      <th>Visitors/1000</th>\n",
       "    </tr>\n",
       "  </thead>\n",
       "  <tbody>\n",
       "    <tr>\n",
       "      <th>0</th>\n",
       "      <td>Grand Canyon National Park</td>\n",
       "      <td>82611.0</td>\n",
       "    </tr>\n",
       "    <tr>\n",
       "      <th>1</th>\n",
       "      <td>Yellowstone National Park</td>\n",
       "      <td>63760.0</td>\n",
       "    </tr>\n",
       "    <tr>\n",
       "      <th>2</th>\n",
       "      <td>Rocky Mountain National Park</td>\n",
       "      <td>62790.0</td>\n",
       "    </tr>\n",
       "    <tr>\n",
       "      <th>3</th>\n",
       "      <td>Zion National Park</td>\n",
       "      <td>61748.0</td>\n",
       "    </tr>\n",
       "    <tr>\n",
       "      <th>4</th>\n",
       "      <td>Grand Teton National Park</td>\n",
       "      <td>51128.0</td>\n",
       "    </tr>\n",
       "  </tbody>\n",
       "</table>\n",
       "</div>"
      ],
      "text/plain": [
       "                           park  Visitors/1000\n",
       "0    Grand Canyon National Park        82611.0\n",
       "1     Yellowstone National Park        63760.0\n",
       "2  Rocky Mountain National Park        62790.0\n",
       "3            Zion National Park        61748.0\n",
       "4     Grand Teton National Park        51128.0"
      ]
     },
     "execution_count": 45,
     "metadata": {},
     "output_type": "execute_result"
    }
   ],
   "source": [
    "Top_five_parkpop.head()"
   ]
  },
  {
   "cell_type": "code",
   "execution_count": 51,
   "id": "fc539051-a26b-450b-8d63-696a9b576b6b",
   "metadata": {},
   "outputs": [
    {
     "data": {
      "text/html": [
       "<div>\n",
       "<style scoped>\n",
       "    .dataframe tbody tr th:only-of-type {\n",
       "        vertical-align: middle;\n",
       "    }\n",
       "\n",
       "    .dataframe tbody tr th {\n",
       "        vertical-align: top;\n",
       "    }\n",
       "\n",
       "    .dataframe thead th {\n",
       "        text-align: right;\n",
       "    }\n",
       "</style>\n",
       "<table border=\"1\" class=\"dataframe\">\n",
       "  <thead>\n",
       "    <tr style=\"text-align: right;\">\n",
       "      <th></th>\n",
       "      <th>park</th>\n",
       "      <th>Visitors/1000</th>\n",
       "      <th>Rank</th>\n",
       "    </tr>\n",
       "  </thead>\n",
       "  <tbody>\n",
       "    <tr>\n",
       "      <th>0</th>\n",
       "      <td>Grand Canyon National Park</td>\n",
       "      <td>82611.0</td>\n",
       "      <td>Top 5</td>\n",
       "    </tr>\n",
       "    <tr>\n",
       "      <th>1</th>\n",
       "      <td>Yellowstone National Park</td>\n",
       "      <td>63760.0</td>\n",
       "      <td>Top 5</td>\n",
       "    </tr>\n",
       "    <tr>\n",
       "      <th>2</th>\n",
       "      <td>Rocky Mountain National Park</td>\n",
       "      <td>62790.0</td>\n",
       "      <td>Top 5</td>\n",
       "    </tr>\n",
       "    <tr>\n",
       "      <th>3</th>\n",
       "      <td>Zion National Park</td>\n",
       "      <td>61748.0</td>\n",
       "      <td>Top 5</td>\n",
       "    </tr>\n",
       "    <tr>\n",
       "      <th>4</th>\n",
       "      <td>Grand Teton National Park</td>\n",
       "      <td>51128.0</td>\n",
       "      <td>Top 5</td>\n",
       "    </tr>\n",
       "  </tbody>\n",
       "</table>\n",
       "</div>"
      ],
      "text/plain": [
       "                           park  Visitors/1000   Rank\n",
       "0    Grand Canyon National Park        82611.0  Top 5\n",
       "1     Yellowstone National Park        63760.0  Top 5\n",
       "2  Rocky Mountain National Park        62790.0  Top 5\n",
       "3            Zion National Park        61748.0  Top 5\n",
       "4     Grand Teton National Park        51128.0  Top 5"
      ]
     },
     "execution_count": 51,
     "metadata": {},
     "output_type": "execute_result"
    }
   ],
   "source": [
    "Top_five_parkpop['Rank']='Top 5'\n",
    "Top_five_parkpop"
   ]
  },
  {
   "cell_type": "code",
   "execution_count": 47,
   "id": "4e6f8f5c-301a-467d-88a2-9b5790af2e71",
   "metadata": {},
   "outputs": [
    {
     "data": {
      "text/html": [
       "<div>\n",
       "<style scoped>\n",
       "    .dataframe tbody tr th:only-of-type {\n",
       "        vertical-align: middle;\n",
       "    }\n",
       "\n",
       "    .dataframe tbody tr th {\n",
       "        vertical-align: top;\n",
       "    }\n",
       "\n",
       "    .dataframe thead th {\n",
       "        text-align: right;\n",
       "    }\n",
       "</style>\n",
       "<table border=\"1\" class=\"dataframe\">\n",
       "  <thead>\n",
       "    <tr style=\"text-align: right;\">\n",
       "      <th></th>\n",
       "      <th>park</th>\n",
       "      <th>Visitors/1000</th>\n",
       "    </tr>\n",
       "  </thead>\n",
       "  <tbody>\n",
       "    <tr>\n",
       "      <th>0</th>\n",
       "      <td>Carlsbad Caverns National Park</td>\n",
       "      <td>6862.0</td>\n",
       "    </tr>\n",
       "    <tr>\n",
       "      <th>1</th>\n",
       "      <td>Big Bend National Park</td>\n",
       "      <td>6861.0</td>\n",
       "    </tr>\n",
       "    <tr>\n",
       "      <th>2</th>\n",
       "      <td>Great Sand Dunes National Park &amp; Preserve</td>\n",
       "      <td>6398.0</td>\n",
       "    </tr>\n",
       "    <tr>\n",
       "      <th>3</th>\n",
       "      <td>Black Canyon Of The Gunnison National Park</td>\n",
       "      <td>4248.0</td>\n",
       "    </tr>\n",
       "    <tr>\n",
       "      <th>4</th>\n",
       "      <td>Guadalupe Mountains National Park</td>\n",
       "      <td>3124.0</td>\n",
       "    </tr>\n",
       "  </tbody>\n",
       "</table>\n",
       "</div>"
      ],
      "text/plain": [
       "                                         park  Visitors/1000\n",
       "0              Carlsbad Caverns National Park         6862.0\n",
       "1                      Big Bend National Park         6861.0\n",
       "2   Great Sand Dunes National Park & Preserve         6398.0\n",
       "3  Black Canyon Of The Gunnison National Park         4248.0\n",
       "4           Guadalupe Mountains National Park         3124.0"
      ]
     },
     "execution_count": 47,
     "metadata": {},
     "output_type": "execute_result"
    }
   ],
   "source": [
    "Bottom_five_parkpop=Intermountain_parkpop.groupby('park')['Visitors/1000'].sum().sort_values(ascending = False).tail()\n",
    "Bottom_five_parkpop=Bottom_five_parkpop.to_frame().reset_index()\n",
    "Bottom_five_parkpop.head()"
   ]
  },
  {
   "cell_type": "code",
   "execution_count": 48,
   "id": "5b980916-d34c-4c53-9e29-537114aaa40a",
   "metadata": {},
   "outputs": [],
   "source": [
    "Bottom_five_parkpop['Rank']='Bottom 5'"
   ]
  },
  {
   "cell_type": "code",
   "execution_count": 49,
   "id": "2184b2ad-7718-49e3-9fe4-28a1557cb62b",
   "metadata": {},
   "outputs": [
    {
     "data": {
      "text/html": [
       "<div>\n",
       "<style scoped>\n",
       "    .dataframe tbody tr th:only-of-type {\n",
       "        vertical-align: middle;\n",
       "    }\n",
       "\n",
       "    .dataframe tbody tr th {\n",
       "        vertical-align: top;\n",
       "    }\n",
       "\n",
       "    .dataframe thead th {\n",
       "        text-align: right;\n",
       "    }\n",
       "</style>\n",
       "<table border=\"1\" class=\"dataframe\">\n",
       "  <thead>\n",
       "    <tr style=\"text-align: right;\">\n",
       "      <th></th>\n",
       "      <th>park</th>\n",
       "      <th>Visitors/1000</th>\n",
       "      <th>Rank</th>\n",
       "    </tr>\n",
       "  </thead>\n",
       "  <tbody>\n",
       "    <tr>\n",
       "      <th>0</th>\n",
       "      <td>Carlsbad Caverns National Park</td>\n",
       "      <td>6862.0</td>\n",
       "      <td>Bottom 5</td>\n",
       "    </tr>\n",
       "    <tr>\n",
       "      <th>1</th>\n",
       "      <td>Big Bend National Park</td>\n",
       "      <td>6861.0</td>\n",
       "      <td>Bottom 5</td>\n",
       "    </tr>\n",
       "    <tr>\n",
       "      <th>2</th>\n",
       "      <td>Great Sand Dunes National Park &amp; Preserve</td>\n",
       "      <td>6398.0</td>\n",
       "      <td>Bottom 5</td>\n",
       "    </tr>\n",
       "    <tr>\n",
       "      <th>3</th>\n",
       "      <td>Black Canyon Of The Gunnison National Park</td>\n",
       "      <td>4248.0</td>\n",
       "      <td>Bottom 5</td>\n",
       "    </tr>\n",
       "    <tr>\n",
       "      <th>4</th>\n",
       "      <td>Guadalupe Mountains National Park</td>\n",
       "      <td>3124.0</td>\n",
       "      <td>Bottom 5</td>\n",
       "    </tr>\n",
       "  </tbody>\n",
       "</table>\n",
       "</div>"
      ],
      "text/plain": [
       "                                         park  Visitors/1000      Rank\n",
       "0              Carlsbad Caverns National Park         6862.0  Bottom 5\n",
       "1                      Big Bend National Park         6861.0  Bottom 5\n",
       "2   Great Sand Dunes National Park & Preserve         6398.0  Bottom 5\n",
       "3  Black Canyon Of The Gunnison National Park         4248.0  Bottom 5\n",
       "4           Guadalupe Mountains National Park         3124.0  Bottom 5"
      ]
     },
     "execution_count": 49,
     "metadata": {},
     "output_type": "execute_result"
    }
   ],
   "source": [
    "Bottom_five_parkpop"
   ]
  },
  {
   "cell_type": "code",
   "execution_count": 82,
   "id": "f6181141-ec9c-4e99-964c-e5b6146be080",
   "metadata": {},
   "outputs": [
    {
     "data": {
      "text/html": [
       "<div>\n",
       "<style scoped>\n",
       "    .dataframe tbody tr th:only-of-type {\n",
       "        vertical-align: middle;\n",
       "    }\n",
       "\n",
       "    .dataframe tbody tr th {\n",
       "        vertical-align: top;\n",
       "    }\n",
       "\n",
       "    .dataframe thead th {\n",
       "        text-align: right;\n",
       "    }\n",
       "</style>\n",
       "<table border=\"1\" class=\"dataframe\">\n",
       "  <thead>\n",
       "    <tr style=\"text-align: right;\">\n",
       "      <th></th>\n",
       "      <th>park</th>\n",
       "      <th>Visitors/1000</th>\n",
       "      <th>Rank</th>\n",
       "      <th>park</th>\n",
       "      <th>Visitors/1000</th>\n",
       "      <th>Rank</th>\n",
       "    </tr>\n",
       "  </thead>\n",
       "  <tbody>\n",
       "    <tr>\n",
       "      <th>0</th>\n",
       "      <td>Grand Canyon National Park</td>\n",
       "      <td>82611.0</td>\n",
       "      <td>Top 5</td>\n",
       "      <td>Carlsbad Caverns National Park</td>\n",
       "      <td>6862.0</td>\n",
       "      <td>Bottom 5</td>\n",
       "    </tr>\n",
       "    <tr>\n",
       "      <th>1</th>\n",
       "      <td>Yellowstone National Park</td>\n",
       "      <td>63760.0</td>\n",
       "      <td>Top 5</td>\n",
       "      <td>Big Bend National Park</td>\n",
       "      <td>6861.0</td>\n",
       "      <td>Bottom 5</td>\n",
       "    </tr>\n",
       "    <tr>\n",
       "      <th>2</th>\n",
       "      <td>Rocky Mountain National Park</td>\n",
       "      <td>62790.0</td>\n",
       "      <td>Top 5</td>\n",
       "      <td>Great Sand Dunes National Park &amp; Preserve</td>\n",
       "      <td>6398.0</td>\n",
       "      <td>Bottom 5</td>\n",
       "    </tr>\n",
       "    <tr>\n",
       "      <th>3</th>\n",
       "      <td>Zion National Park</td>\n",
       "      <td>61748.0</td>\n",
       "      <td>Top 5</td>\n",
       "      <td>Black Canyon Of The Gunnison National Park</td>\n",
       "      <td>4248.0</td>\n",
       "      <td>Bottom 5</td>\n",
       "    </tr>\n",
       "    <tr>\n",
       "      <th>4</th>\n",
       "      <td>Grand Teton National Park</td>\n",
       "      <td>51128.0</td>\n",
       "      <td>Top 5</td>\n",
       "      <td>Guadalupe Mountains National Park</td>\n",
       "      <td>3124.0</td>\n",
       "      <td>Bottom 5</td>\n",
       "    </tr>\n",
       "  </tbody>\n",
       "</table>\n",
       "</div>"
      ],
      "text/plain": [
       "                           park  Visitors/1000   Rank  \\\n",
       "0    Grand Canyon National Park        82611.0  Top 5   \n",
       "1     Yellowstone National Park        63760.0  Top 5   \n",
       "2  Rocky Mountain National Park        62790.0  Top 5   \n",
       "3            Zion National Park        61748.0  Top 5   \n",
       "4     Grand Teton National Park        51128.0  Top 5   \n",
       "\n",
       "                                         park  Visitors/1000      Rank  \n",
       "0              Carlsbad Caverns National Park         6862.0  Bottom 5  \n",
       "1                      Big Bend National Park         6861.0  Bottom 5  \n",
       "2   Great Sand Dunes National Park & Preserve         6398.0  Bottom 5  \n",
       "3  Black Canyon Of The Gunnison National Park         4248.0  Bottom 5  \n",
       "4           Guadalupe Mountains National Park         3124.0  Bottom 5  "
      ]
     },
     "execution_count": 82,
     "metadata": {},
     "output_type": "execute_result"
    }
   ],
   "source": [
    "top_and_bottom_5=pd.concat([Top_five_parkpop,Bottom_five_parkpop],axis=1)\n",
    "top_and_bottom_5"
   ]
  },
  {
   "cell_type": "code",
   "execution_count": 91,
   "id": "463976fc-c94b-4c11-adcf-5ffe824b777f",
   "metadata": {},
   "outputs": [
    {
     "data": {
      "image/png": "[encoded data removed]",
      "text/plain": [
       "<Figure size 640x480 with 1 Axes>"
      ]
     },
     "metadata": {},
     "output_type": "display_data"
    }
   ],
   "source": [
    "\n",
    "top_and_bottom_5.plot(kind='barh')\n",
    "plt.title('Visitor Count: Top 5 Parks vs Bottom 5 Parks')\n",
    "plt.ylabel('Parks')\n",
    "plt.xlabel('Visitors per Thousand')\n",
    "plt.legend(bbox_to_anchor=(1.05, 1), loc='upper left', borderaxespad=0);"
   ]
  },
  {
   "cell_type": "code",
   "execution_count": 92,
   "id": "1b0510c2-1476-4acf-b5f3-aafb3aa4cbdf",
   "metadata": {},
   "outputs": [
    {
     "data": {
      "text/html": [
       "<div>\n",
       "<style scoped>\n",
       "    .dataframe tbody tr th:only-of-type {\n",
       "        vertical-align: middle;\n",
       "    }\n",
       "\n",
       "    .dataframe tbody tr th {\n",
       "        vertical-align: top;\n",
       "    }\n",
       "\n",
       "    .dataframe thead th {\n",
       "        text-align: right;\n",
       "    }\n",
       "</style>\n",
       "<table border=\"1\" class=\"dataframe\">\n",
       "  <thead>\n",
       "    <tr style=\"text-align: right;\">\n",
       "      <th></th>\n",
       "      <th>Incident Date</th>\n",
       "      <th>Park Name</th>\n",
       "      <th>Cause of Death</th>\n",
       "      <th>Cause of Death Group \\n(Used in the NPS Mortality Dashboard)</th>\n",
       "      <th>Intent</th>\n",
       "      <th>Outcome</th>\n",
       "      <th>Sex</th>\n",
       "      <th>Age Range</th>\n",
       "      <th>Activity</th>\n",
       "    </tr>\n",
       "  </thead>\n",
       "  <tbody>\n",
       "    <tr>\n",
       "      <th>0</th>\n",
       "      <td>1/1/2007</td>\n",
       "      <td>Glen Canyon National Recreation Area</td>\n",
       "      <td>Undetermined</td>\n",
       "      <td>Undetermined</td>\n",
       "      <td>Undetermined</td>\n",
       "      <td>Fatal injury</td>\n",
       "      <td>Male</td>\n",
       "      <td>65+</td>\n",
       "      <td>Not Reported</td>\n",
       "    </tr>\n",
       "  </tbody>\n",
       "</table>\n",
       "</div>"
      ],
      "text/plain": [
       "  Incident Date                             Park Name Cause of Death  \\\n",
       "0      1/1/2007  Glen Canyon National Recreation Area   Undetermined   \n",
       "\n",
       "  Cause of Death Group \\n(Used in the NPS Mortality Dashboard)         Intent  \\\n",
       "0                                       Undetermined             Undetermined   \n",
       "\n",
       "        Outcome   Sex Age Range      Activity  \n",
       "0  Fatal injury  Male       65+  Not Reported  "
      ]
     },
     "execution_count": 92,
     "metadata": {},
     "output_type": "execute_result"
    }
   ],
   "source": [
    "nps_deaths.head(1)"
   ]
  },
  {
   "cell_type": "code",
   "execution_count": 93,
   "id": "f44dc628-70f2-4510-970d-861e69819c26",
   "metadata": {},
   "outputs": [],
   "source": [
    "List=['Petrified Forest National Park','Big Bend National Park','Carlsbad Caverns National Park','Glacier Bay National Park & Preserve', 'Arches National Park','Guadalupe Mountains National Park','Mesa Verde National Park','Bryce Canyon National Park','White Sands National Park','Great Sand Dunes National Park & Preserve','Glacier National Park','Saguaro National Park','Canyonlands National Park','Rocky Mountain National Park','Yellowstone National Park','Zion National Park','Grand Teton National Park','Grand Canyon National Park','Black Canyon Of The Gunnison National Park',]"
   ]
  },
  {
   "cell_type": "code",
   "execution_count": 94,
   "id": "31aa1b30-3c2e-4c20-b3c2-3003629e3c02",
   "metadata": {
    "scrolled": true
   },
   "outputs": [
    {
     "data": {
      "text/html": [
       "<div>\n",
       "<style scoped>\n",
       "    .dataframe tbody tr th:only-of-type {\n",
       "        vertical-align: middle;\n",
       "    }\n",
       "\n",
       "    .dataframe tbody tr th {\n",
       "        vertical-align: top;\n",
       "    }\n",
       "\n",
       "    .dataframe thead th {\n",
       "        text-align: right;\n",
       "    }\n",
       "</style>\n",
       "<table border=\"1\" class=\"dataframe\">\n",
       "  <thead>\n",
       "    <tr style=\"text-align: right;\">\n",
       "      <th></th>\n",
       "      <th>Incident Date</th>\n",
       "      <th>Park Name</th>\n",
       "      <th>Cause of Death</th>\n",
       "      <th>Cause of Death Group \\n(Used in the NPS Mortality Dashboard)</th>\n",
       "      <th>Intent</th>\n",
       "      <th>Outcome</th>\n",
       "      <th>Sex</th>\n",
       "      <th>Age Range</th>\n",
       "      <th>Activity</th>\n",
       "    </tr>\n",
       "  </thead>\n",
       "  <tbody>\n",
       "    <tr>\n",
       "      <th>6</th>\n",
       "      <td>2/10/2007</td>\n",
       "      <td>Black Canyon Of The Gunnison National Park</td>\n",
       "      <td>Fall</td>\n",
       "      <td>Fall</td>\n",
       "      <td>Unintentional</td>\n",
       "      <td>Fatal injury</td>\n",
       "      <td>Female</td>\n",
       "      <td>15-24</td>\n",
       "      <td>Not Reported</td>\n",
       "    </tr>\n",
       "    <tr>\n",
       "      <th>20</th>\n",
       "      <td>3/31/2007</td>\n",
       "      <td>Grand Canyon National Park</td>\n",
       "      <td>Drowning</td>\n",
       "      <td>Drowning</td>\n",
       "      <td>Unintentional</td>\n",
       "      <td>Fatal injury</td>\n",
       "      <td>Male</td>\n",
       "      <td>55-64</td>\n",
       "      <td>Vessel Related</td>\n",
       "    </tr>\n",
       "    <tr>\n",
       "      <th>21</th>\n",
       "      <td>4/2/2007</td>\n",
       "      <td>Grand Canyon National Park</td>\n",
       "      <td>Fall</td>\n",
       "      <td>Fall</td>\n",
       "      <td>Unintentional</td>\n",
       "      <td>Fatal injury</td>\n",
       "      <td>Male</td>\n",
       "      <td>Not Reported</td>\n",
       "      <td>Not Reported</td>\n",
       "    </tr>\n",
       "    <tr>\n",
       "      <th>32</th>\n",
       "      <td>4/30/2007</td>\n",
       "      <td>Grand Teton National Park</td>\n",
       "      <td>Fall</td>\n",
       "      <td>Fall</td>\n",
       "      <td>Unintentional</td>\n",
       "      <td>Fatal injury</td>\n",
       "      <td>Male</td>\n",
       "      <td>25-34</td>\n",
       "      <td>Climbing</td>\n",
       "    </tr>\n",
       "    <tr>\n",
       "      <th>33</th>\n",
       "      <td>4/30/2007</td>\n",
       "      <td>Grand Teton National Park</td>\n",
       "      <td>Fall</td>\n",
       "      <td>Fall</td>\n",
       "      <td>Unintentional</td>\n",
       "      <td>Fatal injury</td>\n",
       "      <td>Male</td>\n",
       "      <td>35-44</td>\n",
       "      <td>Climbing</td>\n",
       "    </tr>\n",
       "    <tr>\n",
       "      <th>...</th>\n",
       "      <td>...</td>\n",
       "      <td>...</td>\n",
       "      <td>...</td>\n",
       "      <td>...</td>\n",
       "      <td>...</td>\n",
       "      <td>...</td>\n",
       "      <td>...</td>\n",
       "      <td>...</td>\n",
       "      <td>...</td>\n",
       "    </tr>\n",
       "    <tr>\n",
       "      <th>4592</th>\n",
       "      <td>5/10/2024</td>\n",
       "      <td>Grand Canyon National Park</td>\n",
       "      <td>Suicide</td>\n",
       "      <td>Suicide</td>\n",
       "      <td>Intentional</td>\n",
       "      <td>Fatal Injury</td>\n",
       "      <td>Male</td>\n",
       "      <td>55-64</td>\n",
       "      <td>Suicide</td>\n",
       "    </tr>\n",
       "    <tr>\n",
       "      <th>4611</th>\n",
       "      <td>6/7/2024</td>\n",
       "      <td>Bryce Canyon National Park</td>\n",
       "      <td>Fall</td>\n",
       "      <td>Fall</td>\n",
       "      <td>Unintentional</td>\n",
       "      <td>Fatal Injury</td>\n",
       "      <td>Not Reported</td>\n",
       "      <td>65+</td>\n",
       "      <td>Walking</td>\n",
       "    </tr>\n",
       "    <tr>\n",
       "      <th>4621</th>\n",
       "      <td>6/16/2024</td>\n",
       "      <td>Grand Canyon National Park</td>\n",
       "      <td>Undetermined</td>\n",
       "      <td>Undetermined</td>\n",
       "      <td>Undetermined</td>\n",
       "      <td>Fatal Injury</td>\n",
       "      <td>Male</td>\n",
       "      <td>35-44</td>\n",
       "      <td>Hiking</td>\n",
       "    </tr>\n",
       "    <tr>\n",
       "      <th>4622</th>\n",
       "      <td>6/17/2024</td>\n",
       "      <td>Grand Canyon National Park</td>\n",
       "      <td>Medical - Not during physical activity</td>\n",
       "      <td>Medical - Not during physical activity</td>\n",
       "      <td>Medical</td>\n",
       "      <td>Fatal Injury</td>\n",
       "      <td>Male</td>\n",
       "      <td>65+</td>\n",
       "      <td>Sleeping</td>\n",
       "    </tr>\n",
       "    <tr>\n",
       "      <th>4633</th>\n",
       "      <td>6/29/2024</td>\n",
       "      <td>Grand Canyon National Park</td>\n",
       "      <td>Undetermined</td>\n",
       "      <td>Undetermined</td>\n",
       "      <td>Undetermined</td>\n",
       "      <td>Fatal Injury</td>\n",
       "      <td>Male</td>\n",
       "      <td>45-54</td>\n",
       "      <td>Hiking</td>\n",
       "    </tr>\n",
       "  </tbody>\n",
       "</table>\n",
       "<p>705 rows × 9 columns</p>\n",
       "</div>"
      ],
      "text/plain": [
       "     Incident Date                                   Park Name  \\\n",
       "6        2/10/2007  Black Canyon Of The Gunnison National Park   \n",
       "20       3/31/2007                  Grand Canyon National Park   \n",
       "21        4/2/2007                  Grand Canyon National Park   \n",
       "32       4/30/2007                   Grand Teton National Park   \n",
       "33       4/30/2007                   Grand Teton National Park   \n",
       "...            ...                                         ...   \n",
       "4592     5/10/2024                  Grand Canyon National Park   \n",
       "4611      6/7/2024                  Bryce Canyon National Park   \n",
       "4621     6/16/2024                  Grand Canyon National Park   \n",
       "4622     6/17/2024                  Grand Canyon National Park   \n",
       "4633     6/29/2024                  Grand Canyon National Park   \n",
       "\n",
       "                              Cause of Death  \\\n",
       "6                                       Fall   \n",
       "20                                  Drowning   \n",
       "21                                      Fall   \n",
       "32                                      Fall   \n",
       "33                                      Fall   \n",
       "...                                      ...   \n",
       "4592                                 Suicide   \n",
       "4611                                    Fall   \n",
       "4621                            Undetermined   \n",
       "4622  Medical - Not during physical activity   \n",
       "4633                            Undetermined   \n",
       "\n",
       "     Cause of Death Group \\n(Used in the NPS Mortality Dashboard)   \\\n",
       "6                                                  Fall              \n",
       "20                                             Drowning              \n",
       "21                                                 Fall              \n",
       "32                                                 Fall              \n",
       "33                                                 Fall              \n",
       "...                                                 ...              \n",
       "4592                                            Suicide              \n",
       "4611                                               Fall              \n",
       "4621                                       Undetermined              \n",
       "4622             Medical - Not during physical activity              \n",
       "4633                                       Undetermined              \n",
       "\n",
       "             Intent       Outcome           Sex     Age Range        Activity  \n",
       "6     Unintentional  Fatal injury        Female         15-24    Not Reported  \n",
       "20    Unintentional  Fatal injury          Male         55-64  Vessel Related  \n",
       "21    Unintentional  Fatal injury          Male  Not Reported    Not Reported  \n",
       "32    Unintentional  Fatal injury          Male         25-34        Climbing  \n",
       "33    Unintentional  Fatal injury          Male         35-44        Climbing  \n",
       "...             ...           ...           ...           ...             ...  \n",
       "4592    Intentional  Fatal Injury          Male         55-64         Suicide  \n",
       "4611  Unintentional  Fatal Injury  Not Reported           65+         Walking  \n",
       "4621   Undetermined  Fatal Injury          Male         35-44          Hiking  \n",
       "4622        Medical  Fatal Injury          Male           65+        Sleeping  \n",
       "4633   Undetermined  Fatal Injury          Male         45-54          Hiking  \n",
       "\n",
       "[705 rows x 9 columns]"
      ]
     },
     "execution_count": 94,
     "metadata": {},
     "output_type": "execute_result"
    }
   ],
   "source": [
    "new_nps_deaths=nps_deaths.loc[nps_deaths['Park Name'].isin(List)]\n",
    "new_nps_deaths"
   ]
  },
  {
   "cell_type": "code",
   "execution_count": 100,
   "id": "1a677ca6-68a0-4ee2-a0e7-d539a9463318",
   "metadata": {},
   "outputs": [
    {
     "data": {
      "text/html": [
       "<div>\n",
       "<style scoped>\n",
       "    .dataframe tbody tr th:only-of-type {\n",
       "        vertical-align: middle;\n",
       "    }\n",
       "\n",
       "    .dataframe tbody tr th {\n",
       "        vertical-align: top;\n",
       "    }\n",
       "\n",
       "    .dataframe thead th {\n",
       "        text-align: right;\n",
       "    }\n",
       "</style>\n",
       "<table border=\"1\" class=\"dataframe\">\n",
       "  <thead>\n",
       "    <tr style=\"text-align: right;\">\n",
       "      <th></th>\n",
       "      <th>Sex</th>\n",
       "      <th>Age Range</th>\n",
       "      <th>count</th>\n",
       "    </tr>\n",
       "  </thead>\n",
       "  <tbody>\n",
       "    <tr>\n",
       "      <th>0</th>\n",
       "      <td>Female</td>\n",
       "      <td>55-64</td>\n",
       "      <td>29</td>\n",
       "    </tr>\n",
       "    <tr>\n",
       "      <th>1</th>\n",
       "      <td>Female</td>\n",
       "      <td>25-34</td>\n",
       "      <td>23</td>\n",
       "    </tr>\n",
       "    <tr>\n",
       "      <th>2</th>\n",
       "      <td>Female</td>\n",
       "      <td>65+</td>\n",
       "      <td>22</td>\n",
       "    </tr>\n",
       "    <tr>\n",
       "      <th>3</th>\n",
       "      <td>Female</td>\n",
       "      <td>45-54</td>\n",
       "      <td>21</td>\n",
       "    </tr>\n",
       "    <tr>\n",
       "      <th>4</th>\n",
       "      <td>Female</td>\n",
       "      <td>15-24</td>\n",
       "      <td>20</td>\n",
       "    </tr>\n",
       "    <tr>\n",
       "      <th>5</th>\n",
       "      <td>Female</td>\n",
       "      <td>35-44</td>\n",
       "      <td>15</td>\n",
       "    </tr>\n",
       "    <tr>\n",
       "      <th>6</th>\n",
       "      <td>Female</td>\n",
       "      <td>Not Reported</td>\n",
       "      <td>13</td>\n",
       "    </tr>\n",
       "    <tr>\n",
       "      <th>7</th>\n",
       "      <td>Female</td>\n",
       "      <td>0-14</td>\n",
       "      <td>6</td>\n",
       "    </tr>\n",
       "    <tr>\n",
       "      <th>8</th>\n",
       "      <td>Male</td>\n",
       "      <td>65+</td>\n",
       "      <td>128</td>\n",
       "    </tr>\n",
       "    <tr>\n",
       "      <th>9</th>\n",
       "      <td>Male</td>\n",
       "      <td>55-64</td>\n",
       "      <td>99</td>\n",
       "    </tr>\n",
       "    <tr>\n",
       "      <th>10</th>\n",
       "      <td>Male</td>\n",
       "      <td>25-34</td>\n",
       "      <td>79</td>\n",
       "    </tr>\n",
       "    <tr>\n",
       "      <th>11</th>\n",
       "      <td>Male</td>\n",
       "      <td>35-44</td>\n",
       "      <td>72</td>\n",
       "    </tr>\n",
       "    <tr>\n",
       "      <th>12</th>\n",
       "      <td>Male</td>\n",
       "      <td>45-54</td>\n",
       "      <td>58</td>\n",
       "    </tr>\n",
       "    <tr>\n",
       "      <th>13</th>\n",
       "      <td>Male</td>\n",
       "      <td>15-24</td>\n",
       "      <td>57</td>\n",
       "    </tr>\n",
       "    <tr>\n",
       "      <th>14</th>\n",
       "      <td>Male</td>\n",
       "      <td>Not Reported</td>\n",
       "      <td>31</td>\n",
       "    </tr>\n",
       "    <tr>\n",
       "      <th>15</th>\n",
       "      <td>Male</td>\n",
       "      <td>0-14</td>\n",
       "      <td>4</td>\n",
       "    </tr>\n",
       "    <tr>\n",
       "      <th>16</th>\n",
       "      <td>Male</td>\n",
       "      <td>35 - 44</td>\n",
       "      <td>1</td>\n",
       "    </tr>\n",
       "    <tr>\n",
       "      <th>17</th>\n",
       "      <td>Not Reported</td>\n",
       "      <td>Not Reported</td>\n",
       "      <td>20</td>\n",
       "    </tr>\n",
       "    <tr>\n",
       "      <th>18</th>\n",
       "      <td>Not Reported</td>\n",
       "      <td>65+</td>\n",
       "      <td>3</td>\n",
       "    </tr>\n",
       "    <tr>\n",
       "      <th>19</th>\n",
       "      <td>Not Reported</td>\n",
       "      <td>15-24</td>\n",
       "      <td>2</td>\n",
       "    </tr>\n",
       "  </tbody>\n",
       "</table>\n",
       "</div>"
      ],
      "text/plain": [
       "             Sex     Age Range  count\n",
       "0         Female         55-64     29\n",
       "1         Female         25-34     23\n",
       "2         Female           65+     22\n",
       "3         Female         45-54     21\n",
       "4         Female         15-24     20\n",
       "5         Female         35-44     15\n",
       "6         Female  Not Reported     13\n",
       "7         Female          0-14      6\n",
       "8           Male           65+    128\n",
       "9           Male         55-64     99\n",
       "10          Male         25-34     79\n",
       "11          Male         35-44     72\n",
       "12          Male         45-54     58\n",
       "13          Male         15-24     57\n",
       "14          Male  Not Reported     31\n",
       "15          Male          0-14      4\n",
       "16          Male       35 - 44      1\n",
       "17  Not Reported  Not Reported     20\n",
       "18  Not Reported           65+      3\n",
       "19  Not Reported         15-24      2"
      ]
     },
     "execution_count": 100,
     "metadata": {},
     "output_type": "execute_result"
    }
   ],
   "source": [
    "Deaths_per_age=new_nps_deaths.groupby('Sex')['Age Range'].value_counts().to_frame().reset_index()\n",
    "Deaths_per_age"
   ]
  },
  {
   "cell_type": "code",
   "execution_count": 111,
   "id": "55225f84-6532-4e81-94a1-c364a5ca4a83",
   "metadata": {},
   "outputs": [
    {
     "data": {
      "image/png": "[encoded data removed]",
      "text/plain": [
       "<Figure size 1000x600 with 1 Axes>"
      ]
     },
     "metadata": {},
     "output_type": "display_data"
    }
   ],
   "source": [
    "plt.figure(figsize = (10,6))\n",
    "\n",
    "sns.scatterplot(data = Deaths_per_age,\n",
    "               x = 'Age Range',\n",
    "               y = 'count',\n",
    "               hue = 'Sex',\n",
    "               palette = ['purple', 'blue', 'red']);"
   ]
  },
  {
   "cell_type": "code",
   "execution_count": 96,
   "id": "9e30792f-7d7c-4bfc-9108-6ded3a01ea14",
   "metadata": {},
   "outputs": [
    {
     "name": "stdout",
     "output_type": "stream",
     "text": [
      "<class 'pandas.core.frame.DataFrame'>\n",
      "RangeIndex: 9 entries, 0 to 8\n",
      "Data columns (total 2 columns):\n",
      " #   Column     Non-Null Count  Dtype \n",
      "---  ------     --------------  ----- \n",
      " 0   Age Range  9 non-null      object\n",
      " 1   count      9 non-null      int64 \n",
      "dtypes: int64(1), object(1)\n",
      "memory usage: 276.0+ bytes\n"
     ]
    }
   ],
   "source": [
    "Deaths_per_age.info()"
   ]
  },
  {
   "cell_type": "code",
   "execution_count": null,
   "id": "1786dcfe-3e87-4142-a064-07767071c833",
   "metadata": {},
   "outputs": [],
   "source": [
    "Deaths_per_gender=new_nps_deaths['Sex'].value_counts().to_frame().reset_index()\n",
    "Deaths_per_gender"
   ]
  },
  {
   "cell_type": "code",
   "execution_count": null,
   "id": "1e4d466a-a9ac-4058-925c-8370078d97ba",
   "metadata": {},
   "outputs": [],
   "source": [
    "combined_df=pd.concat([Deaths_per_age,Deaths_per_gender],axis=1)\n",
    "combined_df"
   ]
  },
  {
   "cell_type": "code",
   "execution_count": null,
   "id": "bcb5176c-469f-4878-9a52-5dbfda836ea7",
   "metadata": {},
   "outputs": [],
   "source": [
    "new_nps_deaths['Incident Date'] = pd.to_datetime(new_nps_deaths['Incident Date'])"
   ]
  },
  {
   "cell_type": "code",
   "execution_count": null,
   "id": "ed99fc12-6ad6-4f01-9733-44591870d4b8",
   "metadata": {},
   "outputs": [],
   "source": [
    "new_nps_deaths['month']=new_nps_deaths['Incident Date'].dt.month"
   ]
  },
  {
   "cell_type": "code",
   "execution_count": null,
   "id": "0c66e884-e1cc-47bf-bcb3-19be23832a61",
   "metadata": {},
   "outputs": [],
   "source": [
    "new_nps_deaths.head(1)"
   ]
  },
  {
   "cell_type": "code",
   "execution_count": null,
   "id": "811b4f27-3cc8-432e-b7dc-ef45c8893c70",
   "metadata": {},
   "outputs": [],
   "source": [
    "new_nps_deaths=new_nps_deaths.drop(columns=['Cause of Death Group \\n(Used in the NPS Mortality Dashboard) '])"
   ]
  },
  {
   "cell_type": "code",
   "execution_count": null,
   "id": "36537233-a3f6-407f-8faa-924ff6ae59eb",
   "metadata": {},
   "outputs": [],
   "source": [
    "Causes_of_Death=new_nps_deaths['Cause of Death'].value_counts().to_frame().reset_index()\n",
    "Causes_of_Death.head(2)"
   ]
  },
  {
   "cell_type": "code",
   "execution_count": null,
   "id": "22abf5a5-ea6d-4b62-9241-8f527af9b187",
   "metadata": {},
   "outputs": [],
   "source": [
    "\n",
    "new_nps_deaths.groupby(['Cause of Death','Park Name','Incident Date'])['Activity'].count().to_frame().reset_index()"
   ]
  },
  {
   "cell_type": "markdown",
   "id": "4e941bc5-b8d1-4dd8-b998-b6806eace06d",
   "metadata": {},
   "source": [
    "GRAPH THE TOTAL OF UNIQUE CAUSE OF DEATH PER YEAR (ID TOTAL DROWNINGS IN 2010)"
   ]
  },
  {
   "cell_type": "code",
   "execution_count": null,
   "id": "c04bdf38-174b-48c6-a00c-bff286d1a3c9",
   "metadata": {},
   "outputs": [],
   "source": [
    "new_nps_deaths.head(1)"
   ]
  },
  {
   "cell_type": "code",
   "execution_count": null,
   "id": "573de46e-cfd1-48f0-9e03-ffad8e926029",
   "metadata": {},
   "outputs": [],
   "source": [
    "new_nps_deaths.info()"
   ]
  },
  {
   "cell_type": "code",
   "execution_count": null,
   "id": "ffdfe986-c8bf-4b9b-bce0-ef83f409c8c0",
   "metadata": {},
   "outputs": [],
   "source": [
    "Intermountain_parkpop.head(1)"
   ]
  },
  {
   "cell_type": "code",
   "execution_count": null,
   "id": "86687f6f-9fbc-42f7-b8b7-efb17e19780f",
   "metadata": {},
   "outputs": [],
   "source": [
    "new_nps_deaths['month']=new_nps_deaths['Incident Date'].dt.month"
   ]
  },
  {
   "cell_type": "code",
   "execution_count": null,
   "id": "35e838f5-d756-41fe-9e34-fd89f3ad1e23",
   "metadata": {},
   "outputs": [],
   "source": [
    "new_nps_deaths.head(1)"
   ]
  },
  {
   "cell_type": "code",
   "execution_count": null,
   "id": "0f4a0e30-9c66-4c39-92c4-543589f57e68",
   "metadata": {},
   "outputs": [],
   "source": [
    "new_nps_deaths['year']=new_nps_deaths['Incident Date'].dt.year\n",
    "new_nps_deaths.head(1)"
   ]
  },
  {
   "cell_type": "code",
   "execution_count": null,
   "id": "4557bee3-515f-4cf8-b827-b159f30af638",
   "metadata": {},
   "outputs": [],
   "source": [
    "Intermountain_parkpop=Intermountain_parkpop.rename(columns={'park':'Park Name'})\n",
    "Intermountain_parkpop.head()"
   ]
  },
  {
   "cell_type": "code",
   "execution_count": null,
   "id": "7d4ae1df-df3c-4e3b-800e-f5a5d11b52a8",
   "metadata": {},
   "outputs": [],
   "source": [
    "new_nps_deaths=new_nps_deaths.drop(columns=['Incident Date']).rename(columns={'year':'Year'})"
   ]
  },
  {
   "cell_type": "markdown",
   "id": "cece0555-03d7-4d0e-8ef8-08955b9264b1",
   "metadata": {},
   "source": [
    "Combine population and death data"
   ]
  },
  {
   "cell_type": "code",
   "execution_count": null,
   "id": "20b204f1-fb71-4d6b-90c9-66fcfcf66485",
   "metadata": {},
   "outputs": [],
   "source": [
    "deaths_population=pd.merge(new_nps_deaths, Intermountain_parkpop, \n",
    "                               left_on = ['Year', 'Park Name'], right_on = ['Year', 'Park Name'],\n",
    "                               how = 'inner')\n",
    "deaths_population.head()"
   ]
  },
  {
   "cell_type": "code",
   "execution_count": null,
   "id": "2c282641-087c-4b77-b3f3-926edc4af6d0",
   "metadata": {},
   "outputs": [],
   "source": [
    "deaths_population.shape"
   ]
  },
  {
   "cell_type": "code",
   "execution_count": null,
   "id": "6f2d6543-3889-4806-8b3f-7ec0e664c4bd",
   "metadata": {},
   "outputs": [],
   "source": [
    "deaths_population['Visitors'].min()"
   ]
  },
  {
   "cell_type": "code",
   "execution_count": null,
   "id": "b5fb2b57-acae-420c-93f3-cc0de09073ad",
   "metadata": {},
   "outputs": [],
   "source": [
    "deaths_population['Visitors'].max()"
   ]
  },
  {
   "cell_type": "code",
   "execution_count": null,
   "id": "4c00dea1-46fb-46f9-a71a-6c9b3b06e338",
   "metadata": {
    "scrolled": true
   },
   "outputs": [],
   "source": [
    "deaths_population.head(20)"
   ]
  },
  {
   "cell_type": "code",
   "execution_count": null,
   "id": "a272e38f-5afd-430e-ab6e-10122bd9d2e4",
   "metadata": {},
   "outputs": [],
   "source": [
    "Park_Visitors_totals=deaths_population.drop(columns=['Cause of Death','Intent','Outcome','Sex','Age Range','Activity','month','Year'])\n",
    "Park_Visitors_totals=Park_Visitors_totals.drop_duplicates(subset='Park Name')"
   ]
  },
  {
   "cell_type": "code",
   "execution_count": null,
   "id": "0285bc5d-5880-45b7-8b56-5f71f7b23cb3",
   "metadata": {},
   "outputs": [],
   "source": [
    "Park_Visitors_totals.plot(kind='bar',\n",
    "                      x='Park Name',\n",
    "                      y='Visitors')\n",
    "plt.title('Total Visitors by Park')\n",
    "plt.xlabel('Park Name')\n",
    "plt.ylabel('Visitors')\n",
    "plt.show()"
   ]
  },
  {
   "cell_type": "code",
   "execution_count": null,
   "id": "41dca185-5abf-48b9-bee0-e8c14bd5cca7",
   "metadata": {
    "scrolled": true
   },
   "outputs": [],
   "source": [
    "Deaths_per_park=deaths_population.groupby(['Park Name','Cause of Death','Year'])['Outcome'].count().to_frame().reset_index().rename(columns={'Outcome':'Fatality_Count'})\n",
    "Deaths_per_park"
   ]
  },
  {
   "cell_type": "markdown",
   "id": "ead341e1-87ec-4f89-86fe-0262d042697f",
   "metadata": {},
   "source": [
    "FIND TOTAL DEATHS PER CAPITAL OF MILLION AND THEN CAUSE OF DEATH TOTAL PER CAPITA PER PARK\n"
   ]
  },
  {
   "cell_type": "code",
   "execution_count": null,
   "id": "4417f85a-8f61-49a9-8cab-b11c0234cfce",
   "metadata": {},
   "outputs": [],
   "source": [
    "Total_deaths=deaths_population.groupby(['Park Name','Year'])['Outcome'].count().reset_index().rename(columns={'Outcome':'Total Deaths'})\n",
    "Total_deaths"
   ]
  },
  {
   "cell_type": "code",
   "execution_count": null,
   "id": "bdd36716-073d-4361-b123-77c6cfec1fc7",
   "metadata": {},
   "outputs": [],
   "source": [
    "Total_deaths.groupby('Park Name')['Total Deaths'].sum()"
   ]
  },
  {
   "cell_type": "markdown",
   "id": "060e3054-cc47-4d2c-9247-aff7aa130b1f",
   "metadata": {},
   "source": [
    "TOTAL DEATHS IN INTRAMOUNTAINOUS RANGE PARKS 2007-2023"
   ]
  },
  {
   "cell_type": "code",
   "execution_count": null,
   "id": "e75695fd-6099-4c89-95d9-760ec9318057",
   "metadata": {},
   "outputs": [],
   "source": [
    "Total_deaths['Total Deaths'].sum()"
   ]
  },
  {
   "cell_type": "markdown",
   "id": "5e6773c3-8225-4493-b03a-68f54114e503",
   "metadata": {},
   "source": [
    "BELOW SHOWS PARK FATALITIES PER CAUSE OF DEATH PER YEAR"
   ]
  },
  {
   "cell_type": "code",
   "execution_count": null,
   "id": "c9dc27c9-ba00-4111-9511-3388e1a5f622",
   "metadata": {
    "scrolled": true
   },
   "outputs": [],
   "source": [
    "Visitors_Fatality_merge=pd.merge(deaths_population, Deaths_per_park, left_on=['Park Name', 'Year', 'Cause of Death'],right_on=['Park Name','Year','Cause of Death'], how='inner')\n",
    "Visitors_Fatality_merge"
   ]
  },
  {
   "cell_type": "code",
   "execution_count": null,
   "id": "46c13371-e76b-465d-998f-bba3a194290e",
   "metadata": {},
   "outputs": [],
   "source": [
    "Visitors_Fatality_merge.info()"
   ]
  },
  {
   "cell_type": "markdown",
   "id": "ee65b103-769e-4536-9eac-20ca934369fa",
   "metadata": {},
   "source": [
    "##change to per capita in millions"
   ]
  },
  {
   "cell_type": "markdown",
   "id": "8cecb92d-185c-48be-819b-c2b70c4f1ad1",
   "metadata": {},
   "source": [
    "##clean text in cause of death column\n",
    "re.search('\\d{4}', x).group(0)"
   ]
  },
  {
   "cell_type": "code",
   "execution_count": null,
   "id": "bb90b3e6-4d40-4a69-8f34-2aa60667ea1d",
   "metadata": {
    "scrolled": true
   },
   "outputs": [],
   "source": [
    "Visitors_Fatality_merge['Fatalities_per_million']=Visitors_Fatality_merge['Fatality_Count']/Visitors_Fatality_merge['Visitors'] *1000000 \n",
    "Visitors_Fatality_merge.head(30)"
   ]
  },
  {
   "cell_type": "code",
   "execution_count": null,
   "id": "995f0a32-bd45-4f37-a7db-750046471797",
   "metadata": {
    "scrolled": true
   },
   "outputs": [],
   "source": [
    "Visitors_Fatality_merge.groupby('Park Name')\n",
    "Visitors_Fatality_merge.head()"
   ]
  },
  {
   "cell_type": "code",
   "execution_count": null,
   "id": "a7941451-f18d-4265-99ac-9ccb4027e171",
   "metadata": {},
   "outputs": [],
   "source": [
    "Visitors_Fatality_merge['Cause of Death']=Visitors_Fatality_merge['Cause of Death'].str.title()"
   ]
  },
  {
   "cell_type": "code",
   "execution_count": null,
   "id": "05fa6279-52a5-4b36-b984-207b3cb37a1e",
   "metadata": {},
   "outputs": [],
   "source": [
    "new_group = Visitors_Fatality_merge.groupby('Park Name')['Fatalities_per_million'].sum().round(2).to_frame().reset_index()\n",
    "new_group.head(18)"
   ]
  },
  {
   "cell_type": "code",
   "execution_count": null,
   "id": "ddaf1fc5-063f-44c1-8e8f-896b9361b6fb",
   "metadata": {},
   "outputs": [],
   "source": [
    "new_group2 = new_group.groupby(['Park Name'])['Fatalities_per_million'].sum()\n",
    "\n",
    "# Bar chart\n",
    "new_group2.plot(kind='bar', stacked=True)\n",
    "plt.title('Total Fatalities by Park')\n",
    "plt.xlabel('Park')\n",
    "plt.ylabel('Fatalities')\n",
    "plt.show()"
   ]
  },
  {
   "cell_type": "markdown",
   "id": "d0948c82-6001-48ff-af89-095060a4a254",
   "metadata": {},
   "source": [
    "THE ABOVE GRAPH MAKES ME WANT TO LOOK AT BIG BEND NP CAUSES OF DEATHS AND SEE IF IT MAY BE CONSIDERED ONE OF THE MOST DANGEROUS \n",
    "BC PER CAPITA IT HAS A HIGHER FATALITY RATE EVEN THOUGH LOWER VISITOR NUMBERS"
   ]
  },
  {
   "cell_type": "code",
   "execution_count": null,
   "id": "30d6fb8d-d9f0-41d6-8cd5-2637599330cf",
   "metadata": {},
   "outputs": [],
   "source": [
    "Causes_total_Stats=Visitors_Fatality_merge.groupby('Cause of Death')['Fatalities_per_million'].describe()"
   ]
  },
  {
   "cell_type": "code",
   "execution_count": null,
   "id": "c5ede197-1963-4374-9aa2-931eb6284a9e",
   "metadata": {},
   "outputs": [],
   "source": [
    "Causes_by_Park_Stats=Visitors_Fatality_merge.groupby(['Cause of Death','Park Name'])['Fatalities_per_million'].describe()"
   ]
  },
  {
   "cell_type": "code",
   "execution_count": null,
   "id": "76d86be0-8f54-4330-85ab-111e845781dc",
   "metadata": {},
   "outputs": [],
   "source": [
    "deaths_population['Cause of Death']=deaths_population['Cause of Death'].str.title()"
   ]
  },
  {
   "cell_type": "code",
   "execution_count": null,
   "id": "b6b330db-3783-4c33-bcf0-891dabef1181",
   "metadata": {
    "scrolled": true
   },
   "outputs": [],
   "source": [
    "Cause_of_death_totals=deaths_population.groupby(['Cause of Death','Park Name', 'Year'])['Outcome'].count().to_frame().reset_index().rename(columns={'Outcome':'Fatality_Count'})\n",
    "Cause_of_death_totals.head(50)"
   ]
  },
  {
   "cell_type": "markdown",
   "id": "cc9fb531-d014-4b57-a522-18956165f2e4",
   "metadata": {},
   "source": [
    "**use a different chart, stacked line/stacked area graphs"
   ]
  },
  {
   "cell_type": "code",
   "execution_count": null,
   "id": "fbf9fda4-14dc-4a1f-b904-636fe5d568dc",
   "metadata": {},
   "outputs": [],
   "source": [
    "(Cause_of_death_totals['Cause of Death'].unique())"
   ]
  },
  {
   "cell_type": "markdown",
   "id": "7b7d6076-e8fc-4fd9-80a7-1287da513b95",
   "metadata": {},
   "source": [
    "##### sns.scatterplot(data = Cause_of_death_totals,\n",
    "               x = 'Year',\n",
    "               y = 'Fatality_Count',\n",
    "               hue = 'Cause of Death',\n",
    "               palette = ['blue', 'coral', 'green']),\n",
    "plt.legend(bbox_to_anchor = (1,1), loc='upper left')"
   ]
  },
  {
   "cell_type": "code",
   "execution_count": null,
   "id": "6786cb5c-6482-419d-94be-f8a1ba3339c9",
   "metadata": {},
   "outputs": [],
   "source": [
    "(Cause_of_death_totals['Cause of Death'].value_counts())"
   ]
  },
  {
   "cell_type": "code",
   "execution_count": null,
   "id": "0f398833-86c2-41af-a88e-a10e46ad8247",
   "metadata": {},
   "outputs": [],
   "source": [
    "Cause_of_death_totals['Cause of Death']=Cause_of_death_totals['Cause of Death'].str.replace('Medical - Not During Physical Activity','Medical')\n",
    "Cause_of_death_totals['Cause of Death']"
   ]
  },
  {
   "cell_type": "code",
   "execution_count": null,
   "id": "e52f0945-5d72-418e-acb4-ab5e1461173f",
   "metadata": {},
   "outputs": [],
   "source": [
    "Cause_of_death_totals['Cause of Death']=Cause_of_death_totals['Cause of Death'].str.replace('Medical - During Physical Activity', 'Medical')"
   ]
  },
  {
   "cell_type": "code",
   "execution_count": null,
   "id": "6aeb127b-0f72-4b7c-8251-5d5459f2cf46",
   "metadata": {},
   "outputs": [],
   "source": [
    "Cause_of_death_totals['Cause of Death']=Cause_of_death_totals['Cause of Death'].str.replace('Medical - Unknown','Medical')\n",
    "Cause_of_death_totals['Cause of Death']"
   ]
  },
  {
   "cell_type": "code",
   "execution_count": null,
   "id": "429ddb09-eb55-4a05-ab5a-67ffe3fd88e1",
   "metadata": {},
   "outputs": [],
   "source": [
    "(Cause_of_death_totals['Cause of Death'].value_counts())"
   ]
  },
  {
   "cell_type": "code",
   "execution_count": null,
   "id": "4859a222-ae38-4e4f-a255-39272763eeb4",
   "metadata": {},
   "outputs": [],
   "source": [
    "Cause_of_death_totals['Cause of Death']=Cause_of_death_totals['Cause of Death'].str.replace('Aircraft Incident ','Aircraft Incident')\n"
   ]
  },
  {
   "cell_type": "code",
   "execution_count": null,
   "id": "4aba95fc-6436-46da-a321-037736e798af",
   "metadata": {},
   "outputs": [],
   "source": [
    "Cause_of_death_totals['Cause of Death']=Cause_of_death_totals['Cause of Death'].str.replace('Poisoning - Carbon Monoxide','Poisoning')"
   ]
  },
  {
   "cell_type": "code",
   "execution_count": null,
   "id": "a2c71582-e86e-4399-80a6-ed17ecd8bcc0",
   "metadata": {},
   "outputs": [],
   "source": [
    "Cause_of_death_totals['Cause of Death']=Cause_of_death_totals['Cause of Death'].str.replace('Poisoning - Alcohol','Poisoning')"
   ]
  },
  {
   "cell_type": "code",
   "execution_count": null,
   "id": "b3bab41c-e060-4e5b-81a0-36c235d7df25",
   "metadata": {},
   "outputs": [],
   "source": [
    "Cause_of_death_totals['Cause of Death']=Cause_of_death_totals['Cause of Death'].str.replace('Poisoning - Drugs','Poisoning')"
   ]
  },
  {
   "cell_type": "code",
   "execution_count": null,
   "id": "f442c3f4-004d-4c38-8094-3310eb9317a7",
   "metadata": {},
   "outputs": [],
   "source": [
    "Cause_of_death_totals['Cause of Death']=Cause_of_death_totals['Cause of Death'].str.replace('Skiing Incident','Winter Sports')\n"
   ]
  },
  {
   "cell_type": "code",
   "execution_count": null,
   "id": "2317e62e-afdf-4195-8dff-41e473536744",
   "metadata": {},
   "outputs": [],
   "source": [
    "Cause_of_death_totals['Cause of Death']=Cause_of_death_totals['Cause of Death'].str.replace('Snowboard Incident','Winter Sports')"
   ]
  },
  {
   "cell_type": "code",
   "execution_count": null,
   "id": "ecd63b4b-6f39-463e-bdb1-bec47836564f",
   "metadata": {},
   "outputs": [],
   "source": [
    "Cause_of_death_totals['Cause of Death']=Cause_of_death_totals['Cause of Death'].str.replace('Asphyxiation','Medical')"
   ]
  },
  {
   "cell_type": "code",
   "execution_count": null,
   "id": "d911516e-6f06-4240-82a0-67dac0233524",
   "metadata": {},
   "outputs": [],
   "source": [
    "(Cause_of_death_totals['Cause of Death'].value_counts().reset_index())"
   ]
  },
  {
   "cell_type": "code",
   "execution_count": null,
   "id": "cb0e8c97-d268-4620-b5f7-061d1c6d2e29",
   "metadata": {},
   "outputs": [],
   "source": [
    "Cause_of_death_totals.groupby(['Cause of Death','Park Name','Year']).head()"
   ]
  },
  {
   "cell_type": "markdown",
   "id": "1d821be7-c02e-477d-9725-79ff52786c04",
   "metadata": {},
   "source": [
    "*****NEED TO GRAPH ABOVE FATALITY AND CAUSE ONLY, THEN FATALITY AND PARK ONLY, THEN FATALITY BY YEAR****\n"
   ]
  },
  {
   "cell_type": "code",
   "execution_count": null,
   "id": "c33807f5-086d-4c88-a327-4e98928eee6f",
   "metadata": {},
   "outputs": [],
   "source": [
    "SAR_df=pd.read_csv('data/SAR.csv')\n",
    "SAR_df.head()"
   ]
  },
  {
   "cell_type": "code",
   "execution_count": null,
   "id": "92ea5cca-44ac-49b6-a8ac-72e7744844ca",
   "metadata": {},
   "outputs": [],
   "source": [
    "SAR_df=SAR_df.rename(columns={'Park':'Park Name','Closed-Incident Only':'Closed/Incident Only'})"
   ]
  },
  {
   "cell_type": "code",
   "execution_count": null,
   "id": "bb4cb1ed-ad65-4bb9-8f94-254ea07d21f6",
   "metadata": {
    "scrolled": true
   },
   "outputs": [],
   "source": [
    "List=['Petrified Forest National Park','Big Bend National Park','Carlsbad Caverns National Park','Glacier Bay National Park & Preserve', 'Arches National Park','Guadalupe Mountains National Park','Mesa Verde National Park','Bryce Canyon National Park','White Sands National Park','Great Sand Dunes National Park & Preserve','Glacier National Park','Saguaro National Park','Canyonlands National Park','Rocky Mountain National Park','Yellowstone National Park','Zion National Park','Grand Teton National Park','Grand Canyon National Park','Black Canyon Of The Gunnison National Park',]\n",
    "SAR_df=SAR_df.loc[SAR_df['Park Name'].isin(List)]\n",
    "SAR_df"
   ]
  },
  {
   "cell_type": "code",
   "execution_count": null,
   "id": "723dda0e-caa0-495a-a41b-024041f77c78",
   "metadata": {},
   "outputs": [],
   "source": [
    "\n",
    "arches_species=pd.read_csv('data/ArchesNP.Species.csv')\n",
    "arches_species.head(1)"
   ]
  },
  {
   "cell_type": "code",
   "execution_count": null,
   "id": "1571af7c-5b19-46f3-8eef-c3283d6483d4",
   "metadata": {},
   "outputs": [],
   "source": [
    "arches_species=arches_species.drop(columns=['Park Code','Category Sort','Category','Order','Family','Taxon Code','TSN','Taxon Record Status','Scientific Name','Synonyms'])"
   ]
  },
  {
   "cell_type": "code",
   "execution_count": null,
   "id": "80ba78d4-c09d-448f-ae85-b525be49ebf0",
   "metadata": {},
   "outputs": [],
   "source": [
    "big_bend_species=pd.read_csv('data/BigBendNP.Species.csv')"
   ]
  },
  {
   "cell_type": "code",
   "execution_count": null,
   "id": "369c8846-df35-423f-8e5e-3687533b72ab",
   "metadata": {},
   "outputs": [],
   "source": [
    "big_bend_species=big_bend_species.drop(columns=['Park Code','Category Sort','Category','Order','Family','Taxon Code','TSN','Taxon Record Status','Scientific Name','Synonyms'])\n",
    "big_bend_species.head(1)"
   ]
  },
  {
   "cell_type": "code",
   "execution_count": null,
   "id": "325b3b93-117c-47ba-8c5d-67ab3a0a407d",
   "metadata": {},
   "outputs": [],
   "source": [
    "bryce_canyon_species=pd.read_csv('data/BryceCanyonNP.Species.csv')"
   ]
  },
  {
   "cell_type": "code",
   "execution_count": null,
   "id": "e1ee9a13-a28d-4334-89f2-e78dc7f2c078",
   "metadata": {},
   "outputs": [],
   "source": [
    "bryce_canyon_species=bryce_canyon_species.drop(columns=['Park Code','Category Sort','Category','Order','Family','Taxon Code','TSN','Taxon Record Status','Scientific Name','Synonyms'])\n",
    "bryce_canyon_species.head(1)"
   ]
  },
  {
   "cell_type": "code",
   "execution_count": null,
   "id": "55545b3d-5982-4b14-97e3-40cc42638b03",
   "metadata": {},
   "outputs": [],
   "source": [
    "canyonlands_species=pd.read_csv('data/CanyonlandsNP.Species.csv')"
   ]
  },
  {
   "cell_type": "code",
   "execution_count": null,
   "id": "de0ef6d7-8700-4f3f-8c26-6b5c036565c3",
   "metadata": {},
   "outputs": [],
   "source": [
    "canyonlands_species=canyonlands_species.drop(columns=['Park Code','Category Sort','Category','Order','Family','Taxon Code','TSN','Taxon Record Status','Scientific Name','Synonyms'])\n",
    "canyonlands_species.head(1)"
   ]
  },
  {
   "cell_type": "code",
   "execution_count": null,
   "id": "6e7bc27a-ab17-4c21-a4d5-1664e1630a11",
   "metadata": {},
   "outputs": [],
   "source": [
    "carlsbad_caverns_species=pd.read_csv('data/CarlsbadCavernsNP.Species.csv')"
   ]
  },
  {
   "cell_type": "code",
   "execution_count": null,
   "id": "3cdb35ab-c823-4308-9865-c1f125c34b42",
   "metadata": {},
   "outputs": [],
   "source": [
    "carlsbad_caverns_species=carlsbad_caverns_species.drop(columns=['Park Code','Category Sort','Category','Order','Family','Taxon Code','TSN','Taxon Record Status','Scientific Name','Synonyms'])\n",
    "carlsbad_caverns_species.head(1)"
   ]
  },
  {
   "cell_type": "code",
   "execution_count": null,
   "id": "2583ecb5-4738-4d65-a622-1aca668fc603",
   "metadata": {},
   "outputs": [],
   "source": [
    "grand_teton_species=pd.read_csv('data/GrandTetonNP.Species.csv')"
   ]
  },
  {
   "cell_type": "code",
   "execution_count": null,
   "id": "71149085-8115-4a40-8fa7-4586e5007d44",
   "metadata": {},
   "outputs": [],
   "source": [
    "grand_teton_species=grand_teton_species.drop(columns=['Park Code','Category Sort','Category','Order','Family','Taxon Code','TSN','Taxon Record Status','Scientific Name','Synonyms'])\n",
    "grand_teton_species.head(1)"
   ]
  },
  {
   "cell_type": "code",
   "execution_count": null,
   "id": "486e27a2-54c5-47fe-9c1c-4ba473b0cbad",
   "metadata": {},
   "outputs": [],
   "source": [
    "guadalupe_species=pd.read_csv('data/GuadalupeNP.Species.csv')"
   ]
  },
  {
   "cell_type": "code",
   "execution_count": null,
   "id": "9a60af7d-c60d-44fa-9894-2a91d006774b",
   "metadata": {},
   "outputs": [],
   "source": [
    "guadalupe_species=guadalupe_species.drop(columns=['Park Code','Category Sort','Category','Order','Family','Taxon Code','TSN','Taxon Record Status','Scientific Name','Synonyms'])\n",
    "guadalupe_species.head(1)"
   ]
  },
  {
   "cell_type": "code",
   "execution_count": null,
   "id": "f4ea3785-7f7e-44a7-a088-bddf1428b08a",
   "metadata": {},
   "outputs": [],
   "source": [
    "glacier_species=pd.read_csv('data/GlacierNP.Species.csv')"
   ]
  },
  {
   "cell_type": "code",
   "execution_count": null,
   "id": "5707dd5a-2dbe-4474-a03f-2ade7bbeb0a4",
   "metadata": {},
   "outputs": [],
   "source": [
    "glacier_species=glacier_species.drop(columns=['Park Code','Category Sort','Category','Order','Family','Taxon Code','TSN','Taxon Record Status','Scientific Name','Synonyms'])\n",
    "glacier_species.head(1)"
   ]
  },
  {
   "cell_type": "code",
   "execution_count": null,
   "id": "25f49ec5-3657-4fb1-99a4-e7ba9f862d1f",
   "metadata": {},
   "outputs": [],
   "source": [
    "zion_species=pd.read_csv('data/ZionNP.Species.csv')"
   ]
  },
  {
   "cell_type": "code",
   "execution_count": null,
   "id": "5083b649-797b-4a63-991d-f7739f4fa78b",
   "metadata": {},
   "outputs": [],
   "source": [
    "zion_species=zion_species.drop(columns=['Park Code','Category Sort','Category','Order','Family','Taxon Code','TSN','Taxon Record Status','Scientific Name','Synonyms'])\n",
    "zion_species.head(1)"
   ]
  },
  {
   "cell_type": "code",
   "execution_count": null,
   "id": "41f9c37d-3c6b-4972-bba3-9bdf5adc4a26",
   "metadata": {},
   "outputs": [],
   "source": [
    "great_sand_dunes_species=pd.read_csv('data/GreatSandDunesNP.Species.csv')"
   ]
  },
  {
   "cell_type": "code",
   "execution_count": null,
   "id": "9b08cabb-9648-4eca-ab47-747796d9db9e",
   "metadata": {},
   "outputs": [],
   "source": [
    "great_sand_dunes_species=great_sand_dunes_species.drop(columns=['Park Code','Category Sort','Category','Order','Family','Taxon Code','TSN','Taxon Record Status','Scientific Name','Synonyms'])\n",
    "great_sand_dunes_species.head(1)"
   ]
  },
  {
   "cell_type": "code",
   "execution_count": null,
   "id": "837fa1c4-c8cd-4626-be98-81f8750b826a",
   "metadata": {},
   "outputs": [],
   "source": [
    "yellowstone_species=pd.read_csv('data/YellowstoneNP.Species.csv')"
   ]
  },
  {
   "cell_type": "code",
   "execution_count": null,
   "id": "73847e65-6fbe-4798-875f-abab02ac94a9",
   "metadata": {},
   "outputs": [],
   "source": [
    "yellowstone_species=yellowstone_species.drop(columns=['Park Code','Category Sort','Category','Order','Family','Taxon Code','TSN','Taxon Record Status','Scientific Name','Synonyms'])\n",
    "yellowstone_species.head(1)"
   ]
  },
  {
   "cell_type": "code",
   "execution_count": null,
   "id": "d967bdd7-9d9f-4fc9-85e5-04beab3e2231",
   "metadata": {},
   "outputs": [],
   "source": [
    "white_sands_species=pd.read_csv('data/WhiteSandsNP.Species.csv')"
   ]
  },
  {
   "cell_type": "code",
   "execution_count": null,
   "id": "85374e6c-c1f5-4ed7-80ee-8eae7fa4348d",
   "metadata": {},
   "outputs": [],
   "source": [
    "white_sands_species=white_sands_species.drop(columns=['Park Code','Category Sort','Category','Order','Family','Taxon Code','TSN','Taxon Record Status','Scientific Name','Synonyms'])\n",
    "white_sands_species.head(1)"
   ]
  },
  {
   "cell_type": "code",
   "execution_count": null,
   "id": "7988ce97-dc33-4857-9b7f-bbf8c8b7d77e",
   "metadata": {},
   "outputs": [],
   "source": [
    "mesa_verde_species=pd.read_csv('data/MesaVerdeNP.Species.csv', encoding='latin1')"
   ]
  },
  {
   "cell_type": "code",
   "execution_count": null,
   "id": "f92235a8-5da5-4f26-9a4a-ae15bef34a14",
   "metadata": {},
   "outputs": [],
   "source": [
    "mesa_verde_species=mesa_verde_species.drop(columns=['Park Code','Category Sort','Category','Order','Family','Taxon Code','TSN','Taxon Record Status','Scientific Name','Synonyms'])\n",
    "mesa_verde_species.head(1)"
   ]
  },
  {
   "cell_type": "code",
   "execution_count": null,
   "id": "917fbfd2-6378-4fe9-ae67-308c12836400",
   "metadata": {},
   "outputs": [],
   "source": [
    "rocky_mountain_species=pd.read_csv('data/RockyMountainNP.Species.csv', encoding='latin1')"
   ]
  },
  {
   "cell_type": "code",
   "execution_count": null,
   "id": "d09840bb-1461-4b42-b52c-06a0c6128efb",
   "metadata": {},
   "outputs": [],
   "source": [
    "rocky_mountain_species=rocky_mountain_species.drop(columns=['Park Code','Category Sort','Category','Order','Family','Taxon Code','TSN','Taxon Record Status','Scientific Name','Synonyms'])\n",
    "rocky_mountain_species.head(1)"
   ]
  },
  {
   "cell_type": "code",
   "execution_count": null,
   "id": "969308b6-466d-4926-9587-a5d6de9f591f",
   "metadata": {},
   "outputs": [],
   "source": [
    "petrified_forest_species=pd.read_csv('data/PetrifiedForest.NP.Species.csv', encoding='latin1')"
   ]
  },
  {
   "cell_type": "code",
   "execution_count": null,
   "id": "e26e4ead-f24c-4407-bd9d-1f4f1f1f5900",
   "metadata": {},
   "outputs": [],
   "source": [
    "petrified_forest_species=petrified_forest_species.drop(columns=['Park Code','Category Sort','Category','Order','Family','Taxon Code','TSN','Taxon Record Status','Scientific Name','Synonyms'])\n",
    "petrified_forest_species.head(1)"
   ]
  },
  {
   "cell_type": "code",
   "execution_count": null,
   "id": "3dbd9194-e4c2-4af2-9ebe-4531701e60d6",
   "metadata": {},
   "outputs": [],
   "source": [
    "saguaro_species=pd.read_csv('data/SaguaroNP.Species.csv')"
   ]
  },
  {
   "cell_type": "code",
   "execution_count": null,
   "id": "beb96332-68e2-43fe-817f-623505130f78",
   "metadata": {},
   "outputs": [],
   "source": [
    "saguaro_species=saguaro_species.drop(columns=['Park Code','Category Sort','Category','Order','Family','Taxon Code','TSN','Taxon Record Status','Scientific Name','Synonyms'])\n",
    "saguaro_species.head(1)"
   ]
  },
  {
   "cell_type": "code",
   "execution_count": null,
   "id": "5ae96a84-e4a3-4d84-8a0a-da6eff0b72b3",
   "metadata": {},
   "outputs": [],
   "source": [
    "grand_canyon_species=pd.read_csv('data/GrandCanyonNP.Species.csv', encoding='latin1')"
   ]
  },
  {
   "cell_type": "code",
   "execution_count": null,
   "id": "d17d6a96-636e-47de-8d30-7f279328be23",
   "metadata": {},
   "outputs": [],
   "source": [
    "grand_canyon_species=grand_canyon_species.drop(columns=['Park Code','Category Sort','Category','Order','Family','Taxon Code','TSN','Taxon Record Status','Scientific Name','Synonyms'])\n",
    "grand_canyon_species.head(1)"
   ]
  },
  {
   "cell_type": "code",
   "execution_count": null,
   "id": "9d860c79-c50c-43f0-8b22-60e895f004db",
   "metadata": {},
   "outputs": [],
   "source": [
    "grand_canyon_species.info()"
   ]
  },
  {
   "cell_type": "code",
   "execution_count": null,
   "id": "3ed6d7e1-83d9-4dc1-ae66-cc9836424282",
   "metadata": {},
   "outputs": [],
   "source": [
    "black_canyon_species=pd.read_csv('data/BlackCanyonNP.Species.csv',encoding='latin1')"
   ]
  },
  {
   "cell_type": "code",
   "execution_count": null,
   "id": "868f6059-bc73-44d9-82aa-85a939de68c2",
   "metadata": {},
   "outputs": [],
   "source": [
    "black_canyon_species=black_canyon_species.drop(columns=['Park Code','Category Sort','Category','Order','Family','Taxon Code','TSN','Taxon Record Status','Scientific Name','Synonyms'])\n",
    "black_canyon_species.head(1)"
   ]
  },
  {
   "cell_type": "code",
   "execution_count": null,
   "id": "05260b7d-93e3-49ec-988a-8528b31574e0",
   "metadata": {},
   "outputs": [],
   "source": [
    "black_canyon_species.info()"
   ]
  },
  {
   "cell_type": "code",
   "execution_count": null,
   "id": "88822a99-126b-4065-a4cb-7d2ebadc3367",
   "metadata": {},
   "outputs": [],
   "source": [
    "species=pd.concat([black_canyon_species,grand_canyon_species,saguaro_species,petrified_forest_species,rocky_mountain_species,mesa_verde_species])\n",
    "species.head(1)"
   ]
  },
  {
   "cell_type": "code",
   "execution_count": null,
   "id": "f0a2b321-e25c-41d5-a29e-1acf35612084",
   "metadata": {},
   "outputs": [],
   "source": [
    "species_data=pd.concat([species,white_sands_species,great_sand_dunes_species,yellowstone_species,guadalupe_species,glacier_species,zion_species,\n",
    "                        grand_teton_species,carlsbad_caverns_species, canyonlands_species,bryce_canyon_species,big_bend_species,arches_species])"
   ]
  },
  {
   "cell_type": "code",
   "execution_count": null,
   "id": "ab4c150b-612c-4e3f-a13b-f7428fbc380e",
   "metadata": {},
   "outputs": [],
   "source": [
    "species_data"
   ]
  },
  {
   "cell_type": "markdown",
   "id": "46c0f9db-d0e5-4e49-b3ea-c664fdc36099",
   "metadata": {},
   "source": [
    "NOTES:\n",
    "Tuesday am: start getting more statistics and graphs\n",
    "            organize questions according to how I want my presentation to flow\n",
    "        pm: get useable lat and long, vertical, and wifi data for top and bottom comparison\n",
    "            begin to develope point system"
   ]
  }
 ],
 "metadata": {
  "kernelspec": {
   "display_name": "Python 3 (ipykernel)",
   "language": "python",
   "name": "python3"
  },
  "language_info": {
   "codemirror_mode": {
    "name": "ipython",
    "version": 3
   },
   "file_extension": ".py",
   "mimetype": "text/x-python",
   "name": "python",
   "nbconvert_exporter": "python",
   "pygments_lexer": "ipython3",
   "version": "3.12.7"
  }
 },
 "nbformat": 4,
 "nbformat_minor": 5
}
